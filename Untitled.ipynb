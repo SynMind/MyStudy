{
 "cells": [
  {
   "cell_type": "code",
   "execution_count": 2,
   "metadata": {},
   "outputs": [
    {
     "name": "stdout",
     "output_type": "stream",
     "text": [
      "Current bookmarks:\n",
      "DataSets     -> E:\\数据库\n",
      "Mystudy      -> C:\\Users\\xiner\\Source\\Repos\\MyStudy\n",
      "Repos        -> C:\\Users\\xiner\\Source\\Repos\n",
      "draft        -> C:\\Users\\xiner\\草稿箱\n",
      "finance      -> C:\\Users\\xiner\\Source\\Repos\\py4fi\n",
      "lab          -> E:\\实践\\项目\\jupyterlab\\jupyter\\jupyterlab\\lab_env\n",
      "xinet        -> E:\\MyLibrary\n",
      "xinetlibrary -> C:\\Users\\xiner\\我的库\n"
     ]
    }
   ],
   "source": [
    "bookmark -l"
   ]
  },
  {
   "cell_type": "code",
   "execution_count": null,
   "metadata": {
    "collapsed": true
   },
   "outputs": [],
   "source": []
  }
 ],
 "metadata": {
  "kernelspec": {
   "display_name": "Python [conda root]",
   "language": "python",
   "name": "conda-root-py"
  },
  "language_info": {
   "codemirror_mode": {
    "name": "ipython",
    "version": 3
   },
   "file_extension": ".py",
   "mimetype": "text/x-python",
   "name": "python",
   "nbconvert_exporter": "python",
   "pygments_lexer": "ipython3",
   "version": "3.6.1"
  }
 },
 "nbformat": 4,
 "nbformat_minor": 2
}
