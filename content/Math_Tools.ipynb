{
 "cells": [
  {
   "cell_type": "markdown",
   "metadata": {},
   "source": [
    "<img src=\"http://hilpisch.com/tpq_logo.png\" alt=\"The Python Quants\" width=\"10%\" align=\"right\" border=\"0\"><br>"
   ]
  },
  {
   "cell_type": "markdown",
   "metadata": {},
   "source": [
    "# Python for Finance"
   ]
  },
  {
   "cell_type": "markdown",
   "metadata": {},
   "source": [
    "**Analyze Big Financial Data**\n",
    "\n",
    "O'Reilly (2014)\n",
    "\n",
    "Yves Hilpisch"
   ]
  },
  {
   "cell_type": "markdown",
   "metadata": {},
   "source": [
    "<img style=\"border:0px solid grey;\" src=\"http://hilpisch.com/python_for_finance.png\" alt=\"Python for Finance\" width=\"10%\" align=\"left\" border=\"0\">"
   ]
  },
  {
   "cell_type": "markdown",
   "metadata": {},
   "source": [
    "**Buy the book ** |\n",
    "<a href='http://shop.oreilly.com/product/0636920032441.do' target='_blank'>O'Reilly</a> |\n",
    "<a href='http://www.amazon.com/Yves-Hilpisch/e/B00JCYHHJM' target='_blank'>Amazon</a>\n",
    "\n",
    "**All book codes & IPYNBs** |\n",
    "<a href=\"http://oreilly.quant-platform.com\">http://oreilly.quant-platform.com</a>\n",
    "\n",
    "**The Python Quants GmbH** | <a href='http://tpq.io' target='_blank'>http://tpq.io</a>\n",
    "\n",
    "**Contact us** | <a href='mailto:pff@tpq.io'>pff@tpq.io</a>"
   ]
  },
  {
   "cell_type": "markdown",
   "metadata": {},
   "source": [
    "# Mathematical Tools(数学工具)"
   ]
  },
  {
   "cell_type": "code",
   "execution_count": 2,
   "metadata": {
    "collapsed": true
   },
   "outputs": [],
   "source": [
    "from pylab import plt\n",
    "plt.style.use('ggplot')\n",
    "import matplotlib as mpl\n",
    "mpl.rcParams['font.family'] = 'serif'"
   ]
  },
  {
   "cell_type": "markdown",
   "metadata": {},
   "source": [
    "## 1 Approximation(逼近法)"
   ]
  },
  {
   "cell_type": "code",
   "execution_count": 45,
   "metadata": {
    "collapsed": true,
    "uuid": "460b709e-eed1-48e4-b3ad-d07377ea5de6"
   },
   "outputs": [],
   "source": [
    "import numpy as np\n",
    "import matplotlib.pyplot as plt\n",
    "%matplotlib inline"
   ]
  },
  {
   "cell_type": "code",
   "execution_count": 46,
   "metadata": {
    "collapsed": true,
    "uuid": "2326c3ad-f244-4f48-8b68-851bd2347d57"
   },
   "outputs": [],
   "source": [
    "def f(x):\n",
    "    return np.sin(x) + 0.5 * x"
   ]
  },
  {
   "cell_type": "code",
   "execution_count": 47,
   "metadata": {
    "collapsed": true,
    "uuid": "c09f73d2-c2a5-4c6d-a2f1-08a191378417"
   },
   "outputs": [],
   "source": [
    "x = np.linspace(-2 * np.pi, 2 * np.pi, 50)"
   ]
  },
  {
   "cell_type": "code",
   "execution_count": 48,
   "metadata": {
    "uuid": "96d2bd1b-8883-486d-920d-b610aeb076a8"
   },
   "outputs": [
    {
     "data": {
      "text/plain": [
       "<matplotlib.text.Text at 0x21d43fb0ba8>"
      ]
     },
     "execution_count": 48,
     "metadata": {},
     "output_type": "execute_result"
    },
    {
     "data": {
      "image/png": "[encoded data removed]",
      "text/plain": [
       "<matplotlib.figure.Figure at 0x21d440637f0>"
      ]
     },
     "metadata": {},
     "output_type": "display_data"
    }
   ],
   "source": [
    "plt.plot(x, f(x), 'b')\n",
    "plt.grid(True)\n",
    "plt.xlabel('x')\n",
    "plt.ylabel('f(x)',rotation = 0)\n",
    "# tag: sin_plot\n",
    "# title: Example function plot\n",
    "# size: 60"
   ]
  },
  {
   "cell_type": "markdown",
   "metadata": {},
   "source": [
    "### 1.1 Regression(回归)\n",
    "回归是相当高效的函数近似计算工具。它不仅适合求取一维函数的近似值，在更高维度上也很有效。\n",
    "\n",
    "本质上，回归的任务是在给定一组所谓的“基函数”$b_d,  d\\in \\{1, \\cdots, D\\}$的情况下，根据公式1-1找出最优参数$\\alpha_1^*, \\cdots, \\alpha_D^*$,其中对于$i \\in \\{1, \\cdots, I\\}$观察点，$y_i \\equiv f(x_i)$.\n",
    "\n",
    "公式1-1：最小化回归问题\n",
    "$$\\min_{\\alpha_1, \\cdots, \\alpha_D} \\frac{1}{I} \\sum_{i=1}^{I}\\left(y_i - \\sum_{d=1}^{D}\\alpha_d \\cdot b_d(x_i)\\right)^2$$\n",
    "\n",
    "转化为矩阵形式：\n",
    "\n",
    "$$I = len(x)$$\n",
    "$$x = np.array(x_1, \\cdots, x_I)$$ \n",
    "$$y = np.array(y_i, \\cdots, y_I)$$\n",
    "$$b = np.array(b_1, \\cdots, b_D)$$\n",
    "\n",
    "$$\\rho = np.array(\\alpha_1^*, \\cdots, \\alpha_D^*) = \\min_A  \\frac{1}{I} \\|y - A \\cdot b(x)  \\|_2^2$$\n"
   ]
  },
  {
   "cell_type": "markdown",
   "metadata": {},
   "source": [
    "#### Monomials as Basis Functions(作为基函数的单项式)\n",
    "\n",
    "即 $b_1 = 1, b_2 = x, b_3 = x^2, b_4 = x^3, \\cdots$\n",
    "\n",
    "NumPy有确定最优参数(`ployfit`)和以一组输入值求取近似值(`polyval`)的内建函数。\n",
    "\n",
    "在`ployfit`返回的最优回归相关系数$\\rho$基础上，np.polyval($\\rho$, x)返回$x$坐标的回归值。"
   ]
  },
  {
   "cell_type": "markdown",
   "metadata": {},
   "source": [
    "ployfit函数数参数：\n",
    "\n",
    "参数|描述\n",
    ":-:|:-\n",
    "`x`|`x`坐标(自变量值)\n",
    "`y`|`y`坐标(因变量值)\n",
    "`deg`|多项式拟合度\n",
    "`full`|若为真，返回额外的诊断信息\n",
    "`w`|应用到`y`坐标的权重\n",
    "`cov`|若为真，返回协方差矩阵"
   ]
  },
  {
   "cell_type": "code",
   "execution_count": 49,
   "metadata": {
    "collapsed": true,
    "uuid": "ace90420-7219-4227-8210-bf107f556726"
   },
   "outputs": [],
   "source": [
    "reg = np.polyfit(x, f(x), deg=1)\n",
    "ry = np.polyval(reg, x)"
   ]
  },
  {
   "cell_type": "code",
   "execution_count": 73,
   "metadata": {},
   "outputs": [],
   "source": [
    "np.polyfit?"
   ]
  },
  {
   "cell_type": "code",
   "execution_count": 50,
   "metadata": {
    "uuid": "c0667d3e-a48a-413d-b250-5e0d3b58275e"
   },
   "outputs": [
    {
     "data": {
      "text/plain": [
       "<matplotlib.text.Text at 0x21d4411c198>"
      ]
     },
     "execution_count": 50,
     "metadata": {},
     "output_type": "execute_result"
    },
    {
     "data": {
      "image/png": "[encoded data removed]",
      "text/plain": [
       "<matplotlib.figure.Figure at 0x21d440bcc50>"
      ]
     },
     "metadata": {},
     "output_type": "display_data"
    }
   ],
   "source": [
    "plt.plot(x, f(x), 'b', label='f(x)')\n",
    "plt.plot(x, ry, 'r.', label='regression')\n",
    "plt.legend(loc=0)\n",
    "plt.grid(True)\n",
    "plt.xlabel('x')\n",
    "plt.ylabel('f(x)')\n",
    "# tag: sin_plot_reg_1\n",
    "plt.title('Example function and linear regression')\n",
    "# size: 60"
   ]
  },
  {
   "cell_type": "code",
   "execution_count": 51,
   "metadata": {
    "collapsed": true,
    "uuid": "096bb07a-55f7-45de-8734-2a76d8749d53"
   },
   "outputs": [],
   "source": [
    "reg = np.polyfit(x, f(x), deg=5)\n",
    "ry = np.polyval(reg, x)"
   ]
  },
  {
   "cell_type": "code",
   "execution_count": 52,
   "metadata": {
    "uuid": "5e17309e-e8e2-4df9-b841-0f57d983b89e"
   },
   "outputs": [
    {
     "data": {
      "text/plain": [
       "<matplotlib.text.Text at 0x21d441cedd8>"
      ]
     },
     "execution_count": 52,
     "metadata": {},
     "output_type": "execute_result"
    },
    {
     "data": {
      "image/png": "[encoded data removed]",
      "text/plain": [
       "<matplotlib.figure.Figure at 0x21d44173b70>"
      ]
     },
     "metadata": {},
     "output_type": "display_data"
    }
   ],
   "source": [
    "plt.plot(x, f(x), 'b', label='f(x)')\n",
    "plt.plot(x, ry, 'r.', label='regression')\n",
    "plt.legend(loc=0)\n",
    "plt.grid(True)\n",
    "plt.xlabel('x')\n",
    "plt.ylabel('f(x)')\n",
    "# tag: sin_plot_reg_2\n",
    "plt.title('Regression with monomials up to order 5')\n",
    "# size: 60"
   ]
  },
  {
   "cell_type": "code",
   "execution_count": 53,
   "metadata": {
    "collapsed": true,
    "uuid": "67b14a21-e8f2-4dd4-a43b-0d232f2b4055"
   },
   "outputs": [],
   "source": [
    "reg = np.polyfit(x, f(x), 7)\n",
    "ry = np.polyval(reg, x)"
   ]
  },
  {
   "cell_type": "code",
   "execution_count": 59,
   "metadata": {
    "uuid": "053752b7-7eb3-4d93-acdf-69874ceada12"
   },
   "outputs": [
    {
     "data": {
      "text/plain": [
       "<matplotlib.text.Text at 0x21d443443c8>"
      ]
     },
     "execution_count": 59,
     "metadata": {},
     "output_type": "execute_result"
    },
    {
     "data": {
      "image/png": "[encoded data removed]",
      "text/plain": [
       "<matplotlib.figure.Figure at 0x21d426bd5c0>"
      ]
     },
     "metadata": {},
     "output_type": "display_data"
    }
   ],
   "source": [
    "plt.plot(x, f(x), 'b', label='f(x)')\n",
    "plt.plot(x, ry, 'r.', label='regression')\n",
    "plt.legend(loc=0)\n",
    "plt.grid(True)\n",
    "plt.xlabel('x')\n",
    "plt.ylabel('f(x)')\n",
    "# tag: sin_plot_reg_3\n",
    "plt.title('Regression with monomials up to order 7')\n",
    "# size: 60"
   ]
  },
  {
   "cell_type": "code",
   "execution_count": 60,
   "metadata": {
    "uuid": "e600b6be-4cf2-4212-807a-7f397f081e98"
   },
   "outputs": [
    {
     "data": {
      "text/plain": [
       "False"
      ]
     },
     "execution_count": 60,
     "metadata": {},
     "output_type": "execute_result"
    }
   ],
   "source": [
    "np.allclose(f(x), ry)"
   ]
  },
  {
   "cell_type": "markdown",
   "metadata": {},
   "source": [
    "均方差(MSE):"
   ]
  },
  {
   "cell_type": "code",
   "execution_count": 61,
   "metadata": {
    "uuid": "bc6918fe-f520-483c-94eb-41dd89abfa70"
   },
   "outputs": [
    {
     "data": {
      "text/plain": [
       "0.0017769134759517628"
      ]
     },
     "execution_count": 61,
     "metadata": {},
     "output_type": "execute_result"
    }
   ],
   "source": [
    "np.sum((f(x) - ry) ** 2) / len(x)"
   ]
  },
  {
   "cell_type": "markdown",
   "metadata": {},
   "source": [
    "#### Individual Basis Functions(单独的基函数)\n",
    "此时，必须使用NumPy ndarray对象"
   ]
  },
  {
   "cell_type": "code",
   "execution_count": 62,
   "metadata": {
    "collapsed": true,
    "uuid": "b4f05890-56e0-4f29-9d61-bd9948ad8af0"
   },
   "outputs": [],
   "source": [
    "m = np.zeros((3 + 1, len(x)))    # 初始化\n",
    "# \n",
    "m[3, :] = x ** 3\n",
    "m[2, :] = x ** 2\n",
    "m[1, :] = x\n",
    "m[0, :] = 1"
   ]
  },
  {
   "cell_type": "markdown",
   "metadata": {},
   "source": [
    "numpy.linalg子库提供**lstsq**函数，以解决和公式1-1类似的最小二乘优化问题："
   ]
  },
  {
   "cell_type": "code",
   "execution_count": 63,
   "metadata": {},
   "outputs": [
    {
     "data": {
      "text/plain": [
       "(array([  1.13227125e-16,   5.62777448e-01,   4.44089210e-16,\n",
       "         -5.43553615e-03]),\n",
       " array([ 18.70019638]),\n",
       " 4,\n",
       " array([ 703.78757296,  130.00970131,   10.44694523,    4.7085911 ]))"
      ]
     },
     "execution_count": 63,
     "metadata": {},
     "output_type": "execute_result"
    }
   ],
   "source": [
    "np.linalg.lstsq(m.T, f(x))"
   ]
  },
  {
   "cell_type": "code",
   "execution_count": 64,
   "metadata": {
    "collapsed": true,
    "uuid": "c8963eee-4bc8-4ef2-a172-d4b64fd065a3"
   },
   "outputs": [],
   "source": [
    "reg = np.linalg.lstsq(m.T, f(x))[0]   # 返回"
   ]
  },
  {
   "cell_type": "code",
   "execution_count": 65,
   "metadata": {
    "collapsed": true,
    "uuid": "efb7b252-d0f8-4263-b2be-4d9588ab06a7"
   },
   "outputs": [],
   "source": [
    "ry = np.dot(reg, m)"
   ]
  },
  {
   "cell_type": "code",
   "execution_count": 66,
   "metadata": {
    "uuid": "1b1953fe-83a2-436b-8cd4-69c5abf6d2e1"
   },
   "outputs": [
    {
     "data": {
      "text/plain": [
       "<matplotlib.text.Text at 0x21d444016a0>"
      ]
     },
     "execution_count": 66,
     "metadata": {},
     "output_type": "execute_result"
    },
    {
     "data": {
      "image/png": "[encoded data removed]",
      "text/plain": [
       "<matplotlib.figure.Figure at 0x21d4437ac18>"
      ]
     },
     "metadata": {},
     "output_type": "display_data"
    }
   ],
   "source": [
    "plt.plot(x, f(x), 'b', label='f(x)')\n",
    "plt.plot(x, ry, 'r.', label='regression')\n",
    "plt.legend(loc=0)\n",
    "plt.grid(True)\n",
    "plt.xlabel('x')\n",
    "plt.ylabel('f(x)')\n",
    "# tag: sin_plot_reg_4\n",
    "plt.title('Regression via least-squares function')\n",
    "# size: 60"
   ]
  },
  {
   "cell_type": "code",
   "execution_count": 67,
   "metadata": {
    "collapsed": true,
    "uuid": "ac77ef01-8abe-4b99-8f92-8325a396ff2c"
   },
   "outputs": [],
   "source": [
    "matrix[3, :] = np.sin(x)\n",
    "reg = np.linalg.lstsq(matrix.T, f(x))[0]\n",
    "ry = np.dot(reg, matrix)"
   ]
  },
  {
   "cell_type": "code",
   "execution_count": 68,
   "metadata": {
    "uuid": "58d9db31-5885-4fba-8ae7-2e962a0963ca"
   },
   "outputs": [
    {
     "data": {
      "text/plain": [
       "<matplotlib.text.Text at 0x21d443de780>"
      ]
     },
     "execution_count": 68,
     "metadata": {},
     "output_type": "execute_result"
    },
    {
     "data": {
      "image/png": "[encoded data removed]",
      "text/plain": [
       "<matplotlib.figure.Figure at 0x21d4445eef0>"
      ]
     },
     "metadata": {},
     "output_type": "display_data"
    }
   ],
   "source": [
    "plt.plot(x, f(x), 'b', label='f(x)')\n",
    "plt.plot(x, ry, 'r.', label='regression')\n",
    "plt.legend(loc=0)\n",
    "plt.grid(True)\n",
    "plt.xlabel('x')\n",
    "plt.ylabel('f(x)')\n",
    "# tag: sin_plot_reg_5\n",
    "# title: Regression using individual functions\n",
    "# size: 60"
   ]
  },
  {
   "cell_type": "code",
   "execution_count": 69,
   "metadata": {
    "uuid": "02481bd5-c737-46bc-9b90-5554fcad8745"
   },
   "outputs": [
    {
     "data": {
      "text/plain": [
       "True"
      ]
     },
     "execution_count": 69,
     "metadata": {},
     "output_type": "execute_result"
    }
   ],
   "source": [
    "np.allclose(f(x), ry)"
   ]
  },
  {
   "cell_type": "code",
   "execution_count": 70,
   "metadata": {
    "uuid": "6bf80137-3a52-483b-a557-b092bbf23b36"
   },
   "outputs": [
    {
     "data": {
      "text/plain": [
       "8.6444980367832195e-31"
      ]
     },
     "execution_count": 70,
     "metadata": {},
     "output_type": "execute_result"
    }
   ],
   "source": [
    "np.sum((f(x) - ry) ** 2) / len(x)"
   ]
  },
  {
   "cell_type": "code",
   "execution_count": 71,
   "metadata": {
    "uuid": "86f9a92c-600d-4515-b34d-20c9f35a86b0"
   },
   "outputs": [
    {
     "data": {
      "text/plain": [
       "array([  3.73659739e-16,   5.00000000e-01,   0.00000000e+00,\n",
       "         1.00000000e+00])"
      ]
     },
     "execution_count": 71,
     "metadata": {},
     "output_type": "execute_result"
    }
   ],
   "source": [
    "reg"
   ]
  },
  {
   "cell_type": "markdown",
   "metadata": {},
   "source": [
    "#### Noisy Data(有噪声的数据)"
   ]
  },
  {
   "cell_type": "code",
   "execution_count": 74,
   "metadata": {
    "collapsed": true,
    "uuid": "75d3a6a6-a940-4a49-b35d-29f21880ab95"
   },
   "outputs": [],
   "source": [
    "xn = np.linspace(-2 * np.pi, 2 * np.pi, 50)\n",
    "xn = xn + 0.15 * np.random.standard_normal(len(xn))\n",
    "yn = f(xn) + 0.25 * np.random.standard_normal(len(xn))"
   ]
  },
  {
   "cell_type": "code",
   "execution_count": 75,
   "metadata": {
    "collapsed": true,
    "uuid": "f6f9c05f-1f96-48ee-aaca-f4d80c3d3ac5"
   },
   "outputs": [],
   "source": [
    "reg = np.polyfit(xn, yn, 7)\n",
    "ry = np.polyval(reg, xn)"
   ]
  },
  {
   "cell_type": "code",
   "execution_count": 76,
   "metadata": {
    "uuid": "9a475222-3bfd-4300-951b-94e60792c6da"
   },
   "outputs": [
    {
     "data": {
      "text/plain": [
       "<matplotlib.text.Text at 0x21d4454a780>"
      ]
     },
     "execution_count": 76,
     "metadata": {},
     "output_type": "execute_result"
    },
    {
     "data": {
      "image/png": "[encoded data removed]",
      "text/plain": [
       "<matplotlib.figure.Figure at 0x21d44409278>"
      ]
     },
     "metadata": {},
     "output_type": "display_data"
    }
   ],
   "source": [
    "plt.plot(xn, yn, 'b^', label='f(x)')\n",
    "plt.plot(xn, ry, 'ro', label='regression')\n",
    "plt.legend(loc=0)\n",
    "plt.grid(True)\n",
    "plt.xlabel('x')\n",
    "plt.ylabel('f(x)')\n",
    "# tag: sin_plot_reg_6\n",
    "# title: Regression with noisy data\n",
    "# size: 60"
   ]
  },
  {
   "cell_type": "markdown",
   "metadata": {},
   "source": [
    "#### Unsorted Data(未排序的数据)"
   ]
  },
  {
   "cell_type": "code",
   "execution_count": 77,
   "metadata": {
    "collapsed": true,
    "uuid": "8ea85cdb-47f2-4967-b684-7894d9964e76"
   },
   "outputs": [],
   "source": [
    "xu = np.random.rand(50) * 4 * np.pi - 2 * np.pi\n",
    "yu = f(xu)"
   ]
  },
  {
   "cell_type": "code",
   "execution_count": 78,
   "metadata": {
    "uuid": "0034edf5-1cef-4eea-be44-c69103fe6eb2"
   },
   "outputs": [
    {
     "name": "stdout",
     "output_type": "stream",
     "text": [
      "[ 3.5  -1.57 -2.01 -0.44  3.32  0.11 -2.18  0.11  1.73 -6.17]\n",
      "[ 1.4  -1.79 -1.91 -0.64  1.48  0.16 -1.91  0.17  1.85 -2.97]\n"
     ]
    }
   ],
   "source": [
    "print(xu[:10].round(2))\n",
    "print(yu[:10].round(2))"
   ]
  },
  {
   "cell_type": "code",
   "execution_count": 79,
   "metadata": {
    "collapsed": true,
    "uuid": "d7f5f003-1cb8-4432-a8d6-cb4bef1a101a"
   },
   "outputs": [],
   "source": [
    "reg = np.polyfit(xu, yu, 5)\n",
    "ry = np.polyval(reg, xu)"
   ]
  },
  {
   "cell_type": "code",
   "execution_count": 80,
   "metadata": {
    "uuid": "40177962-0363-479c-bdbd-451a4c043060"
   },
   "outputs": [
    {
     "data": {
      "text/plain": [
       "<matplotlib.text.Text at 0x21d4455f748>"
      ]
     },
     "execution_count": 80,
     "metadata": {},
     "output_type": "execute_result"
    },
    {
     "data": {
      "image/png": "[encoded data removed]",
      "text/plain": [
       "<matplotlib.figure.Figure at 0x21d445db8d0>"
      ]
     },
     "metadata": {},
     "output_type": "display_data"
    }
   ],
   "source": [
    "plt.plot(xu, yu, 'b^', label='f(x)')\n",
    "plt.plot(xu, ry, 'ro', label='regression')\n",
    "plt.legend(loc=0)\n",
    "plt.grid(True)\n",
    "plt.xlabel('x')\n",
    "plt.ylabel('f(x)')\n",
    "# tag: sin_plot_reg_7\n",
    "# title: Regression with unsorted data\n",
    "# size: 60"
   ]
  },
  {
   "cell_type": "markdown",
   "metadata": {},
   "source": [
    "#### Multiple Dimensions(多维)"
   ]
  },
  {
   "cell_type": "code",
   "execution_count": 81,
   "metadata": {
    "collapsed": true,
    "uuid": "82b95a7b-9e3e-4dc8-b313-1af775b06b8b"
   },
   "outputs": [],
   "source": [
    "def fm(p):\n",
    "    x, y = p\n",
    "    return np.sin(x) + 0.25 * x + np.sqrt(y) + 0.05 * y ** 2"
   ]
  },
  {
   "cell_type": "code",
   "execution_count": 82,
   "metadata": {
    "collapsed": true,
    "uuid": "b03b67ac-f7df-41d1-9dab-1e074e8738fa"
   },
   "outputs": [],
   "source": [
    "x = np.linspace(0, 10, 20)\n",
    "y = np.linspace(0, 10, 20)\n",
    "X, Y = np.meshgrid(x, y)\n",
    "  # generates 2-d grids out of the 1-d arrays\n",
    "Z = fm((X, Y))\n",
    "x = X.flatten()\n",
    "y = Y.flatten()\n",
    "  # yields 1-d arrays from the 2-d grids"
   ]
  },
  {
   "cell_type": "code",
   "execution_count": 83,
   "metadata": {
    "uuid": "52a91ef7-33c4-4de1-b69b-ea4d740aa252"
   },
   "outputs": [
    {
     "data": {
      "text/plain": [
       "<matplotlib.colorbar.Colorbar at 0x21d447bea90>"
      ]
     },
     "execution_count": 83,
     "metadata": {},
     "output_type": "execute_result"
    },
    {
     "data": {
      "image/png": "[encoded data removed]",
      "text/plain": [
       "<matplotlib.figure.Figure at 0x21d446bd6a0>"
      ]
     },
     "metadata": {},
     "output_type": "display_data"
    }
   ],
   "source": [
    "from mpl_toolkits.mplot3d import Axes3D\n",
    "import matplotlib as mpl\n",
    "\n",
    "fig = plt.figure(figsize=(9, 6))\n",
    "ax = fig.gca(projection='3d')\n",
    "surf = ax.plot_surface(X, Y, Z, rstride=2, cstride=2, cmap=mpl.cm.coolwarm,\n",
    "        linewidth=0.5, antialiased=True)\n",
    "ax.set_xlabel('x')\n",
    "ax.set_ylabel('y')\n",
    "ax.set_zlabel('f(x, y)')\n",
    "fig.colorbar(surf, shrink=0.5, aspect=5)\n",
    "# tag: sin_plot_3d_1\n",
    "# title: Function with two parameters\n",
    "# size: 60"
   ]
  },
  {
   "cell_type": "code",
   "execution_count": 84,
   "metadata": {
    "collapsed": true,
    "uuid": "5918f2cf-3ead-4b80-980e-4a375ee159db"
   },
   "outputs": [],
   "source": [
    "# 基函数\n",
    "matrix = np.zeros((len(x), 6 + 1))\n",
    "matrix[:, 6] = np.sqrt(y)\n",
    "matrix[:, 5] = np.sin(x)\n",
    "matrix[:, 4] = y ** 2\n",
    "matrix[:, 3] = x ** 2\n",
    "matrix[:, 2] = y\n",
    "matrix[:, 1] = x\n",
    "matrix[:, 0] = 1"
   ]
  },
  {
   "cell_type": "markdown",
   "metadata": {},
   "source": [
    "**statsmodels**库提供了**OLS**函数，可以用于一维和多维最小二乘回归：\n",
    "\n",
    "OLS的使用详见<http://bit.ly/using_ols>"
   ]
  },
  {
   "cell_type": "code",
   "execution_count": 85,
   "metadata": {
    "uuid": "48ce242e-3411-41bf-b6c1-c8e228f3e494"
   },
   "outputs": [
    {
     "name": "stderr",
     "output_type": "stream",
     "text": [
      "C:\\ProgramData\\Anaconda3\\lib\\site-packages\\statsmodels\\compat\\pandas.py:56: FutureWarning: The pandas.core.datetools module is deprecated and will be removed in a future version. Please use the pandas.tseries module instead.\n",
      "  from pandas.core import datetools\n"
     ]
    }
   ],
   "source": [
    "import statsmodels.api as sm"
   ]
  },
  {
   "cell_type": "code",
   "execution_count": 86,
   "metadata": {
    "collapsed": true,
    "uuid": "b9eb74bd-9280-4d8b-ae7d-8853911389cb"
   },
   "outputs": [],
   "source": [
    "model = sm.OLS(fm((x, y)), matrix).fit()"
   ]
  },
  {
   "cell_type": "markdown",
   "metadata": {},
   "source": [
    "OLS函数的好处之一提供关于回归及其质量的大量附加信息。调用`model.summary`可以访问结果的一个摘要。单独统计数字(如确定系数)通常可以直接访问："
   ]
  },
  {
   "cell_type": "code",
   "execution_count": 87,
   "metadata": {
    "uuid": "cc9c9f77-9051-4d82-bb7b-c646216d542f"
   },
   "outputs": [
    {
     "data": {
      "text/plain": [
       "1.0"
      ]
     },
     "execution_count": 87,
     "metadata": {},
     "output_type": "execute_result"
    }
   ],
   "source": [
    "model.rsquared"
   ]
  },
  {
   "cell_type": "markdown",
   "metadata": {},
   "source": [
    "最优回归参数保存在model对象的`params`属性中："
   ]
  },
  {
   "cell_type": "code",
   "execution_count": 88,
   "metadata": {
    "uuid": "b68898de-9001-4a15-a5ee-7ee50c5592ea"
   },
   "outputs": [
    {
     "data": {
      "text/plain": [
       "array([ -4.16333634e-16,   2.50000000e-01,   4.02455846e-16,\n",
       "        -4.85722573e-16,   5.00000000e-02,   1.00000000e+00,\n",
       "         1.00000000e+00])"
      ]
     },
     "execution_count": 88,
     "metadata": {},
     "output_type": "execute_result"
    }
   ],
   "source": [
    "a = model.params\n",
    "a"
   ]
  },
  {
   "cell_type": "markdown",
   "metadata": {},
   "source": [
    "`reg_func`函数返回给定最优回归参数和自变量数据点的回归函数值："
   ]
  },
  {
   "cell_type": "code",
   "execution_count": 89,
   "metadata": {
    "collapsed": true,
    "uuid": "1f5d1574-8238-45e4-987d-bdb7cc6b5e03"
   },
   "outputs": [],
   "source": [
    "def reg_func(a, p):\n",
    "    x, y = p\n",
    "    f6 = a[6] * np.sqrt(y)\n",
    "    f5 = a[5] * np.sin(x)\n",
    "    f4 = a[4] * y ** 2\n",
    "    f3 = a[3] * x ** 2\n",
    "    f2 = a[2] * y\n",
    "    f1 = a[1] * x\n",
    "    f0 = a[0] * 1\n",
    "    return (f6 + f5 + f4 + f3 +\n",
    "            f2 + f1 + f0)"
   ]
  },
  {
   "cell_type": "markdown",
   "metadata": {},
   "source": [
    "然后，将这些值与示例函数原始构成比较："
   ]
  },
  {
   "cell_type": "code",
   "execution_count": 90,
   "metadata": {
    "collapsed": true,
    "uuid": "fd9f8eed-1b10-4ec8-8a15-bedae7f53a18"
   },
   "outputs": [],
   "source": [
    "RZ = reg_func(a, (X, Y))"
   ]
  },
  {
   "cell_type": "code",
   "execution_count": 91,
   "metadata": {
    "uuid": "096451ce-173a-43b5-b81f-9dac26df2702"
   },
   "outputs": [
    {
     "data": {
      "text/plain": [
       "<matplotlib.colorbar.Colorbar at 0x21d47a8ab38>"
      ]
     },
     "execution_count": 91,
     "metadata": {},
     "output_type": "execute_result"
    },
    {
     "data": {
      "image/png": "[encoded data removed]",
      "text/plain": [
       "<matplotlib.figure.Figure at 0x21d479a74e0>"
      ]
     },
     "metadata": {},
     "output_type": "display_data"
    }
   ],
   "source": [
    "fig = plt.figure(figsize=(9, 6))\n",
    "ax = fig.gca(projection='3d')\n",
    "surf1 = ax.plot_surface(X, Y, Z, rstride=2, cstride=2,\n",
    "            cmap=mpl.cm.coolwarm, linewidth=0.5,\n",
    "            antialiased=True)\n",
    "surf2 = ax.plot_wireframe(X, Y, RZ, rstride=2, cstride=2,\n",
    "                          label='regression')\n",
    "ax.set_xlabel('x')\n",
    "ax.set_ylabel('y')\n",
    "ax.set_zlabel('f(x, y)')\n",
    "ax.legend()\n",
    "fig.colorbar(surf, shrink=0.5, aspect=5)\n",
    "# tag: sin_plot_3d_2\n",
    "# title: Higher dimension regression\n",
    "# size: 60"
   ]
  },
  {
   "cell_type": "markdown",
   "metadata": {},
   "source": [
    "### Interpolation(插值)"
   ]
  },
  {
   "cell_type": "markdown",
   "metadata": {},
   "source": [
    "样条插值：\n",
    "- 仅适用于有排序且无噪声的数据。    \n",
    "- 仅限于低维问题。"
   ]
  },
  {
   "cell_type": "markdown",
   "metadata": {},
   "source": [
    "基本思路：给定一组有序的观测点(按照x轴排序)，在两个相邻的数据点之间进行回归，不仅产生的分段插值函数完全匹配数据点，而且函数在数据点上连续可微分。"
   ]
  },
  {
   "cell_type": "code",
   "execution_count": 93,
   "metadata": {
    "collapsed": true,
    "uuid": "5e345542-f425-4630-9eae-0a446927ad73"
   },
   "outputs": [],
   "source": [
    "import scipy.interpolate as spi"
   ]
  },
  {
   "cell_type": "code",
   "execution_count": 94,
   "metadata": {
    "collapsed": true,
    "uuid": "20200433-3e90-4bb6-be5a-8e6a1360989e"
   },
   "outputs": [],
   "source": [
    "x = np.linspace(-2 * np.pi, 2 * np.pi, 25)"
   ]
  },
  {
   "cell_type": "code",
   "execution_count": 95,
   "metadata": {
    "collapsed": true,
    "uuid": "6e3caa90-2a2a-4429-8536-ab25091a5640"
   },
   "outputs": [],
   "source": [
    "def f(x):\n",
    "    return np.sin(x) + 0.5 * x"
   ]
  },
  {
   "cell_type": "markdown",
   "metadata": {},
   "source": [
    "在给定以x排序的数据点集时，应用这种方法和`polyfit`、`polyval`一样简单，此时对应的函数为`splrep`、`splev`."
   ]
  },
  {
   "cell_type": "code",
   "execution_count": 100,
   "metadata": {
    "collapsed": true,
    "uuid": "afdb9c45-1b12-4358-ba3e-a1bc3c4d32db"
   },
   "outputs": [],
   "source": [
    "ipo = spi.splrep(x, f(x), k=1)"
   ]
  },
  {
   "cell_type": "code",
   "execution_count": 101,
   "metadata": {
    "collapsed": true,
    "uuid": "7217594a-3398-4dfd-9d16-f90ee0f24bd9"
   },
   "outputs": [],
   "source": [
    "iy = spi.splev(x, ipo)"
   ]
  },
  {
   "cell_type": "code",
   "execution_count": 102,
   "metadata": {
    "uuid": "89d96d0e-dabd-490f-acad-15bba904b546"
   },
   "outputs": [
    {
     "data": {
      "text/plain": [
       "<matplotlib.text.Text at 0x21d47c59d68>"
      ]
     },
     "execution_count": 102,
     "metadata": {},
     "output_type": "execute_result"
    },
    {
     "data": {
      "image/png": "[encoded data removed]",
      "text/plain": [
       "<matplotlib.figure.Figure at 0x21d47c03278>"
      ]
     },
     "metadata": {},
     "output_type": "display_data"
    }
   ],
   "source": [
    "plt.plot(x, f(x), 'b', label='f(x)')\n",
    "plt.plot(x, iy, 'r.', label='interpolation')\n",
    "plt.legend(loc=0)\n",
    "plt.grid(True)\n",
    "plt.xlabel('x')\n",
    "plt.ylabel('f(x)')\n",
    "# tag: sin_plot_ipo_1\n",
    "# title: Example plot with linear interpolation\n",
    "# size: 60"
   ]
  },
  {
   "cell_type": "code",
   "execution_count": 103,
   "metadata": {
    "uuid": "b9cacc73-786b-4c6b-ad5f-e4d22729c17e"
   },
   "outputs": [
    {
     "data": {
      "text/plain": [
       "True"
      ]
     },
     "execution_count": 103,
     "metadata": {},
     "output_type": "execute_result"
    }
   ],
   "source": [
    "np.allclose(f(x), iy)"
   ]
  },
  {
   "cell_type": "code",
   "execution_count": 104,
   "metadata": {
    "collapsed": true,
    "uuid": "3daf1f42-54d8-4150-aab6-5188d1c23bdb"
   },
   "outputs": [],
   "source": [
    "xd = np.linspace(1.0, 3.0, 50)\n",
    "iyd = spi.splev(xd, ipo)"
   ]
  },
  {
   "cell_type": "code",
   "execution_count": 105,
   "metadata": {
    "uuid": "7ba1134b-ac71-4c3a-a0fc-b644c59effc6"
   },
   "outputs": [
    {
     "data": {
      "text/plain": [
       "<matplotlib.text.Text at 0x21d47b337f0>"
      ]
     },
     "execution_count": 105,
     "metadata": {},
     "output_type": "execute_result"
    },
    {
     "data": {
      "image/png": "[encoded data removed]",
      "text/plain": [
       "<matplotlib.figure.Figure at 0x21d47ae5b00>"
      ]
     },
     "metadata": {},
     "output_type": "display_data"
    }
   ],
   "source": [
    "plt.plot(xd, f(xd), 'b', label='f(x)')\n",
    "plt.plot(xd, iyd, 'r.', label='interpolation')\n",
    "plt.legend(loc=0)\n",
    "plt.grid(True)\n",
    "plt.xlabel('x')\n",
    "plt.ylabel('f(x)')\n",
    "# tag: sin_plot_ipo_2\n",
    "# title: Example plot (detail) with linear interpolation\n",
    "# size: 60"
   ]
  },
  {
   "cell_type": "code",
   "execution_count": 106,
   "metadata": {
    "collapsed": true,
    "uuid": "c3d9f85f-671f-4353-beab-fad9db9f8aa4"
   },
   "outputs": [],
   "source": [
    "ipo = spi.splrep(x, f(x), k=3)\n",
    "iyd = spi.splev(xd, ipo)"
   ]
  },
  {
   "cell_type": "code",
   "execution_count": 107,
   "metadata": {
    "uuid": "0c3e96f1-8732-4ce6-a6ed-bbaae732d950"
   },
   "outputs": [
    {
     "data": {
      "text/plain": [
       "<matplotlib.text.Text at 0x21d47c28978>"
      ]
     },
     "execution_count": 107,
     "metadata": {},
     "output_type": "execute_result"
    },
    {
     "data": {
      "image/png": "[encoded data removed]",
      "text/plain": [
       "<matplotlib.figure.Figure at 0x21d47bb4d68>"
      ]
     },
     "metadata": {},
     "output_type": "display_data"
    }
   ],
   "source": [
    "plt.plot(xd, f(xd), 'b', label='f(x)')\n",
    "plt.plot(xd, iyd, 'r.', label='interpolation')\n",
    "plt.legend(loc=0)\n",
    "plt.grid(True)\n",
    "plt.xlabel('x')\n",
    "plt.ylabel('f(x)')\n",
    "# tag: sin_plot_ipo_3\n",
    "# title: Example plot (detail) with cubic splines interpolation\n",
    "# size: 60"
   ]
  },
  {
   "cell_type": "code",
   "execution_count": 108,
   "metadata": {
    "uuid": "8c67b514-160e-40e3-8f69-da81d7579b2d"
   },
   "outputs": [
    {
     "data": {
      "text/plain": [
       "False"
      ]
     },
     "execution_count": 108,
     "metadata": {},
     "output_type": "execute_result"
    }
   ],
   "source": [
    "np.allclose(f(xd), iyd)"
   ]
  },
  {
   "cell_type": "code",
   "execution_count": 109,
   "metadata": {
    "uuid": "ecc6c2fb-faa4-4149-b71e-05ac5cddeb79"
   },
   "outputs": [
    {
     "data": {
      "text/plain": [
       "1.1349319851436252e-08"
      ]
     },
     "execution_count": 109,
     "metadata": {},
     "output_type": "execute_result"
    }
   ],
   "source": [
    "np.sum((f(xd) - iyd) ** 2) / len(xd)"
   ]
  },
  {
   "cell_type": "markdown",
   "metadata": {},
   "source": [
    "## 2 Convex Optimization(凸优化)"
   ]
  },
  {
   "cell_type": "code",
   "execution_count": 116,
   "metadata": {
    "collapsed": true,
    "uuid": "a09a918e-760c-4e9c-95b8-fe3b568dacdb"
   },
   "outputs": [],
   "source": [
    "def fm(p):\n",
    "    x, y = p\n",
    "    return (np.sin(x) + 0.05 * x ** 2\n",
    "          + np.sin(y) + 0.05 * y ** 2)"
   ]
  },
  {
   "cell_type": "code",
   "execution_count": 117,
   "metadata": {
    "collapsed": true,
    "uuid": "1f4a147b-d9d2-42d5-8553-dd95d75d8251"
   },
   "outputs": [],
   "source": [
    "x = np.linspace(-10, 10, 50)\n",
    "y = np.linspace(-10, 10, 50)\n",
    "X, Y = np.meshgrid(x, y)\n",
    "Z = fm((X, Y))"
   ]
  },
  {
   "cell_type": "code",
   "execution_count": 118,
   "metadata": {
    "uuid": "b3a1d3b7-25eb-4ac8-81ed-ad740fd1a297"
   },
   "outputs": [
    {
     "data": {
      "text/plain": [
       "<matplotlib.colorbar.Colorbar at 0x21d47e3dcf8>"
      ]
     },
     "execution_count": 118,
     "metadata": {},
     "output_type": "execute_result"
    },
    {
     "data": {
      "image/png": "[encoded data removed]",
      "text/plain": [
       "<matplotlib.figure.Figure at 0x21d47ce0438>"
      ]
     },
     "metadata": {},
     "output_type": "display_data"
    }
   ],
   "source": [
    "fig = plt.figure(figsize=(9, 6))\n",
    "ax = fig.gca(projection='3d')\n",
    "surf = ax.plot_surface(X, Y, Z, rstride=2, cstride=2, cmap=mpl.cm.coolwarm,\n",
    "        linewidth=0.5, antialiased=True)\n",
    "ax.set_xlabel('x')\n",
    "ax.set_ylabel('y')\n",
    "ax.set_zlabel('f(x, y)')\n",
    "fig.colorbar(surf, shrink=0.5, aspect=5)\n",
    "# tag: opt_plot_3d\n",
    "# title: Function to minimize with two parameters\n",
    "# size: 60"
   ]
  },
  {
   "cell_type": "markdown",
   "metadata": {},
   "source": [
    "从图中可以看出，此函数有多个局部最小值。"
   ]
  },
  {
   "cell_type": "code",
   "execution_count": 110,
   "metadata": {
    "collapsed": true,
    "uuid": "72b2e44d-2127-412e-9046-2b0c7c5bf7c6"
   },
   "outputs": [],
   "source": [
    "import scipy.optimize as spo"
   ]
  },
  {
   "cell_type": "markdown",
   "metadata": {},
   "source": [
    "### Global Optimization(全局最优)\n",
    "\n",
    "为了更仔细的观察初始化最小过程时后台发生的情况，我们改善原函数，通过一个选项输出当前参数值和函数值。"
   ]
  },
  {
   "cell_type": "code",
   "execution_count": 119,
   "metadata": {
    "collapsed": true,
    "uuid": "e6c829bb-f358-430d-9e8c-781e9d15c9e6"
   },
   "outputs": [],
   "source": [
    "def fo(p):\n",
    "    x, y = p\n",
    "    z = np.sin(x) + 0.05 * x ** 2 + np.sin(y) + 0.05 * y ** 2\n",
    "    if output == True:\n",
    "        print('%8.4f %8.4f %8.4f' % (x, y, z))\n",
    "    return z"
   ]
  },
  {
   "cell_type": "markdown",
   "metadata": {},
   "source": [
    "`brute`以参数范围作为输入，返回最优化参数x, y 的值:"
   ]
  },
  {
   "cell_type": "code",
   "execution_count": 120,
   "metadata": {
    "uuid": "d1f54d32-6cb5-4cd2-8a95-ea3b92c87266"
   },
   "outputs": [
    {
     "name": "stdout",
     "output_type": "stream",
     "text": [
      "-10.0000 -10.0000  11.0880\n",
      "-10.0000 -10.0000  11.0880\n",
      "-10.0000  -5.0000   7.7529\n",
      "-10.0000   0.0000   5.5440\n",
      "-10.0000   5.0000   5.8351\n",
      "-10.0000  10.0000  10.0000\n",
      " -5.0000 -10.0000   7.7529\n",
      " -5.0000  -5.0000   4.4178\n",
      " -5.0000   0.0000   2.2089\n",
      " -5.0000   5.0000   2.5000\n",
      " -5.0000  10.0000   6.6649\n",
      "  0.0000 -10.0000   5.5440\n",
      "  0.0000  -5.0000   2.2089\n",
      "  0.0000   0.0000   0.0000\n",
      "  0.0000   5.0000   0.2911\n",
      "  0.0000  10.0000   4.4560\n",
      "  5.0000 -10.0000   5.8351\n",
      "  5.0000  -5.0000   2.5000\n",
      "  5.0000   0.0000   0.2911\n",
      "  5.0000   5.0000   0.5822\n",
      "  5.0000  10.0000   4.7471\n",
      " 10.0000 -10.0000  10.0000\n",
      " 10.0000  -5.0000   6.6649\n",
      " 10.0000   0.0000   4.4560\n",
      " 10.0000   5.0000   4.7471\n",
      " 10.0000  10.0000   8.9120\n"
     ]
    },
    {
     "data": {
      "text/plain": [
       "array([ 0.,  0.])"
      ]
     },
     "execution_count": 120,
     "metadata": {},
     "output_type": "execute_result"
    }
   ],
   "source": [
    "output = True\n",
    "spo.brute(fo, ((-10, 10.1, 5), (-10, 10.1, 5)), finish=None)"
   ]
  },
  {
   "cell_type": "code",
   "execution_count": 125,
   "metadata": {
    "uuid": "dc42167b-4e8f-462c-8aad-a94afdf0a8bc"
   },
   "outputs": [
    {
     "data": {
      "text/plain": [
       "array([-1.4, -1.4])"
      ]
     },
     "execution_count": 125,
     "metadata": {},
     "output_type": "execute_result"
    }
   ],
   "source": [
    "output = False\n",
    "opt1 = spo.brute(fo, ((-10, 10.1, 0.1), (-10, 10.1, 0.1)), finish=None)\n",
    "opt1"
   ]
  },
  {
   "cell_type": "code",
   "execution_count": 126,
   "metadata": {
    "uuid": "ec2669cd-36a5-4b79-a90c-761a39b12044"
   },
   "outputs": [
    {
     "data": {
      "text/plain": [
       "-1.7748994599769203"
      ]
     },
     "execution_count": 126,
     "metadata": {},
     "output_type": "execute_result"
    }
   ],
   "source": [
    "fm(opt1)   # 全局最优解"
   ]
  },
  {
   "cell_type": "markdown",
   "metadata": {},
   "source": [
    "### Local Optimization(局部优化)\n",
    "`fmin`函数的输入是需要最小化的函数和起始参数值，此外还可以定义输入参数宽容度和函数值宽容度，以及最大迭代和函数调用次数："
   ]
  },
  {
   "cell_type": "code",
   "execution_count": 128,
   "metadata": {
    "uuid": "e451a278-e2ae-4d86-b357-f230468052a4"
   },
   "outputs": [
    {
     "name": "stdout",
     "output_type": "stream",
     "text": [
      " -1.4000  -1.4000  -1.7749\n",
      " -1.4700  -1.4000  -1.7743\n",
      " -1.4000  -1.4700  -1.7743\n",
      " -1.3300  -1.4700  -1.7696\n",
      " -1.4350  -1.4175  -1.7756\n",
      " -1.4350  -1.3475  -1.7722\n",
      " -1.4088  -1.4394  -1.7755\n",
      " -1.4438  -1.4569  -1.7751\n",
      " -1.4328  -1.4427  -1.7756\n",
      " -1.4591  -1.4208  -1.7752\n",
      " -1.4213  -1.4347  -1.7757\n",
      " -1.4235  -1.4096  -1.7755\n",
      " -1.4305  -1.4344  -1.7757\n",
      " -1.4168  -1.4516  -1.7753\n",
      " -1.4305  -1.4260  -1.7757\n",
      " -1.4396  -1.4257  -1.7756\n",
      " -1.4259  -1.4325  -1.7757\n",
      " -1.4259  -1.4241  -1.7757\n",
      " -1.4304  -1.4177  -1.7757\n",
      " -1.4270  -1.4288  -1.7757\n",
      "Warning: Maximum number of function evaluations has been exceeded.\n"
     ]
    },
    {
     "data": {
      "text/plain": [
       "array([-1.42702972, -1.42876755])"
      ]
     },
     "execution_count": 128,
     "metadata": {},
     "output_type": "execute_result"
    }
   ],
   "source": [
    "output = True\n",
    "opt2 = spo.fmin(fo, opt1, xtol=0.001, ftol=0.001, maxiter=15, maxfun=20)\n",
    "opt2"
   ]
  },
  {
   "cell_type": "code",
   "execution_count": 129,
   "metadata": {
    "uuid": "0352d556-6ea7-47a6-9c76-e4a56c0efed7"
   },
   "outputs": [
    {
     "data": {
      "text/plain": [
       "-1.7757246992239009"
      ]
     },
     "execution_count": 129,
     "metadata": {},
     "output_type": "execute_result"
    }
   ],
   "source": [
    "fm(opt2)"
   ]
  },
  {
   "cell_type": "markdown",
   "metadata": {},
   "source": [
    "下面陷入了“盆地跳跃(basin hopping)”"
   ]
  },
  {
   "cell_type": "code",
   "execution_count": 130,
   "metadata": {
    "uuid": "ff9beaf9-73d7-4157-85cb-24783abae775"
   },
   "outputs": [
    {
     "name": "stdout",
     "output_type": "stream",
     "text": [
      "Optimization terminated successfully.\n",
      "         Current function value: 0.015826\n",
      "         Iterations: 46\n",
      "         Function evaluations: 86\n"
     ]
    },
    {
     "data": {
      "text/plain": [
       "array([ 4.2710728 ,  4.27106945])"
      ]
     },
     "execution_count": 130,
     "metadata": {},
     "output_type": "execute_result"
    }
   ],
   "source": [
    "output = False\n",
    "spo.fmin(fo, (2.0, 2.0), maxiter=250)"
   ]
  },
  {
   "cell_type": "markdown",
   "metadata": {},
   "source": [
    "### Constrained Optimization(有约束优化)"
   ]
  },
  {
   "cell_type": "markdown",
   "metadata": {},
   "source": [
    "$$\\min_{s,b} -\\left(0.5 \\cdot \\sqrt{s \\cdot 15 + b \\cdot 5} + 0.5 \\cdot \\sqrt{s \\cdot 5 + b \\cdot 12}\\right)$$\n",
    "$$ 100 - s * 10 - b * 10 \\geq 0$$\n",
    "$$s, t \\geq 0$$"
   ]
  },
  {
   "cell_type": "code",
   "execution_count": 131,
   "metadata": {
    "collapsed": true,
    "uuid": "703a8ac0-1c74-4851-9fd3-7ac404ee3446"
   },
   "outputs": [],
   "source": [
    "# function to be minimized\n",
    "from math import sqrt\n",
    "def Eu(p):\n",
    "    s, b = p\n",
    "    return -(0.5 * sqrt(s * 15 + b * 5) + 0.5 * sqrt(s * 5 + b * 12))\n",
    "\n",
    "# constraints(约束条件)\n",
    "cons = ({'type': 'ineq', 'fun': lambda p:  100 - p[0] * 10 - p[1] * 10})\n",
    "  # budget constraint\n",
    "bnds = ((0, 1000), (0, 1000))  # uppper bounds large enough"
   ]
  },
  {
   "cell_type": "code",
   "execution_count": 132,
   "metadata": {
    "collapsed": true,
    "uuid": "8f989832-637a-4188-b096-26ceeabd77ea"
   },
   "outputs": [],
   "source": [
    "result = spo.minimize(Eu, [5, 5], method='SLSQP',\n",
    "                       bounds=bnds, constraints=cons)"
   ]
  },
  {
   "cell_type": "code",
   "execution_count": 133,
   "metadata": {
    "uuid": "67c11995-124c-4f9d-8edf-1364b412e754"
   },
   "outputs": [
    {
     "data": {
      "text/plain": [
       "     fun: -9.700883611487832\n",
       "     jac: array([-0.48508096, -0.48489535])\n",
       " message: 'Optimization terminated successfully.'\n",
       "    nfev: 21\n",
       "     nit: 5\n",
       "    njev: 5\n",
       "  status: 0\n",
       " success: True\n",
       "       x: array([ 8.02547122,  1.97452878])"
      ]
     },
     "execution_count": 133,
     "metadata": {},
     "output_type": "execute_result"
    }
   ],
   "source": [
    "result"
   ]
  },
  {
   "cell_type": "markdown",
   "metadata": {},
   "source": [
    "`minimize`函数输入需要最小化的函数，参数范围，返回一个字典对象，最优参数可由 `result['x']`读出："
   ]
  },
  {
   "cell_type": "code",
   "execution_count": 134,
   "metadata": {
    "uuid": "53899a89-8532-4f22-a17f-54d106412867"
   },
   "outputs": [
    {
     "data": {
      "text/plain": [
       "array([ 8.02547122,  1.97452878])"
      ]
     },
     "execution_count": 134,
     "metadata": {},
     "output_type": "execute_result"
    }
   ],
   "source": [
    "result['x']"
   ]
  },
  {
   "cell_type": "markdown",
   "metadata": {},
   "source": [
    "最优函数值可用`result['fun']`读出："
   ]
  },
  {
   "cell_type": "code",
   "execution_count": 135,
   "metadata": {
    "uuid": "b8548809-fe3a-4fa4-9496-8d3b6a177973"
   },
   "outputs": [
    {
     "data": {
      "text/plain": [
       "9.700883611487832"
      ]
     },
     "execution_count": 135,
     "metadata": {},
     "output_type": "execute_result"
    }
   ],
   "source": [
    "-result['fun']"
   ]
  },
  {
   "cell_type": "code",
   "execution_count": 136,
   "metadata": {
    "uuid": "7453e87b-a70d-47b9-8a12-c5c0f01e4b86"
   },
   "outputs": [
    {
     "data": {
      "text/plain": [
       "99.999999999999986"
      ]
     },
     "execution_count": 136,
     "metadata": {},
     "output_type": "execute_result"
    }
   ],
   "source": [
    "np.dot(result['x'], [10, 10])"
   ]
  },
  {
   "cell_type": "markdown",
   "metadata": {},
   "source": [
    "## 3 Integration(积分)"
   ]
  },
  {
   "cell_type": "markdown",
   "metadata": {},
   "source": [
    "scipy.integrate函数提供数值积分所用函数："
   ]
  },
  {
   "cell_type": "code",
   "execution_count": 138,
   "metadata": {
    "collapsed": true,
    "uuid": "6a38567d-4a2d-464f-8de3-7687e1d2916d"
   },
   "outputs": [],
   "source": [
    "import scipy.integrate as sci"
   ]
  },
  {
   "cell_type": "markdown",
   "metadata": {},
   "source": [
    "求解$\\int_{0.5}^{9.5}{sin(x) + 0.5 x} {\\rm d}x$"
   ]
  },
  {
   "cell_type": "code",
   "execution_count": 141,
   "metadata": {
    "collapsed": true,
    "uuid": "0954e5b6-9874-4bad-a2fb-28273a015e4a"
   },
   "outputs": [],
   "source": [
    "def f(x):\n",
    "    return np.sin(x) + 0.5 * x"
   ]
  },
  {
   "cell_type": "code",
   "execution_count": 142,
   "metadata": {
    "collapsed": true,
    "uuid": "afb6151f-5743-4950-980e-18047e066ebc"
   },
   "outputs": [],
   "source": [
    "a = 0.5  # left integral limit\n",
    "b = 9.5  # right integral limit\n",
    "x = np.linspace(0, 10)\n",
    "y = f(x)"
   ]
  },
  {
   "cell_type": "code",
   "execution_count": 143,
   "metadata": {
    "uuid": "ad78923f-e4c1-4381-9a24-33b4f1ea3c56"
   },
   "outputs": [
    {
     "data": {
      "text/plain": [
       "[<matplotlib.axis.YTick at 0x21d480a8630>,\n",
       " <matplotlib.axis.YTick at 0x21d479aac88>]"
      ]
     },
     "execution_count": 143,
     "metadata": {},
     "output_type": "execute_result"
    },
    {
     "data": {
      "image/png": "[encoded data removed]",
      "text/plain": [
       "<matplotlib.figure.Figure at 0x21d479aacf8>"
      ]
     },
     "metadata": {},
     "output_type": "display_data"
    }
   ],
   "source": [
    "from matplotlib.patches import Polygon\n",
    "\n",
    "fig, ax = plt.subplots(figsize=(7, 5))\n",
    "plt.plot(x, y, 'b', linewidth=2)\n",
    "plt.ylim(ymin=0)\n",
    "\n",
    "# area under the function\n",
    "# between lower and upper limit\n",
    "Ix = np.linspace(a, b)\n",
    "Iy = f(Ix)\n",
    "verts = [(a, 0)] + list(zip(Ix, Iy)) + [(b, 0)]\n",
    "poly = Polygon(verts, facecolor='0.7', edgecolor='0.5')\n",
    "ax.add_patch(poly)\n",
    "\n",
    "# labels\n",
    "plt.text(0.75 * (a + b), 1.5, r\"$\\int_a^b f(x)dx$\",\n",
    "         horizontalalignment='center', fontsize=20)\n",
    "\n",
    "plt.figtext(0.9, 0.075, '$x$')\n",
    "plt.figtext(0.075, 0.9, '$f(x)$')\n",
    "\n",
    "ax.set_xticks((a, b))\n",
    "ax.set_xticklabels(('$a$', '$b$'))\n",
    "ax.set_yticks([f(a), f(b)])\n",
    "# tag: sin_integral\n",
    "# title: Example function with integral area\n",
    "# size: 50"
   ]
  },
  {
   "cell_type": "markdown",
   "metadata": {},
   "source": [
    "### Numerical Integration(数值积分)"
   ]
  },
  {
   "cell_type": "markdown",
   "metadata": {},
   "source": [
    "##### 给定上下限"
   ]
  },
  {
   "cell_type": "code",
   "execution_count": 144,
   "metadata": {
    "uuid": "6d3aa9c8-58c0-46a3-a89f-ca471a1f83e4"
   },
   "outputs": [
    {
     "data": {
      "text/plain": [
       "24.366995967084602"
      ]
     },
     "execution_count": 144,
     "metadata": {},
     "output_type": "execute_result"
    }
   ],
   "source": [
    "sci.fixed_quad(f, a, b)[0]  # 固定高斯求积"
   ]
  },
  {
   "cell_type": "code",
   "execution_count": 145,
   "metadata": {
    "uuid": "0ddebba6-5357-4ce9-b829-d752132d12df"
   },
   "outputs": [
    {
     "data": {
      "text/plain": [
       "24.374754718086752"
      ]
     },
     "execution_count": 145,
     "metadata": {},
     "output_type": "execute_result"
    }
   ],
   "source": [
    "sci.quad(f, a, b)[0]   # 自适应求积"
   ]
  },
  {
   "cell_type": "code",
   "execution_count": 146,
   "metadata": {
    "scrolled": true,
    "uuid": "3b1779d6-c831-449d-964f-e2cc869847e7"
   },
   "outputs": [
    {
     "data": {
      "text/plain": [
       "24.374754718086713"
      ]
     },
     "execution_count": 146,
     "metadata": {},
     "output_type": "execute_result"
    }
   ],
   "source": [
    "sci.romberg(f, a, b)   # 勒贝格积分"
   ]
  },
  {
   "cell_type": "markdown",
   "metadata": {},
   "source": [
    "##### 以列表或者包含函数值的ndarray对象作为输入："
   ]
  },
  {
   "cell_type": "code",
   "execution_count": 147,
   "metadata": {
    "collapsed": true,
    "uuid": "5499809d-f2b1-4cc9-8808-511f4e82c5ed"
   },
   "outputs": [],
   "source": [
    "xi = np.linspace(0.5, 9.5, 25)"
   ]
  },
  {
   "cell_type": "code",
   "execution_count": 148,
   "metadata": {
    "uuid": "aec239bc-cdd9-4477-b47c-4d0136ed686d"
   },
   "outputs": [
    {
     "data": {
      "text/plain": [
       "24.352733271544516"
      ]
     },
     "execution_count": 148,
     "metadata": {},
     "output_type": "execute_result"
    }
   ],
   "source": [
    "sci.trapz(f(xi), xi)     # 使用梯形法则"
   ]
  },
  {
   "cell_type": "code",
   "execution_count": 149,
   "metadata": {
    "uuid": "ce33e420-5143-4d54-b23f-0040f54723fc"
   },
   "outputs": [
    {
     "data": {
      "text/plain": [
       "24.374964184550748"
      ]
     },
     "execution_count": 149,
     "metadata": {},
     "output_type": "execute_result"
    }
   ],
   "source": [
    "sci.simps(f(xi), xi)     # 使用辛普森法则"
   ]
  },
  {
   "cell_type": "markdown",
   "metadata": {},
   "source": [
    "### Integration by Simulation(通过蒙特卡洛模拟求取积分)"
   ]
  },
  {
   "cell_type": "code",
   "execution_count": 151,
   "metadata": {
    "uuid": "bb840eb2-0e13-40eb-aea7-0f106dcf9f41"
   },
   "outputs": [
    {
     "name": "stdout",
     "output_type": "stream",
     "text": [
      "24.8047622793\n",
      "26.5229188983\n",
      "26.2655475192\n",
      "26.0277033994\n",
      "24.9995418144\n",
      "23.8818101416\n",
      "23.5279122748\n",
      "23.507857659\n",
      "23.6723674607\n",
      "23.6794104161\n",
      "24.4244017079\n",
      "24.2390053468\n",
      "24.115396925\n",
      "24.4241919876\n",
      "23.9249330805\n",
      "24.1948421203\n",
      "24.1173483782\n",
      "24.1006909297\n",
      "23.7690510985\n"
     ]
    }
   ],
   "source": [
    "for i in range(1, 20):\n",
    "    np.random.seed(1000)\n",
    "    x = np.random.random(i * 10) * (b - a) + a\n",
    "    print(np.sum(f(x)) / len(x) * (b - a))"
   ]
  },
  {
   "cell_type": "markdown",
   "metadata": {},
   "source": [
    "## 4 Symbolic Computation(符号计算)"
   ]
  },
  {
   "cell_type": "code",
   "execution_count": 152,
   "metadata": {
    "collapsed": true,
    "uuid": "f01d358d-8094-426c-8e69-657218d8c319"
   },
   "outputs": [],
   "source": [
    "import sympy as sy"
   ]
  },
  {
   "cell_type": "markdown",
   "metadata": {},
   "source": [
    "### Basics(基本知识)\n",
    "\n",
    "**Sympy**引入了新的对象类。最基本的是**Symbol**类："
   ]
  },
  {
   "cell_type": "code",
   "execution_count": 153,
   "metadata": {
    "collapsed": true,
    "uuid": "2cb7d5d8-ae45-4001-863e-714df216a656"
   },
   "outputs": [],
   "source": [
    "x = sy.Symbol('x')\n",
    "y = sy.Symbol('y')"
   ]
  },
  {
   "cell_type": "code",
   "execution_count": 154,
   "metadata": {
    "uuid": "7bf55a76-f348-4820-af94-a83ed233d9a2"
   },
   "outputs": [
    {
     "data": {
      "text/plain": [
       "sympy.core.symbol.Symbol"
      ]
     },
     "execution_count": 154,
     "metadata": {},
     "output_type": "execute_result"
    }
   ],
   "source": [
    "type(x)"
   ]
  },
  {
   "cell_type": "markdown",
   "metadata": {},
   "source": [
    "和NumPy一样，Sympy由一些（数学）函数定义："
   ]
  },
  {
   "cell_type": "code",
   "execution_count": 156,
   "metadata": {
    "uuid": "a8f0388b-1df6-4389-877c-af5d9f141708"
   },
   "outputs": [
    {
     "data": {
      "text/plain": [
       "sqrt(x)"
      ]
     },
     "execution_count": 156,
     "metadata": {},
     "output_type": "execute_result"
    }
   ],
   "source": [
    "sy.sqrt(x)"
   ]
  },
  {
   "cell_type": "markdown",
   "metadata": {},
   "source": [
    "尽管 x 没有数字值，但是Sympy已经定义了 x 的平方根，这是因为 x 是一个符号(Sympy)对象。在这个意义上，`sy.sqrt(x)`可以成为任何数学表达式的一部分。且Sympy通常自动简化给定的数学表达式："
   ]
  },
  {
   "cell_type": "code",
   "execution_count": 157,
   "metadata": {
    "uuid": "f308fe2e-a5bc-4c88-a7f6-a4f09a568f2f"
   },
   "outputs": [
    {
     "data": {
      "text/plain": [
       "sqrt(x) - 13"
      ]
     },
     "execution_count": 157,
     "metadata": {},
     "output_type": "execute_result"
    }
   ],
   "source": [
    "3 + sy.sqrt(x) - 4 ** 2"
   ]
  },
  {
   "cell_type": "markdown",
   "metadata": {},
   "source": [
    "类似的，可以使用符号对象定义任何函数。它们不会与*Python*函数混淆。"
   ]
  },
  {
   "cell_type": "code",
   "execution_count": 158,
   "metadata": {
    "collapsed": true,
    "uuid": "025f5084-4efc-4416-a564-b8a96ec426fd"
   },
   "outputs": [],
   "source": [
    "f = x ** 2 + 3 + 0.5 * x ** 2 + 3 / 2"
   ]
  },
  {
   "cell_type": "code",
   "execution_count": 159,
   "metadata": {
    "uuid": "f427581e-50ba-45b9-a145-ff734be26e59"
   },
   "outputs": [
    {
     "data": {
      "text/plain": [
       "1.5*x**2 + 4.5"
      ]
     },
     "execution_count": 159,
     "metadata": {},
     "output_type": "execute_result"
    }
   ],
   "source": [
    "sy.simplify(f)"
   ]
  },
  {
   "cell_type": "markdown",
   "metadata": {},
   "source": [
    "Sympy为数学表达式提供了3个基本的渲染器：        \n",
    "1. 基于LaTex的渲染器\n",
    "2. 基于unicode的渲染器\n",
    "3. 基于ASCII的渲染器"
   ]
  },
  {
   "cell_type": "code",
   "execution_count": 166,
   "metadata": {
    "collapsed": true,
    "uuid": "59837e7c-a82f-44e5-8b87-b0fba310ffc5"
   },
   "outputs": [],
   "source": [
    "sy.init_printing(pretty_print=False, use_unicode=False)"
   ]
  },
  {
   "cell_type": "code",
   "execution_count": 167,
   "metadata": {
    "uuid": "ea1bbb85-a431-4e6c-a264-6ffb6df9f59e"
   },
   "outputs": [
    {
     "name": "stdout",
     "output_type": "stream",
     "text": [
      "     2      \n",
      "1.5*x  + 4.5\n"
     ]
    }
   ],
   "source": [
    "print(sy.pretty(f))"
   ]
  },
  {
   "cell_type": "code",
   "execution_count": 168,
   "metadata": {
    "uuid": "e8702014-5347-4eac-b10c-39c5a54459c9"
   },
   "outputs": [
    {
     "name": "stdout",
     "output_type": "stream",
     "text": [
      "  ___      \n",
      "\\/ x  + 0.5\n"
     ]
    }
   ],
   "source": [
    "print(sy.pretty(sy.sqrt(x) + 0.5))"
   ]
  },
  {
   "cell_type": "code",
   "execution_count": 169,
   "metadata": {
    "uuid": "b8cf7cf4-56e2-4c6b-a70b-6592ec4bd6a6"
   },
   "outputs": [
    {
     "data": {
      "text/plain": [
       "'3.14159265358979323846264338327950288419'"
      ]
     },
     "execution_count": 169,
     "metadata": {},
     "output_type": "execute_result"
    }
   ],
   "source": [
    "pi_str = str(sy.N(sy.pi, 400000))\n",
    "pi_str[:40]"
   ]
  },
  {
   "cell_type": "code",
   "execution_count": 170,
   "metadata": {
    "uuid": "595cc15e-99b8-43c7-ad89-db4500fdb860"
   },
   "outputs": [
    {
     "data": {
      "text/plain": [
       "'8245672736856312185020980470362464176198'"
      ]
     },
     "execution_count": 170,
     "metadata": {},
     "output_type": "execute_result"
    }
   ],
   "source": [
    "pi_str[-40:]"
   ]
  },
  {
   "cell_type": "code",
   "execution_count": 171,
   "metadata": {
    "uuid": "cc4b85c4-e603-4d36-9553-f3999e877fca"
   },
   "outputs": [
    {
     "data": {
      "text/plain": [
       "366713"
      ]
     },
     "execution_count": 171,
     "metadata": {},
     "output_type": "execute_result"
    }
   ],
   "source": [
    "pi_str.find('111272')  # 查找你的生日"
   ]
  },
  {
   "cell_type": "markdown",
   "metadata": {},
   "source": [
    "### Equations(方程式)"
   ]
  },
  {
   "cell_type": "markdown",
   "metadata": {},
   "source": [
    "解方程$x^2 - 1 = 0$："
   ]
  },
  {
   "cell_type": "code",
   "execution_count": 173,
   "metadata": {
    "uuid": "c310eeab-ac04-4015-a327-29628f9a9a11"
   },
   "outputs": [
    {
     "data": {
      "text/plain": [
       "[-1, 1]"
      ]
     },
     "execution_count": 173,
     "metadata": {},
     "output_type": "execute_result"
    }
   ],
   "source": [
    "sy.solve(x ** 2 - 1)"
   ]
  },
  {
   "cell_type": "markdown",
   "metadata": {},
   "source": [
    "一般来说，SymPy假定你寻找的是使指定表达式为0的方程的解。    \n",
    "例如，求解$x^2 - 1 = 3$,需要如下操作："
   ]
  },
  {
   "cell_type": "code",
   "execution_count": 175,
   "metadata": {
    "uuid": "60076f9d-93f3-47e0-b5b6-87d1bca3d30a"
   },
   "outputs": [
    {
     "data": {
      "text/plain": [
       "[-2, 2]"
      ]
     },
     "execution_count": 175,
     "metadata": {},
     "output_type": "execute_result"
    }
   ],
   "source": [
    "sy.solve(x ** 2 - 1 - 3)"
   ]
  },
  {
   "cell_type": "code",
   "execution_count": 176,
   "metadata": {
    "uuid": "6c9e1060-61e6-4b18-9be4-cb71b83fc5a7"
   },
   "outputs": [
    {
     "data": {
      "text/plain": [
       "[0.858094329496553, -0.679047164748276 - 0.839206763026694*I, -0.679047164748276 + 0.839206763026694*I]"
      ]
     },
     "execution_count": 176,
     "metadata": {},
     "output_type": "execute_result"
    }
   ],
   "source": [
    "sy.solve(x ** 3 + 0.5 * x ** 2 - 1)"
   ]
  },
  {
   "cell_type": "code",
   "execution_count": 177,
   "metadata": {
    "uuid": "fcd70615-0db5-4c5c-8246-245ba3c8501c"
   },
   "outputs": [
    {
     "data": {
      "text/plain": [
       "[{x: -I*y}, {x: I*y}]"
      ]
     },
     "execution_count": 177,
     "metadata": {},
     "output_type": "execute_result"
    }
   ],
   "source": [
    "sy.solve(x ** 2 + y ** 2)"
   ]
  },
  {
   "cell_type": "markdown",
   "metadata": {},
   "source": [
    "### Integration(积分)"
   ]
  },
  {
   "cell_type": "code",
   "execution_count": 178,
   "metadata": {
    "collapsed": true,
    "uuid": "503329d1-812a-461c-9019-e6bb2a44125e"
   },
   "outputs": [],
   "source": [
    "a, b = sy.symbols('a b')"
   ]
  },
  {
   "cell_type": "code",
   "execution_count": 179,
   "metadata": {
    "uuid": "af7bf980-d65b-4567-8576-404e79c5ac65"
   },
   "outputs": [
    {
     "name": "stdout",
     "output_type": "stream",
     "text": [
      "  b                    \n",
      "  /                    \n",
      " |                     \n",
      " |  (0.5*x + sin(x)) dx\n",
      " |                     \n",
      "/                      \n",
      "a                      \n"
     ]
    }
   ],
   "source": [
    "print(sy.pretty(sy.Integral(sy.sin(x) + 0.5 * x, (x, a, b))))"
   ]
  },
  {
   "cell_type": "markdown",
   "metadata": {},
   "source": [
    "通过**integrate**函数可以得出积分的反导数（不定积分）："
   ]
  },
  {
   "cell_type": "code",
   "execution_count": 180,
   "metadata": {
    "collapsed": true,
    "uuid": "89d4c980-01d7-423a-a2ab-a9698787019a"
   },
   "outputs": [],
   "source": [
    "int_func = sy.integrate(sy.sin(x) + 0.5 * x, x)"
   ]
  },
  {
   "cell_type": "code",
   "execution_count": 181,
   "metadata": {
    "uuid": "38141163-7d29-4bd6-bfaf-9f9cfad86967"
   },
   "outputs": [
    {
     "name": "stdout",
     "output_type": "stream",
     "text": [
      "      2         \n",
      "0.25*x  - cos(x)\n"
     ]
    }
   ],
   "source": [
    "print(sy.pretty(int_func))"
   ]
  },
  {
   "cell_type": "markdown",
   "metadata": {},
   "source": [
    "有了不定积分，求积分只需要三步：   \n",
    "1. 求取SymPy表达式的值\n",
    "2. 使用方法`subs`将数值代入对应的符号\n",
    "3. 在新的表达式上调用方法`evalf`"
   ]
  },
  {
   "cell_type": "code",
   "execution_count": 182,
   "metadata": {
    "collapsed": true,
    "uuid": "51d4481a-c6b6-4caa-b4d1-aa6fb04d4493"
   },
   "outputs": [],
   "source": [
    "Fb = int_func.subs(x, 9.5).evalf()\n",
    "Fa = int_func.subs(x, 0.5).evalf()"
   ]
  },
  {
   "cell_type": "code",
   "execution_count": 183,
   "metadata": {
    "uuid": "0c46e097-c665-440e-9d05-03c0d6e6d8d8"
   },
   "outputs": [
    {
     "data": {
      "text/plain": [
       "24.3747547180867"
      ]
     },
     "execution_count": 183,
     "metadata": {},
     "output_type": "execute_result"
    }
   ],
   "source": [
    "Fb - Fa  # exact value of integral(积分的准确值)"
   ]
  },
  {
   "cell_type": "markdown",
   "metadata": {},
   "source": [
    "积分也可以用符号积分的上下限得到符号解："
   ]
  },
  {
   "cell_type": "code",
   "execution_count": 184,
   "metadata": {
    "uuid": "657b13dc-101e-4c0c-9d15-43dbd418c3c8"
   },
   "outputs": [
    {
     "name": "stdout",
     "output_type": "stream",
     "text": [
      "        2         2                  \n",
      "- 0.25*a  + 0.25*b  + cos(a) - cos(b)\n"
     ]
    }
   ],
   "source": [
    "int_func_limits = sy.integrate(sy.sin(x) + 0.5 * x, (x, a, b))\n",
    "print(sy.pretty(int_func_limits))"
   ]
  },
  {
   "cell_type": "markdown",
   "metadata": {},
   "source": [
    "代入数值，使用字典对象代表多个替代值，并求值可以得到积分值："
   ]
  },
  {
   "cell_type": "code",
   "execution_count": 185,
   "metadata": {
    "uuid": "5c65cea8-1e15-4efa-aba4-52888becaf19"
   },
   "outputs": [
    {
     "data": {
      "text/plain": [
       "24.3747547180868"
      ]
     },
     "execution_count": 185,
     "metadata": {},
     "output_type": "execute_result"
    }
   ],
   "source": [
    "int_func_limits.subs({a : 0.5, b : 9.5}).evalf()"
   ]
  },
  {
   "cell_type": "markdown",
   "metadata": {},
   "source": [
    "提供量化的积分上下限，进一步得出准确值："
   ]
  },
  {
   "cell_type": "code",
   "execution_count": 186,
   "metadata": {
    "uuid": "b13767c8-4878-42c1-b738-0727b824b329"
   },
   "outputs": [
    {
     "data": {
      "text/plain": [
       "24.3747547180867"
      ]
     },
     "execution_count": 186,
     "metadata": {},
     "output_type": "execute_result"
    }
   ],
   "source": [
    "sy.integrate(sy.sin(x) + 0.5 * x, (x, 0.5, 9.5))"
   ]
  },
  {
   "cell_type": "markdown",
   "metadata": {},
   "source": [
    "### Differentiation(微分)"
   ]
  },
  {
   "cell_type": "code",
   "execution_count": 110,
   "metadata": {
    "uuid": "6ea93bb3-eb7c-4837-8327-621f3752b657"
   },
   "outputs": [
    {
     "data": {
      "text/plain": [
       "0.5*x + sin(x)"
      ]
     },
     "execution_count": 110,
     "metadata": {},
     "output_type": "execute_result"
    }
   ],
   "source": [
    "int_func.diff()"
   ]
  },
  {
   "cell_type": "code",
   "execution_count": 187,
   "metadata": {
    "collapsed": true,
    "uuid": "164131fd-a197-40ce-85d6-94221e808073"
   },
   "outputs": [],
   "source": [
    "f = (sy.sin(x) + 0.05 * x ** 2\n",
    "   + sy.sin(y) + 0.05 * y ** 2)"
   ]
  },
  {
   "cell_type": "markdown",
   "metadata": {},
   "source": [
    "为了最小化`f`，我们需要两个变量的偏微分："
   ]
  },
  {
   "cell_type": "code",
   "execution_count": 112,
   "metadata": {
    "uuid": "5d1ce51b-2536-469b-b516-56db1e86519a"
   },
   "outputs": [
    {
     "data": {
      "text/plain": [
       "0.1*x + cos(x)"
      ]
     },
     "execution_count": 112,
     "metadata": {},
     "output_type": "execute_result"
    }
   ],
   "source": [
    "del_x = sy.diff(f, x) \n",
    "del_x"
   ]
  },
  {
   "cell_type": "code",
   "execution_count": 113,
   "metadata": {
    "uuid": "8d778c21-ed6a-43f0-8347-b95af334972a"
   },
   "outputs": [
    {
     "data": {
      "text/plain": [
       "0.1*y + cos(y)"
      ]
     },
     "execution_count": 113,
     "metadata": {},
     "output_type": "execute_result"
    }
   ],
   "source": [
    "del_y = sy.diff(f, y)\n",
    "del_y"
   ]
  },
  {
   "cell_type": "code",
   "execution_count": 114,
   "metadata": {
    "uuid": "588daaba-266a-43da-a4b9-baeb56fc1ac8"
   },
   "outputs": [
    {
     "data": {
      "text/plain": [
       "-1.42755177876459"
      ]
     },
     "execution_count": 114,
     "metadata": {},
     "output_type": "execute_result"
    }
   ],
   "source": [
    "xo = sy.nsolve(del_x, -1.5)\n",
    "xo"
   ]
  },
  {
   "cell_type": "code",
   "execution_count": 115,
   "metadata": {
    "uuid": "2ef9beca-58f2-470b-a50e-6292bffbf2e0"
   },
   "outputs": [
    {
     "data": {
      "text/plain": [
       "-1.42755177876459"
      ]
     },
     "execution_count": 115,
     "metadata": {},
     "output_type": "execute_result"
    }
   ],
   "source": [
    "yo = sy.nsolve(del_y, -1.5)\n",
    "yo"
   ]
  },
  {
   "cell_type": "code",
   "execution_count": 116,
   "metadata": {
    "uuid": "c0812b29-c69f-4a30-aaf1-1447d1434cf4"
   },
   "outputs": [
    {
     "data": {
      "text/plain": [
       "-1.77572565314742"
      ]
     },
     "execution_count": 116,
     "metadata": {},
     "output_type": "execute_result"
    }
   ],
   "source": [
    "f.subs({x : xo, y : yo}).evalf() \n",
    "  # global minimum"
   ]
  },
  {
   "cell_type": "code",
   "execution_count": 117,
   "metadata": {
    "uuid": "fd89d904-eab3-4035-941a-785c6a3f36cb"
   },
   "outputs": [
    {
     "data": {
      "text/plain": [
       "1.74632928225285"
      ]
     },
     "execution_count": 117,
     "metadata": {},
     "output_type": "execute_result"
    }
   ],
   "source": [
    "xo = sy.nsolve(del_x, 1.5)\n",
    "xo"
   ]
  },
  {
   "cell_type": "code",
   "execution_count": 118,
   "metadata": {
    "uuid": "cc99d8f4-e062-4c7e-85ae-46e96d3c8f19"
   },
   "outputs": [
    {
     "data": {
      "text/plain": [
       "1.74632928225285"
      ]
     },
     "execution_count": 118,
     "metadata": {},
     "output_type": "execute_result"
    }
   ],
   "source": [
    "yo = sy.nsolve(del_y, 1.5)\n",
    "yo"
   ]
  },
  {
   "cell_type": "code",
   "execution_count": 119,
   "metadata": {
    "uuid": "54622abe-cef1-47ff-bf23-b883cf588a91"
   },
   "outputs": [
    {
     "data": {
      "text/plain": [
       "2.27423381055640"
      ]
     },
     "execution_count": 119,
     "metadata": {},
     "output_type": "execute_result"
    }
   ],
   "source": [
    "f.subs({x : xo, y : yo}).evalf()\n",
    "  # local minimum"
   ]
  },
  {
   "cell_type": "markdown",
   "metadata": {},
   "source": [
    "## 延伸阅读：  \n",
    "\n",
    "+ NumPy的函数库：<http://docs.scipy.org!doc/numpy/reference/>\n",
    "+ statsmodels 库: <http://statsmodels.sourceforge.net>\n",
    "- scipy.optimize 的细节可以访问 <http:docs.scipy.org!d∞:/scipy/reference/optimize.html>\n",
    "+ scipy.integrate 的积分运算在这里可以找到解释: <http://docs.scipy.org!doc/scipy/reference/integrate.html>"
   ]
  }
 ],
 "metadata": {
  "anaconda-cloud": {},
  "kernelspec": {
   "display_name": "Python [conda root]",
   "language": "python",
   "name": "conda-root-py"
  },
  "language_info": {
   "codemirror_mode": {
    "name": "ipython",
    "version": 3
   },
   "file_extension": ".py",
   "mimetype": "text/x-python",
   "name": "python",
   "nbconvert_exporter": "python",
   "pygments_lexer": "ipython3",
   "version": "3.6.1"
  },
  "widgets": {
   "application/vnd.jupyter.widget-state+json": {
    "state": {},
    "version_major": 1,
    "version_minor": 0
   }
  }
 },
 "nbformat": 4,
 "nbformat_minor": 1
}
