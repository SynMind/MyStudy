{
 "cells": [
  {
   "cell_type": "markdown",
   "metadata": {},
   "source": [
    "<img style=\"border:0px solid grey;\" src=\"http://hilpisch.com/python_for_finance.png\" alt=\"Python for Finance\" width=\"10%\" align=\"left\" border=\"0\">"
   ]
  },
  {
   "cell_type": "markdown",
   "metadata": {},
   "source": [
    "# Financial Time Series(金融时间序列)\n",
    "关于matplotlib可参考<https://github.com/SynMind/MyStudy/blob/master/matplotlib/matplotlib.md>"
   ]
  },
  {
   "cell_type": "code",
   "execution_count": 1,
   "metadata": {
    "collapsed": true
   },
   "outputs": [],
   "source": [
    "from pylab import plt\n",
    "plt.style.use('ggplot')\n",
    "import matplotlib as mpl\n",
    "mpl.rcParams['font.family'] = 'serif'"
   ]
  },
  {
   "cell_type": "markdown",
   "metadata": {},
   "source": [
    "## pandas Basics"
   ]
  },
  {
   "cell_type": "code",
   "execution_count": 2,
   "metadata": {
    "collapsed": true
   },
   "outputs": [],
   "source": [
    "import numpy as np\n",
    "import pandas as pd"
   ]
  },
  {
   "cell_type": "markdown",
   "metadata": {},
   "source": [
    "### DataFrame Class\n",
    "\n",
    "```python\n",
    "Init signature: pd.DataFrame(data=None, index=None, columns=None, dtype=None, copy=False)\n",
    "Docstring:     \n",
    "Two-dimensional size-mutable, potentially heterogeneous(由很多种类组成的) tabular(表格式的) data\n",
    "structure with labeled axes (rows and columns). Arithmetic operations\n",
    "align on both row and column labels. Can be thought of as a dict-like\n",
    "container for Series objects. The primary pandas data structure\n",
    "\n",
    "Parameters\n",
    "----------\n",
    "data : numpy ndarray (structured or homogeneous), dict, or DataFrame\n",
    "\n",
    "    Dict can contain Series, arrays, constants, or list-like objects\n",
    "    \n",
    "    \n",
    "index(pandas Index类的实例) : Index or array-like(类似数组：和ndarray对象类似的数据结构，如列表对象)\n",
    "\n",
    "    Index to use for resulting frame. Will default to `np.arange(n)` if\n",
    "    no indexing information part of input data and no index provided\n",
    "    \n",
    "    \n",
    "columns : Index or array-like\n",
    "\n",
    "    Column labels to use for resulting frame. Will default to\n",
    "    np.arange(n) if no column labels are provided\n",
    "    \n",
    "    \n",
    "dtype : dtype, default None\n",
    "\n",
    "    Data type to force, otherwise infer(使用/强制的数据类型；否则通过推导得出)\n",
    "    \n",
    "    \n",
    "copy : boolean, default False\n",
    "\n",
    "    Copy data from inputs. Only affects DataFrame / 2d ndarray input\n",
    "\n",
    "Examples\n",
    "--------\n",
    ">>> d = {'col1': ts1, 'col2': ts2}\n",
    ">>> df = DataFrame(data=d, index=index)\n",
    ">>> df2 = DataFrame(np.random.randn(10, 5))\n",
    ">>> df3 = DataFrame(np.random.randn(10, 5),\n",
    "...                 columns=['a', 'b', 'c', 'd', 'e'])\n",
    "\n",
    "See also\n",
    "--------\n",
    "DataFrame.from_records : constructor from tuples, also record arrays\n",
    "DataFrame.from_dict : from dicts of Series, arrays, or dicts\n",
    "DataFrame.from_items : from sequence of (key, value) pairs\n",
    "pandas.read_csv, pandas.read_table, pandas.read_clipboard\n",
    "Type:           type\n",
    "```"
   ]
  },
  {
   "cell_type": "code",
   "execution_count": 3,
   "metadata": {},
   "outputs": [
    {
     "data": {
      "text/html": [
       "<div>\n",
       "<style>\n",
       "    .dataframe thead tr:only-child th {\n",
       "        text-align: right;\n",
       "    }\n",
       "\n",
       "    .dataframe thead th {\n",
       "        text-align: left;\n",
       "    }\n",
       "\n",
       "    .dataframe tbody tr th {\n",
       "        vertical-align: top;\n",
       "    }\n",
       "</style>\n",
       "<table border=\"1\" class=\"dataframe\">\n",
       "  <thead>\n",
       "    <tr style=\"text-align: right;\">\n",
       "      <th></th>\n",
       "      <th>numbers</th>\n",
       "    </tr>\n",
       "  </thead>\n",
       "  <tbody>\n",
       "    <tr>\n",
       "      <th>a</th>\n",
       "      <td>10</td>\n",
       "    </tr>\n",
       "    <tr>\n",
       "      <th>b</th>\n",
       "      <td>20</td>\n",
       "    </tr>\n",
       "    <tr>\n",
       "      <th>c</th>\n",
       "      <td>30</td>\n",
       "    </tr>\n",
       "    <tr>\n",
       "      <th>d</th>\n",
       "      <td>40</td>\n",
       "    </tr>\n",
       "  </tbody>\n",
       "</table>\n",
       "</div>"
      ],
      "text/plain": [
       "   numbers\n",
       "a       10\n",
       "b       20\n",
       "c       30\n",
       "d       40"
      ]
     },
     "execution_count": 3,
     "metadata": {},
     "output_type": "execute_result"
    }
   ],
   "source": [
    "df = pd.DataFrame([10, 20, 30, 40], columns=['numbers'],\n",
    "                  index=['a', 'b', 'c', 'd'])\n",
    "df"
   ]
  },
  {
   "cell_type": "code",
   "execution_count": 4,
   "metadata": {},
   "outputs": [
    {
     "data": {
      "text/plain": [
       "Index(['a', 'b', 'c', 'd'], dtype='object')"
      ]
     },
     "execution_count": 4,
     "metadata": {},
     "output_type": "execute_result"
    }
   ],
   "source": [
    "df.index  # the index(索引) values"
   ]
  },
  {
   "cell_type": "code",
   "execution_count": 5,
   "metadata": {},
   "outputs": [
    {
     "data": {
      "text/plain": [
       "Index(['numbers'], dtype='object')"
      ]
     },
     "execution_count": 5,
     "metadata": {},
     "output_type": "execute_result"
    }
   ],
   "source": [
    "df.columns  # the column names(标签)"
   ]
  },
  {
   "cell_type": "code",
   "execution_count": 6,
   "metadata": {},
   "outputs": [
    {
     "name": "stderr",
     "output_type": "stream",
     "text": [
      "C:\\ProgramData\\Anaconda3\\lib\\site-packages\\ipykernel\\__main__.py:1: DeprecationWarning: \n",
      ".ix is deprecated. Please use\n",
      ".loc for label based indexing or\n",
      ".iloc for positional indexing\n",
      "\n",
      "See the documentation here:\n",
      "http://pandas.pydata.org/pandas-docs/stable/indexing.html#ix-indexer-is-deprecated\n",
      "  if __name__ == '__main__':\n"
     ]
    },
    {
     "data": {
      "text/plain": [
       "numbers    30\n",
       "Name: c, dtype: int64"
      ]
     },
     "execution_count": 6,
     "metadata": {},
     "output_type": "execute_result"
    }
   ],
   "source": [
    "df.ix['c']  # selection via index"
   ]
  },
  {
   "cell_type": "code",
   "execution_count": 7,
   "metadata": {},
   "outputs": [
    {
     "data": {
      "text/plain": [
       "numbers    30\n",
       "Name: c, dtype: int64"
      ]
     },
     "execution_count": 7,
     "metadata": {},
     "output_type": "execute_result"
    }
   ],
   "source": [
    "df.loc['c']"
   ]
  },
  {
   "cell_type": "code",
   "execution_count": 8,
   "metadata": {},
   "outputs": [
    {
     "data": {
      "text/html": [
       "<div>\n",
       "<style>\n",
       "    .dataframe thead tr:only-child th {\n",
       "        text-align: right;\n",
       "    }\n",
       "\n",
       "    .dataframe thead th {\n",
       "        text-align: left;\n",
       "    }\n",
       "\n",
       "    .dataframe tbody tr th {\n",
       "        vertical-align: top;\n",
       "    }\n",
       "</style>\n",
       "<table border=\"1\" class=\"dataframe\">\n",
       "  <thead>\n",
       "    <tr style=\"text-align: right;\">\n",
       "      <th></th>\n",
       "      <th>numbers</th>\n",
       "    </tr>\n",
       "  </thead>\n",
       "  <tbody>\n",
       "    <tr>\n",
       "      <th>a</th>\n",
       "      <td>10</td>\n",
       "    </tr>\n",
       "    <tr>\n",
       "      <th>d</th>\n",
       "      <td>40</td>\n",
       "    </tr>\n",
       "  </tbody>\n",
       "</table>\n",
       "</div>"
      ],
      "text/plain": [
       "   numbers\n",
       "a       10\n",
       "d       40"
      ]
     },
     "execution_count": 8,
     "metadata": {},
     "output_type": "execute_result"
    }
   ],
   "source": [
    "df.loc[['a', 'd']]  # selection of multiple indices"
   ]
  },
  {
   "cell_type": "code",
   "execution_count": 9,
   "metadata": {},
   "outputs": [
    {
     "data": {
      "text/html": [
       "<div>\n",
       "<style>\n",
       "    .dataframe thead tr:only-child th {\n",
       "        text-align: right;\n",
       "    }\n",
       "\n",
       "    .dataframe thead th {\n",
       "        text-align: left;\n",
       "    }\n",
       "\n",
       "    .dataframe tbody tr th {\n",
       "        vertical-align: top;\n",
       "    }\n",
       "</style>\n",
       "<table border=\"1\" class=\"dataframe\">\n",
       "  <thead>\n",
       "    <tr style=\"text-align: right;\">\n",
       "      <th></th>\n",
       "      <th>numbers</th>\n",
       "    </tr>\n",
       "  </thead>\n",
       "  <tbody>\n",
       "    <tr>\n",
       "      <th>b</th>\n",
       "      <td>20</td>\n",
       "    </tr>\n",
       "    <tr>\n",
       "      <th>c</th>\n",
       "      <td>30</td>\n",
       "    </tr>\n",
       "  </tbody>\n",
       "</table>\n",
       "</div>"
      ],
      "text/plain": [
       "   numbers\n",
       "b       20\n",
       "c       30"
      ]
     },
     "execution_count": 9,
     "metadata": {},
     "output_type": "execute_result"
    }
   ],
   "source": [
    "df.loc[df.index[1:3]]  # selection via Index object"
   ]
  },
  {
   "cell_type": "code",
   "execution_count": 10,
   "metadata": {},
   "outputs": [
    {
     "data": {
      "text/plain": [
       "numbers    100\n",
       "dtype: int64"
      ]
     },
     "execution_count": 10,
     "metadata": {},
     "output_type": "execute_result"
    }
   ],
   "source": [
    "df.sum()  # sum per column"
   ]
  },
  {
   "cell_type": "code",
   "execution_count": 11,
   "metadata": {},
   "outputs": [
    {
     "data": {
      "text/html": [
       "<div>\n",
       "<style>\n",
       "    .dataframe thead tr:only-child th {\n",
       "        text-align: right;\n",
       "    }\n",
       "\n",
       "    .dataframe thead th {\n",
       "        text-align: left;\n",
       "    }\n",
       "\n",
       "    .dataframe tbody tr th {\n",
       "        vertical-align: top;\n",
       "    }\n",
       "</style>\n",
       "<table border=\"1\" class=\"dataframe\">\n",
       "  <thead>\n",
       "    <tr style=\"text-align: right;\">\n",
       "      <th></th>\n",
       "      <th>numbers</th>\n",
       "    </tr>\n",
       "  </thead>\n",
       "  <tbody>\n",
       "    <tr>\n",
       "      <th>a</th>\n",
       "      <td>100</td>\n",
       "    </tr>\n",
       "    <tr>\n",
       "      <th>b</th>\n",
       "      <td>400</td>\n",
       "    </tr>\n",
       "    <tr>\n",
       "      <th>c</th>\n",
       "      <td>900</td>\n",
       "    </tr>\n",
       "    <tr>\n",
       "      <th>d</th>\n",
       "      <td>1600</td>\n",
       "    </tr>\n",
       "  </tbody>\n",
       "</table>\n",
       "</div>"
      ],
      "text/plain": [
       "   numbers\n",
       "a      100\n",
       "b      400\n",
       "c      900\n",
       "d     1600"
      ]
     },
     "execution_count": 11,
     "metadata": {},
     "output_type": "execute_result"
    }
   ],
   "source": [
    "df.apply(lambda x: x ** 2)  # square of every element"
   ]
  },
  {
   "cell_type": "markdown",
   "metadata": {},
   "source": [
    "一般地，可在DataFrame对象上进行和NumPy ndarray对象相同的向量化操作："
   ]
  },
  {
   "cell_type": "code",
   "execution_count": 12,
   "metadata": {},
   "outputs": [
    {
     "data": {
      "text/html": [
       "<div>\n",
       "<style>\n",
       "    .dataframe thead tr:only-child th {\n",
       "        text-align: right;\n",
       "    }\n",
       "\n",
       "    .dataframe thead th {\n",
       "        text-align: left;\n",
       "    }\n",
       "\n",
       "    .dataframe tbody tr th {\n",
       "        vertical-align: top;\n",
       "    }\n",
       "</style>\n",
       "<table border=\"1\" class=\"dataframe\">\n",
       "  <thead>\n",
       "    <tr style=\"text-align: right;\">\n",
       "      <th></th>\n",
       "      <th>numbers</th>\n",
       "    </tr>\n",
       "  </thead>\n",
       "  <tbody>\n",
       "    <tr>\n",
       "      <th>a</th>\n",
       "      <td>100</td>\n",
       "    </tr>\n",
       "    <tr>\n",
       "      <th>b</th>\n",
       "      <td>400</td>\n",
       "    </tr>\n",
       "    <tr>\n",
       "      <th>c</th>\n",
       "      <td>900</td>\n",
       "    </tr>\n",
       "    <tr>\n",
       "      <th>d</th>\n",
       "      <td>1600</td>\n",
       "    </tr>\n",
       "  </tbody>\n",
       "</table>\n",
       "</div>"
      ],
      "text/plain": [
       "   numbers\n",
       "a      100\n",
       "b      400\n",
       "c      900\n",
       "d     1600"
      ]
     },
     "execution_count": 12,
     "metadata": {},
     "output_type": "execute_result"
    }
   ],
   "source": [
    "df ** 2  # again square, this time NumPy-like"
   ]
  },
  {
   "cell_type": "markdown",
   "metadata": {},
   "source": [
    "在两个维度上同时扩增DataFrame对象："
   ]
  },
  {
   "cell_type": "code",
   "execution_count": 13,
   "metadata": {},
   "outputs": [
    {
     "data": {
      "text/html": [
       "<div>\n",
       "<style>\n",
       "    .dataframe thead tr:only-child th {\n",
       "        text-align: right;\n",
       "    }\n",
       "\n",
       "    .dataframe thead th {\n",
       "        text-align: left;\n",
       "    }\n",
       "\n",
       "    .dataframe tbody tr th {\n",
       "        vertical-align: top;\n",
       "    }\n",
       "</style>\n",
       "<table border=\"1\" class=\"dataframe\">\n",
       "  <thead>\n",
       "    <tr style=\"text-align: right;\">\n",
       "      <th></th>\n",
       "      <th>numbers</th>\n",
       "      <th>floats</th>\n",
       "    </tr>\n",
       "  </thead>\n",
       "  <tbody>\n",
       "    <tr>\n",
       "      <th>a</th>\n",
       "      <td>10</td>\n",
       "      <td>1.5</td>\n",
       "    </tr>\n",
       "    <tr>\n",
       "      <th>b</th>\n",
       "      <td>20</td>\n",
       "      <td>2.5</td>\n",
       "    </tr>\n",
       "    <tr>\n",
       "      <th>c</th>\n",
       "      <td>30</td>\n",
       "      <td>3.5</td>\n",
       "    </tr>\n",
       "    <tr>\n",
       "      <th>d</th>\n",
       "      <td>40</td>\n",
       "      <td>4.5</td>\n",
       "    </tr>\n",
       "  </tbody>\n",
       "</table>\n",
       "</div>"
      ],
      "text/plain": [
       "   numbers  floats\n",
       "a       10     1.5\n",
       "b       20     2.5\n",
       "c       30     3.5\n",
       "d       40     4.5"
      ]
     },
     "execution_count": 13,
     "metadata": {},
     "output_type": "execute_result"
    }
   ],
   "source": [
    "df['floats'] = (1.5, 2.5, 3.5, 4.5)\n",
    "  # new column is generated\n",
    "df"
   ]
  },
  {
   "cell_type": "code",
   "execution_count": 14,
   "metadata": {},
   "outputs": [
    {
     "data": {
      "text/plain": [
       "a    1.5\n",
       "b    2.5\n",
       "c    3.5\n",
       "d    4.5\n",
       "Name: floats, dtype: float64"
      ]
     },
     "execution_count": 14,
     "metadata": {},
     "output_type": "execute_result"
    }
   ],
   "source": [
    "df['floats']  # selection of column"
   ]
  },
  {
   "cell_type": "markdown",
   "metadata": {},
   "source": [
    "取整个DataFrame对象来定义新列(此时，索引自动分配)"
   ]
  },
  {
   "cell_type": "code",
   "execution_count": 15,
   "metadata": {},
   "outputs": [
    {
     "data": {
      "text/html": [
       "<div>\n",
       "<style>\n",
       "    .dataframe thead tr:only-child th {\n",
       "        text-align: right;\n",
       "    }\n",
       "\n",
       "    .dataframe thead th {\n",
       "        text-align: left;\n",
       "    }\n",
       "\n",
       "    .dataframe tbody tr th {\n",
       "        vertical-align: top;\n",
       "    }\n",
       "</style>\n",
       "<table border=\"1\" class=\"dataframe\">\n",
       "  <thead>\n",
       "    <tr style=\"text-align: right;\">\n",
       "      <th></th>\n",
       "      <th>numbers</th>\n",
       "      <th>floats</th>\n",
       "      <th>names</th>\n",
       "    </tr>\n",
       "  </thead>\n",
       "  <tbody>\n",
       "    <tr>\n",
       "      <th>a</th>\n",
       "      <td>10</td>\n",
       "      <td>1.5</td>\n",
       "      <td>Guido</td>\n",
       "    </tr>\n",
       "    <tr>\n",
       "      <th>b</th>\n",
       "      <td>20</td>\n",
       "      <td>2.5</td>\n",
       "      <td>Felix</td>\n",
       "    </tr>\n",
       "    <tr>\n",
       "      <th>c</th>\n",
       "      <td>30</td>\n",
       "      <td>3.5</td>\n",
       "      <td>Francesc</td>\n",
       "    </tr>\n",
       "    <tr>\n",
       "      <th>d</th>\n",
       "      <td>40</td>\n",
       "      <td>4.5</td>\n",
       "      <td>Yves</td>\n",
       "    </tr>\n",
       "  </tbody>\n",
       "</table>\n",
       "</div>"
      ],
      "text/plain": [
       "   numbers  floats     names\n",
       "a       10     1.5     Guido\n",
       "b       20     2.5     Felix\n",
       "c       30     3.5  Francesc\n",
       "d       40     4.5      Yves"
      ]
     },
     "execution_count": 15,
     "metadata": {},
     "output_type": "execute_result"
    }
   ],
   "source": [
    "df['names'] = pd.DataFrame(['Yves', 'Guido', 'Felix', 'Francesc'],\n",
    "                           index=['d', 'a', 'b', 'c'])\n",
    "df"
   ]
  },
  {
   "cell_type": "code",
   "execution_count": 16,
   "metadata": {},
   "outputs": [
    {
     "data": {
      "text/html": [
       "<div>\n",
       "<style>\n",
       "    .dataframe thead tr:only-child th {\n",
       "        text-align: right;\n",
       "    }\n",
       "\n",
       "    .dataframe thead th {\n",
       "        text-align: left;\n",
       "    }\n",
       "\n",
       "    .dataframe tbody tr th {\n",
       "        vertical-align: top;\n",
       "    }\n",
       "</style>\n",
       "<table border=\"1\" class=\"dataframe\">\n",
       "  <thead>\n",
       "    <tr style=\"text-align: right;\">\n",
       "      <th></th>\n",
       "      <th>numbers</th>\n",
       "      <th>floats</th>\n",
       "      <th>names</th>\n",
       "    </tr>\n",
       "  </thead>\n",
       "  <tbody>\n",
       "    <tr>\n",
       "      <th>0</th>\n",
       "      <td>10</td>\n",
       "      <td>1.50</td>\n",
       "      <td>Guido</td>\n",
       "    </tr>\n",
       "    <tr>\n",
       "      <th>1</th>\n",
       "      <td>20</td>\n",
       "      <td>2.50</td>\n",
       "      <td>Felix</td>\n",
       "    </tr>\n",
       "    <tr>\n",
       "      <th>2</th>\n",
       "      <td>30</td>\n",
       "      <td>3.50</td>\n",
       "      <td>Francesc</td>\n",
       "    </tr>\n",
       "    <tr>\n",
       "      <th>3</th>\n",
       "      <td>40</td>\n",
       "      <td>4.50</td>\n",
       "      <td>Yves</td>\n",
       "    </tr>\n",
       "    <tr>\n",
       "      <th>4</th>\n",
       "      <td>100</td>\n",
       "      <td>5.75</td>\n",
       "      <td>Henry</td>\n",
       "    </tr>\n",
       "  </tbody>\n",
       "</table>\n",
       "</div>"
      ],
      "text/plain": [
       "   numbers  floats     names\n",
       "0       10    1.50     Guido\n",
       "1       20    2.50     Felix\n",
       "2       30    3.50  Francesc\n",
       "3       40    4.50      Yves\n",
       "4      100    5.75     Henry"
      ]
     },
     "execution_count": 16,
     "metadata": {},
     "output_type": "execute_result"
    }
   ],
   "source": [
    "df.append({'numbers': 100, 'floats': 5.75, 'names': 'Henry'},\n",
    "               ignore_index=True)\n",
    "  # temporary object; df not changed"
   ]
  },
  {
   "cell_type": "code",
   "execution_count": 17,
   "metadata": {},
   "outputs": [
    {
     "data": {
      "text/html": [
       "<div>\n",
       "<style>\n",
       "    .dataframe thead tr:only-child th {\n",
       "        text-align: right;\n",
       "    }\n",
       "\n",
       "    .dataframe thead th {\n",
       "        text-align: left;\n",
       "    }\n",
       "\n",
       "    .dataframe tbody tr th {\n",
       "        vertical-align: top;\n",
       "    }\n",
       "</style>\n",
       "<table border=\"1\" class=\"dataframe\">\n",
       "  <thead>\n",
       "    <tr style=\"text-align: right;\">\n",
       "      <th></th>\n",
       "      <th>floats</th>\n",
       "      <th>names</th>\n",
       "      <th>numbers</th>\n",
       "    </tr>\n",
       "  </thead>\n",
       "  <tbody>\n",
       "    <tr>\n",
       "      <th>a</th>\n",
       "      <td>1.50</td>\n",
       "      <td>Guido</td>\n",
       "      <td>10</td>\n",
       "    </tr>\n",
       "    <tr>\n",
       "      <th>b</th>\n",
       "      <td>2.50</td>\n",
       "      <td>Felix</td>\n",
       "      <td>20</td>\n",
       "    </tr>\n",
       "    <tr>\n",
       "      <th>c</th>\n",
       "      <td>3.50</td>\n",
       "      <td>Francesc</td>\n",
       "      <td>30</td>\n",
       "    </tr>\n",
       "    <tr>\n",
       "      <th>d</th>\n",
       "      <td>4.50</td>\n",
       "      <td>Yves</td>\n",
       "      <td>40</td>\n",
       "    </tr>\n",
       "    <tr>\n",
       "      <th>z</th>\n",
       "      <td>5.75</td>\n",
       "      <td>Henry</td>\n",
       "      <td>100</td>\n",
       "    </tr>\n",
       "  </tbody>\n",
       "</table>\n",
       "</div>"
      ],
      "text/plain": [
       "   floats     names  numbers\n",
       "a    1.50     Guido       10\n",
       "b    2.50     Felix       20\n",
       "c    3.50  Francesc       30\n",
       "d    4.50      Yves       40\n",
       "z    5.75     Henry      100"
      ]
     },
     "execution_count": 17,
     "metadata": {},
     "output_type": "execute_result"
    }
   ],
   "source": [
    "df = df.append(pd.DataFrame({'numbers': 100, 'floats': 5.75,\n",
    "                             'names': 'Henry'}, index=['z',]))\n",
    "df"
   ]
  },
  {
   "cell_type": "markdown",
   "metadata": {},
   "source": [
    "### 处理缺漏信息"
   ]
  },
  {
   "cell_type": "code",
   "execution_count": 18,
   "metadata": {},
   "outputs": [
    {
     "data": {
      "text/html": [
       "<div>\n",
       "<style>\n",
       "    .dataframe thead tr:only-child th {\n",
       "        text-align: right;\n",
       "    }\n",
       "\n",
       "    .dataframe thead th {\n",
       "        text-align: left;\n",
       "    }\n",
       "\n",
       "    .dataframe tbody tr th {\n",
       "        vertical-align: top;\n",
       "    }\n",
       "</style>\n",
       "<table border=\"1\" class=\"dataframe\">\n",
       "  <thead>\n",
       "    <tr style=\"text-align: right;\">\n",
       "      <th></th>\n",
       "      <th>floats</th>\n",
       "      <th>names</th>\n",
       "      <th>numbers</th>\n",
       "      <th>squares</th>\n",
       "    </tr>\n",
       "  </thead>\n",
       "  <tbody>\n",
       "    <tr>\n",
       "      <th>a</th>\n",
       "      <td>1.50</td>\n",
       "      <td>Guido</td>\n",
       "      <td>10</td>\n",
       "      <td>1.0</td>\n",
       "    </tr>\n",
       "    <tr>\n",
       "      <th>b</th>\n",
       "      <td>2.50</td>\n",
       "      <td>Felix</td>\n",
       "      <td>20</td>\n",
       "      <td>4.0</td>\n",
       "    </tr>\n",
       "    <tr>\n",
       "      <th>c</th>\n",
       "      <td>3.50</td>\n",
       "      <td>Francesc</td>\n",
       "      <td>30</td>\n",
       "      <td>9.0</td>\n",
       "    </tr>\n",
       "    <tr>\n",
       "      <th>d</th>\n",
       "      <td>4.50</td>\n",
       "      <td>Yves</td>\n",
       "      <td>40</td>\n",
       "      <td>16.0</td>\n",
       "    </tr>\n",
       "    <tr>\n",
       "      <th>z</th>\n",
       "      <td>5.75</td>\n",
       "      <td>Henry</td>\n",
       "      <td>100</td>\n",
       "      <td>NaN</td>\n",
       "    </tr>\n",
       "  </tbody>\n",
       "</table>\n",
       "</div>"
      ],
      "text/plain": [
       "   floats     names  numbers  squares\n",
       "a    1.50     Guido       10      1.0\n",
       "b    2.50     Felix       20      4.0\n",
       "c    3.50  Francesc       30      9.0\n",
       "d    4.50      Yves       40     16.0\n",
       "z    5.75     Henry      100      NaN"
      ]
     },
     "execution_count": 18,
     "metadata": {},
     "output_type": "execute_result"
    }
   ],
   "source": [
    "df.join(pd.DataFrame([1, 4, 9, 16, 25],\n",
    "            index=['a', 'b', 'c', 'd', 'y'],\n",
    "            columns=['squares',]))\n",
    "  # temporary object"
   ]
  },
  {
   "cell_type": "markdown",
   "metadata": {},
   "source": [
    "pandas默认只接受索引已经存在的值，我们丢失了索引为y的值，而在z处看到的是`NaN`值。为了保留这两个索引，我们可以提供一个附加参数，告诉pandas如何连接。      \n",
    "`how='outer'`表示使用两个索引中所有值的并集："
   ]
  },
  {
   "cell_type": "code",
   "execution_count": 19,
   "metadata": {},
   "outputs": [
    {
     "data": {
      "text/html": [
       "<div>\n",
       "<style>\n",
       "    .dataframe thead tr:only-child th {\n",
       "        text-align: right;\n",
       "    }\n",
       "\n",
       "    .dataframe thead th {\n",
       "        text-align: left;\n",
       "    }\n",
       "\n",
       "    .dataframe tbody tr th {\n",
       "        vertical-align: top;\n",
       "    }\n",
       "</style>\n",
       "<table border=\"1\" class=\"dataframe\">\n",
       "  <thead>\n",
       "    <tr style=\"text-align: right;\">\n",
       "      <th></th>\n",
       "      <th>floats</th>\n",
       "      <th>names</th>\n",
       "      <th>numbers</th>\n",
       "      <th>squares</th>\n",
       "    </tr>\n",
       "  </thead>\n",
       "  <tbody>\n",
       "    <tr>\n",
       "      <th>a</th>\n",
       "      <td>1.50</td>\n",
       "      <td>Guido</td>\n",
       "      <td>10.0</td>\n",
       "      <td>1.0</td>\n",
       "    </tr>\n",
       "    <tr>\n",
       "      <th>b</th>\n",
       "      <td>2.50</td>\n",
       "      <td>Felix</td>\n",
       "      <td>20.0</td>\n",
       "      <td>4.0</td>\n",
       "    </tr>\n",
       "    <tr>\n",
       "      <th>c</th>\n",
       "      <td>3.50</td>\n",
       "      <td>Francesc</td>\n",
       "      <td>30.0</td>\n",
       "      <td>9.0</td>\n",
       "    </tr>\n",
       "    <tr>\n",
       "      <th>d</th>\n",
       "      <td>4.50</td>\n",
       "      <td>Yves</td>\n",
       "      <td>40.0</td>\n",
       "      <td>16.0</td>\n",
       "    </tr>\n",
       "    <tr>\n",
       "      <th>y</th>\n",
       "      <td>NaN</td>\n",
       "      <td>NaN</td>\n",
       "      <td>NaN</td>\n",
       "      <td>25.0</td>\n",
       "    </tr>\n",
       "    <tr>\n",
       "      <th>z</th>\n",
       "      <td>5.75</td>\n",
       "      <td>Henry</td>\n",
       "      <td>100.0</td>\n",
       "      <td>NaN</td>\n",
       "    </tr>\n",
       "  </tbody>\n",
       "</table>\n",
       "</div>"
      ],
      "text/plain": [
       "   floats     names  numbers  squares\n",
       "a    1.50     Guido     10.0      1.0\n",
       "b    2.50     Felix     20.0      4.0\n",
       "c    3.50  Francesc     30.0      9.0\n",
       "d    4.50      Yves     40.0     16.0\n",
       "y     NaN       NaN      NaN     25.0\n",
       "z    5.75     Henry    100.0      NaN"
      ]
     },
     "execution_count": 19,
     "metadata": {},
     "output_type": "execute_result"
    }
   ],
   "source": [
    "df = df.join(pd.DataFrame([1, 4, 9, 16, 25],\n",
    "                    index=['a', 'b', 'c', 'd', 'y'],\n",
    "                    columns=['squares',]),\n",
    "                    how='outer')\n",
    "df"
   ]
  },
  {
   "cell_type": "markdown",
   "metadata": {},
   "source": [
    "连接操作还有其他选项：      \n",
    "1. `inner`: 索引的交集\n",
    "2. `left`: 默认值，使用调用方法的对象中的索引值\n",
    "3. `right`: 使用被连接对象的索引值"
   ]
  },
  {
   "cell_type": "markdown",
   "metadata": {},
   "source": [
    "尽管有缺失值，但是大部分方法调用仍然有效："
   ]
  },
  {
   "cell_type": "code",
   "execution_count": 20,
   "metadata": {},
   "outputs": [
    {
     "data": {
      "text/plain": [
       "numbers    40.0\n",
       "squares    11.0\n",
       "dtype: float64"
      ]
     },
     "execution_count": 20,
     "metadata": {},
     "output_type": "execute_result"
    }
   ],
   "source": [
    "df[['numbers', 'squares']].mean()\n",
    "  # column-wise mean"
   ]
  },
  {
   "cell_type": "code",
   "execution_count": 21,
   "metadata": {},
   "outputs": [
    {
     "data": {
      "text/plain": [
       "numbers    35.355339\n",
       "squares     9.669540\n",
       "dtype: float64"
      ]
     },
     "execution_count": 21,
     "metadata": {},
     "output_type": "execute_result"
    }
   ],
   "source": [
    "df[['numbers', 'squares']].std()\n",
    "  # column-wise standard deviation"
   ]
  },
  {
   "cell_type": "markdown",
   "metadata": {},
   "source": [
    "### 处理数值数据"
   ]
  },
  {
   "cell_type": "code",
   "execution_count": 22,
   "metadata": {},
   "outputs": [
    {
     "data": {
      "text/plain": [
       "array([[ 0.883851, -0.961183,  0.383887, -1.802687],\n",
       "       [ 1.267195, -0.251781,  0.400204, -0.117185],\n",
       "       [-0.596024, -1.095059,  1.429807,  0.807176],\n",
       "       [ 0.616109, -0.402194,  1.616859,  1.707242],\n",
       "       [ 0.42436 , -0.292295,  2.316483, -0.469215],\n",
       "       [ 0.523468, -0.514087, -1.732358, -0.736181],\n",
       "       [ 0.933527, -1.399667,  1.904331, -1.820248],\n",
       "       [ 0.85628 ,  0.286347, -0.397159,  0.564787],\n",
       "       [-0.858753,  0.135108, -0.789764,  0.335903]])"
      ]
     },
     "execution_count": 22,
     "metadata": {},
     "output_type": "execute_result"
    }
   ],
   "source": [
    "a = np.random.standard_normal((9, 4))\n",
    "a.round(6)"
   ]
  },
  {
   "cell_type": "code",
   "execution_count": 23,
   "metadata": {},
   "outputs": [
    {
     "data": {
      "text/html": [
       "<div>\n",
       "<style>\n",
       "    .dataframe thead tr:only-child th {\n",
       "        text-align: right;\n",
       "    }\n",
       "\n",
       "    .dataframe thead th {\n",
       "        text-align: left;\n",
       "    }\n",
       "\n",
       "    .dataframe tbody tr th {\n",
       "        vertical-align: top;\n",
       "    }\n",
       "</style>\n",
       "<table border=\"1\" class=\"dataframe\">\n",
       "  <thead>\n",
       "    <tr style=\"text-align: right;\">\n",
       "      <th></th>\n",
       "      <th>0</th>\n",
       "      <th>1</th>\n",
       "      <th>2</th>\n",
       "      <th>3</th>\n",
       "    </tr>\n",
       "  </thead>\n",
       "  <tbody>\n",
       "    <tr>\n",
       "      <th>0</th>\n",
       "      <td>0.883851</td>\n",
       "      <td>-0.961183</td>\n",
       "      <td>0.383887</td>\n",
       "      <td>-1.802687</td>\n",
       "    </tr>\n",
       "    <tr>\n",
       "      <th>1</th>\n",
       "      <td>1.267195</td>\n",
       "      <td>-0.251781</td>\n",
       "      <td>0.400204</td>\n",
       "      <td>-0.117185</td>\n",
       "    </tr>\n",
       "    <tr>\n",
       "      <th>2</th>\n",
       "      <td>-0.596024</td>\n",
       "      <td>-1.095059</td>\n",
       "      <td>1.429807</td>\n",
       "      <td>0.807176</td>\n",
       "    </tr>\n",
       "    <tr>\n",
       "      <th>3</th>\n",
       "      <td>0.616109</td>\n",
       "      <td>-0.402194</td>\n",
       "      <td>1.616859</td>\n",
       "      <td>1.707242</td>\n",
       "    </tr>\n",
       "    <tr>\n",
       "      <th>4</th>\n",
       "      <td>0.424360</td>\n",
       "      <td>-0.292295</td>\n",
       "      <td>2.316483</td>\n",
       "      <td>-0.469215</td>\n",
       "    </tr>\n",
       "    <tr>\n",
       "      <th>5</th>\n",
       "      <td>0.523468</td>\n",
       "      <td>-0.514087</td>\n",
       "      <td>-1.732358</td>\n",
       "      <td>-0.736181</td>\n",
       "    </tr>\n",
       "    <tr>\n",
       "      <th>6</th>\n",
       "      <td>0.933527</td>\n",
       "      <td>-1.399667</td>\n",
       "      <td>1.904331</td>\n",
       "      <td>-1.820248</td>\n",
       "    </tr>\n",
       "    <tr>\n",
       "      <th>7</th>\n",
       "      <td>0.856280</td>\n",
       "      <td>0.286347</td>\n",
       "      <td>-0.397159</td>\n",
       "      <td>0.564787</td>\n",
       "    </tr>\n",
       "    <tr>\n",
       "      <th>8</th>\n",
       "      <td>-0.858753</td>\n",
       "      <td>0.135108</td>\n",
       "      <td>-0.789764</td>\n",
       "      <td>0.335903</td>\n",
       "    </tr>\n",
       "  </tbody>\n",
       "</table>\n",
       "</div>"
      ],
      "text/plain": [
       "          0         1         2         3\n",
       "0  0.883851 -0.961183  0.383887 -1.802687\n",
       "1  1.267195 -0.251781  0.400204 -0.117185\n",
       "2 -0.596024 -1.095059  1.429807  0.807176\n",
       "3  0.616109 -0.402194  1.616859  1.707242\n",
       "4  0.424360 -0.292295  2.316483 -0.469215\n",
       "5  0.523468 -0.514087 -1.732358 -0.736181\n",
       "6  0.933527 -1.399667  1.904331 -1.820248\n",
       "7  0.856280  0.286347 -0.397159  0.564787\n",
       "8 -0.858753  0.135108 -0.789764  0.335903"
      ]
     },
     "execution_count": 23,
     "metadata": {},
     "output_type": "execute_result"
    }
   ],
   "source": [
    "df = pd.DataFrame(a)\n",
    "df"
   ]
  },
  {
   "cell_type": "markdown",
   "metadata": {},
   "source": [
    "和结构数组一样，DataFrame对象可通过一个具有合适数量元素的列表，直接定义列名；      \n",
    "可以随时定义/更改DataFrame对象的属性："
   ]
  },
  {
   "cell_type": "code",
   "execution_count": 24,
   "metadata": {},
   "outputs": [
    {
     "data": {
      "text/html": [
       "<div>\n",
       "<style>\n",
       "    .dataframe thead tr:only-child th {\n",
       "        text-align: right;\n",
       "    }\n",
       "\n",
       "    .dataframe thead th {\n",
       "        text-align: left;\n",
       "    }\n",
       "\n",
       "    .dataframe tbody tr th {\n",
       "        vertical-align: top;\n",
       "    }\n",
       "</style>\n",
       "<table border=\"1\" class=\"dataframe\">\n",
       "  <thead>\n",
       "    <tr style=\"text-align: right;\">\n",
       "      <th></th>\n",
       "      <th>No1</th>\n",
       "      <th>No2</th>\n",
       "      <th>No3</th>\n",
       "      <th>No4</th>\n",
       "    </tr>\n",
       "  </thead>\n",
       "  <tbody>\n",
       "    <tr>\n",
       "      <th>0</th>\n",
       "      <td>0.883851</td>\n",
       "      <td>-0.961183</td>\n",
       "      <td>0.383887</td>\n",
       "      <td>-1.802687</td>\n",
       "    </tr>\n",
       "    <tr>\n",
       "      <th>1</th>\n",
       "      <td>1.267195</td>\n",
       "      <td>-0.251781</td>\n",
       "      <td>0.400204</td>\n",
       "      <td>-0.117185</td>\n",
       "    </tr>\n",
       "    <tr>\n",
       "      <th>2</th>\n",
       "      <td>-0.596024</td>\n",
       "      <td>-1.095059</td>\n",
       "      <td>1.429807</td>\n",
       "      <td>0.807176</td>\n",
       "    </tr>\n",
       "    <tr>\n",
       "      <th>3</th>\n",
       "      <td>0.616109</td>\n",
       "      <td>-0.402194</td>\n",
       "      <td>1.616859</td>\n",
       "      <td>1.707242</td>\n",
       "    </tr>\n",
       "    <tr>\n",
       "      <th>4</th>\n",
       "      <td>0.424360</td>\n",
       "      <td>-0.292295</td>\n",
       "      <td>2.316483</td>\n",
       "      <td>-0.469215</td>\n",
       "    </tr>\n",
       "    <tr>\n",
       "      <th>5</th>\n",
       "      <td>0.523468</td>\n",
       "      <td>-0.514087</td>\n",
       "      <td>-1.732358</td>\n",
       "      <td>-0.736181</td>\n",
       "    </tr>\n",
       "    <tr>\n",
       "      <th>6</th>\n",
       "      <td>0.933527</td>\n",
       "      <td>-1.399667</td>\n",
       "      <td>1.904331</td>\n",
       "      <td>-1.820248</td>\n",
       "    </tr>\n",
       "    <tr>\n",
       "      <th>7</th>\n",
       "      <td>0.856280</td>\n",
       "      <td>0.286347</td>\n",
       "      <td>-0.397159</td>\n",
       "      <td>0.564787</td>\n",
       "    </tr>\n",
       "    <tr>\n",
       "      <th>8</th>\n",
       "      <td>-0.858753</td>\n",
       "      <td>0.135108</td>\n",
       "      <td>-0.789764</td>\n",
       "      <td>0.335903</td>\n",
       "    </tr>\n",
       "  </tbody>\n",
       "</table>\n",
       "</div>"
      ],
      "text/plain": [
       "        No1       No2       No3       No4\n",
       "0  0.883851 -0.961183  0.383887 -1.802687\n",
       "1  1.267195 -0.251781  0.400204 -0.117185\n",
       "2 -0.596024 -1.095059  1.429807  0.807176\n",
       "3  0.616109 -0.402194  1.616859  1.707242\n",
       "4  0.424360 -0.292295  2.316483 -0.469215\n",
       "5  0.523468 -0.514087 -1.732358 -0.736181\n",
       "6  0.933527 -1.399667  1.904331 -1.820248\n",
       "7  0.856280  0.286347 -0.397159  0.564787\n",
       "8 -0.858753  0.135108 -0.789764  0.335903"
      ]
     },
     "execution_count": 24,
     "metadata": {},
     "output_type": "execute_result"
    }
   ],
   "source": [
    "df.columns = [['No1', 'No2', 'No3', 'No4']]\n",
    "df"
   ]
  },
  {
   "cell_type": "markdown",
   "metadata": {},
   "source": [
    "列名提供访问DataFrame对象中数据的高效机制，同样和结构数组类似："
   ]
  },
  {
   "cell_type": "code",
   "execution_count": 25,
   "metadata": {},
   "outputs": [
    {
     "data": {
      "text/plain": [
       "-0.40219373880241727"
      ]
     },
     "execution_count": 25,
     "metadata": {},
     "output_type": "execute_result"
    }
   ],
   "source": [
    "df['No2'][3]  # value in column No2 at index position 3"
   ]
  },
  {
   "cell_type": "markdown",
   "metadata": {},
   "source": [
    "使用`date_range`生成一个DatetimeIndex对象："
   ]
  },
  {
   "cell_type": "code",
   "execution_count": 26,
   "metadata": {},
   "outputs": [
    {
     "data": {
      "text/plain": [
       "DatetimeIndex(['2015-01-31', '2015-02-28', '2015-03-31', '2015-04-30',\n",
       "               '2015-05-31', '2015-06-30', '2015-07-31', '2015-08-31',\n",
       "               '2015-09-30'],\n",
       "              dtype='datetime64[ns]', freq='M')"
      ]
     },
     "execution_count": 26,
     "metadata": {},
     "output_type": "execute_result"
    }
   ],
   "source": [
    "dates = pd.date_range('2015-1-1', periods=9, freq='M')\n",
    "dates"
   ]
  },
  {
   "cell_type": "markdown",
   "metadata": {},
   "source": [
    "```python\n",
    "Signature: pd.date_range(start=None, end=None, periods=None, freq='D', tz=None, normalize=False, name=None, closed=None, **kwargs)\n",
    "Docstring:\n",
    "Return a fixed frequency datetime index, with day (calendar) as the default\n",
    "frequency\n",
    "\n",
    "Parameters\n",
    "----------\n",
    "start : string or datetime-like, default None\n",
    "    Left bound for generating dates(生成日期的左界)\n",
    "end : string or datetime-like, default None\n",
    "    Right bound for generating dates(生成日期的右界)\n",
    "periods : integer or None, default None\n",
    "    If None, must specify start and end\n",
    "freq : string or DateOffset(日期偏移), default 'D' (calendar daily)\n",
    "    Frequency strings(频率字符串) can have multiples, e.g. '5H'\n",
    "tz : string or None\n",
    "    Time zone name for returning localized DatetimeIndex(本地化索引的时区名称), for example\n",
    "    Asia/Hong_Kong\n",
    "normalize : bool, default False\n",
    "    Normalize start/end dates to midnight before generating date range(将start和end规范化为午夜)\n",
    "name : str, default None\n",
    "    Name of the resulting index(结果索引的名称)\n",
    "closed : string or None, default None\n",
    "    Make the interval closed with respect to the given frequency to\n",
    "    the 'left', 'right', or both sides (None)\n",
    "\n",
    "Notes\n",
    "-----\n",
    "2 of start, end, or periods must be specified\n",
    "\n",
    "To learn more about the frequency strings, please see `this link\n",
    "<http://pandas.pydata.org/pandas-docs/stable/timeseries.html#offset-aliases>`__.\n",
    "\n",
    "Returns\n",
    "-------\n",
    "rng : DatetimeIndex\n",
    "Type:      function\n",
    "```"
   ]
  },
  {
   "cell_type": "markdown",
   "metadata": {},
   "source": [
    "和列一样，我们将新生成的DatetimeIndex作为新的Index对象，赋给DataFrame对象："
   ]
  },
  {
   "cell_type": "code",
   "execution_count": 27,
   "metadata": {},
   "outputs": [
    {
     "data": {
      "text/html": [
       "<div>\n",
       "<style>\n",
       "    .dataframe thead tr:only-child th {\n",
       "        text-align: right;\n",
       "    }\n",
       "\n",
       "    .dataframe thead th {\n",
       "        text-align: left;\n",
       "    }\n",
       "\n",
       "    .dataframe tbody tr th {\n",
       "        vertical-align: top;\n",
       "    }\n",
       "</style>\n",
       "<table border=\"1\" class=\"dataframe\">\n",
       "  <thead>\n",
       "    <tr style=\"text-align: right;\">\n",
       "      <th></th>\n",
       "      <th>No1</th>\n",
       "      <th>No2</th>\n",
       "      <th>No3</th>\n",
       "      <th>No4</th>\n",
       "    </tr>\n",
       "  </thead>\n",
       "  <tbody>\n",
       "    <tr>\n",
       "      <th>2015-01-31</th>\n",
       "      <td>0.883851</td>\n",
       "      <td>-0.961183</td>\n",
       "      <td>0.383887</td>\n",
       "      <td>-1.802687</td>\n",
       "    </tr>\n",
       "    <tr>\n",
       "      <th>2015-02-28</th>\n",
       "      <td>1.267195</td>\n",
       "      <td>-0.251781</td>\n",
       "      <td>0.400204</td>\n",
       "      <td>-0.117185</td>\n",
       "    </tr>\n",
       "    <tr>\n",
       "      <th>2015-03-31</th>\n",
       "      <td>-0.596024</td>\n",
       "      <td>-1.095059</td>\n",
       "      <td>1.429807</td>\n",
       "      <td>0.807176</td>\n",
       "    </tr>\n",
       "    <tr>\n",
       "      <th>2015-04-30</th>\n",
       "      <td>0.616109</td>\n",
       "      <td>-0.402194</td>\n",
       "      <td>1.616859</td>\n",
       "      <td>1.707242</td>\n",
       "    </tr>\n",
       "    <tr>\n",
       "      <th>2015-05-31</th>\n",
       "      <td>0.424360</td>\n",
       "      <td>-0.292295</td>\n",
       "      <td>2.316483</td>\n",
       "      <td>-0.469215</td>\n",
       "    </tr>\n",
       "    <tr>\n",
       "      <th>2015-06-30</th>\n",
       "      <td>0.523468</td>\n",
       "      <td>-0.514087</td>\n",
       "      <td>-1.732358</td>\n",
       "      <td>-0.736181</td>\n",
       "    </tr>\n",
       "    <tr>\n",
       "      <th>2015-07-31</th>\n",
       "      <td>0.933527</td>\n",
       "      <td>-1.399667</td>\n",
       "      <td>1.904331</td>\n",
       "      <td>-1.820248</td>\n",
       "    </tr>\n",
       "    <tr>\n",
       "      <th>2015-08-31</th>\n",
       "      <td>0.856280</td>\n",
       "      <td>0.286347</td>\n",
       "      <td>-0.397159</td>\n",
       "      <td>0.564787</td>\n",
       "    </tr>\n",
       "    <tr>\n",
       "      <th>2015-09-30</th>\n",
       "      <td>-0.858753</td>\n",
       "      <td>0.135108</td>\n",
       "      <td>-0.789764</td>\n",
       "      <td>0.335903</td>\n",
       "    </tr>\n",
       "  </tbody>\n",
       "</table>\n",
       "</div>"
      ],
      "text/plain": [
       "                 No1       No2       No3       No4\n",
       "2015-01-31  0.883851 -0.961183  0.383887 -1.802687\n",
       "2015-02-28  1.267195 -0.251781  0.400204 -0.117185\n",
       "2015-03-31 -0.596024 -1.095059  1.429807  0.807176\n",
       "2015-04-30  0.616109 -0.402194  1.616859  1.707242\n",
       "2015-05-31  0.424360 -0.292295  2.316483 -0.469215\n",
       "2015-06-30  0.523468 -0.514087 -1.732358 -0.736181\n",
       "2015-07-31  0.933527 -1.399667  1.904331 -1.820248\n",
       "2015-08-31  0.856280  0.286347 -0.397159  0.564787\n",
       "2015-09-30 -0.858753  0.135108 -0.789764  0.335903"
      ]
     },
     "execution_count": 27,
     "metadata": {},
     "output_type": "execute_result"
    }
   ],
   "source": [
    "df.index = dates\n",
    "df"
   ]
  },
  {
   "cell_type": "markdown",
   "metadata": {},
   "source": [
    "##### pd.date_range函数频率freq值\n",
    "\n",
    "|别名|描述|\n",
    "|:-|:-|\n",
    "|`B`|交易日|\n",
    "|`C`|自定义交易日(实验性)|\n",
    "|`D`|日历日|\n",
    "|`W`|每周|\n",
    "|`M`|每月底|\n",
    "|`BM`|每月最后一个交易日|\n",
    "|`MS`|月初|\n",
    "|`BMS`|每月第一个交易日|\n",
    "|`Q`|季度末|\n",
    "|`BQ`|每季度最后一个交易日|\n",
    "|`QS`|季度初|\n",
    "|`BQS`|每季度第一个交易日|\n",
    "|`A`|每年底|\n",
    "|`BA`|每月最后一个交易日|\n",
    "|`AS`|每年初|\n",
    "|`BAS`|每年第一个交易日|\n",
    "|`H`|每小时|\n",
    "|`T`|每分钟|\n",
    "|`S`|每秒|\n",
    "|`L`|毫秒|\n",
    "|`U`|微秒|"
   ]
  },
  {
   "cell_type": "markdown",
   "metadata": {},
   "source": [
    "也可以使用NumPy的array函数从DataFrame生成一个ndarray"
   ]
  },
  {
   "cell_type": "code",
   "execution_count": 28,
   "metadata": {},
   "outputs": [
    {
     "data": {
      "text/plain": [
       "array([[ 0.883851, -0.961183,  0.383887, -1.802687],\n",
       "       [ 1.267195, -0.251781,  0.400204, -0.117185],\n",
       "       [-0.596024, -1.095059,  1.429807,  0.807176],\n",
       "       [ 0.616109, -0.402194,  1.616859,  1.707242],\n",
       "       [ 0.42436 , -0.292295,  2.316483, -0.469215],\n",
       "       [ 0.523468, -0.514087, -1.732358, -0.736181],\n",
       "       [ 0.933527, -1.399667,  1.904331, -1.820248],\n",
       "       [ 0.85628 ,  0.286347, -0.397159,  0.564787],\n",
       "       [-0.858753,  0.135108, -0.789764,  0.335903]])"
      ]
     },
     "execution_count": 28,
     "metadata": {},
     "output_type": "execute_result"
    }
   ],
   "source": [
    "np.array(df).round(6)"
   ]
  },
  {
   "cell_type": "markdown",
   "metadata": {},
   "source": [
    "## 基本分析"
   ]
  },
  {
   "cell_type": "code",
   "execution_count": 29,
   "metadata": {},
   "outputs": [
    {
     "data": {
      "text/plain": [
       "No1    4.050012\n",
       "No2   -4.494810\n",
       "No3    5.132290\n",
       "No4   -1.530409\n",
       "dtype: float64"
      ]
     },
     "execution_count": 29,
     "metadata": {},
     "output_type": "execute_result"
    }
   ],
   "source": [
    "df.sum()"
   ]
  },
  {
   "cell_type": "code",
   "execution_count": 30,
   "metadata": {},
   "outputs": [
    {
     "data": {
      "text/plain": [
       "No1    0.450001\n",
       "No2   -0.499423\n",
       "No3    0.570254\n",
       "No4   -0.170045\n",
       "dtype: float64"
      ]
     },
     "execution_count": 30,
     "metadata": {},
     "output_type": "execute_result"
    }
   ],
   "source": [
    "df.mean()"
   ]
  },
  {
   "cell_type": "code",
   "execution_count": 31,
   "metadata": {},
   "outputs": [
    {
     "data": {
      "text/html": [
       "<div>\n",
       "<style>\n",
       "    .dataframe thead tr:only-child th {\n",
       "        text-align: right;\n",
       "    }\n",
       "\n",
       "    .dataframe thead th {\n",
       "        text-align: left;\n",
       "    }\n",
       "\n",
       "    .dataframe tbody tr th {\n",
       "        vertical-align: top;\n",
       "    }\n",
       "</style>\n",
       "<table border=\"1\" class=\"dataframe\">\n",
       "  <thead>\n",
       "    <tr style=\"text-align: right;\">\n",
       "      <th></th>\n",
       "      <th>No1</th>\n",
       "      <th>No2</th>\n",
       "      <th>No3</th>\n",
       "      <th>No4</th>\n",
       "    </tr>\n",
       "  </thead>\n",
       "  <tbody>\n",
       "    <tr>\n",
       "      <th>2015-01-31</th>\n",
       "      <td>0.883851</td>\n",
       "      <td>-0.961183</td>\n",
       "      <td>0.383887</td>\n",
       "      <td>-1.802687</td>\n",
       "    </tr>\n",
       "    <tr>\n",
       "      <th>2015-02-28</th>\n",
       "      <td>2.151046</td>\n",
       "      <td>-1.212963</td>\n",
       "      <td>0.784090</td>\n",
       "      <td>-1.919872</td>\n",
       "    </tr>\n",
       "    <tr>\n",
       "      <th>2015-03-31</th>\n",
       "      <td>1.555022</td>\n",
       "      <td>-2.308022</td>\n",
       "      <td>2.213898</td>\n",
       "      <td>-1.112696</td>\n",
       "    </tr>\n",
       "    <tr>\n",
       "      <th>2015-04-30</th>\n",
       "      <td>2.171131</td>\n",
       "      <td>-2.710216</td>\n",
       "      <td>3.830757</td>\n",
       "      <td>0.594546</td>\n",
       "    </tr>\n",
       "    <tr>\n",
       "      <th>2015-05-31</th>\n",
       "      <td>2.595490</td>\n",
       "      <td>-3.002511</td>\n",
       "      <td>6.147240</td>\n",
       "      <td>0.125331</td>\n",
       "    </tr>\n",
       "    <tr>\n",
       "      <th>2015-06-30</th>\n",
       "      <td>3.118958</td>\n",
       "      <td>-3.516598</td>\n",
       "      <td>4.414882</td>\n",
       "      <td>-0.610850</td>\n",
       "    </tr>\n",
       "    <tr>\n",
       "      <th>2015-07-31</th>\n",
       "      <td>4.052485</td>\n",
       "      <td>-4.916266</td>\n",
       "      <td>6.319213</td>\n",
       "      <td>-2.431098</td>\n",
       "    </tr>\n",
       "    <tr>\n",
       "      <th>2015-08-31</th>\n",
       "      <td>4.908765</td>\n",
       "      <td>-4.629918</td>\n",
       "      <td>5.922054</td>\n",
       "      <td>-1.866312</td>\n",
       "    </tr>\n",
       "    <tr>\n",
       "      <th>2015-09-30</th>\n",
       "      <td>4.050012</td>\n",
       "      <td>-4.494810</td>\n",
       "      <td>5.132290</td>\n",
       "      <td>-1.530409</td>\n",
       "    </tr>\n",
       "  </tbody>\n",
       "</table>\n",
       "</div>"
      ],
      "text/plain": [
       "                 No1       No2       No3       No4\n",
       "2015-01-31  0.883851 -0.961183  0.383887 -1.802687\n",
       "2015-02-28  2.151046 -1.212963  0.784090 -1.919872\n",
       "2015-03-31  1.555022 -2.308022  2.213898 -1.112696\n",
       "2015-04-30  2.171131 -2.710216  3.830757  0.594546\n",
       "2015-05-31  2.595490 -3.002511  6.147240  0.125331\n",
       "2015-06-30  3.118958 -3.516598  4.414882 -0.610850\n",
       "2015-07-31  4.052485 -4.916266  6.319213 -2.431098\n",
       "2015-08-31  4.908765 -4.629918  5.922054 -1.866312\n",
       "2015-09-30  4.050012 -4.494810  5.132290 -1.530409"
      ]
     },
     "execution_count": 31,
     "metadata": {},
     "output_type": "execute_result"
    }
   ],
   "source": [
    "df.cumsum()"
   ]
  },
  {
   "cell_type": "markdown",
   "metadata": {},
   "source": [
    "获取数据集统计数字的捷径："
   ]
  },
  {
   "cell_type": "code",
   "execution_count": 32,
   "metadata": {},
   "outputs": [
    {
     "data": {
      "text/html": [
       "<div>\n",
       "<style>\n",
       "    .dataframe thead tr:only-child th {\n",
       "        text-align: right;\n",
       "    }\n",
       "\n",
       "    .dataframe thead th {\n",
       "        text-align: left;\n",
       "    }\n",
       "\n",
       "    .dataframe tbody tr th {\n",
       "        vertical-align: top;\n",
       "    }\n",
       "</style>\n",
       "<table border=\"1\" class=\"dataframe\">\n",
       "  <thead>\n",
       "    <tr style=\"text-align: right;\">\n",
       "      <th></th>\n",
       "      <th>No1</th>\n",
       "      <th>No2</th>\n",
       "      <th>No3</th>\n",
       "      <th>No4</th>\n",
       "    </tr>\n",
       "  </thead>\n",
       "  <tbody>\n",
       "    <tr>\n",
       "      <th>count</th>\n",
       "      <td>9.000000</td>\n",
       "      <td>9.000000</td>\n",
       "      <td>9.000000</td>\n",
       "      <td>9.000000</td>\n",
       "    </tr>\n",
       "    <tr>\n",
       "      <th>mean</th>\n",
       "      <td>0.450001</td>\n",
       "      <td>-0.499423</td>\n",
       "      <td>0.570254</td>\n",
       "      <td>-0.170045</td>\n",
       "    </tr>\n",
       "    <tr>\n",
       "      <th>std</th>\n",
       "      <td>0.715502</td>\n",
       "      <td>0.560402</td>\n",
       "      <td>1.360813</td>\n",
       "      <td>1.176681</td>\n",
       "    </tr>\n",
       "    <tr>\n",
       "      <th>min</th>\n",
       "      <td>-0.858753</td>\n",
       "      <td>-1.399667</td>\n",
       "      <td>-1.732358</td>\n",
       "      <td>-1.820248</td>\n",
       "    </tr>\n",
       "    <tr>\n",
       "      <th>25%</th>\n",
       "      <td>0.424360</td>\n",
       "      <td>-0.961183</td>\n",
       "      <td>-0.397159</td>\n",
       "      <td>-0.736181</td>\n",
       "    </tr>\n",
       "    <tr>\n",
       "      <th>50%</th>\n",
       "      <td>0.616109</td>\n",
       "      <td>-0.402194</td>\n",
       "      <td>0.400204</td>\n",
       "      <td>-0.117185</td>\n",
       "    </tr>\n",
       "    <tr>\n",
       "      <th>75%</th>\n",
       "      <td>0.883851</td>\n",
       "      <td>-0.251781</td>\n",
       "      <td>1.616859</td>\n",
       "      <td>0.564787</td>\n",
       "    </tr>\n",
       "    <tr>\n",
       "      <th>max</th>\n",
       "      <td>1.267195</td>\n",
       "      <td>0.286347</td>\n",
       "      <td>2.316483</td>\n",
       "      <td>1.707242</td>\n",
       "    </tr>\n",
       "  </tbody>\n",
       "</table>\n",
       "</div>"
      ],
      "text/plain": [
       "            No1       No2       No3       No4\n",
       "count  9.000000  9.000000  9.000000  9.000000\n",
       "mean   0.450001 -0.499423  0.570254 -0.170045\n",
       "std    0.715502  0.560402  1.360813  1.176681\n",
       "min   -0.858753 -1.399667 -1.732358 -1.820248\n",
       "25%    0.424360 -0.961183 -0.397159 -0.736181\n",
       "50%    0.616109 -0.402194  0.400204 -0.117185\n",
       "75%    0.883851 -0.251781  1.616859  0.564787\n",
       "max    1.267195  0.286347  2.316483  1.707242"
      ]
     },
     "execution_count": 32,
     "metadata": {},
     "output_type": "execute_result"
    }
   ],
   "source": [
    "df.describe()"
   ]
  },
  {
   "cell_type": "markdown",
   "metadata": {},
   "source": [
    "也可以对DataFrame对象应用大部分NumPy通用函数："
   ]
  },
  {
   "cell_type": "code",
   "execution_count": 33,
   "metadata": {},
   "outputs": [
    {
     "name": "stderr",
     "output_type": "stream",
     "text": [
      "C:\\ProgramData\\Anaconda3\\lib\\site-packages\\ipykernel\\__main__.py:1: RuntimeWarning: invalid value encountered in sqrt\n",
      "  if __name__ == '__main__':\n"
     ]
    },
    {
     "data": {
      "text/html": [
       "<div>\n",
       "<style>\n",
       "    .dataframe thead tr:only-child th {\n",
       "        text-align: right;\n",
       "    }\n",
       "\n",
       "    .dataframe thead th {\n",
       "        text-align: left;\n",
       "    }\n",
       "\n",
       "    .dataframe tbody tr th {\n",
       "        vertical-align: top;\n",
       "    }\n",
       "</style>\n",
       "<table border=\"1\" class=\"dataframe\">\n",
       "  <thead>\n",
       "    <tr style=\"text-align: right;\">\n",
       "      <th></th>\n",
       "      <th>No1</th>\n",
       "      <th>No2</th>\n",
       "      <th>No3</th>\n",
       "      <th>No4</th>\n",
       "    </tr>\n",
       "  </thead>\n",
       "  <tbody>\n",
       "    <tr>\n",
       "      <th>2015-01-31</th>\n",
       "      <td>0.940134</td>\n",
       "      <td>NaN</td>\n",
       "      <td>0.619586</td>\n",
       "      <td>NaN</td>\n",
       "    </tr>\n",
       "    <tr>\n",
       "      <th>2015-02-28</th>\n",
       "      <td>1.125697</td>\n",
       "      <td>NaN</td>\n",
       "      <td>0.632616</td>\n",
       "      <td>NaN</td>\n",
       "    </tr>\n",
       "    <tr>\n",
       "      <th>2015-03-31</th>\n",
       "      <td>NaN</td>\n",
       "      <td>NaN</td>\n",
       "      <td>1.195746</td>\n",
       "      <td>0.898430</td>\n",
       "    </tr>\n",
       "    <tr>\n",
       "      <th>2015-04-30</th>\n",
       "      <td>0.784926</td>\n",
       "      <td>NaN</td>\n",
       "      <td>1.271558</td>\n",
       "      <td>1.306615</td>\n",
       "    </tr>\n",
       "    <tr>\n",
       "      <th>2015-05-31</th>\n",
       "      <td>0.651429</td>\n",
       "      <td>NaN</td>\n",
       "      <td>1.522000</td>\n",
       "      <td>NaN</td>\n",
       "    </tr>\n",
       "    <tr>\n",
       "      <th>2015-06-30</th>\n",
       "      <td>0.723511</td>\n",
       "      <td>NaN</td>\n",
       "      <td>NaN</td>\n",
       "      <td>NaN</td>\n",
       "    </tr>\n",
       "    <tr>\n",
       "      <th>2015-07-31</th>\n",
       "      <td>0.966192</td>\n",
       "      <td>NaN</td>\n",
       "      <td>1.379975</td>\n",
       "      <td>NaN</td>\n",
       "    </tr>\n",
       "    <tr>\n",
       "      <th>2015-08-31</th>\n",
       "      <td>0.925354</td>\n",
       "      <td>0.535114</td>\n",
       "      <td>NaN</td>\n",
       "      <td>0.751523</td>\n",
       "    </tr>\n",
       "    <tr>\n",
       "      <th>2015-09-30</th>\n",
       "      <td>NaN</td>\n",
       "      <td>0.367570</td>\n",
       "      <td>NaN</td>\n",
       "      <td>0.579571</td>\n",
       "    </tr>\n",
       "  </tbody>\n",
       "</table>\n",
       "</div>"
      ],
      "text/plain": [
       "                 No1       No2       No3       No4\n",
       "2015-01-31  0.940134       NaN  0.619586       NaN\n",
       "2015-02-28  1.125697       NaN  0.632616       NaN\n",
       "2015-03-31       NaN       NaN  1.195746  0.898430\n",
       "2015-04-30  0.784926       NaN  1.271558  1.306615\n",
       "2015-05-31  0.651429       NaN  1.522000       NaN\n",
       "2015-06-30  0.723511       NaN       NaN       NaN\n",
       "2015-07-31  0.966192       NaN  1.379975       NaN\n",
       "2015-08-31  0.925354  0.535114       NaN  0.751523\n",
       "2015-09-30       NaN  0.367570       NaN  0.579571"
      ]
     },
     "execution_count": 33,
     "metadata": {},
     "output_type": "execute_result"
    }
   ],
   "source": [
    "np.sqrt(df)"
   ]
  },
  {
   "cell_type": "markdown",
   "metadata": {},
   "source": [
    "一般地，在**NumPy通用函数**适用于ndarray对象的任何情况下，都可将这些函数应用到包含相同数据的**pandas DataFrame**对象。"
   ]
  },
  {
   "cell_type": "markdown",
   "metadata": {},
   "source": [
    "pandas有相当强的容错能力，它可以捕捉错误，在对应数学运算失败时放入NaN值。并且还可以将不完整的数据集当成完整数据集来使用："
   ]
  },
  {
   "cell_type": "code",
   "execution_count": 34,
   "metadata": {},
   "outputs": [
    {
     "name": "stderr",
     "output_type": "stream",
     "text": [
      "C:\\ProgramData\\Anaconda3\\lib\\site-packages\\ipykernel\\__main__.py:1: RuntimeWarning: invalid value encountered in sqrt\n",
      "  if __name__ == '__main__':\n"
     ]
    },
    {
     "data": {
      "text/plain": [
       "No1    6.117243\n",
       "No2    0.902685\n",
       "No3    6.621480\n",
       "No4    3.536139\n",
       "dtype: float64"
      ]
     },
     "execution_count": 34,
     "metadata": {},
     "output_type": "execute_result"
    }
   ],
   "source": [
    "np.sqrt(df).sum()"
   ]
  },
  {
   "cell_type": "markdown",
   "metadata": {},
   "source": [
    "在这些情况下，pandas将不考虑NaN值，只使用其他可用值。   \n",
    "一般情况下，绘制数据图表也只需一行代码："
   ]
  },
  {
   "cell_type": "code",
   "execution_count": 35,
   "metadata": {},
   "outputs": [
    {
     "data": {
      "text/plain": [
       "<matplotlib.axes._subplots.AxesSubplot at 0x1dcb2517b70>"
      ]
     },
     "execution_count": 35,
     "metadata": {},
     "output_type": "execute_result"
    },
    {
     "data": {
      "image/png": "[encoded data removed]",
      "text/plain": [
       "<matplotlib.figure.Figure at 0x1dcb24e55f8>"
      ]
     },
     "metadata": {},
     "output_type": "display_data"
    }
   ],
   "source": [
    "%matplotlib inline\n",
    "df.cumsum().plot(lw=2.0, grid=True)\n",
    "# tag: dataframe_plot\n",
    "# title: Line plot of a DataFrame object"
   ]
  },
  {
   "cell_type": "markdown",
   "metadata": {},
   "source": [
    "本质上，pandas提供matplotlib的一个封装器，专门为DataFrame对象所设计。下面是plot方法的参数："
   ]
  },
  {
   "cell_type": "markdown",
   "metadata": {},
   "source": [
    "```python\n",
    "df.plot(x=None, y=None, kind='line', ax=None, subplots=False, sharex=None, sharey=False, layout=None, figsize=None, use_index=True, title=None, grid=None, legend=True, style=None, logx=False, logy=False, loglog=False, xticks=None, yticks=None, xlim=None, ylim=None, rot=None, fontsize=None, colormap=None, table=False, yerr=None, xerr=None, secondary_y=False, sort_columns=False, **kwds)\n",
    "Type:           FramePlotMethods\n",
    "Docstring:     \n",
    "DataFrame plotting accessor and method\n",
    "\n",
    "Examples\n",
    "--------\n",
    ">>> df.plot.line()\n",
    ">>> df.plot.scatter('x', 'y')\n",
    ">>> df.plot.hexbin()\n",
    "\n",
    "These plotting methods can also be accessed by calling the accessor as a\n",
    "method with the ``kind`` argument:\n",
    "``df.plot(kind='line')`` is equivalent to ``df.plot.line()``\n",
    "Call docstring:\n",
    "Make plots of DataFrame using matplotlib / pylab.\n",
    "\n",
    "*New in version 0.17.0:* Each plot kind has a corresponding method on the\n",
    "``DataFrame.plot`` accessor:\n",
    "``df.plot(kind='line')`` is equivalent to\n",
    "``df.plot.line()``.\n",
    "\n",
    "Parameters\n",
    "----------\n",
    "data : DataFrame\n",
    "x : label or position, default None (只在列值为x刻度时使用)\n",
    "y : label or position, default None (只在列值为x刻度时使用)\n",
    "    Allows plotting of one column versus another\n",
    "kind : str   (图表类型)\n",
    "    - 'line' : line plot (default)\n",
    "    - 'bar' : vertical bar plot\n",
    "    - 'barh' : horizontal bar plot\n",
    "    - 'hist' : histogram\n",
    "    - 'box' : boxplot\n",
    "    - 'kde' : Kernel Density Estimation plot\n",
    "    - 'density' : same as 'kde'\n",
    "    - 'area' : area plot\n",
    "    - 'pie' : pie plot\n",
    "    - 'scatter' : scatter plot\n",
    "    - 'hexbin' : hexbin plot\n",
    "ax : matplotlib axes object, default None (绘图使用的matplotlib轴对象)\n",
    "subplots : boolean, default False\n",
    "    Make separate subplots for each column(子图中的绘图列)\n",
    "sharex : boolean, default True if ax is None else False (共用x轴)\n",
    "    In case subplots=True, share x axis and set some x axis labels to\n",
    "    invisible; defaults to True if ax is None otherwise False if an ax\n",
    "    is passed in; Be aware, that passing in both an ax and sharex=True\n",
    "    will alter all x axis labels for all axis in a figure!\n",
    "sharey : boolean, default False  (共用y轴)\n",
    "    In case subplots=True, share y axis and set some y axis labels to\n",
    "    invisible\n",
    "layout : tuple (optional)\n",
    "    (rows, columns) for the layout of subplots\n",
    "figsize : a tuple (width, height) in inches\n",
    "use_index : boolean, default True\n",
    "    Use index as ticks for x axis (使用DataFrame.index作为x轴刻度)\n",
    "title : string or list\n",
    "    Title to use for the plot(图表标题). If a string is passed, print the string at\n",
    "    the top of the figure. If a list is passed and `subplots` is True,\n",
    "    print each item in the list above the corresponding subplot.\n",
    "grid : boolean, default None (matlab style default)\n",
    "    Axis grid lines (水平和垂直网格线)\n",
    "legend : False/True/'reverse'\n",
    "    Place legend on axis subplots  (标签图例)\n",
    "style : list or dict\n",
    "    matplotlib line style per column (绘图线形，每列)\n",
    "logx : boolean, default False\n",
    "    Use log scaling on x axis (x轴的对数刻度)\n",
    "logy : boolean, default False  (y轴的对数刻度)\n",
    "    Use log scaling on y axis\n",
    "loglog : boolean, default False\n",
    "    Use log scaling on both x and y axes\n",
    "xticks : sequence (默认Index)\n",
    "    Values to use for the xticks (x轴的刻度)\n",
    "yticks : sequence (默认Values)\n",
    "    Values to use for the yticks(y轴刻度)\n",
    "xlim : 2-tuple/list  (x轴的界限)\n",
    "ylim : 2-tuple/list  (y轴的界限)\n",
    "rot : int, default None\n",
    "    Rotation for ticks (xticks for vertical, yticks for horizontal plots)  (旋转x轴刻度)\n",
    "fontsize : int, default None\n",
    "    Font size for xticks and yticks\n",
    "colormap : str or matplotlib colormap object, default None\n",
    "    Colormap to select colors from. If string, load colormap with that name\n",
    "    from matplotlib.   (用于绘图的颜色映射)\n",
    "colorbar : boolean, optional\n",
    "    If True, plot colorbar (only relevant for 'scatter' and 'hexbin' plots)\n",
    "position : float\n",
    "    Specify relative alignments for bar plot layout.\n",
    "    From 0 (left/bottom-end) to 1 (right/top-end). Default is 0.5 (center)\n",
    "layout : tuple (optional)\n",
    "    (rows, columns) for the layout of the plot\n",
    "table : boolean, Series or DataFrame, default False\n",
    "    If True, draw a table using the data in the DataFrame and the data will\n",
    "    be transposed to meet matplotlib's default layout.\n",
    "    If a Series or DataFrame is passed, use passed data to draw a table.\n",
    "yerr : DataFrame, Series, array-like, dict and str\n",
    "    See :ref:`Plotting with Error Bars <visualization.errorbars>` for\n",
    "    detail.\n",
    "xerr : same types as yerr.\n",
    "stacked : boolean, default False in line and\n",
    "    bar plots, and True in area plot. If True, create stacked plot.(堆叠，只用于柱状图)\n",
    "sort_columns : boolean, default False\n",
    "    Sort column names to determine plot ordering (在绘图之前，将列按字母顺序排列)\n",
    "secondary_y : boolean or sequence, default False\n",
    "    Whether to plot on the secondary y-axis  (第二个y轴)\n",
    "    If a list/tuple, which columns to plot on secondary y-axis\n",
    "mark_right : boolean, default True   (第二个y轴，自动设置标签)\n",
    "    When using a secondary_y axis, automatically mark the column\n",
    "    labels with \"(right)\" in the legend\n",
    "kwds : keywords\n",
    "    Options to pass to matplotlib plotting method (传递给matplotlib选项)\n",
    "\n",
    "Returns\n",
    "-------\n",
    "axes : matplotlib.AxesSubplot or np.array of them\n",
    "\n",
    "Notes\n",
    "-----\n",
    "\n",
    "- See matplotlib documentation online for more on this subject\n",
    "- If `kind` = 'bar' or 'barh', you can specify relative alignments\n",
    "  for bar plot layout by `position` keyword.\n",
    "  From 0 (left/bottom-end) to 1 (right/top-end). Default is 0.5 (center)\n",
    "- If `kind` = 'scatter' and the argument `c` is the name of a dataframe\n",
    "  column, the values of that column are used to color each point.\n",
    "- If `kind` = 'hexbin', you can control the size of the bins with the\n",
    "  `gridsize` argument. By default, a histogram of the counts around each\n",
    "  `(x, y)` point is computed. You can specify alternative aggregations\n",
    "  by passing values to the `C` and `reduce_C_function` arguments.\n",
    "  `C` specifies the value at each `(x, y)` point and `reduce_C_function`\n",
    "  is a function of one argument that reduces all the values in a bin to\n",
    "  a single number (e.g. `mean`, `max`, `sum`, `std`).\n",
    "```"
   ]
  },
  {
   "cell_type": "markdown",
   "metadata": {},
   "source": [
    "# Series 类"
   ]
  },
  {
   "cell_type": "code",
   "execution_count": 36,
   "metadata": {},
   "outputs": [
    {
     "data": {
      "text/plain": [
       "pandas.core.frame.DataFrame"
      ]
     },
     "execution_count": 36,
     "metadata": {},
     "output_type": "execute_result"
    }
   ],
   "source": [
    "type(df)"
   ]
  },
  {
   "cell_type": "code",
   "execution_count": 37,
   "metadata": {},
   "outputs": [
    {
     "data": {
      "text/plain": [
       "2015-01-31    0.883851\n",
       "2015-02-28    1.267195\n",
       "2015-03-31   -0.596024\n",
       "2015-04-30    0.616109\n",
       "2015-05-31    0.424360\n",
       "2015-06-30    0.523468\n",
       "2015-07-31    0.933527\n",
       "2015-08-31    0.856280\n",
       "2015-09-30   -0.858753\n",
       "Freq: M, Name: No1, dtype: float64"
      ]
     },
     "execution_count": 37,
     "metadata": {},
     "output_type": "execute_result"
    }
   ],
   "source": [
    "df['No1']"
   ]
  },
  {
   "cell_type": "code",
   "execution_count": 38,
   "metadata": {},
   "outputs": [
    {
     "data": {
      "text/plain": [
       "pandas.core.series.Series"
      ]
     },
     "execution_count": 38,
     "metadata": {},
     "output_type": "execute_result"
    }
   ],
   "source": [
    "type(df['No1'])"
   ]
  },
  {
   "cell_type": "markdown",
   "metadata": {},
   "source": [
    "DataFrame的主要方法也可用于Series对象："
   ]
  },
  {
   "cell_type": "code",
   "execution_count": 39,
   "metadata": {},
   "outputs": [
    {
     "data": {
      "text/plain": [
       "<matplotlib.text.Text at 0x1dcb268a9e8>"
      ]
     },
     "execution_count": 39,
     "metadata": {},
     "output_type": "execute_result"
    },
    {
     "data": {
      "image/png": "[encoded data removed]",
      "text/plain": [
       "<matplotlib.figure.Figure at 0x1dcb2657e10>"
      ]
     },
     "metadata": {},
     "output_type": "display_data"
    }
   ],
   "source": [
    "import matplotlib.pyplot as plt\n",
    "df['No1'].cumsum().plot(style='r', lw=2., grid=True)\n",
    "plt.xlabel('date')\n",
    "plt.ylabel('value')\n",
    "# tag: time_series\n",
    "# title: Line plot of a Series object"
   ]
  },
  {
   "cell_type": "markdown",
   "metadata": {},
   "source": [
    "# GroupBy Operations"
   ]
  },
  {
   "cell_type": "markdown",
   "metadata": {},
   "source": [
    "pandas具备强大而灵活的分组功能，工作方式类似于SQL中的分组和Microsoft Excel中的透视表。为了进行分组，我们添加一列，表示对应索引数据所属的季度："
   ]
  },
  {
   "cell_type": "code",
   "execution_count": 40,
   "metadata": {},
   "outputs": [
    {
     "data": {
      "text/html": [
       "<div>\n",
       "<style>\n",
       "    .dataframe thead tr:only-child th {\n",
       "        text-align: right;\n",
       "    }\n",
       "\n",
       "    .dataframe thead th {\n",
       "        text-align: left;\n",
       "    }\n",
       "\n",
       "    .dataframe tbody tr th {\n",
       "        vertical-align: top;\n",
       "    }\n",
       "</style>\n",
       "<table border=\"1\" class=\"dataframe\">\n",
       "  <thead>\n",
       "    <tr style=\"text-align: right;\">\n",
       "      <th></th>\n",
       "      <th>No1</th>\n",
       "      <th>No2</th>\n",
       "      <th>No3</th>\n",
       "      <th>No4</th>\n",
       "      <th>Quarter</th>\n",
       "    </tr>\n",
       "  </thead>\n",
       "  <tbody>\n",
       "    <tr>\n",
       "      <th>2015-01-31</th>\n",
       "      <td>0.883851</td>\n",
       "      <td>-0.961183</td>\n",
       "      <td>0.383887</td>\n",
       "      <td>-1.802687</td>\n",
       "      <td>Q1</td>\n",
       "    </tr>\n",
       "    <tr>\n",
       "      <th>2015-02-28</th>\n",
       "      <td>1.267195</td>\n",
       "      <td>-0.251781</td>\n",
       "      <td>0.400204</td>\n",
       "      <td>-0.117185</td>\n",
       "      <td>Q1</td>\n",
       "    </tr>\n",
       "    <tr>\n",
       "      <th>2015-03-31</th>\n",
       "      <td>-0.596024</td>\n",
       "      <td>-1.095059</td>\n",
       "      <td>1.429807</td>\n",
       "      <td>0.807176</td>\n",
       "      <td>Q1</td>\n",
       "    </tr>\n",
       "    <tr>\n",
       "      <th>2015-04-30</th>\n",
       "      <td>0.616109</td>\n",
       "      <td>-0.402194</td>\n",
       "      <td>1.616859</td>\n",
       "      <td>1.707242</td>\n",
       "      <td>Q2</td>\n",
       "    </tr>\n",
       "    <tr>\n",
       "      <th>2015-05-31</th>\n",
       "      <td>0.424360</td>\n",
       "      <td>-0.292295</td>\n",
       "      <td>2.316483</td>\n",
       "      <td>-0.469215</td>\n",
       "      <td>Q2</td>\n",
       "    </tr>\n",
       "    <tr>\n",
       "      <th>2015-06-30</th>\n",
       "      <td>0.523468</td>\n",
       "      <td>-0.514087</td>\n",
       "      <td>-1.732358</td>\n",
       "      <td>-0.736181</td>\n",
       "      <td>Q2</td>\n",
       "    </tr>\n",
       "    <tr>\n",
       "      <th>2015-07-31</th>\n",
       "      <td>0.933527</td>\n",
       "      <td>-1.399667</td>\n",
       "      <td>1.904331</td>\n",
       "      <td>-1.820248</td>\n",
       "      <td>Q3</td>\n",
       "    </tr>\n",
       "    <tr>\n",
       "      <th>2015-08-31</th>\n",
       "      <td>0.856280</td>\n",
       "      <td>0.286347</td>\n",
       "      <td>-0.397159</td>\n",
       "      <td>0.564787</td>\n",
       "      <td>Q3</td>\n",
       "    </tr>\n",
       "    <tr>\n",
       "      <th>2015-09-30</th>\n",
       "      <td>-0.858753</td>\n",
       "      <td>0.135108</td>\n",
       "      <td>-0.789764</td>\n",
       "      <td>0.335903</td>\n",
       "      <td>Q3</td>\n",
       "    </tr>\n",
       "  </tbody>\n",
       "</table>\n",
       "</div>"
      ],
      "text/plain": [
       "                 No1       No2       No3       No4 Quarter\n",
       "2015-01-31  0.883851 -0.961183  0.383887 -1.802687      Q1\n",
       "2015-02-28  1.267195 -0.251781  0.400204 -0.117185      Q1\n",
       "2015-03-31 -0.596024 -1.095059  1.429807  0.807176      Q1\n",
       "2015-04-30  0.616109 -0.402194  1.616859  1.707242      Q2\n",
       "2015-05-31  0.424360 -0.292295  2.316483 -0.469215      Q2\n",
       "2015-06-30  0.523468 -0.514087 -1.732358 -0.736181      Q2\n",
       "2015-07-31  0.933527 -1.399667  1.904331 -1.820248      Q3\n",
       "2015-08-31  0.856280  0.286347 -0.397159  0.564787      Q3\n",
       "2015-09-30 -0.858753  0.135108 -0.789764  0.335903      Q3"
      ]
     },
     "execution_count": 40,
     "metadata": {},
     "output_type": "execute_result"
    }
   ],
   "source": [
    "df['Quarter'] = ['Q1', 'Q1', 'Q1', 'Q2', 'Q2', 'Q2', 'Q3', 'Q3', 'Q3']\n",
    "df"
   ]
  },
  {
   "cell_type": "markdown",
   "metadata": {},
   "source": [
    "现在，我们可以根据“Quarter”列分组，输出单独组的统计数字："
   ]
  },
  {
   "cell_type": "code",
   "execution_count": 41,
   "metadata": {
    "collapsed": true
   },
   "outputs": [],
   "source": [
    "groups = df.groupby('Quarter')"
   ]
  },
  {
   "cell_type": "code",
   "execution_count": 42,
   "metadata": {
    "scrolled": true
   },
   "outputs": [
    {
     "data": {
      "text/html": [
       "<div>\n",
       "<style>\n",
       "    .dataframe thead tr:only-child th {\n",
       "        text-align: right;\n",
       "    }\n",
       "\n",
       "    .dataframe thead th {\n",
       "        text-align: left;\n",
       "    }\n",
       "\n",
       "    .dataframe tbody tr th {\n",
       "        vertical-align: top;\n",
       "    }\n",
       "</style>\n",
       "<table border=\"1\" class=\"dataframe\">\n",
       "  <thead>\n",
       "    <tr style=\"text-align: right;\">\n",
       "      <th></th>\n",
       "      <th>No1</th>\n",
       "      <th>No2</th>\n",
       "      <th>No3</th>\n",
       "      <th>No4</th>\n",
       "    </tr>\n",
       "    <tr>\n",
       "      <th>Quarter</th>\n",
       "      <th></th>\n",
       "      <th></th>\n",
       "      <th></th>\n",
       "      <th></th>\n",
       "    </tr>\n",
       "  </thead>\n",
       "  <tbody>\n",
       "    <tr>\n",
       "      <th>Q1</th>\n",
       "      <td>0.518341</td>\n",
       "      <td>-0.769341</td>\n",
       "      <td>0.737966</td>\n",
       "      <td>-0.370899</td>\n",
       "    </tr>\n",
       "    <tr>\n",
       "      <th>Q2</th>\n",
       "      <td>0.521312</td>\n",
       "      <td>-0.402859</td>\n",
       "      <td>0.733662</td>\n",
       "      <td>0.167282</td>\n",
       "    </tr>\n",
       "    <tr>\n",
       "      <th>Q3</th>\n",
       "      <td>0.310351</td>\n",
       "      <td>-0.326071</td>\n",
       "      <td>0.239136</td>\n",
       "      <td>-0.306520</td>\n",
       "    </tr>\n",
       "  </tbody>\n",
       "</table>\n",
       "</div>"
      ],
      "text/plain": [
       "              No1       No2       No3       No4\n",
       "Quarter                                        \n",
       "Q1       0.518341 -0.769341  0.737966 -0.370899\n",
       "Q2       0.521312 -0.402859  0.733662  0.167282\n",
       "Q3       0.310351 -0.326071  0.239136 -0.306520"
      ]
     },
     "execution_count": 42,
     "metadata": {},
     "output_type": "execute_result"
    }
   ],
   "source": [
    "groups.mean()  # 每组的平均值"
   ]
  },
  {
   "cell_type": "code",
   "execution_count": 43,
   "metadata": {},
   "outputs": [
    {
     "data": {
      "text/html": [
       "<div>\n",
       "<style>\n",
       "    .dataframe thead tr:only-child th {\n",
       "        text-align: right;\n",
       "    }\n",
       "\n",
       "    .dataframe thead th {\n",
       "        text-align: left;\n",
       "    }\n",
       "\n",
       "    .dataframe tbody tr th {\n",
       "        vertical-align: top;\n",
       "    }\n",
       "</style>\n",
       "<table border=\"1\" class=\"dataframe\">\n",
       "  <thead>\n",
       "    <tr style=\"text-align: right;\">\n",
       "      <th></th>\n",
       "      <th>No1</th>\n",
       "      <th>No2</th>\n",
       "      <th>No3</th>\n",
       "      <th>No4</th>\n",
       "    </tr>\n",
       "    <tr>\n",
       "      <th>Quarter</th>\n",
       "      <th></th>\n",
       "      <th></th>\n",
       "      <th></th>\n",
       "      <th></th>\n",
       "    </tr>\n",
       "  </thead>\n",
       "  <tbody>\n",
       "    <tr>\n",
       "      <th>Q1</th>\n",
       "      <td>1.267195</td>\n",
       "      <td>-0.251781</td>\n",
       "      <td>1.429807</td>\n",
       "      <td>0.807176</td>\n",
       "    </tr>\n",
       "    <tr>\n",
       "      <th>Q2</th>\n",
       "      <td>0.616109</td>\n",
       "      <td>-0.292295</td>\n",
       "      <td>2.316483</td>\n",
       "      <td>1.707242</td>\n",
       "    </tr>\n",
       "    <tr>\n",
       "      <th>Q3</th>\n",
       "      <td>0.933527</td>\n",
       "      <td>0.286347</td>\n",
       "      <td>1.904331</td>\n",
       "      <td>0.564787</td>\n",
       "    </tr>\n",
       "  </tbody>\n",
       "</table>\n",
       "</div>"
      ],
      "text/plain": [
       "              No1       No2       No3       No4\n",
       "Quarter                                        \n",
       "Q1       1.267195 -0.251781  1.429807  0.807176\n",
       "Q2       0.616109 -0.292295  2.316483  1.707242\n",
       "Q3       0.933527  0.286347  1.904331  0.564787"
      ]
     },
     "execution_count": 43,
     "metadata": {},
     "output_type": "execute_result"
    }
   ],
   "source": [
    "groups.max()  # 每组的最大值"
   ]
  },
  {
   "cell_type": "code",
   "execution_count": 44,
   "metadata": {},
   "outputs": [
    {
     "data": {
      "text/plain": [
       "Quarter\n",
       "Q1    3\n",
       "Q2    3\n",
       "Q3    3\n",
       "dtype: int64"
      ]
     },
     "execution_count": 44,
     "metadata": {},
     "output_type": "execute_result"
    }
   ],
   "source": [
    "groups.size()  # 组的大小"
   ]
  },
  {
   "cell_type": "markdown",
   "metadata": {},
   "source": [
    "分组可在多列上进行，我们添加一列，表示索引月份是奇数还是偶数："
   ]
  },
  {
   "cell_type": "code",
   "execution_count": 45,
   "metadata": {
    "collapsed": true
   },
   "outputs": [],
   "source": [
    "df['Odd_Even'] = ['Odd', 'Even', 'Odd', 'Even', 'Odd', 'Even',\n",
    "                  'Odd', 'Even', 'Odd']"
   ]
  },
  {
   "cell_type": "code",
   "execution_count": 46,
   "metadata": {
    "collapsed": true
   },
   "outputs": [],
   "source": [
    "groups = df.groupby(['Quarter','Odd_Even'])"
   ]
  },
  {
   "cell_type": "code",
   "execution_count": 47,
   "metadata": {},
   "outputs": [
    {
     "data": {
      "text/plain": [
       "Quarter  Odd_Even\n",
       "Q1       Even        1\n",
       "         Odd         2\n",
       "Q2       Even        2\n",
       "         Odd         1\n",
       "Q3       Even        1\n",
       "         Odd         2\n",
       "dtype: int64"
      ]
     },
     "execution_count": 47,
     "metadata": {},
     "output_type": "execute_result"
    }
   ],
   "source": [
    "groups.size()"
   ]
  },
  {
   "cell_type": "code",
   "execution_count": 48,
   "metadata": {},
   "outputs": [
    {
     "data": {
      "text/html": [
       "<div>\n",
       "<style>\n",
       "    .dataframe thead tr:only-child th {\n",
       "        text-align: right;\n",
       "    }\n",
       "\n",
       "    .dataframe thead th {\n",
       "        text-align: left;\n",
       "    }\n",
       "\n",
       "    .dataframe tbody tr th {\n",
       "        vertical-align: top;\n",
       "    }\n",
       "</style>\n",
       "<table border=\"1\" class=\"dataframe\">\n",
       "  <thead>\n",
       "    <tr style=\"text-align: right;\">\n",
       "      <th></th>\n",
       "      <th></th>\n",
       "      <th>No1</th>\n",
       "      <th>No2</th>\n",
       "      <th>No3</th>\n",
       "      <th>No4</th>\n",
       "    </tr>\n",
       "    <tr>\n",
       "      <th>Quarter</th>\n",
       "      <th>Odd_Even</th>\n",
       "      <th></th>\n",
       "      <th></th>\n",
       "      <th></th>\n",
       "      <th></th>\n",
       "    </tr>\n",
       "  </thead>\n",
       "  <tbody>\n",
       "    <tr>\n",
       "      <th rowspan=\"2\" valign=\"top\">Q1</th>\n",
       "      <th>Even</th>\n",
       "      <td>1.267195</td>\n",
       "      <td>-0.251781</td>\n",
       "      <td>0.400204</td>\n",
       "      <td>-0.117185</td>\n",
       "    </tr>\n",
       "    <tr>\n",
       "      <th>Odd</th>\n",
       "      <td>0.143914</td>\n",
       "      <td>-1.028121</td>\n",
       "      <td>0.906847</td>\n",
       "      <td>-0.497755</td>\n",
       "    </tr>\n",
       "    <tr>\n",
       "      <th rowspan=\"2\" valign=\"top\">Q2</th>\n",
       "      <th>Even</th>\n",
       "      <td>0.569788</td>\n",
       "      <td>-0.458141</td>\n",
       "      <td>-0.057749</td>\n",
       "      <td>0.485531</td>\n",
       "    </tr>\n",
       "    <tr>\n",
       "      <th>Odd</th>\n",
       "      <td>0.424360</td>\n",
       "      <td>-0.292295</td>\n",
       "      <td>2.316483</td>\n",
       "      <td>-0.469215</td>\n",
       "    </tr>\n",
       "    <tr>\n",
       "      <th rowspan=\"2\" valign=\"top\">Q3</th>\n",
       "      <th>Even</th>\n",
       "      <td>0.856280</td>\n",
       "      <td>0.286347</td>\n",
       "      <td>-0.397159</td>\n",
       "      <td>0.564787</td>\n",
       "    </tr>\n",
       "    <tr>\n",
       "      <th>Odd</th>\n",
       "      <td>0.037387</td>\n",
       "      <td>-0.632280</td>\n",
       "      <td>0.557283</td>\n",
       "      <td>-0.742173</td>\n",
       "    </tr>\n",
       "  </tbody>\n",
       "</table>\n",
       "</div>"
      ],
      "text/plain": [
       "                       No1       No2       No3       No4\n",
       "Quarter Odd_Even                                        \n",
       "Q1      Even      1.267195 -0.251781  0.400204 -0.117185\n",
       "        Odd       0.143914 -1.028121  0.906847 -0.497755\n",
       "Q2      Even      0.569788 -0.458141 -0.057749  0.485531\n",
       "        Odd       0.424360 -0.292295  2.316483 -0.469215\n",
       "Q3      Even      0.856280  0.286347 -0.397159  0.564787\n",
       "        Odd       0.037387 -0.632280  0.557283 -0.742173"
      ]
     },
     "execution_count": 48,
     "metadata": {},
     "output_type": "execute_result"
    }
   ],
   "source": [
    "groups.mean()"
   ]
  },
  {
   "cell_type": "markdown",
   "metadata": {},
   "source": [
    "## Financial Data"
   ]
  },
  {
   "cell_type": "code",
   "execution_count": 49,
   "metadata": {
    "collapsed": true
   },
   "outputs": [],
   "source": [
    "from pandas_datareader import data as web"
   ]
  },
  {
   "cell_type": "markdown",
   "metadata": {},
   "source": [
    "pandas内建函数`DataReader`从Web读取数据，进行数据分析(DAX)"
   ]
  },
  {
   "cell_type": "code",
   "execution_count": 51,
   "metadata": {},
   "outputs": [
    {
     "name": "stdout",
     "output_type": "stream",
     "text": [
      "<class 'pandas.core.frame.DataFrame'>\n",
      "DatetimeIndex: 4000 entries, 2001-10-16 to 2017-09-11\n",
      "Data columns (total 5 columns):\n",
      "Open      3980 non-null float64\n",
      "High      3980 non-null float64\n",
      "Low       3980 non-null float64\n",
      "Close     4000 non-null float64\n",
      "Volume    4000 non-null int64\n",
      "dtypes: float64(4), int64(1)\n",
      "memory usage: 187.5 KB\n"
     ]
    }
   ],
   "source": [
    "DAX = web.DataReader(name='SPY', data_source='google',\n",
    "                     start='2000-1-1')   \n",
    "DAX.info()"
   ]
  },
  {
   "cell_type": "markdown",
   "metadata": {},
   "source": [
    "```json\n",
    "Signature: web.DataReader(name, data_source=None, start=None, end=None, retry_count=3, pause=0.001, session=None, access_key=None)\n",
    "Docstring:\n",
    "Imports data from a number of online sources.\n",
    "\n",
    "Currently supports Yahoo! Finance, Google Finance, St. Louis FED (FRED),\n",
    "Kenneth French's data library, and the SEC's EDGAR Index.\n",
    "\n",
    "Parameters\n",
    "----------\n",
    "name : str or list of strs\n",
    "    the name of the dataset. Some data sources (yahoo, google, fred) will\n",
    "    accept a list of names.\n",
    "data_source: {str, None}\n",
    "    the data source (\"yahoo\", \"yahoo-actions\", \"yahoo-dividends\",\n",
    "    \"google\", \"fred\", \"ff\", or \"edgar-index\")\n",
    "start : {datetime, None}\n",
    "    left boundary for range (defaults to 1/1/2010)\n",
    "end : {datetime, None}\n",
    "    right boundary for range (defaults to today)\n",
    "retry_count : {int, 3}\n",
    "    Number of times to retry query request.\n",
    "pause : {numeric, 0.001}\n",
    "    Time, in seconds, to pause between consecutive queries of chunks. If\n",
    "    single value given for symbol, represents the pause between retries.\n",
    "session : Session, default None\n",
    "        requests.sessions.Session instance to be used\n",
    "\n",
    "Examples\n",
    "----------\n",
    "\n",
    "# Data from Yahoo! Finance\n",
    "gs = DataReader(\"GS\", \"yahoo\")\n",
    "\n",
    "# Corporate Actions (Dividend and Split Data)\n",
    "# with ex-dates from Yahoo! Finance\n",
    "gs = DataReader(\"GS\", \"yahoo-actions\")\n",
    "\n",
    "# Data from Google Finance\n",
    "aapl = DataReader(\"AAPL\", \"google\")\n",
    "\n",
    "# Data from FRED\n",
    "vix = DataReader(\"VIXCLS\", \"fred\")\n",
    "\n",
    "# Data from Fama/French\n",
    "ff = DataReader(\"F-F_Research_Data_Factors\", \"famafrench\")\n",
    "ff = DataReader(\"F-F_Research_Data_Factors_weekly\", \"famafrench\")\n",
    "ff = DataReader(\"6_Portfolios_2x3\", \"famafrench\")\n",
    "ff = DataReader(\"F-F_ST_Reversal_Factor\", \"famafrench\")\n",
    "\n",
    "# Data from EDGAR index\n",
    "ed = DataReader(\"full\", \"edgar-index\")\n",
    "ed2 = DataReader(\"daily\", \"edgar-index\")\n",
    "Type:      function\n",
    "```"
   ]
  },
  {
   "cell_type": "code",
   "execution_count": 52,
   "metadata": {},
   "outputs": [
    {
     "data": {
      "text/html": [
       "<div>\n",
       "<style>\n",
       "    .dataframe thead tr:only-child th {\n",
       "        text-align: right;\n",
       "    }\n",
       "\n",
       "    .dataframe thead th {\n",
       "        text-align: left;\n",
       "    }\n",
       "\n",
       "    .dataframe tbody tr th {\n",
       "        vertical-align: top;\n",
       "    }\n",
       "</style>\n",
       "<table border=\"1\" class=\"dataframe\">\n",
       "  <thead>\n",
       "    <tr style=\"text-align: right;\">\n",
       "      <th></th>\n",
       "      <th>Open</th>\n",
       "      <th>High</th>\n",
       "      <th>Low</th>\n",
       "      <th>Close</th>\n",
       "      <th>Volume</th>\n",
       "    </tr>\n",
       "    <tr>\n",
       "      <th>Date</th>\n",
       "      <th></th>\n",
       "      <th></th>\n",
       "      <th></th>\n",
       "      <th></th>\n",
       "      <th></th>\n",
       "    </tr>\n",
       "  </thead>\n",
       "  <tbody>\n",
       "    <tr>\n",
       "      <th>2017-08-31</th>\n",
       "      <td>246.72</td>\n",
       "      <td>247.77</td>\n",
       "      <td>246.05</td>\n",
       "      <td>247.49</td>\n",
       "      <td>103803880</td>\n",
       "    </tr>\n",
       "    <tr>\n",
       "      <th>2017-09-01</th>\n",
       "      <td>247.92</td>\n",
       "      <td>248.33</td>\n",
       "      <td>247.67</td>\n",
       "      <td>247.84</td>\n",
       "      <td>62006989</td>\n",
       "    </tr>\n",
       "    <tr>\n",
       "      <th>2017-09-05</th>\n",
       "      <td>247.26</td>\n",
       "      <td>247.52</td>\n",
       "      <td>244.95</td>\n",
       "      <td>246.06</td>\n",
       "      <td>91398777</td>\n",
       "    </tr>\n",
       "    <tr>\n",
       "      <th>2017-09-08</th>\n",
       "      <td>246.54</td>\n",
       "      <td>247.11</td>\n",
       "      <td>246.30</td>\n",
       "      <td>246.58</td>\n",
       "      <td>63832825</td>\n",
       "    </tr>\n",
       "    <tr>\n",
       "      <th>2017-09-11</th>\n",
       "      <td>248.04</td>\n",
       "      <td>249.30</td>\n",
       "      <td>248.02</td>\n",
       "      <td>249.21</td>\n",
       "      <td>71364848</td>\n",
       "    </tr>\n",
       "  </tbody>\n",
       "</table>\n",
       "</div>"
      ],
      "text/plain": [
       "              Open    High     Low   Close     Volume\n",
       "Date                                                 \n",
       "2017-08-31  246.72  247.77  246.05  247.49  103803880\n",
       "2017-09-01  247.92  248.33  247.67  247.84   62006989\n",
       "2017-09-05  247.26  247.52  244.95  246.06   91398777\n",
       "2017-09-08  246.54  247.11  246.30  246.58   63832825\n",
       "2017-09-11  248.04  249.30  248.02  249.21   71364848"
      ]
     },
     "execution_count": 52,
     "metadata": {},
     "output_type": "execute_result"
    }
   ],
   "source": [
    "DAX.tail()  # tail方法提供数据集的最后5行"
   ]
  },
  {
   "cell_type": "markdown",
   "metadata": {},
   "source": [
    "为了更好的概览指数的历史，可再次使用plot方法生成一个图表："
   ]
  },
  {
   "cell_type": "code",
   "execution_count": 53,
   "metadata": {},
   "outputs": [
    {
     "data": {
      "text/plain": [
       "<matplotlib.axes._subplots.AxesSubplot at 0x1dcb2def5c0>"
      ]
     },
     "execution_count": 53,
     "metadata": {},
     "output_type": "execute_result"
    },
    {
     "data": {
      "image/png": "[encoded data removed]",
      "text/plain": [
       "<matplotlib.figure.Figure at 0x1dcb0dd1fd0>"
      ]
     },
     "metadata": {},
     "output_type": "display_data"
    }
   ],
   "source": [
    "DAX['Close'].plot(figsize=(8, 5), grid=True)\n",
    "# tag: dax\n",
    "# title: Historical DAX index levels"
   ]
  },
  {
   "cell_type": "markdown",
   "metadata": {},
   "source": [
    "和NumPy ndarray类似，pandas允许在整个甚至复杂的DataFame对象上进行向量化数学运算："
   ]
  },
  {
   "cell_type": "code",
   "execution_count": null,
   "metadata": {},
   "outputs": [
    {
     "name": "stderr",
     "output_type": "stream",
     "text": [
      "C:\\ProgramData\\Anaconda3\\lib\\site-packages\\ipykernel\\__main__.py:4: SettingWithCopyWarning: \n",
      "A value is trying to be set on a copy of a slice from a DataFrame\n",
      "\n",
      "See the caveats in the documentation: http://pandas.pydata.org/pandas-docs/stable/indexing.html#indexing-view-versus-copy\n"
     ]
    }
   ],
   "source": [
    "%%time\n",
    "DAX['Ret_Loop'] = 0.0\n",
    "for i in range(1, len(DAX)):\n",
    "    DAX['Ret_Loop'][i] = np.log(DAX['Close'][i] /\n",
    "                                DAX['Close'][i - 1])"
   ]
  },
  {
   "cell_type": "code",
   "execution_count": null,
   "metadata": {
    "collapsed": true
   },
   "outputs": [],
   "source": [
    "DAX[['Close', 'Ret_Loop']].tail()"
   ]
  },
  {
   "cell_type": "markdown",
   "metadata": {},
   "source": [
    "shift 方法实现向量化：   \n",
    "它相对于索引向前或向后移动Series或者整个DataFame对象。"
   ]
  },
  {
   "cell_type": "code",
   "execution_count": 7,
   "metadata": {},
   "outputs": [
    {
     "name": "stdout",
     "output_type": "stream",
     "text": [
      "Wall time: 65.2 ms\n"
     ]
    }
   ],
   "source": [
    "%time DAX['Return'] = np.log(DAX['Close'] / DAX['Close'].shift(1))"
   ]
  },
  {
   "cell_type": "code",
   "execution_count": null,
   "metadata": {
    "collapsed": true
   },
   "outputs": [],
   "source": [
    "del DAX['Ret_Loop'] "
   ]
  },
  {
   "cell_type": "code",
   "execution_count": 10,
   "metadata": {},
   "outputs": [
    {
     "data": {
      "text/plain": [
       "array([<matplotlib.axes._subplots.AxesSubplot object at 0x000001ADBDF69A58>,\n",
       "       <matplotlib.axes._subplots.AxesSubplot object at 0x000001ADBDFF9CC0>], dtype=object)"
      ]
     },
     "execution_count": 10,
     "metadata": {},
     "output_type": "execute_result"
    }
   ],
   "source": [
    "DAX[['Close', 'Return']].plot(subplots=True, style='b',\n",
    "                              figsize=(8, 5), grid=True)\n",
    "# tag: dax_returns\n",
    "# title: The DAX index and daily log returns"
   ]
  },
  {
   "cell_type": "markdown",
   "metadata": {},
   "source": [
    "移动平均值(即趋势)使用`rolling_mean`函数计算："
   ]
  },
  {
   "cell_type": "code",
   "execution_count": 11,
   "metadata": {
    "collapsed": true
   },
   "outputs": [],
   "source": [
    "DAX['42d'] = DAX['Close'].rolling(window=42).mean()\n",
    "DAX['252d'] = DAX['Close'].rolling(window=252).mean()"
   ]
  },
  {
   "cell_type": "code",
   "execution_count": 12,
   "metadata": {},
   "outputs": [
    {
     "data": {
      "text/html": [
       "<div>\n",
       "<style>\n",
       "    .dataframe thead tr:only-child th {\n",
       "        text-align: right;\n",
       "    }\n",
       "\n",
       "    .dataframe thead th {\n",
       "        text-align: left;\n",
       "    }\n",
       "\n",
       "    .dataframe tbody tr th {\n",
       "        vertical-align: top;\n",
       "    }\n",
       "</style>\n",
       "<table border=\"1\" class=\"dataframe\">\n",
       "  <thead>\n",
       "    <tr style=\"text-align: right;\">\n",
       "      <th></th>\n",
       "      <th>Close</th>\n",
       "      <th>42d</th>\n",
       "      <th>252d</th>\n",
       "    </tr>\n",
       "    <tr>\n",
       "      <th>Date</th>\n",
       "      <th></th>\n",
       "      <th></th>\n",
       "      <th></th>\n",
       "    </tr>\n",
       "  </thead>\n",
       "  <tbody>\n",
       "    <tr>\n",
       "      <th>2017-08-30</th>\n",
       "      <td>246.01</td>\n",
       "      <td>245.308571</td>\n",
       "      <td>231.418810</td>\n",
       "    </tr>\n",
       "    <tr>\n",
       "      <th>2017-08-31</th>\n",
       "      <td>247.49</td>\n",
       "      <td>245.434286</td>\n",
       "      <td>231.538294</td>\n",
       "    </tr>\n",
       "    <tr>\n",
       "      <th>2017-09-01</th>\n",
       "      <td>247.84</td>\n",
       "      <td>245.555000</td>\n",
       "      <td>231.659127</td>\n",
       "    </tr>\n",
       "    <tr>\n",
       "      <th>2017-09-05</th>\n",
       "      <td>246.06</td>\n",
       "      <td>245.686190</td>\n",
       "      <td>231.769008</td>\n",
       "    </tr>\n",
       "    <tr>\n",
       "      <th>2017-09-08</th>\n",
       "      <td>246.58</td>\n",
       "      <td>245.792619</td>\n",
       "      <td>231.878333</td>\n",
       "    </tr>\n",
       "  </tbody>\n",
       "</table>\n",
       "</div>"
      ],
      "text/plain": [
       "             Close         42d        252d\n",
       "Date                                      \n",
       "2017-08-30  246.01  245.308571  231.418810\n",
       "2017-08-31  247.49  245.434286  231.538294\n",
       "2017-09-01  247.84  245.555000  231.659127\n",
       "2017-09-05  246.06  245.686190  231.769008\n",
       "2017-09-08  246.58  245.792619  231.878333"
      ]
     },
     "execution_count": 12,
     "metadata": {},
     "output_type": "execute_result"
    }
   ],
   "source": [
    "DAX[['Close', '42d', '252d']].tail()"
   ]
  },
  {
   "cell_type": "code",
   "execution_count": 13,
   "metadata": {},
   "outputs": [
    {
     "data": {
      "text/plain": [
       "<matplotlib.axes._subplots.AxesSubplot at 0x1adbe139ac8>"
      ]
     },
     "execution_count": 13,
     "metadata": {},
     "output_type": "execute_result"
    }
   ],
   "source": [
    "DAX[['Close', '42d', '252d']].plot(figsize=(8, 5), grid=True)\n",
    "# tag: dax_trends\n",
    "# title: The DAX index and moving averages"
   ]
  },
  {
   "cell_type": "code",
   "execution_count": 14,
   "metadata": {
    "collapsed": true
   },
   "outputs": [],
   "source": [
    "import math\n",
    "DAX['Mov_Vol'] = DAX['Return'].rolling(window=252).std() * math.sqrt(252)\n",
    "  # moving annual volatility"
   ]
  },
  {
   "cell_type": "code",
   "execution_count": 15,
   "metadata": {},
   "outputs": [
    {
     "data": {
      "text/plain": [
       "array([<matplotlib.axes._subplots.AxesSubplot object at 0x000001ADBE1C3A90>,\n",
       "       <matplotlib.axes._subplots.AxesSubplot object at 0x000001ADBE1E02B0>,\n",
       "       <matplotlib.axes._subplots.AxesSubplot object at 0x000001ADBE1049E8>], dtype=object)"
      ]
     },
     "execution_count": 15,
     "metadata": {},
     "output_type": "execute_result"
    }
   ],
   "source": [
    "DAX[['Close', 'Mov_Vol', 'Return']].plot(subplots=True, style='b',\n",
    "                                         figsize=(8, 7), grid=True)\n",
    "# tag: dax_mov_std\n",
    "# title: The DAX index and moving, annualized volatility"
   ]
  },
  {
   "cell_type": "markdown",
   "metadata": {},
   "source": [
    "**波动率聚集**：    \n",
    "    波动率不是长期恒定的；既有高波动率时期(正收益和负收益都很高),也有低波动率时期\n",
    "    \n",
    "**杠杆效应**：   \n",
    "    一般地，波动性和股票市场收益是负相关的；当市场下跌时波动性升高，反之亦然。"
   ]
  },
  {
   "cell_type": "code",
   "execution_count": 3,
   "metadata": {
    "collapsed": true
   },
   "outputs": [],
   "source": [
    "import pandas as pd\n",
    "from urllib import request"
   ]
  },
  {
   "cell_type": "code",
   "execution_count": 4,
   "metadata": {},
   "outputs": [
    {
     "data": {
      "text/plain": [
       "('./data/vs.txt', <http.client.HTTPMessage at 0x1dfa9421828>)"
      ]
     },
     "execution_count": 4,
     "metadata": {},
     "output_type": "execute_result"
    }
   ],
   "source": [
    "es_url = 'https://www.stoxx.com/document/Indices/Current/HistoricalData/hbrbcpe.txt'\n",
    "vs_url = 'https://www.stoxx.com/document/Indices/Current/HistoricalData/h_vstoxx.txt'\n",
    "request.urlretrieve(es_url, './data/es.txt')\n",
    "request.urlretrieve(vs_url, './data/vs.txt')"
   ]
  },
  {
   "cell_type": "code",
   "execution_count": 5,
   "metadata": {},
   "outputs": [
    {
     "name": "stdout",
     "output_type": "stream",
     "text": [
      " 驱动器 C 中的卷是 Windows\n",
      " 卷的序列号是 1E3D-4470\n",
      "\n",
      " C:\\Users\\xiner\\Source\\Repos\\MyStudy\\content\\data 的目录\n",
      "\n",
      "2017/09/12  16:48           688,500 es.txt\n",
      "2017/09/12  16:38           539,080 es50.txt\n",
      "2017/09/12  16:48           363,485 vs.txt\n",
      "               3 个文件      1,591,065 字节\n",
      "               0 个目录 131,563,757,568 可用字节\n"
     ]
    }
   ],
   "source": [
    "ls .\\data\\*.txt"
   ]
  },
  {
   "cell_type": "markdown",
   "metadata": {},
   "source": [
    "用pandas直接读取EURO STOXX 50数据不是最好的途径，事先需要进行数据清理：    \n",
    "1. 有两个额外的标题行无需导入；\n",
    "2. 从2001年12月27日开始，数据集中每行数据的最后‘突然’出现一个额外的分号。"
   ]
  },
  {
   "cell_type": "code",
   "execution_count": 6,
   "metadata": {
    "collapsed": true
   },
   "outputs": [],
   "source": [
    "lines = open('./data/es.txt', 'r').readlines()\n",
    "lines = [line.replace(' ', '') for line in lines]   # 删除所有空白"
   ]
  },
  {
   "cell_type": "markdown",
   "metadata": {},
   "source": [
    "至于标题，我们可以打印前几行数据进行检查："
   ]
  },
  {
   "cell_type": "code",
   "execution_count": 7,
   "metadata": {},
   "outputs": [
    {
     "data": {
      "text/plain": [
       "['PriceIndices-EUROCurrency\\n',\n",
       " 'Date;Blue-Chip;Blue-Chip;Broad;Broad;ExUK;ExEuroZone;Blue-Chip;Broad\\n',\n",
       " ';Europe;Euro-Zone;Europe;Euro-Zone;;;Nordic;Nordic\\n',\n",
       " ';SX5P;SX5E;SXXP;SXXE;SXXF;SXXA;DK5F;DKXF\\n',\n",
       " '31.12.1986;775.00;900.82;82.76;98.58;98.06;69.06;645.26;65.56\\n',\n",
       " '01.01.1987;775.00;900.82;82.76;98.58;98.06;69.06;645.26;65.56\\n']"
      ]
     },
     "execution_count": 7,
     "metadata": {},
     "output_type": "execute_result"
    }
   ],
   "source": [
    "lines[:6]"
   ]
  },
  {
   "cell_type": "markdown",
   "metadata": {
    "collapsed": true
   },
   "source": [
    "上面提到的格式更改可以在文件的第3883和3990行之间看到。"
   ]
  },
  {
   "cell_type": "code",
   "execution_count": 8,
   "metadata": {},
   "outputs": [
    {
     "name": "stdout",
     "output_type": "stream",
     "text": [
      "317.10;267.23;5268.36;363.19\n",
      "322.55;272.18;5360.52;370.94\n",
      "322.69;272.95;5360.52;370.94\n",
      "327.57;277.68;5479.59;378.69;\n",
      "329.94;278.87;5585.35;386.99;\n",
      "326.77;272.38;5522.25;380.09;\n",
      "332.62;277.08;5722.57;396.12;\n"
     ]
    }
   ],
   "source": [
    "for line in lines[3883:3890]:\n",
    "    print(line[41:], end='')"
   ]
  },
  {
   "cell_type": "markdown",
   "metadata": {},
   "source": [
    "为了使得数据集更容易导入，我们进行如下处理：     \n",
    "1. 生成一个新的文本文件\n",
    "2. 删除不需要的标题行\n",
    "3. 在新文件中写入对应的新标题行\n",
    "4. 添加一个辅助列DEL(捕捉最后的分号)\n",
    "5. 将所有数据写入新文件"
   ]
  },
  {
   "cell_type": "code",
   "execution_count": 9,
   "metadata": {
    "collapsed": true
   },
   "outputs": [],
   "source": [
    "new_file = open('./data/es50.txt', 'w')\n",
    "    # opens a new file\n",
    "new_file.writelines('date' + lines[3][:-1]\n",
    "                    + ';DEL' + lines[3][-1])\n",
    "    # writes the corrected third line of the orginal file\n",
    "    # as first line of new file\n",
    "new_file.writelines(lines[4:])\n",
    "    # writes the remaining lines of the orginial file\n",
    "new_file.close()"
   ]
  },
  {
   "cell_type": "code",
   "execution_count": 10,
   "metadata": {},
   "outputs": [
    {
     "data": {
      "text/plain": [
       "['date;SX5P;SX5E;SXXP;SXXE;SXXF;SXXA;DK5F;DKXF;DEL\\n',\n",
       " '31.12.1986;775.00;900.82;82.76;98.58;98.06;69.06;645.26;65.56\\n',\n",
       " '01.01.1987;775.00;900.82;82.76;98.58;98.06;69.06;645.26;65.56\\n',\n",
       " '02.01.1987;770.89;891.78;82.57;97.80;97.43;69.37;647.62;65.81\\n',\n",
       " '05.01.1987;771.89;898.33;82.82;98.60;98.19;69.16;649.94;65.82\\n']"
      ]
     },
     "execution_count": 10,
     "metadata": {},
     "output_type": "execute_result"
    }
   ],
   "source": [
    "new_lines = open('./data/es50.txt', 'r').readlines()\n",
    "new_lines[:5]"
   ]
  },
  {
   "cell_type": "code",
   "execution_count": 11,
   "metadata": {
    "collapsed": true
   },
   "outputs": [],
   "source": [
    "es = pd.read_csv('./data/es50.txt', index_col=0,\n",
    "                 parse_dates=True, sep=';', dayfirst=True)"
   ]
  },
  {
   "cell_type": "code",
   "execution_count": 12,
   "metadata": {},
   "outputs": [
    {
     "data": {
      "text/html": [
       "<div>\n",
       "<style>\n",
       "    .dataframe thead tr:only-child th {\n",
       "        text-align: right;\n",
       "    }\n",
       "\n",
       "    .dataframe thead th {\n",
       "        text-align: left;\n",
       "    }\n",
       "\n",
       "    .dataframe tbody tr th {\n",
       "        vertical-align: top;\n",
       "    }\n",
       "</style>\n",
       "<table border=\"1\" class=\"dataframe\">\n",
       "  <thead>\n",
       "    <tr style=\"text-align: right;\">\n",
       "      <th></th>\n",
       "      <th>SX5P</th>\n",
       "      <th>SX5E</th>\n",
       "      <th>SXXP</th>\n",
       "      <th>SXXE</th>\n",
       "      <th>SXXF</th>\n",
       "      <th>SXXA</th>\n",
       "      <th>DK5F</th>\n",
       "      <th>DKXF</th>\n",
       "      <th>DEL</th>\n",
       "    </tr>\n",
       "    <tr>\n",
       "      <th>date</th>\n",
       "      <th></th>\n",
       "      <th></th>\n",
       "      <th></th>\n",
       "      <th></th>\n",
       "      <th></th>\n",
       "      <th></th>\n",
       "      <th></th>\n",
       "      <th></th>\n",
       "      <th></th>\n",
       "    </tr>\n",
       "  </thead>\n",
       "  <tbody>\n",
       "    <tr>\n",
       "      <th>2016-09-28</th>\n",
       "      <td>2847.0</td>\n",
       "      <td>2991.0</td>\n",
       "      <td>343.0</td>\n",
       "      <td>324.0</td>\n",
       "      <td>408.0</td>\n",
       "      <td>350.0</td>\n",
       "      <td>9072.0</td>\n",
       "      <td>581.0</td>\n",
       "      <td>NaN</td>\n",
       "    </tr>\n",
       "    <tr>\n",
       "      <th>2016-09-29</th>\n",
       "      <td>2849.0</td>\n",
       "      <td>2992.0</td>\n",
       "      <td>343.0</td>\n",
       "      <td>324.0</td>\n",
       "      <td>408.0</td>\n",
       "      <td>351.0</td>\n",
       "      <td>9112.0</td>\n",
       "      <td>583.0</td>\n",
       "      <td>NaN</td>\n",
       "    </tr>\n",
       "    <tr>\n",
       "      <th>2016-09-30</th>\n",
       "      <td>2843.0</td>\n",
       "      <td>3002.0</td>\n",
       "      <td>343.0</td>\n",
       "      <td>325.0</td>\n",
       "      <td>408.0</td>\n",
       "      <td>350.0</td>\n",
       "      <td>9116.0</td>\n",
       "      <td>583.0</td>\n",
       "      <td>NaN</td>\n",
       "    </tr>\n",
       "    <tr>\n",
       "      <th>2016-10-03</th>\n",
       "      <td>2845.0</td>\n",
       "      <td>2998.0</td>\n",
       "      <td>343.0</td>\n",
       "      <td>325.0</td>\n",
       "      <td>408.0</td>\n",
       "      <td>351.0</td>\n",
       "      <td>9131.0</td>\n",
       "      <td>584.0</td>\n",
       "      <td>NaN</td>\n",
       "    </tr>\n",
       "    <tr>\n",
       "      <th>2016-10-04</th>\n",
       "      <td>2871.0</td>\n",
       "      <td>3030.0</td>\n",
       "      <td>346.0</td>\n",
       "      <td>328.0</td>\n",
       "      <td>411.0</td>\n",
       "      <td>354.0</td>\n",
       "      <td>9212.0</td>\n",
       "      <td>589.0</td>\n",
       "      <td>NaN</td>\n",
       "    </tr>\n",
       "  </tbody>\n",
       "</table>\n",
       "</div>"
      ],
      "text/plain": [
       "              SX5P    SX5E   SXXP   SXXE   SXXF   SXXA    DK5F   DKXF  DEL\n",
       "date                                                                      \n",
       "2016-09-28  2847.0  2991.0  343.0  324.0  408.0  350.0  9072.0  581.0  NaN\n",
       "2016-09-29  2849.0  2992.0  343.0  324.0  408.0  351.0  9112.0  583.0  NaN\n",
       "2016-09-30  2843.0  3002.0  343.0  325.0  408.0  350.0  9116.0  583.0  NaN\n",
       "2016-10-03  2845.0  2998.0  343.0  325.0  408.0  351.0  9131.0  584.0  NaN\n",
       "2016-10-04  2871.0  3030.0  346.0  328.0  411.0  354.0  9212.0  589.0  NaN"
      ]
     },
     "execution_count": 12,
     "metadata": {},
     "output_type": "execute_result"
    }
   ],
   "source": [
    "np.round(es.tail())"
   ]
  },
  {
   "cell_type": "markdown",
   "metadata": {},
   "source": [
    "辅助列已经完成使命，可以删除："
   ]
  },
  {
   "cell_type": "code",
   "execution_count": 13,
   "metadata": {},
   "outputs": [
    {
     "name": "stdout",
     "output_type": "stream",
     "text": [
      "<class 'pandas.core.frame.DataFrame'>\n",
      "DatetimeIndex: 7673 entries, 1986-12-31 to 2016-10-04\n",
      "Data columns (total 8 columns):\n",
      "SX5P    7673 non-null float64\n",
      "SX5E    7673 non-null float64\n",
      "SXXP    7673 non-null float64\n",
      "SXXE    7673 non-null float64\n",
      "SXXF    7673 non-null float64\n",
      "SXXA    7673 non-null float64\n",
      "DK5F    7673 non-null float64\n",
      "DKXF    7673 non-null float64\n",
      "dtypes: float64(8)\n",
      "memory usage: 539.5 KB\n"
     ]
    }
   ],
   "source": [
    "del es['DEL'] \n",
    "es.info()"
   ]
  },
  {
   "cell_type": "code",
   "execution_count": 14,
   "metadata": {
    "collapsed": true
   },
   "outputs": [],
   "source": [
    "cols = ['SX5P', 'SX5E', 'SXXP', 'SXXE', 'SXXF',\n",
    "        'SXXA', 'DK5F', 'DKXF']\n",
    "es = pd.read_csv(es_url, index_col=0, parse_dates=True,\n",
    "                 sep=';', dayfirst=True, header=None,\n",
    "                 skiprows=4, names=cols)"
   ]
  },
  {
   "cell_type": "code",
   "execution_count": 15,
   "metadata": {},
   "outputs": [
    {
     "data": {
      "text/html": [
       "<div>\n",
       "<style>\n",
       "    .dataframe thead tr:only-child th {\n",
       "        text-align: right;\n",
       "    }\n",
       "\n",
       "    .dataframe thead th {\n",
       "        text-align: left;\n",
       "    }\n",
       "\n",
       "    .dataframe tbody tr th {\n",
       "        vertical-align: top;\n",
       "    }\n",
       "</style>\n",
       "<table border=\"1\" class=\"dataframe\">\n",
       "  <thead>\n",
       "    <tr style=\"text-align: right;\">\n",
       "      <th></th>\n",
       "      <th>SX5P</th>\n",
       "      <th>SX5E</th>\n",
       "      <th>SXXP</th>\n",
       "      <th>SXXE</th>\n",
       "      <th>SXXF</th>\n",
       "      <th>SXXA</th>\n",
       "      <th>DK5F</th>\n",
       "      <th>DKXF</th>\n",
       "    </tr>\n",
       "  </thead>\n",
       "  <tbody>\n",
       "    <tr>\n",
       "      <th>2016-09-28</th>\n",
       "      <td>2846.55</td>\n",
       "      <td>2991.11</td>\n",
       "      <td>342.57</td>\n",
       "      <td>324.24</td>\n",
       "      <td>407.97</td>\n",
       "      <td>350.45</td>\n",
       "      <td>9072.09</td>\n",
       "      <td>581.27</td>\n",
       "    </tr>\n",
       "    <tr>\n",
       "      <th>2016-09-29</th>\n",
       "      <td>2848.93</td>\n",
       "      <td>2991.58</td>\n",
       "      <td>342.72</td>\n",
       "      <td>324.08</td>\n",
       "      <td>407.65</td>\n",
       "      <td>350.90</td>\n",
       "      <td>9112.09</td>\n",
       "      <td>582.60</td>\n",
       "    </tr>\n",
       "    <tr>\n",
       "      <th>2016-09-30</th>\n",
       "      <td>2843.17</td>\n",
       "      <td>3002.24</td>\n",
       "      <td>342.92</td>\n",
       "      <td>325.31</td>\n",
       "      <td>408.27</td>\n",
       "      <td>350.09</td>\n",
       "      <td>9115.81</td>\n",
       "      <td>583.26</td>\n",
       "    </tr>\n",
       "    <tr>\n",
       "      <th>2016-10-03</th>\n",
       "      <td>2845.43</td>\n",
       "      <td>2998.50</td>\n",
       "      <td>343.23</td>\n",
       "      <td>325.08</td>\n",
       "      <td>408.44</td>\n",
       "      <td>350.92</td>\n",
       "      <td>9131.24</td>\n",
       "      <td>584.32</td>\n",
       "    </tr>\n",
       "    <tr>\n",
       "      <th>2016-10-04</th>\n",
       "      <td>2871.06</td>\n",
       "      <td>3029.50</td>\n",
       "      <td>346.10</td>\n",
       "      <td>327.73</td>\n",
       "      <td>411.41</td>\n",
       "      <td>353.92</td>\n",
       "      <td>9212.05</td>\n",
       "      <td>588.71</td>\n",
       "    </tr>\n",
       "  </tbody>\n",
       "</table>\n",
       "</div>"
      ],
      "text/plain": [
       "               SX5P     SX5E    SXXP    SXXE    SXXF    SXXA     DK5F    DKXF\n",
       "2016-09-28  2846.55  2991.11  342.57  324.24  407.97  350.45  9072.09  581.27\n",
       "2016-09-29  2848.93  2991.58  342.72  324.08  407.65  350.90  9112.09  582.60\n",
       "2016-09-30  2843.17  3002.24  342.92  325.31  408.27  350.09  9115.81  583.26\n",
       "2016-10-03  2845.43  2998.50  343.23  325.08  408.44  350.92  9131.24  584.32\n",
       "2016-10-04  2871.06  3029.50  346.10  327.73  411.41  353.92  9212.05  588.71"
      ]
     },
     "execution_count": 15,
     "metadata": {},
     "output_type": "execute_result"
    }
   ],
   "source": [
    "es.tail()"
   ]
  },
  {
   "cell_type": "code",
   "execution_count": 16,
   "metadata": {},
   "outputs": [
    {
     "name": "stdout",
     "output_type": "stream",
     "text": [
      "<class 'pandas.core.frame.DataFrame'>\n",
      "DatetimeIndex: 4357 entries, 1999-01-04 to 2016-02-12\n",
      "Data columns (total 9 columns):\n",
      "V2TX    4357 non-null float64\n",
      "V6I1    3906 non-null float64\n",
      "V6I2    4357 non-null float64\n",
      "V6I3    4296 non-null float64\n",
      "V6I4    4357 non-null float64\n",
      "V6I5    4357 non-null float64\n",
      "V6I6    4340 non-null float64\n",
      "V6I7    4357 non-null float64\n",
      "V6I8    4343 non-null float64\n",
      "dtypes: float64(9)\n",
      "memory usage: 340.4 KB\n"
     ]
    }
   ],
   "source": [
    "vs = pd.read_csv('./data/vs.txt', index_col=0, header=2,\n",
    "                 parse_dates=True, dayfirst=True)\n",
    "vs.info()"
   ]
  },
  {
   "cell_type": "markdown",
   "metadata": {},
   "source": [
    "#### read_csv函数参数：\n",
    "```json\n",
    "filepath_or_buffer : str, pathlib.Path, py._path.local.LocalPath or any object with a read() method (such as a file handle or StringIO)\n",
    "    The string could be a URL. Valid URL schemes include http, ftp, s3, and\n",
    "    file. For file URLs, a host is expected. For instance, a local file could\n",
    "    be file ://localhost/path/to/table.csv\n",
    "sep : str, default ','\n",
    "    Delimiter to use. If sep is None, the C engine cannot automatically detect\n",
    "    the separator, but the Python parsing engine can, meaning the latter will\n",
    "    be used automatically. In addition, separators longer than 1 character and\n",
    "    different from ``'\\s+'`` will be interpreted as regular expressions and\n",
    "    will also force the use of the Python parsing engine. Note that regex\n",
    "    delimiters are prone to ignoring quoted data. Regex example: ``'\\r\\t'``\n",
    "delimiter : str, default ``None``\n",
    "    Alternative argument name for sep.\n",
    "delim_whitespace : boolean, default False\n",
    "    Specifies whether or not whitespace (e.g. ``' '`` or ``'    '``) will be\n",
    "    used as the sep. Equivalent to setting ``sep='\\s+'``. If this option\n",
    "    is set to True, nothing should be passed in for the ``delimiter``\n",
    "    parameter.\n",
    "\n",
    "    .. versionadded:: 0.18.1 support for the Python parser.\n",
    "\n",
    "header : int or list of ints, default 'infer'\n",
    "    Row number(s) to use as the column names, and the start of the data.\n",
    "    Default behavior is as if set to 0 if no ``names`` passed, otherwise\n",
    "    ``None``. Explicitly pass ``header=0`` to be able to replace existing\n",
    "    names. The header can be a list of integers that specify row locations for\n",
    "    a multi-index on the columns e.g. [0,1,3]. Intervening rows that are not\n",
    "    specified will be skipped (e.g. 2 in this example is skipped). Note that\n",
    "    this parameter ignores commented lines and empty lines if\n",
    "    ``skip_blank_lines=True``, so header=0 denotes the first line of data\n",
    "    rather than the first line of the file.\n",
    "names : array-like, default None\n",
    "    List of column names to use. If file contains no header row, then you\n",
    "    should explicitly pass header=None. Duplicates in this list are not\n",
    "    allowed unless mangle_dupe_cols=True, which is the default.\n",
    "index_col : int or sequence or False, default None\n",
    "    Column to use as the row labels of the DataFrame. If a sequence is given, a\n",
    "    MultiIndex is used. If you have a malformed file with delimiters at the end\n",
    "    of each line, you might consider index_col=False to force pandas to _not_\n",
    "    use the first column as the index (row names)\n",
    "usecols : array-like or callable, default None\n",
    "    Return a subset of the columns. If array-like, all elements must either\n",
    "    be positional (i.e. integer indices into the document columns) or strings\n",
    "    that correspond to column names provided either by the user in `names` or\n",
    "    inferred from the document header row(s). For example, a valid array-like\n",
    "    `usecols` parameter would be [0, 1, 2] or ['foo', 'bar', 'baz'].\n",
    "\n",
    "    If callable, the callable function will be evaluated against the column\n",
    "    names, returning names where the callable function evaluates to True. An\n",
    "    example of a valid callable argument would be ``lambda x: x.upper() in\n",
    "    ['AAA', 'BBB', 'DDD']``. Using this parameter results in much faster\n",
    "    parsing time and lower memory usage.\n",
    "as_recarray : boolean, default False\n",
    "    DEPRECATED: this argument will be removed in a future version. Please call\n",
    "    `pd.read_csv(...).to_records()` instead.\n",
    "\n",
    "    Return a NumPy recarray instead of a DataFrame after parsing the data.\n",
    "    If set to True, this option takes precedence over the `squeeze` parameter.\n",
    "    In addition, as row indices are not available in such a format, the\n",
    "    `index_col` parameter will be ignored.\n",
    "squeeze : boolean, default False\n",
    "    If the parsed data only contains one column then return a Series\n",
    "prefix : str, default None\n",
    "    Prefix to add to column numbers when no header, e.g. 'X' for X0, X1, ...\n",
    "mangle_dupe_cols : boolean, default True\n",
    "    Duplicate columns will be specified as 'X.0'...'X.N', rather than\n",
    "    'X'...'X'. Passing in False will cause data to be overwritten if there\n",
    "    are duplicate names in the columns.\n",
    "dtype : Type name or dict of column -> type, default None\n",
    "    Data type for data or columns. E.g. {'a': np.float64, 'b': np.int32}\n",
    "    Use `str` or `object` to preserve and not interpret dtype.\n",
    "    If converters are specified, they will be applied INSTEAD\n",
    "    of dtype conversion.\n",
    "engine : {'c', 'python'}, optional\n",
    "    Parser engine to use. The C engine is faster while the python engine is\n",
    "    currently more feature-complete.\n",
    "converters : dict, default None\n",
    "    Dict of functions for converting values in certain columns. Keys can either\n",
    "    be integers or column labels\n",
    "true_values : list, default None\n",
    "    Values to consider as True\n",
    "false_values : list, default None\n",
    "    Values to consider as False\n",
    "skipinitialspace : boolean, default False\n",
    "    Skip spaces after delimiter.\n",
    "skiprows : list-like or integer or callable, default None\n",
    "    Line numbers to skip (0-indexed) or number of lines to skip (int)\n",
    "    at the start of the file.\n",
    "\n",
    "    If callable, the callable function will be evaluated against the row\n",
    "    indices, returning True if the row should be skipped and False otherwise.\n",
    "    An example of a valid callable argument would be ``lambda x: x in [0, 2]``.\n",
    "skipfooter : int, default 0\n",
    "    Number of lines at bottom of file to skip (Unsupported with engine='c')\n",
    "skip_footer : int, default 0\n",
    "    DEPRECATED: use the `skipfooter` parameter instead, as they are identical\n",
    "nrows : int, default None\n",
    "    Number of rows of file to read. Useful for reading pieces of large files\n",
    "na_values : scalar, str, list-like, or dict, default None\n",
    "    Additional strings to recognize as NA/NaN. If dict passed, specific\n",
    "    per-column NA values.  By default the following values are interpreted as\n",
    "    NaN: '', '#N/A', '#N/A N/A', '#NA', '-1.#IND', '-1.#QNAN', '-NaN', '-nan',\n",
    "    '1.#IND', '1.#QNAN', 'N/A', 'NA', 'NULL', 'NaN', 'nan'`.\n",
    "keep_default_na : bool, default True\n",
    "    If na_values are specified and keep_default_na is False the default NaN\n",
    "    values are overridden, otherwise they're appended to.\n",
    "na_filter : boolean, default True\n",
    "    Detect missing value markers (empty strings and the value of na_values). In\n",
    "    data without any NAs, passing na_filter=False can improve the performance\n",
    "    of reading a large file\n",
    "verbose : boolean, default False\n",
    "    Indicate number of NA values placed in non-numeric columns\n",
    "skip_blank_lines : boolean, default True\n",
    "    If True, skip over blank lines rather than interpreting as NaN values\n",
    "parse_dates : boolean or list of ints or names or list of lists or dict, default False\n",
    "\n",
    "    * boolean. If True -> try parsing the index.\n",
    "    * list of ints or names. e.g. If [1, 2, 3] -> try parsing columns 1, 2, 3\n",
    "      each as a separate date column.\n",
    "    * list of lists. e.g.  If [[1, 3]] -> combine columns 1 and 3 and parse as\n",
    "      a single date column.\n",
    "    * dict, e.g. {'foo' : [1, 3]} -> parse columns 1, 3 as date and call result\n",
    "      'foo'\n",
    "\n",
    "    If a column or index contains an unparseable date, the entire column or\n",
    "    index will be returned unaltered as an object data type. For non-standard\n",
    "    datetime parsing, use ``pd.to_datetime`` after ``pd.read_csv``\n",
    "\n",
    "    Note: A fast-path exists for iso8601-formatted dates.\n",
    "infer_datetime_format : boolean, default False\n",
    "    If True and parse_dates is enabled, pandas will attempt to infer the format\n",
    "    of the datetime strings in the columns, and if it can be inferred, switch\n",
    "    to a faster method of parsing them. In some cases this can increase the\n",
    "    parsing speed by 5-10x.\n",
    "keep_date_col : boolean, default False\n",
    "    If True and parse_dates specifies combining multiple columns then\n",
    "    keep the original columns.\n",
    "date_parser : function, default None\n",
    "    Function to use for converting a sequence of string columns to an array of\n",
    "    datetime instances. The default uses ``dateutil.parser.parser`` to do the\n",
    "    conversion. Pandas will try to call date_parser in three different ways,\n",
    "    advancing to the next if an exception occurs: 1) Pass one or more arrays\n",
    "    (as defined by parse_dates) as arguments; 2) concatenate (row-wise) the\n",
    "    string values from the columns defined by parse_dates into a single array\n",
    "    and pass that; and 3) call date_parser once for each row using one or more\n",
    "    strings (corresponding to the columns defined by parse_dates) as arguments.\n",
    "dayfirst : boolean, default False\n",
    "    DD/MM format dates, international and European format\n",
    "iterator : boolean, default False\n",
    "    Return TextFileReader object for iteration or getting chunks with\n",
    "    ``get_chunk()``.\n",
    "chunksize : int, default None\n",
    "    Return TextFileReader object for iteration.\n",
    "    See the `IO Tools docs\n",
    "    <http://pandas.pydata.org/pandas-docs/stable/io.html#io-chunking>`_\n",
    "    for more information on ``iterator`` and ``chunksize``.\n",
    "compression : {'infer', 'gzip', 'bz2', 'zip', 'xz', None}, default 'infer'\n",
    "    For on-the-fly decompression of on-disk data. If 'infer', then use gzip,\n",
    "    bz2, zip or xz if filepath_or_buffer is a string ending in '.gz', '.bz2',\n",
    "    '.zip', or 'xz', respectively, and no decompression otherwise. If using\n",
    "    'zip', the ZIP file must contain only one data file to be read in.\n",
    "    Set to None for no decompression.\n",
    "\n",
    "    .. versionadded:: 0.18.1 support for 'zip' and 'xz' compression.\n",
    "\n",
    "thousands : str, default None\n",
    "    Thousands separator\n",
    "decimal : str, default '.'\n",
    "    Character to recognize as decimal point (e.g. use ',' for European data).\n",
    "float_precision : string, default None\n",
    "    Specifies which converter the C engine should use for floating-point\n",
    "    values. The options are `None` for the ordinary converter,\n",
    "    `high` for the high-precision converter, and `round_trip` for the\n",
    "    round-trip converter.\n",
    "lineterminator : str (length 1), default None\n",
    "    Character to break file into lines. Only valid with C parser.\n",
    "quotechar : str (length 1), optional\n",
    "    The character used to denote the start and end of a quoted item. Quoted\n",
    "    items can include the delimiter and it will be ignored.\n",
    "quoting : int or csv.QUOTE_* instance, default 0\n",
    "    Control field quoting behavior per ``csv.QUOTE_*`` constants. Use one of\n",
    "    QUOTE_MINIMAL (0), QUOTE_ALL (1), QUOTE_NONNUMERIC (2) or QUOTE_NONE (3).\n",
    "doublequote : boolean, default ``True``\n",
    "   When quotechar is specified and quoting is not ``QUOTE_NONE``, indicate\n",
    "   whether or not to interpret two consecutive quotechar elements INSIDE a\n",
    "   field as a single ``quotechar`` element.\n",
    "escapechar : str (length 1), default None\n",
    "    One-character string used to escape delimiter when quoting is QUOTE_NONE.\n",
    "comment : str, default None\n",
    "    Indicates remainder of line should not be parsed. If found at the beginning\n",
    "    of a line, the line will be ignored altogether. This parameter must be a\n",
    "    single character. Like empty lines (as long as ``skip_blank_lines=True``),\n",
    "    fully commented lines are ignored by the parameter `header` but not by\n",
    "    `skiprows`. For example, if comment='#', parsing '#empty\\na,b,c\\n1,2,3'\n",
    "    with `header=0` will result in 'a,b,c' being\n",
    "    treated as the header.\n",
    "encoding : str, default None\n",
    "    Encoding to use for UTF when reading/writing (ex. 'utf-8'). `List of Python\n",
    "    standard encodings\n",
    "    <https://docs.python.org/3/library/codecs.html#standard-encodings>`_\n",
    "dialect : str or csv.Dialect instance, default None\n",
    "    If provided, this parameter will override values (default or not) for the\n",
    "    following parameters: `delimiter`, `doublequote`, `escapechar`,\n",
    "    `skipinitialspace`, `quotechar`, and `quoting`. If it is necessary to\n",
    "    override values, a ParserWarning will be issued. See csv.Dialect\n",
    "    documentation for more details.\n",
    "tupleize_cols : boolean, default False\n",
    "    Leave a list of tuples on columns as is (default is to convert to\n",
    "    a Multi Index on the columns)\n",
    "error_bad_lines : boolean, default True\n",
    "    Lines with too many fields (e.g. a csv line with too many commas) will by\n",
    "    default cause an exception to be raised, and no DataFrame will be returned.\n",
    "    If False, then these \"bad lines\" will dropped from the DataFrame that is\n",
    "    returned.\n",
    "warn_bad_lines : boolean, default True\n",
    "    If error_bad_lines is False, and warn_bad_lines is True, a warning for each\n",
    "    \"bad line\" will be output.\n",
    "low_memory : boolean, default True\n",
    "    Internally process the file in chunks, resulting in lower memory use\n",
    "    while parsing, but possibly mixed type inference.  To ensure no mixed\n",
    "    types either set False, or specify the type with the `dtype` parameter.\n",
    "    Note that the entire file is read into a single DataFrame regardless,\n",
    "    use the `chunksize` or `iterator` parameter to return the data in chunks.\n",
    "    (Only valid with C parser)\n",
    "buffer_lines : int, default None\n",
    "    DEPRECATED: this argument will be removed in a future version because its\n",
    "    value is not respected by the parser\n",
    "compact_ints : boolean, default False\n",
    "    DEPRECATED: this argument will be removed in a future version\n",
    "\n",
    "    If compact_ints is True, then for any column that is of integer dtype,\n",
    "    the parser will attempt to cast it as the smallest integer dtype possible,\n",
    "    either signed or unsigned depending on the specification from the\n",
    "    `use_unsigned` parameter.\n",
    "use_unsigned : boolean, default False\n",
    "    DEPRECATED: this argument will be removed in a future version\n",
    "\n",
    "    If integer columns are being compacted (i.e. `compact_ints=True`), specify\n",
    "    whether the column should be compacted to the smallest signed or unsigned\n",
    "    integer dtype.\n",
    "memory_map : boolean, default False\n",
    "    If a filepath is provided for `filepath_or_buffer`, map the file object\n",
    "    directly onto memory and access the data directly from there. Using this\n",
    "    option can improve performance because there is no longer any I/O overhead.\n",
    "\n",
    "Returns\n",
    "-------\n",
    "result : DataFrame or TextParser\n",
    "```"
   ]
  },
  {
   "cell_type": "code",
   "execution_count": 17,
   "metadata": {
    "collapsed": true
   },
   "outputs": [],
   "source": [
    "import datetime as dt\n",
    "data = pd.DataFrame({'EUROSTOXX' :\n",
    "                     es['SX5E'][es.index > dt.datetime(1999, 1, 1)]})\n",
    "data = data.join(pd.DataFrame({'VSTOXX' :\n",
    "                     vs['V2TX'][vs.index > dt.datetime(1999, 1, 1)]}))"
   ]
  },
  {
   "cell_type": "markdown",
   "metadata": {},
   "source": [
    "使用时间序列中的最后可用值填补遗漏的数值，调用 `fillna`方法，以`ffill`(用于向前填充)作为method参数的值。"
   ]
  },
  {
   "cell_type": "code",
   "execution_count": 18,
   "metadata": {},
   "outputs": [
    {
     "name": "stdout",
     "output_type": "stream",
     "text": [
      "<class 'pandas.core.frame.DataFrame'>\n",
      "DatetimeIndex: 4554 entries, 1999-01-04 to 2016-10-04\n",
      "Data columns (total 2 columns):\n",
      "EUROSTOXX    4554 non-null float64\n",
      "VSTOXX       4554 non-null float64\n",
      "dtypes: float64(2)\n",
      "memory usage: 266.7 KB\n"
     ]
    }
   ],
   "source": [
    "data = data.fillna(method = 'ffill')\n",
    "\n",
    "data.info()"
   ]
  },
  {
   "cell_type": "code",
   "execution_count": 19,
   "metadata": {},
   "outputs": [
    {
     "data": {
      "text/html": [
       "<div>\n",
       "<style>\n",
       "    .dataframe thead tr:only-child th {\n",
       "        text-align: right;\n",
       "    }\n",
       "\n",
       "    .dataframe thead th {\n",
       "        text-align: left;\n",
       "    }\n",
       "\n",
       "    .dataframe tbody tr th {\n",
       "        vertical-align: top;\n",
       "    }\n",
       "</style>\n",
       "<table border=\"1\" class=\"dataframe\">\n",
       "  <thead>\n",
       "    <tr style=\"text-align: right;\">\n",
       "      <th></th>\n",
       "      <th>EUROSTOXX</th>\n",
       "      <th>VSTOXX</th>\n",
       "    </tr>\n",
       "  </thead>\n",
       "  <tbody>\n",
       "    <tr>\n",
       "      <th>2016-09-28</th>\n",
       "      <td>2991.11</td>\n",
       "      <td>35.6846</td>\n",
       "    </tr>\n",
       "    <tr>\n",
       "      <th>2016-09-29</th>\n",
       "      <td>2991.58</td>\n",
       "      <td>35.6846</td>\n",
       "    </tr>\n",
       "    <tr>\n",
       "      <th>2016-09-30</th>\n",
       "      <td>3002.24</td>\n",
       "      <td>35.6846</td>\n",
       "    </tr>\n",
       "    <tr>\n",
       "      <th>2016-10-03</th>\n",
       "      <td>2998.50</td>\n",
       "      <td>35.6846</td>\n",
       "    </tr>\n",
       "    <tr>\n",
       "      <th>2016-10-04</th>\n",
       "      <td>3029.50</td>\n",
       "      <td>35.6846</td>\n",
       "    </tr>\n",
       "  </tbody>\n",
       "</table>\n",
       "</div>"
      ],
      "text/plain": [
       "            EUROSTOXX   VSTOXX\n",
       "2016-09-28    2991.11  35.6846\n",
       "2016-09-29    2991.58  35.6846\n",
       "2016-09-30    3002.24  35.6846\n",
       "2016-10-03    2998.50  35.6846\n",
       "2016-10-04    3029.50  35.6846"
      ]
     },
     "execution_count": 19,
     "metadata": {},
     "output_type": "execute_result"
    }
   ],
   "source": [
    "data.tail()"
   ]
  },
  {
   "cell_type": "code",
   "execution_count": 20,
   "metadata": {},
   "outputs": [
    {
     "data": {
      "text/plain": [
       "array([<matplotlib.axes._subplots.AxesSubplot object at 0x000001DFA9521C18>,\n",
       "       <matplotlib.axes._subplots.AxesSubplot object at 0x000001DFA96687F0>], dtype=object)"
      ]
     },
     "execution_count": 20,
     "metadata": {},
     "output_type": "execute_result"
    }
   ],
   "source": [
    "data.plot(subplots=True, grid=True, style='b', figsize=(8, 6))\n",
    "# tag: es50_vs\n",
    "# title: The EURO STOXX 50 Index and the VSTOXX volatility index"
   ]
  },
  {
   "cell_type": "code",
   "execution_count": 21,
   "metadata": {},
   "outputs": [
    {
     "name": "stderr",
     "output_type": "stream",
     "text": [
      "C:\\ProgramData\\Anaconda3\\lib\\site-packages\\ipykernel\\__main__.py:1: RuntimeWarning: divide by zero encountered in log\n",
      "  if __name__ == '__main__':\n"
     ]
    },
    {
     "data": {
      "text/html": [
       "<div>\n",
       "<style>\n",
       "    .dataframe thead tr:only-child th {\n",
       "        text-align: right;\n",
       "    }\n",
       "\n",
       "    .dataframe thead th {\n",
       "        text-align: left;\n",
       "    }\n",
       "\n",
       "    .dataframe tbody tr th {\n",
       "        vertical-align: top;\n",
       "    }\n",
       "</style>\n",
       "<table border=\"1\" class=\"dataframe\">\n",
       "  <thead>\n",
       "    <tr style=\"text-align: right;\">\n",
       "      <th></th>\n",
       "      <th>EUROSTOXX</th>\n",
       "      <th>VSTOXX</th>\n",
       "    </tr>\n",
       "  </thead>\n",
       "  <tbody>\n",
       "    <tr>\n",
       "      <th>1999-01-04</th>\n",
       "      <td>NaN</td>\n",
       "      <td>NaN</td>\n",
       "    </tr>\n",
       "    <tr>\n",
       "      <th>1999-01-05</th>\n",
       "      <td>0.017228</td>\n",
       "      <td>0.489248</td>\n",
       "    </tr>\n",
       "    <tr>\n",
       "      <th>1999-01-06</th>\n",
       "      <td>0.022138</td>\n",
       "      <td>-0.165317</td>\n",
       "    </tr>\n",
       "    <tr>\n",
       "      <th>1999-01-07</th>\n",
       "      <td>-0.015723</td>\n",
       "      <td>0.256337</td>\n",
       "    </tr>\n",
       "    <tr>\n",
       "      <th>1999-01-08</th>\n",
       "      <td>-0.003120</td>\n",
       "      <td>0.021570</td>\n",
       "    </tr>\n",
       "  </tbody>\n",
       "</table>\n",
       "</div>"
      ],
      "text/plain": [
       "            EUROSTOXX    VSTOXX\n",
       "1999-01-04        NaN       NaN\n",
       "1999-01-05   0.017228  0.489248\n",
       "1999-01-06   0.022138 -0.165317\n",
       "1999-01-07  -0.015723  0.256337\n",
       "1999-01-08  -0.003120  0.021570"
      ]
     },
     "execution_count": 21,
     "metadata": {},
     "output_type": "execute_result"
    }
   ],
   "source": [
    "rets = np.log(data / data.shift(1)) \n",
    "rets.head()"
   ]
  },
  {
   "cell_type": "code",
   "execution_count": 22,
   "metadata": {
    "collapsed": true
   },
   "outputs": [],
   "source": [
    "rets.dropna(inplace=True)"
   ]
  },
  {
   "cell_type": "code",
   "execution_count": 23,
   "metadata": {},
   "outputs": [
    {
     "data": {
      "text/plain": [
       "array([<matplotlib.axes._subplots.AxesSubplot object at 0x000001DFA976B518>,\n",
       "       <matplotlib.axes._subplots.AxesSubplot object at 0x000001DFA9821C50>], dtype=object)"
      ]
     },
     "execution_count": 23,
     "metadata": {},
     "output_type": "execute_result"
    }
   ],
   "source": [
    "rets.plot(subplots=True, grid=True, style='b', figsize=(8, 6))\n",
    "# tag: es50_vs_rets\n",
    "# title: Log returns of EURO STOXX 50 and VSTOXX"
   ]
  },
  {
   "cell_type": "markdown",
   "metadata": {
    "collapsed": true
   },
   "source": [
    "# 拓展：\n",
    "- [pandas库](http://pandas.pydata.org)\n",
    "- [在线帮助文件](http://pandas.pydata.org/pandas-docs/stable/)\n",
    "- [pandas功能](http://pandas.pydata.org/pandasdocs/stable/pandas.pdf)"
   ]
  }
 ],
 "metadata": {
  "kernelspec": {
   "display_name": "Python [conda root]",
   "language": "python",
   "name": "conda-root-py"
  },
  "language_info": {
   "codemirror_mode": {
    "name": "ipython",
    "version": 3
   },
   "file_extension": ".py",
   "mimetype": "text/x-python",
   "name": "python",
   "nbconvert_exporter": "python",
   "pygments_lexer": "ipython3",
   "version": "3.6.1"
  }
 },
 "nbformat": 4,
 "nbformat_minor": 2
}
