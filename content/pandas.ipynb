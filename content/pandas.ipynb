{
 "cells": [
  {
   "cell_type": "markdown",
   "metadata": {},
   "source": [
    "<img style=\"border:0px solid grey;\" src=\"http://hilpisch.com/python_for_finance.png\" alt=\"Python for Finance\" width=\"10%\" align=\"left\" border=\"0\">"
   ]
  },
  {
   "cell_type": "markdown",
   "metadata": {},
   "source": [
    "# Financial Time Series(金融时间序列)\n",
    "关于matplotlib可参考<https://github.com/SynMind/MyStudy/blob/master/matplotlib/matplotlib.md>"
   ]
  },
  {
   "cell_type": "code",
   "execution_count": 1,
   "metadata": {
    "collapsed": true
   },
   "outputs": [],
   "source": [
    "from pylab import plt\n",
    "plt.style.use('ggplot')\n",
    "import matplotlib as mpl\n",
    "mpl.rcParams['font.family'] = 'serif'"
   ]
  },
  {
   "cell_type": "markdown",
   "metadata": {},
   "source": [
    "## pandas Basics"
   ]
  },
  {
   "cell_type": "code",
   "execution_count": 2,
   "metadata": {
    "collapsed": true
   },
   "outputs": [],
   "source": [
    "import numpy as np\n",
    "import pandas as pd"
   ]
  },
  {
   "cell_type": "markdown",
   "metadata": {},
   "source": [
    "### DataFrame Class\n",
    "\n",
    "```python\n",
    "Init signature: pd.DataFrame(data=None, index=None, columns=None, dtype=None, copy=False)\n",
    "Docstring:     \n",
    "Two-dimensional size-mutable, potentially heterogeneous(由很多种类组成的) tabular(表格式的) data\n",
    "structure with labeled axes (rows and columns). Arithmetic operations\n",
    "align on both row and column labels. Can be thought of as a dict-like\n",
    "container for Series objects. The primary pandas data structure\n",
    "\n",
    "Parameters\n",
    "----------\n",
    "data : numpy ndarray (structured or homogeneous), dict, or DataFrame\n",
    "\n",
    "    Dict can contain Series, arrays, constants, or list-like objects\n",
    "    \n",
    "    \n",
    "index(pandas Index类的实例) : Index or array-like(类似数组：和ndarray对象类似的数据结构，如列表对象)\n",
    "\n",
    "    Index to use for resulting frame. Will default to `np.arange(n)` if\n",
    "    no indexing information part of input data and no index provided\n",
    "    \n",
    "    \n",
    "columns : Index or array-like\n",
    "\n",
    "    Column labels to use for resulting frame. Will default to\n",
    "    np.arange(n) if no column labels are provided\n",
    "    \n",
    "    \n",
    "dtype : dtype, default None\n",
    "\n",
    "    Data type to force, otherwise infer(使用/强制的数据类型；否则通过推导得出)\n",
    "    \n",
    "    \n",
    "copy : boolean, default False\n",
    "\n",
    "    Copy data from inputs. Only affects DataFrame / 2d ndarray input\n",
    "\n",
    "Examples\n",
    "--------\n",
    ">>> d = {'col1': ts1, 'col2': ts2}\n",
    ">>> df = DataFrame(data=d, index=index)\n",
    ">>> df2 = DataFrame(np.random.randn(10, 5))\n",
    ">>> df3 = DataFrame(np.random.randn(10, 5),\n",
    "...                 columns=['a', 'b', 'c', 'd', 'e'])\n",
    "\n",
    "See also\n",
    "--------\n",
    "DataFrame.from_records : constructor from tuples, also record arrays\n",
    "DataFrame.from_dict : from dicts of Series, arrays, or dicts\n",
    "DataFrame.from_items : from sequence of (key, value) pairs\n",
    "pandas.read_csv, pandas.read_table, pandas.read_clipboard\n",
    "Type:           type\n",
    "```"
   ]
  },
  {
   "cell_type": "code",
   "execution_count": 4,
   "metadata": {},
   "outputs": [
    {
     "data": {
      "text/html": [
       "<div>\n",
       "<style>\n",
       "    .dataframe thead tr:only-child th {\n",
       "        text-align: right;\n",
       "    }\n",
       "\n",
       "    .dataframe thead th {\n",
       "        text-align: left;\n",
       "    }\n",
       "\n",
       "    .dataframe tbody tr th {\n",
       "        vertical-align: top;\n",
       "    }\n",
       "</style>\n",
       "<table border=\"1\" class=\"dataframe\">\n",
       "  <thead>\n",
       "    <tr style=\"text-align: right;\">\n",
       "      <th></th>\n",
       "      <th>numbers</th>\n",
       "    </tr>\n",
       "  </thead>\n",
       "  <tbody>\n",
       "    <tr>\n",
       "      <th>a</th>\n",
       "      <td>10</td>\n",
       "    </tr>\n",
       "    <tr>\n",
       "      <th>b</th>\n",
       "      <td>20</td>\n",
       "    </tr>\n",
       "    <tr>\n",
       "      <th>c</th>\n",
       "      <td>30</td>\n",
       "    </tr>\n",
       "    <tr>\n",
       "      <th>d</th>\n",
       "      <td>40</td>\n",
       "    </tr>\n",
       "  </tbody>\n",
       "</table>\n",
       "</div>"
      ],
      "text/plain": [
       "   numbers\n",
       "a       10\n",
       "b       20\n",
       "c       30\n",
       "d       40"
      ]
     },
     "execution_count": 4,
     "metadata": {},
     "output_type": "execute_result"
    }
   ],
   "source": [
    "df = pd.DataFrame([10, 20, 30, 40], columns=['numbers'],\n",
    "                  index=['a', 'b', 'c', 'd'])\n",
    "df"
   ]
  },
  {
   "cell_type": "code",
   "execution_count": 7,
   "metadata": {},
   "outputs": [
    {
     "data": {
      "text/plain": [
       "Index(['a', 'b', 'c', 'd'], dtype='object')"
      ]
     },
     "execution_count": 7,
     "metadata": {},
     "output_type": "execute_result"
    }
   ],
   "source": [
    "df.index  # the index(索引) values"
   ]
  },
  {
   "cell_type": "code",
   "execution_count": 8,
   "metadata": {},
   "outputs": [
    {
     "data": {
      "text/plain": [
       "Index(['numbers'], dtype='object')"
      ]
     },
     "execution_count": 8,
     "metadata": {},
     "output_type": "execute_result"
    }
   ],
   "source": [
    "df.columns  # the column names(标签)"
   ]
  },
  {
   "cell_type": "code",
   "execution_count": 9,
   "metadata": {},
   "outputs": [
    {
     "name": "stderr",
     "output_type": "stream",
     "text": [
      "C:\\ProgramData\\Anaconda3\\lib\\site-packages\\ipykernel\\__main__.py:1: DeprecationWarning: \n",
      ".ix is deprecated. Please use\n",
      ".loc for label based indexing or\n",
      ".iloc for positional indexing\n",
      "\n",
      "See the documentation here:\n",
      "http://pandas.pydata.org/pandas-docs/stable/indexing.html#ix-indexer-is-deprecated\n",
      "  if __name__ == '__main__':\n"
     ]
    },
    {
     "data": {
      "text/plain": [
       "numbers    30\n",
       "Name: c, dtype: int64"
      ]
     },
     "execution_count": 9,
     "metadata": {},
     "output_type": "execute_result"
    }
   ],
   "source": [
    "df.ix['c']  # selection via index"
   ]
  },
  {
   "cell_type": "code",
   "execution_count": 10,
   "metadata": {},
   "outputs": [
    {
     "data": {
      "text/plain": [
       "numbers    30\n",
       "Name: c, dtype: int64"
      ]
     },
     "execution_count": 10,
     "metadata": {},
     "output_type": "execute_result"
    }
   ],
   "source": [
    "df.loc['c']"
   ]
  },
  {
   "cell_type": "code",
   "execution_count": 14,
   "metadata": {},
   "outputs": [
    {
     "data": {
      "text/html": [
       "<div>\n",
       "<style>\n",
       "    .dataframe thead tr:only-child th {\n",
       "        text-align: right;\n",
       "    }\n",
       "\n",
       "    .dataframe thead th {\n",
       "        text-align: left;\n",
       "    }\n",
       "\n",
       "    .dataframe tbody tr th {\n",
       "        vertical-align: top;\n",
       "    }\n",
       "</style>\n",
       "<table border=\"1\" class=\"dataframe\">\n",
       "  <thead>\n",
       "    <tr style=\"text-align: right;\">\n",
       "      <th></th>\n",
       "      <th>numbers</th>\n",
       "    </tr>\n",
       "  </thead>\n",
       "  <tbody>\n",
       "    <tr>\n",
       "      <th>a</th>\n",
       "      <td>10</td>\n",
       "    </tr>\n",
       "    <tr>\n",
       "      <th>d</th>\n",
       "      <td>40</td>\n",
       "    </tr>\n",
       "  </tbody>\n",
       "</table>\n",
       "</div>"
      ],
      "text/plain": [
       "   numbers\n",
       "a       10\n",
       "d       40"
      ]
     },
     "execution_count": 14,
     "metadata": {},
     "output_type": "execute_result"
    }
   ],
   "source": [
    "df.loc[['a', 'd']]  # selection of multiple indices"
   ]
  },
  {
   "cell_type": "code",
   "execution_count": 15,
   "metadata": {},
   "outputs": [
    {
     "data": {
      "text/html": [
       "<div>\n",
       "<style>\n",
       "    .dataframe thead tr:only-child th {\n",
       "        text-align: right;\n",
       "    }\n",
       "\n",
       "    .dataframe thead th {\n",
       "        text-align: left;\n",
       "    }\n",
       "\n",
       "    .dataframe tbody tr th {\n",
       "        vertical-align: top;\n",
       "    }\n",
       "</style>\n",
       "<table border=\"1\" class=\"dataframe\">\n",
       "  <thead>\n",
       "    <tr style=\"text-align: right;\">\n",
       "      <th></th>\n",
       "      <th>numbers</th>\n",
       "    </tr>\n",
       "  </thead>\n",
       "  <tbody>\n",
       "    <tr>\n",
       "      <th>b</th>\n",
       "      <td>20</td>\n",
       "    </tr>\n",
       "    <tr>\n",
       "      <th>c</th>\n",
       "      <td>30</td>\n",
       "    </tr>\n",
       "  </tbody>\n",
       "</table>\n",
       "</div>"
      ],
      "text/plain": [
       "   numbers\n",
       "b       20\n",
       "c       30"
      ]
     },
     "execution_count": 15,
     "metadata": {},
     "output_type": "execute_result"
    }
   ],
   "source": [
    "df.loc[df.index[1:3]]  # selection via Index object"
   ]
  },
  {
   "cell_type": "code",
   "execution_count": 16,
   "metadata": {},
   "outputs": [
    {
     "data": {
      "text/plain": [
       "numbers    100\n",
       "dtype: int64"
      ]
     },
     "execution_count": 16,
     "metadata": {},
     "output_type": "execute_result"
    }
   ],
   "source": [
    "df.sum()  # sum per column"
   ]
  },
  {
   "cell_type": "code",
   "execution_count": 17,
   "metadata": {},
   "outputs": [
    {
     "data": {
      "text/html": [
       "<div>\n",
       "<style>\n",
       "    .dataframe thead tr:only-child th {\n",
       "        text-align: right;\n",
       "    }\n",
       "\n",
       "    .dataframe thead th {\n",
       "        text-align: left;\n",
       "    }\n",
       "\n",
       "    .dataframe tbody tr th {\n",
       "        vertical-align: top;\n",
       "    }\n",
       "</style>\n",
       "<table border=\"1\" class=\"dataframe\">\n",
       "  <thead>\n",
       "    <tr style=\"text-align: right;\">\n",
       "      <th></th>\n",
       "      <th>numbers</th>\n",
       "    </tr>\n",
       "  </thead>\n",
       "  <tbody>\n",
       "    <tr>\n",
       "      <th>a</th>\n",
       "      <td>100</td>\n",
       "    </tr>\n",
       "    <tr>\n",
       "      <th>b</th>\n",
       "      <td>400</td>\n",
       "    </tr>\n",
       "    <tr>\n",
       "      <th>c</th>\n",
       "      <td>900</td>\n",
       "    </tr>\n",
       "    <tr>\n",
       "      <th>d</th>\n",
       "      <td>1600</td>\n",
       "    </tr>\n",
       "  </tbody>\n",
       "</table>\n",
       "</div>"
      ],
      "text/plain": [
       "   numbers\n",
       "a      100\n",
       "b      400\n",
       "c      900\n",
       "d     1600"
      ]
     },
     "execution_count": 17,
     "metadata": {},
     "output_type": "execute_result"
    }
   ],
   "source": [
    "df.apply(lambda x: x ** 2)  # square of every element"
   ]
  },
  {
   "cell_type": "markdown",
   "metadata": {},
   "source": [
    "一般地，可在DataFrame对象上进行和NumPy ndarray对象相同的向量化操作："
   ]
  },
  {
   "cell_type": "code",
   "execution_count": 18,
   "metadata": {},
   "outputs": [
    {
     "data": {
      "text/html": [
       "<div>\n",
       "<style>\n",
       "    .dataframe thead tr:only-child th {\n",
       "        text-align: right;\n",
       "    }\n",
       "\n",
       "    .dataframe thead th {\n",
       "        text-align: left;\n",
       "    }\n",
       "\n",
       "    .dataframe tbody tr th {\n",
       "        vertical-align: top;\n",
       "    }\n",
       "</style>\n",
       "<table border=\"1\" class=\"dataframe\">\n",
       "  <thead>\n",
       "    <tr style=\"text-align: right;\">\n",
       "      <th></th>\n",
       "      <th>numbers</th>\n",
       "    </tr>\n",
       "  </thead>\n",
       "  <tbody>\n",
       "    <tr>\n",
       "      <th>a</th>\n",
       "      <td>100</td>\n",
       "    </tr>\n",
       "    <tr>\n",
       "      <th>b</th>\n",
       "      <td>400</td>\n",
       "    </tr>\n",
       "    <tr>\n",
       "      <th>c</th>\n",
       "      <td>900</td>\n",
       "    </tr>\n",
       "    <tr>\n",
       "      <th>d</th>\n",
       "      <td>1600</td>\n",
       "    </tr>\n",
       "  </tbody>\n",
       "</table>\n",
       "</div>"
      ],
      "text/plain": [
       "   numbers\n",
       "a      100\n",
       "b      400\n",
       "c      900\n",
       "d     1600"
      ]
     },
     "execution_count": 18,
     "metadata": {},
     "output_type": "execute_result"
    }
   ],
   "source": [
    "df ** 2  # again square, this time NumPy-like"
   ]
  },
  {
   "cell_type": "markdown",
   "metadata": {},
   "source": [
    "在两个维度上同时扩增DataFrame对象："
   ]
  },
  {
   "cell_type": "code",
   "execution_count": 19,
   "metadata": {},
   "outputs": [
    {
     "data": {
      "text/html": [
       "<div>\n",
       "<style>\n",
       "    .dataframe thead tr:only-child th {\n",
       "        text-align: right;\n",
       "    }\n",
       "\n",
       "    .dataframe thead th {\n",
       "        text-align: left;\n",
       "    }\n",
       "\n",
       "    .dataframe tbody tr th {\n",
       "        vertical-align: top;\n",
       "    }\n",
       "</style>\n",
       "<table border=\"1\" class=\"dataframe\">\n",
       "  <thead>\n",
       "    <tr style=\"text-align: right;\">\n",
       "      <th></th>\n",
       "      <th>numbers</th>\n",
       "      <th>floats</th>\n",
       "    </tr>\n",
       "  </thead>\n",
       "  <tbody>\n",
       "    <tr>\n",
       "      <th>a</th>\n",
       "      <td>10</td>\n",
       "      <td>1.5</td>\n",
       "    </tr>\n",
       "    <tr>\n",
       "      <th>b</th>\n",
       "      <td>20</td>\n",
       "      <td>2.5</td>\n",
       "    </tr>\n",
       "    <tr>\n",
       "      <th>c</th>\n",
       "      <td>30</td>\n",
       "      <td>3.5</td>\n",
       "    </tr>\n",
       "    <tr>\n",
       "      <th>d</th>\n",
       "      <td>40</td>\n",
       "      <td>4.5</td>\n",
       "    </tr>\n",
       "  </tbody>\n",
       "</table>\n",
       "</div>"
      ],
      "text/plain": [
       "   numbers  floats\n",
       "a       10     1.5\n",
       "b       20     2.5\n",
       "c       30     3.5\n",
       "d       40     4.5"
      ]
     },
     "execution_count": 19,
     "metadata": {},
     "output_type": "execute_result"
    }
   ],
   "source": [
    "df['floats'] = (1.5, 2.5, 3.5, 4.5)\n",
    "  # new column is generated\n",
    "df"
   ]
  },
  {
   "cell_type": "code",
   "execution_count": 20,
   "metadata": {},
   "outputs": [
    {
     "data": {
      "text/plain": [
       "a    1.5\n",
       "b    2.5\n",
       "c    3.5\n",
       "d    4.5\n",
       "Name: floats, dtype: float64"
      ]
     },
     "execution_count": 20,
     "metadata": {},
     "output_type": "execute_result"
    }
   ],
   "source": [
    "df['floats']  # selection of column"
   ]
  },
  {
   "cell_type": "markdown",
   "metadata": {},
   "source": [
    "取整个DataFrame对象来定义新列(此时，索引自动分配)"
   ]
  },
  {
   "cell_type": "code",
   "execution_count": 21,
   "metadata": {},
   "outputs": [
    {
     "data": {
      "text/html": [
       "<div>\n",
       "<style>\n",
       "    .dataframe thead tr:only-child th {\n",
       "        text-align: right;\n",
       "    }\n",
       "\n",
       "    .dataframe thead th {\n",
       "        text-align: left;\n",
       "    }\n",
       "\n",
       "    .dataframe tbody tr th {\n",
       "        vertical-align: top;\n",
       "    }\n",
       "</style>\n",
       "<table border=\"1\" class=\"dataframe\">\n",
       "  <thead>\n",
       "    <tr style=\"text-align: right;\">\n",
       "      <th></th>\n",
       "      <th>numbers</th>\n",
       "      <th>floats</th>\n",
       "      <th>names</th>\n",
       "    </tr>\n",
       "  </thead>\n",
       "  <tbody>\n",
       "    <tr>\n",
       "      <th>a</th>\n",
       "      <td>10</td>\n",
       "      <td>1.5</td>\n",
       "      <td>Guido</td>\n",
       "    </tr>\n",
       "    <tr>\n",
       "      <th>b</th>\n",
       "      <td>20</td>\n",
       "      <td>2.5</td>\n",
       "      <td>Felix</td>\n",
       "    </tr>\n",
       "    <tr>\n",
       "      <th>c</th>\n",
       "      <td>30</td>\n",
       "      <td>3.5</td>\n",
       "      <td>Francesc</td>\n",
       "    </tr>\n",
       "    <tr>\n",
       "      <th>d</th>\n",
       "      <td>40</td>\n",
       "      <td>4.5</td>\n",
       "      <td>Yves</td>\n",
       "    </tr>\n",
       "  </tbody>\n",
       "</table>\n",
       "</div>"
      ],
      "text/plain": [
       "   numbers  floats     names\n",
       "a       10     1.5     Guido\n",
       "b       20     2.5     Felix\n",
       "c       30     3.5  Francesc\n",
       "d       40     4.5      Yves"
      ]
     },
     "execution_count": 21,
     "metadata": {},
     "output_type": "execute_result"
    }
   ],
   "source": [
    "df['names'] = pd.DataFrame(['Yves', 'Guido', 'Felix', 'Francesc'],\n",
    "                           index=['d', 'a', 'b', 'c'])\n",
    "df"
   ]
  },
  {
   "cell_type": "code",
   "execution_count": 22,
   "metadata": {},
   "outputs": [
    {
     "data": {
      "text/html": [
       "<div>\n",
       "<style>\n",
       "    .dataframe thead tr:only-child th {\n",
       "        text-align: right;\n",
       "    }\n",
       "\n",
       "    .dataframe thead th {\n",
       "        text-align: left;\n",
       "    }\n",
       "\n",
       "    .dataframe tbody tr th {\n",
       "        vertical-align: top;\n",
       "    }\n",
       "</style>\n",
       "<table border=\"1\" class=\"dataframe\">\n",
       "  <thead>\n",
       "    <tr style=\"text-align: right;\">\n",
       "      <th></th>\n",
       "      <th>numbers</th>\n",
       "      <th>floats</th>\n",
       "      <th>names</th>\n",
       "    </tr>\n",
       "  </thead>\n",
       "  <tbody>\n",
       "    <tr>\n",
       "      <th>0</th>\n",
       "      <td>10</td>\n",
       "      <td>1.50</td>\n",
       "      <td>Guido</td>\n",
       "    </tr>\n",
       "    <tr>\n",
       "      <th>1</th>\n",
       "      <td>20</td>\n",
       "      <td>2.50</td>\n",
       "      <td>Felix</td>\n",
       "    </tr>\n",
       "    <tr>\n",
       "      <th>2</th>\n",
       "      <td>30</td>\n",
       "      <td>3.50</td>\n",
       "      <td>Francesc</td>\n",
       "    </tr>\n",
       "    <tr>\n",
       "      <th>3</th>\n",
       "      <td>40</td>\n",
       "      <td>4.50</td>\n",
       "      <td>Yves</td>\n",
       "    </tr>\n",
       "    <tr>\n",
       "      <th>4</th>\n",
       "      <td>100</td>\n",
       "      <td>5.75</td>\n",
       "      <td>Henry</td>\n",
       "    </tr>\n",
       "  </tbody>\n",
       "</table>\n",
       "</div>"
      ],
      "text/plain": [
       "   numbers  floats     names\n",
       "0       10    1.50     Guido\n",
       "1       20    2.50     Felix\n",
       "2       30    3.50  Francesc\n",
       "3       40    4.50      Yves\n",
       "4      100    5.75     Henry"
      ]
     },
     "execution_count": 22,
     "metadata": {},
     "output_type": "execute_result"
    }
   ],
   "source": [
    "df.append({'numbers': 100, 'floats': 5.75, 'names': 'Henry'},\n",
    "               ignore_index=True)\n",
    "  # temporary object; df not changed"
   ]
  },
  {
   "cell_type": "code",
   "execution_count": 23,
   "metadata": {},
   "outputs": [
    {
     "data": {
      "text/html": [
       "<div>\n",
       "<style>\n",
       "    .dataframe thead tr:only-child th {\n",
       "        text-align: right;\n",
       "    }\n",
       "\n",
       "    .dataframe thead th {\n",
       "        text-align: left;\n",
       "    }\n",
       "\n",
       "    .dataframe tbody tr th {\n",
       "        vertical-align: top;\n",
       "    }\n",
       "</style>\n",
       "<table border=\"1\" class=\"dataframe\">\n",
       "  <thead>\n",
       "    <tr style=\"text-align: right;\">\n",
       "      <th></th>\n",
       "      <th>floats</th>\n",
       "      <th>names</th>\n",
       "      <th>numbers</th>\n",
       "    </tr>\n",
       "  </thead>\n",
       "  <tbody>\n",
       "    <tr>\n",
       "      <th>a</th>\n",
       "      <td>1.50</td>\n",
       "      <td>Guido</td>\n",
       "      <td>10</td>\n",
       "    </tr>\n",
       "    <tr>\n",
       "      <th>b</th>\n",
       "      <td>2.50</td>\n",
       "      <td>Felix</td>\n",
       "      <td>20</td>\n",
       "    </tr>\n",
       "    <tr>\n",
       "      <th>c</th>\n",
       "      <td>3.50</td>\n",
       "      <td>Francesc</td>\n",
       "      <td>30</td>\n",
       "    </tr>\n",
       "    <tr>\n",
       "      <th>d</th>\n",
       "      <td>4.50</td>\n",
       "      <td>Yves</td>\n",
       "      <td>40</td>\n",
       "    </tr>\n",
       "    <tr>\n",
       "      <th>z</th>\n",
       "      <td>5.75</td>\n",
       "      <td>Henry</td>\n",
       "      <td>100</td>\n",
       "    </tr>\n",
       "  </tbody>\n",
       "</table>\n",
       "</div>"
      ],
      "text/plain": [
       "   floats     names  numbers\n",
       "a    1.50     Guido       10\n",
       "b    2.50     Felix       20\n",
       "c    3.50  Francesc       30\n",
       "d    4.50      Yves       40\n",
       "z    5.75     Henry      100"
      ]
     },
     "execution_count": 23,
     "metadata": {},
     "output_type": "execute_result"
    }
   ],
   "source": [
    "df = df.append(pd.DataFrame({'numbers': 100, 'floats': 5.75,\n",
    "                             'names': 'Henry'}, index=['z',]))\n",
    "df"
   ]
  },
  {
   "cell_type": "markdown",
   "metadata": {},
   "source": [
    "### 处理缺漏信息"
   ]
  },
  {
   "cell_type": "code",
   "execution_count": 24,
   "metadata": {},
   "outputs": [
    {
     "data": {
      "text/html": [
       "<div>\n",
       "<style>\n",
       "    .dataframe thead tr:only-child th {\n",
       "        text-align: right;\n",
       "    }\n",
       "\n",
       "    .dataframe thead th {\n",
       "        text-align: left;\n",
       "    }\n",
       "\n",
       "    .dataframe tbody tr th {\n",
       "        vertical-align: top;\n",
       "    }\n",
       "</style>\n",
       "<table border=\"1\" class=\"dataframe\">\n",
       "  <thead>\n",
       "    <tr style=\"text-align: right;\">\n",
       "      <th></th>\n",
       "      <th>floats</th>\n",
       "      <th>names</th>\n",
       "      <th>numbers</th>\n",
       "      <th>squares</th>\n",
       "    </tr>\n",
       "  </thead>\n",
       "  <tbody>\n",
       "    <tr>\n",
       "      <th>a</th>\n",
       "      <td>1.50</td>\n",
       "      <td>Guido</td>\n",
       "      <td>10</td>\n",
       "      <td>1.0</td>\n",
       "    </tr>\n",
       "    <tr>\n",
       "      <th>b</th>\n",
       "      <td>2.50</td>\n",
       "      <td>Felix</td>\n",
       "      <td>20</td>\n",
       "      <td>4.0</td>\n",
       "    </tr>\n",
       "    <tr>\n",
       "      <th>c</th>\n",
       "      <td>3.50</td>\n",
       "      <td>Francesc</td>\n",
       "      <td>30</td>\n",
       "      <td>9.0</td>\n",
       "    </tr>\n",
       "    <tr>\n",
       "      <th>d</th>\n",
       "      <td>4.50</td>\n",
       "      <td>Yves</td>\n",
       "      <td>40</td>\n",
       "      <td>16.0</td>\n",
       "    </tr>\n",
       "    <tr>\n",
       "      <th>z</th>\n",
       "      <td>5.75</td>\n",
       "      <td>Henry</td>\n",
       "      <td>100</td>\n",
       "      <td>NaN</td>\n",
       "    </tr>\n",
       "  </tbody>\n",
       "</table>\n",
       "</div>"
      ],
      "text/plain": [
       "   floats     names  numbers  squares\n",
       "a    1.50     Guido       10      1.0\n",
       "b    2.50     Felix       20      4.0\n",
       "c    3.50  Francesc       30      9.0\n",
       "d    4.50      Yves       40     16.0\n",
       "z    5.75     Henry      100      NaN"
      ]
     },
     "execution_count": 24,
     "metadata": {},
     "output_type": "execute_result"
    }
   ],
   "source": [
    "df.join(pd.DataFrame([1, 4, 9, 16, 25],\n",
    "            index=['a', 'b', 'c', 'd', 'y'],\n",
    "            columns=['squares',]))\n",
    "  # temporary object"
   ]
  },
  {
   "cell_type": "markdown",
   "metadata": {},
   "source": [
    "pandas默认只接受索引已经存在的值，我们丢失了索引为y的值，而在z处看到的是`NaN`值。为了保留这两个索引，我们可以提供一个附加参数，告诉pandas如何连接。      \n",
    "`how='outer'`表示使用两个索引中所有值的并集："
   ]
  },
  {
   "cell_type": "code",
   "execution_count": 25,
   "metadata": {},
   "outputs": [
    {
     "data": {
      "text/html": [
       "<div>\n",
       "<style>\n",
       "    .dataframe thead tr:only-child th {\n",
       "        text-align: right;\n",
       "    }\n",
       "\n",
       "    .dataframe thead th {\n",
       "        text-align: left;\n",
       "    }\n",
       "\n",
       "    .dataframe tbody tr th {\n",
       "        vertical-align: top;\n",
       "    }\n",
       "</style>\n",
       "<table border=\"1\" class=\"dataframe\">\n",
       "  <thead>\n",
       "    <tr style=\"text-align: right;\">\n",
       "      <th></th>\n",
       "      <th>floats</th>\n",
       "      <th>names</th>\n",
       "      <th>numbers</th>\n",
       "      <th>squares</th>\n",
       "    </tr>\n",
       "  </thead>\n",
       "  <tbody>\n",
       "    <tr>\n",
       "      <th>a</th>\n",
       "      <td>1.50</td>\n",
       "      <td>Guido</td>\n",
       "      <td>10.0</td>\n",
       "      <td>1.0</td>\n",
       "    </tr>\n",
       "    <tr>\n",
       "      <th>b</th>\n",
       "      <td>2.50</td>\n",
       "      <td>Felix</td>\n",
       "      <td>20.0</td>\n",
       "      <td>4.0</td>\n",
       "    </tr>\n",
       "    <tr>\n",
       "      <th>c</th>\n",
       "      <td>3.50</td>\n",
       "      <td>Francesc</td>\n",
       "      <td>30.0</td>\n",
       "      <td>9.0</td>\n",
       "    </tr>\n",
       "    <tr>\n",
       "      <th>d</th>\n",
       "      <td>4.50</td>\n",
       "      <td>Yves</td>\n",
       "      <td>40.0</td>\n",
       "      <td>16.0</td>\n",
       "    </tr>\n",
       "    <tr>\n",
       "      <th>y</th>\n",
       "      <td>NaN</td>\n",
       "      <td>NaN</td>\n",
       "      <td>NaN</td>\n",
       "      <td>25.0</td>\n",
       "    </tr>\n",
       "    <tr>\n",
       "      <th>z</th>\n",
       "      <td>5.75</td>\n",
       "      <td>Henry</td>\n",
       "      <td>100.0</td>\n",
       "      <td>NaN</td>\n",
       "    </tr>\n",
       "  </tbody>\n",
       "</table>\n",
       "</div>"
      ],
      "text/plain": [
       "   floats     names  numbers  squares\n",
       "a    1.50     Guido     10.0      1.0\n",
       "b    2.50     Felix     20.0      4.0\n",
       "c    3.50  Francesc     30.0      9.0\n",
       "d    4.50      Yves     40.0     16.0\n",
       "y     NaN       NaN      NaN     25.0\n",
       "z    5.75     Henry    100.0      NaN"
      ]
     },
     "execution_count": 25,
     "metadata": {},
     "output_type": "execute_result"
    }
   ],
   "source": [
    "df = df.join(pd.DataFrame([1, 4, 9, 16, 25],\n",
    "                    index=['a', 'b', 'c', 'd', 'y'],\n",
    "                    columns=['squares',]),\n",
    "                    how='outer')\n",
    "df"
   ]
  },
  {
   "cell_type": "markdown",
   "metadata": {},
   "source": [
    "连接操作还有其他选项：      \n",
    "1. `inner`: 索引的交集\n",
    "2. `left`: 默认值，使用调用方法的对象中的索引值\n",
    "3. `right`: 使用被连接对象的索引值"
   ]
  },
  {
   "cell_type": "markdown",
   "metadata": {},
   "source": [
    "尽管有缺失值，但是大部分方法调用仍然有效："
   ]
  },
  {
   "cell_type": "code",
   "execution_count": 26,
   "metadata": {},
   "outputs": [
    {
     "data": {
      "text/plain": [
       "numbers    40.0\n",
       "squares    11.0\n",
       "dtype: float64"
      ]
     },
     "execution_count": 26,
     "metadata": {},
     "output_type": "execute_result"
    }
   ],
   "source": [
    "df[['numbers', 'squares']].mean()\n",
    "  # column-wise mean"
   ]
  },
  {
   "cell_type": "code",
   "execution_count": 27,
   "metadata": {},
   "outputs": [
    {
     "data": {
      "text/plain": [
       "numbers    35.355339\n",
       "squares     9.669540\n",
       "dtype: float64"
      ]
     },
     "execution_count": 27,
     "metadata": {},
     "output_type": "execute_result"
    }
   ],
   "source": [
    "df[['numbers', 'squares']].std()\n",
    "  # column-wise standard deviation"
   ]
  },
  {
   "cell_type": "markdown",
   "metadata": {},
   "source": [
    "### 处理数值数据"
   ]
  },
  {
   "cell_type": "code",
   "execution_count": 28,
   "metadata": {},
   "outputs": [
    {
     "data": {
      "text/plain": [
       "array([[-0.490602, -0.448438,  0.507652,  0.6264  ],\n",
       "       [ 0.582841,  1.479433,  0.856295,  0.852351],\n",
       "       [ 0.526829,  0.922253,  1.172447,  0.279974],\n",
       "       [ 0.449499,  0.438187, -0.225605, -0.379799],\n",
       "       [ 0.41354 , -0.774152, -0.031514,  0.138357],\n",
       "       [-0.224221, -2.300392,  0.331845,  0.644584],\n",
       "       [ 0.234905, -0.042174,  0.01418 , -0.58701 ],\n",
       "       [-1.484347,  0.299754,  0.218424, -1.908893],\n",
       "       [ 0.649886, -0.05822 , -0.453574, -1.189051]])"
      ]
     },
     "execution_count": 28,
     "metadata": {},
     "output_type": "execute_result"
    }
   ],
   "source": [
    "a = np.random.standard_normal((9, 4))\n",
    "a.round(6)"
   ]
  },
  {
   "cell_type": "code",
   "execution_count": 29,
   "metadata": {},
   "outputs": [
    {
     "data": {
      "text/html": [
       "<div>\n",
       "<style>\n",
       "    .dataframe thead tr:only-child th {\n",
       "        text-align: right;\n",
       "    }\n",
       "\n",
       "    .dataframe thead th {\n",
       "        text-align: left;\n",
       "    }\n",
       "\n",
       "    .dataframe tbody tr th {\n",
       "        vertical-align: top;\n",
       "    }\n",
       "</style>\n",
       "<table border=\"1\" class=\"dataframe\">\n",
       "  <thead>\n",
       "    <tr style=\"text-align: right;\">\n",
       "      <th></th>\n",
       "      <th>0</th>\n",
       "      <th>1</th>\n",
       "      <th>2</th>\n",
       "      <th>3</th>\n",
       "    </tr>\n",
       "  </thead>\n",
       "  <tbody>\n",
       "    <tr>\n",
       "      <th>0</th>\n",
       "      <td>-0.490602</td>\n",
       "      <td>-0.448438</td>\n",
       "      <td>0.507652</td>\n",
       "      <td>0.626400</td>\n",
       "    </tr>\n",
       "    <tr>\n",
       "      <th>1</th>\n",
       "      <td>0.582841</td>\n",
       "      <td>1.479433</td>\n",
       "      <td>0.856295</td>\n",
       "      <td>0.852351</td>\n",
       "    </tr>\n",
       "    <tr>\n",
       "      <th>2</th>\n",
       "      <td>0.526829</td>\n",
       "      <td>0.922253</td>\n",
       "      <td>1.172447</td>\n",
       "      <td>0.279974</td>\n",
       "    </tr>\n",
       "    <tr>\n",
       "      <th>3</th>\n",
       "      <td>0.449499</td>\n",
       "      <td>0.438187</td>\n",
       "      <td>-0.225605</td>\n",
       "      <td>-0.379799</td>\n",
       "    </tr>\n",
       "    <tr>\n",
       "      <th>4</th>\n",
       "      <td>0.413540</td>\n",
       "      <td>-0.774152</td>\n",
       "      <td>-0.031514</td>\n",
       "      <td>0.138357</td>\n",
       "    </tr>\n",
       "    <tr>\n",
       "      <th>5</th>\n",
       "      <td>-0.224221</td>\n",
       "      <td>-2.300392</td>\n",
       "      <td>0.331845</td>\n",
       "      <td>0.644584</td>\n",
       "    </tr>\n",
       "    <tr>\n",
       "      <th>6</th>\n",
       "      <td>0.234905</td>\n",
       "      <td>-0.042174</td>\n",
       "      <td>0.014180</td>\n",
       "      <td>-0.587010</td>\n",
       "    </tr>\n",
       "    <tr>\n",
       "      <th>7</th>\n",
       "      <td>-1.484347</td>\n",
       "      <td>0.299754</td>\n",
       "      <td>0.218424</td>\n",
       "      <td>-1.908893</td>\n",
       "    </tr>\n",
       "    <tr>\n",
       "      <th>8</th>\n",
       "      <td>0.649886</td>\n",
       "      <td>-0.058220</td>\n",
       "      <td>-0.453574</td>\n",
       "      <td>-1.189051</td>\n",
       "    </tr>\n",
       "  </tbody>\n",
       "</table>\n",
       "</div>"
      ],
      "text/plain": [
       "          0         1         2         3\n",
       "0 -0.490602 -0.448438  0.507652  0.626400\n",
       "1  0.582841  1.479433  0.856295  0.852351\n",
       "2  0.526829  0.922253  1.172447  0.279974\n",
       "3  0.449499  0.438187 -0.225605 -0.379799\n",
       "4  0.413540 -0.774152 -0.031514  0.138357\n",
       "5 -0.224221 -2.300392  0.331845  0.644584\n",
       "6  0.234905 -0.042174  0.014180 -0.587010\n",
       "7 -1.484347  0.299754  0.218424 -1.908893\n",
       "8  0.649886 -0.058220 -0.453574 -1.189051"
      ]
     },
     "execution_count": 29,
     "metadata": {},
     "output_type": "execute_result"
    }
   ],
   "source": [
    "df = pd.DataFrame(a)\n",
    "df"
   ]
  },
  {
   "cell_type": "markdown",
   "metadata": {},
   "source": [
    "和结构数组一样，DataFrame对象可通过一个具有合适数量元素的列表，直接定义列名；      \n",
    "可以随时定义/更改DataFrame对象的属性："
   ]
  },
  {
   "cell_type": "code",
   "execution_count": 30,
   "metadata": {},
   "outputs": [
    {
     "data": {
      "text/html": [
       "<div>\n",
       "<style>\n",
       "    .dataframe thead tr:only-child th {\n",
       "        text-align: right;\n",
       "    }\n",
       "\n",
       "    .dataframe thead th {\n",
       "        text-align: left;\n",
       "    }\n",
       "\n",
       "    .dataframe tbody tr th {\n",
       "        vertical-align: top;\n",
       "    }\n",
       "</style>\n",
       "<table border=\"1\" class=\"dataframe\">\n",
       "  <thead>\n",
       "    <tr style=\"text-align: right;\">\n",
       "      <th></th>\n",
       "      <th>No1</th>\n",
       "      <th>No2</th>\n",
       "      <th>No3</th>\n",
       "      <th>No4</th>\n",
       "    </tr>\n",
       "  </thead>\n",
       "  <tbody>\n",
       "    <tr>\n",
       "      <th>0</th>\n",
       "      <td>-0.490602</td>\n",
       "      <td>-0.448438</td>\n",
       "      <td>0.507652</td>\n",
       "      <td>0.626400</td>\n",
       "    </tr>\n",
       "    <tr>\n",
       "      <th>1</th>\n",
       "      <td>0.582841</td>\n",
       "      <td>1.479433</td>\n",
       "      <td>0.856295</td>\n",
       "      <td>0.852351</td>\n",
       "    </tr>\n",
       "    <tr>\n",
       "      <th>2</th>\n",
       "      <td>0.526829</td>\n",
       "      <td>0.922253</td>\n",
       "      <td>1.172447</td>\n",
       "      <td>0.279974</td>\n",
       "    </tr>\n",
       "    <tr>\n",
       "      <th>3</th>\n",
       "      <td>0.449499</td>\n",
       "      <td>0.438187</td>\n",
       "      <td>-0.225605</td>\n",
       "      <td>-0.379799</td>\n",
       "    </tr>\n",
       "    <tr>\n",
       "      <th>4</th>\n",
       "      <td>0.413540</td>\n",
       "      <td>-0.774152</td>\n",
       "      <td>-0.031514</td>\n",
       "      <td>0.138357</td>\n",
       "    </tr>\n",
       "    <tr>\n",
       "      <th>5</th>\n",
       "      <td>-0.224221</td>\n",
       "      <td>-2.300392</td>\n",
       "      <td>0.331845</td>\n",
       "      <td>0.644584</td>\n",
       "    </tr>\n",
       "    <tr>\n",
       "      <th>6</th>\n",
       "      <td>0.234905</td>\n",
       "      <td>-0.042174</td>\n",
       "      <td>0.014180</td>\n",
       "      <td>-0.587010</td>\n",
       "    </tr>\n",
       "    <tr>\n",
       "      <th>7</th>\n",
       "      <td>-1.484347</td>\n",
       "      <td>0.299754</td>\n",
       "      <td>0.218424</td>\n",
       "      <td>-1.908893</td>\n",
       "    </tr>\n",
       "    <tr>\n",
       "      <th>8</th>\n",
       "      <td>0.649886</td>\n",
       "      <td>-0.058220</td>\n",
       "      <td>-0.453574</td>\n",
       "      <td>-1.189051</td>\n",
       "    </tr>\n",
       "  </tbody>\n",
       "</table>\n",
       "</div>"
      ],
      "text/plain": [
       "        No1       No2       No3       No4\n",
       "0 -0.490602 -0.448438  0.507652  0.626400\n",
       "1  0.582841  1.479433  0.856295  0.852351\n",
       "2  0.526829  0.922253  1.172447  0.279974\n",
       "3  0.449499  0.438187 -0.225605 -0.379799\n",
       "4  0.413540 -0.774152 -0.031514  0.138357\n",
       "5 -0.224221 -2.300392  0.331845  0.644584\n",
       "6  0.234905 -0.042174  0.014180 -0.587010\n",
       "7 -1.484347  0.299754  0.218424 -1.908893\n",
       "8  0.649886 -0.058220 -0.453574 -1.189051"
      ]
     },
     "execution_count": 30,
     "metadata": {},
     "output_type": "execute_result"
    }
   ],
   "source": [
    "df.columns = [['No1', 'No2', 'No3', 'No4']]\n",
    "df"
   ]
  },
  {
   "cell_type": "markdown",
   "metadata": {},
   "source": [
    "列名提供访问DataFrame对象中数据的高效机制，同样和结构数组类似："
   ]
  },
  {
   "cell_type": "code",
   "execution_count": 31,
   "metadata": {},
   "outputs": [
    {
     "data": {
      "text/plain": [
       "0.4381869873129014"
      ]
     },
     "execution_count": 31,
     "metadata": {},
     "output_type": "execute_result"
    }
   ],
   "source": [
    "df['No2'][3]  # value in column No2 at index position 3"
   ]
  },
  {
   "cell_type": "markdown",
   "metadata": {},
   "source": [
    "使用`date_range`生成一个DatetimeIndex对象："
   ]
  },
  {
   "cell_type": "code",
   "execution_count": 32,
   "metadata": {},
   "outputs": [
    {
     "data": {
      "text/plain": [
       "DatetimeIndex(['2015-01-31', '2015-02-28', '2015-03-31', '2015-04-30',\n",
       "               '2015-05-31', '2015-06-30', '2015-07-31', '2015-08-31',\n",
       "               '2015-09-30'],\n",
       "              dtype='datetime64[ns]', freq='M')"
      ]
     },
     "execution_count": 32,
     "metadata": {},
     "output_type": "execute_result"
    }
   ],
   "source": [
    "dates = pd.date_range('2015-1-1', periods=9, freq='M')\n",
    "dates"
   ]
  },
  {
   "cell_type": "markdown",
   "metadata": {},
   "source": [
    "```python\n",
    "Signature: pd.date_range(start=None, end=None, periods=None, freq='D', tz=None, normalize=False, name=None, closed=None, **kwargs)\n",
    "Docstring:\n",
    "Return a fixed frequency datetime index, with day (calendar) as the default\n",
    "frequency\n",
    "\n",
    "Parameters\n",
    "----------\n",
    "start : string or datetime-like, default None\n",
    "    Left bound for generating dates(生成日期的左界)\n",
    "end : string or datetime-like, default None\n",
    "    Right bound for generating dates(生成日期的右界)\n",
    "periods : integer or None, default None\n",
    "    If None, must specify start and end\n",
    "freq : string or DateOffset(日期偏移), default 'D' (calendar daily)\n",
    "    Frequency strings(频率字符串) can have multiples, e.g. '5H'\n",
    "tz : string or None\n",
    "    Time zone name for returning localized DatetimeIndex(本地化索引的时区名称), for example\n",
    "    Asia/Hong_Kong\n",
    "normalize : bool, default False\n",
    "    Normalize start/end dates to midnight before generating date range(将start和end规范化为午夜)\n",
    "name : str, default None\n",
    "    Name of the resulting index(结果索引的名称)\n",
    "closed : string or None, default None\n",
    "    Make the interval closed with respect to the given frequency to\n",
    "    the 'left', 'right', or both sides (None)\n",
    "\n",
    "Notes\n",
    "-----\n",
    "2 of start, end, or periods must be specified\n",
    "\n",
    "To learn more about the frequency strings, please see `this link\n",
    "<http://pandas.pydata.org/pandas-docs/stable/timeseries.html#offset-aliases>`__.\n",
    "\n",
    "Returns\n",
    "-------\n",
    "rng : DatetimeIndex\n",
    "Type:      function\n",
    "```"
   ]
  },
  {
   "cell_type": "markdown",
   "metadata": {},
   "source": [
    "和列一样，我们将新生成的DatetimeIndex作为新的Index对象，赋给DataFrame对象："
   ]
  },
  {
   "cell_type": "code",
   "execution_count": 36,
   "metadata": {},
   "outputs": [
    {
     "data": {
      "text/html": [
       "<div>\n",
       "<style>\n",
       "    .dataframe thead tr:only-child th {\n",
       "        text-align: right;\n",
       "    }\n",
       "\n",
       "    .dataframe thead th {\n",
       "        text-align: left;\n",
       "    }\n",
       "\n",
       "    .dataframe tbody tr th {\n",
       "        vertical-align: top;\n",
       "    }\n",
       "</style>\n",
       "<table border=\"1\" class=\"dataframe\">\n",
       "  <thead>\n",
       "    <tr style=\"text-align: right;\">\n",
       "      <th></th>\n",
       "      <th>No1</th>\n",
       "      <th>No2</th>\n",
       "      <th>No3</th>\n",
       "      <th>No4</th>\n",
       "    </tr>\n",
       "  </thead>\n",
       "  <tbody>\n",
       "    <tr>\n",
       "      <th>2015-01-31</th>\n",
       "      <td>-0.490602</td>\n",
       "      <td>-0.448438</td>\n",
       "      <td>0.507652</td>\n",
       "      <td>0.626400</td>\n",
       "    </tr>\n",
       "    <tr>\n",
       "      <th>2015-02-28</th>\n",
       "      <td>0.582841</td>\n",
       "      <td>1.479433</td>\n",
       "      <td>0.856295</td>\n",
       "      <td>0.852351</td>\n",
       "    </tr>\n",
       "    <tr>\n",
       "      <th>2015-03-31</th>\n",
       "      <td>0.526829</td>\n",
       "      <td>0.922253</td>\n",
       "      <td>1.172447</td>\n",
       "      <td>0.279974</td>\n",
       "    </tr>\n",
       "    <tr>\n",
       "      <th>2015-04-30</th>\n",
       "      <td>0.449499</td>\n",
       "      <td>0.438187</td>\n",
       "      <td>-0.225605</td>\n",
       "      <td>-0.379799</td>\n",
       "    </tr>\n",
       "    <tr>\n",
       "      <th>2015-05-31</th>\n",
       "      <td>0.413540</td>\n",
       "      <td>-0.774152</td>\n",
       "      <td>-0.031514</td>\n",
       "      <td>0.138357</td>\n",
       "    </tr>\n",
       "    <tr>\n",
       "      <th>2015-06-30</th>\n",
       "      <td>-0.224221</td>\n",
       "      <td>-2.300392</td>\n",
       "      <td>0.331845</td>\n",
       "      <td>0.644584</td>\n",
       "    </tr>\n",
       "    <tr>\n",
       "      <th>2015-07-31</th>\n",
       "      <td>0.234905</td>\n",
       "      <td>-0.042174</td>\n",
       "      <td>0.014180</td>\n",
       "      <td>-0.587010</td>\n",
       "    </tr>\n",
       "    <tr>\n",
       "      <th>2015-08-31</th>\n",
       "      <td>-1.484347</td>\n",
       "      <td>0.299754</td>\n",
       "      <td>0.218424</td>\n",
       "      <td>-1.908893</td>\n",
       "    </tr>\n",
       "    <tr>\n",
       "      <th>2015-09-30</th>\n",
       "      <td>0.649886</td>\n",
       "      <td>-0.058220</td>\n",
       "      <td>-0.453574</td>\n",
       "      <td>-1.189051</td>\n",
       "    </tr>\n",
       "  </tbody>\n",
       "</table>\n",
       "</div>"
      ],
      "text/plain": [
       "                 No1       No2       No3       No4\n",
       "2015-01-31 -0.490602 -0.448438  0.507652  0.626400\n",
       "2015-02-28  0.582841  1.479433  0.856295  0.852351\n",
       "2015-03-31  0.526829  0.922253  1.172447  0.279974\n",
       "2015-04-30  0.449499  0.438187 -0.225605 -0.379799\n",
       "2015-05-31  0.413540 -0.774152 -0.031514  0.138357\n",
       "2015-06-30 -0.224221 -2.300392  0.331845  0.644584\n",
       "2015-07-31  0.234905 -0.042174  0.014180 -0.587010\n",
       "2015-08-31 -1.484347  0.299754  0.218424 -1.908893\n",
       "2015-09-30  0.649886 -0.058220 -0.453574 -1.189051"
      ]
     },
     "execution_count": 36,
     "metadata": {},
     "output_type": "execute_result"
    }
   ],
   "source": [
    "df.index = dates\n",
    "df"
   ]
  },
  {
   "cell_type": "markdown",
   "metadata": {},
   "source": [
    "##### pd.date_range函数频率freq值\n",
    "\n",
    "|别名|描述|\n",
    "|:-|:-|\n",
    "|`B`|交易日|\n",
    "|`C`|自定义交易日(实验性)|\n",
    "|`D`|日历日|\n",
    "|`W`|每周|\n",
    "|`M`|每月底|\n",
    "|`BM`|每月最后一个交易日|\n",
    "|`MS`|月初|\n",
    "|`BMS`|每月第一个交易日|\n",
    "|`Q`|季度末|\n",
    "|`BQ`|每季度最后一个交易日|\n",
    "|`QS`|季度初|\n",
    "|`BQS`|每季度第一个交易日|\n",
    "|`A`|每年底|\n",
    "|`BA`|每月最后一个交易日|\n",
    "|`AS`|每年初|\n",
    "|`BAS`|每年第一个交易日|\n",
    "|`H`|每小时|\n",
    "|`T`|每分钟|\n",
    "|`S`|每秒|\n",
    "|`L`|毫秒|\n",
    "|`U`|微秒|"
   ]
  },
  {
   "cell_type": "markdown",
   "metadata": {},
   "source": [
    "也可以使用NumPy的array函数从DataFrame生成一个ndarray"
   ]
  },
  {
   "cell_type": "code",
   "execution_count": 44,
   "metadata": {},
   "outputs": [
    {
     "data": {
      "text/plain": [
       "array([[-0.490602, -0.448438,  0.507652,  0.6264  ],\n",
       "       [ 0.582841,  1.479433,  0.856295,  0.852351],\n",
       "       [ 0.526829,  0.922253,  1.172447,  0.279974],\n",
       "       [ 0.449499,  0.438187, -0.225605, -0.379799],\n",
       "       [ 0.41354 , -0.774152, -0.031514,  0.138357],\n",
       "       [-0.224221, -2.300392,  0.331845,  0.644584],\n",
       "       [ 0.234905, -0.042174,  0.01418 , -0.58701 ],\n",
       "       [-1.484347,  0.299754,  0.218424, -1.908893],\n",
       "       [ 0.649886, -0.05822 , -0.453574, -1.189051]])"
      ]
     },
     "execution_count": 44,
     "metadata": {},
     "output_type": "execute_result"
    }
   ],
   "source": [
    "np.array(df).round(6)"
   ]
  },
  {
   "cell_type": "markdown",
   "metadata": {},
   "source": [
    "## 基本分析"
   ]
  },
  {
   "cell_type": "code",
   "execution_count": 45,
   "metadata": {},
   "outputs": [
    {
     "data": {
      "text/plain": [
       "No1    0.658331\n",
       "No2   -0.483749\n",
       "No3    2.390150\n",
       "No4   -1.523088\n",
       "dtype: float64"
      ]
     },
     "execution_count": 45,
     "metadata": {},
     "output_type": "execute_result"
    }
   ],
   "source": [
    "df.sum()"
   ]
  },
  {
   "cell_type": "code",
   "execution_count": 46,
   "metadata": {},
   "outputs": [
    {
     "data": {
      "text/plain": [
       "No1    0.073148\n",
       "No2   -0.053750\n",
       "No3    0.265572\n",
       "No4   -0.169232\n",
       "dtype: float64"
      ]
     },
     "execution_count": 46,
     "metadata": {},
     "output_type": "execute_result"
    }
   ],
   "source": [
    "df.mean()"
   ]
  },
  {
   "cell_type": "code",
   "execution_count": 47,
   "metadata": {},
   "outputs": [
    {
     "data": {
      "text/html": [
       "<div>\n",
       "<style>\n",
       "    .dataframe thead tr:only-child th {\n",
       "        text-align: right;\n",
       "    }\n",
       "\n",
       "    .dataframe thead th {\n",
       "        text-align: left;\n",
       "    }\n",
       "\n",
       "    .dataframe tbody tr th {\n",
       "        vertical-align: top;\n",
       "    }\n",
       "</style>\n",
       "<table border=\"1\" class=\"dataframe\">\n",
       "  <thead>\n",
       "    <tr style=\"text-align: right;\">\n",
       "      <th></th>\n",
       "      <th>No1</th>\n",
       "      <th>No2</th>\n",
       "      <th>No3</th>\n",
       "      <th>No4</th>\n",
       "    </tr>\n",
       "  </thead>\n",
       "  <tbody>\n",
       "    <tr>\n",
       "      <th>2015-01-31</th>\n",
       "      <td>-0.490602</td>\n",
       "      <td>-0.448438</td>\n",
       "      <td>0.507652</td>\n",
       "      <td>0.626400</td>\n",
       "    </tr>\n",
       "    <tr>\n",
       "      <th>2015-02-28</th>\n",
       "      <td>0.092240</td>\n",
       "      <td>1.030994</td>\n",
       "      <td>1.363946</td>\n",
       "      <td>1.478751</td>\n",
       "    </tr>\n",
       "    <tr>\n",
       "      <th>2015-03-31</th>\n",
       "      <td>0.619069</td>\n",
       "      <td>1.953248</td>\n",
       "      <td>2.536393</td>\n",
       "      <td>1.758725</td>\n",
       "    </tr>\n",
       "    <tr>\n",
       "      <th>2015-04-30</th>\n",
       "      <td>1.068567</td>\n",
       "      <td>2.391435</td>\n",
       "      <td>2.310789</td>\n",
       "      <td>1.378926</td>\n",
       "    </tr>\n",
       "    <tr>\n",
       "      <th>2015-05-31</th>\n",
       "      <td>1.482108</td>\n",
       "      <td>1.617282</td>\n",
       "      <td>2.279274</td>\n",
       "      <td>1.517283</td>\n",
       "    </tr>\n",
       "    <tr>\n",
       "      <th>2015-06-30</th>\n",
       "      <td>1.257887</td>\n",
       "      <td>-0.683110</td>\n",
       "      <td>2.611120</td>\n",
       "      <td>2.161866</td>\n",
       "    </tr>\n",
       "    <tr>\n",
       "      <th>2015-07-31</th>\n",
       "      <td>1.492792</td>\n",
       "      <td>-0.725284</td>\n",
       "      <td>2.625300</td>\n",
       "      <td>1.574856</td>\n",
       "    </tr>\n",
       "    <tr>\n",
       "      <th>2015-08-31</th>\n",
       "      <td>0.008445</td>\n",
       "      <td>-0.425530</td>\n",
       "      <td>2.843724</td>\n",
       "      <td>-0.334037</td>\n",
       "    </tr>\n",
       "    <tr>\n",
       "      <th>2015-09-30</th>\n",
       "      <td>0.658331</td>\n",
       "      <td>-0.483749</td>\n",
       "      <td>2.390150</td>\n",
       "      <td>-1.523088</td>\n",
       "    </tr>\n",
       "  </tbody>\n",
       "</table>\n",
       "</div>"
      ],
      "text/plain": [
       "                 No1       No2       No3       No4\n",
       "2015-01-31 -0.490602 -0.448438  0.507652  0.626400\n",
       "2015-02-28  0.092240  1.030994  1.363946  1.478751\n",
       "2015-03-31  0.619069  1.953248  2.536393  1.758725\n",
       "2015-04-30  1.068567  2.391435  2.310789  1.378926\n",
       "2015-05-31  1.482108  1.617282  2.279274  1.517283\n",
       "2015-06-30  1.257887 -0.683110  2.611120  2.161866\n",
       "2015-07-31  1.492792 -0.725284  2.625300  1.574856\n",
       "2015-08-31  0.008445 -0.425530  2.843724 -0.334037\n",
       "2015-09-30  0.658331 -0.483749  2.390150 -1.523088"
      ]
     },
     "execution_count": 47,
     "metadata": {},
     "output_type": "execute_result"
    }
   ],
   "source": [
    "df.cumsum()"
   ]
  },
  {
   "cell_type": "markdown",
   "metadata": {},
   "source": [
    "获取数据集统计数字的捷径："
   ]
  },
  {
   "cell_type": "code",
   "execution_count": 48,
   "metadata": {},
   "outputs": [
    {
     "data": {
      "text/html": [
       "<div>\n",
       "<style>\n",
       "    .dataframe thead tr:only-child th {\n",
       "        text-align: right;\n",
       "    }\n",
       "\n",
       "    .dataframe thead th {\n",
       "        text-align: left;\n",
       "    }\n",
       "\n",
       "    .dataframe tbody tr th {\n",
       "        vertical-align: top;\n",
       "    }\n",
       "</style>\n",
       "<table border=\"1\" class=\"dataframe\">\n",
       "  <thead>\n",
       "    <tr style=\"text-align: right;\">\n",
       "      <th></th>\n",
       "      <th>No1</th>\n",
       "      <th>No2</th>\n",
       "      <th>No3</th>\n",
       "      <th>No4</th>\n",
       "    </tr>\n",
       "  </thead>\n",
       "  <tbody>\n",
       "    <tr>\n",
       "      <th>count</th>\n",
       "      <td>9.000000</td>\n",
       "      <td>9.000000</td>\n",
       "      <td>9.000000</td>\n",
       "      <td>9.000000</td>\n",
       "    </tr>\n",
       "    <tr>\n",
       "      <th>mean</th>\n",
       "      <td>0.073148</td>\n",
       "      <td>-0.053750</td>\n",
       "      <td>0.265572</td>\n",
       "      <td>-0.169232</td>\n",
       "    </tr>\n",
       "    <tr>\n",
       "      <th>std</th>\n",
       "      <td>0.699459</td>\n",
       "      <td>1.083542</td>\n",
       "      <td>0.517986</td>\n",
       "      <td>0.930100</td>\n",
       "    </tr>\n",
       "    <tr>\n",
       "      <th>min</th>\n",
       "      <td>-1.484347</td>\n",
       "      <td>-2.300392</td>\n",
       "      <td>-0.453574</td>\n",
       "      <td>-1.908893</td>\n",
       "    </tr>\n",
       "    <tr>\n",
       "      <th>25%</th>\n",
       "      <td>-0.224221</td>\n",
       "      <td>-0.448438</td>\n",
       "      <td>-0.031514</td>\n",
       "      <td>-0.587010</td>\n",
       "    </tr>\n",
       "    <tr>\n",
       "      <th>50%</th>\n",
       "      <td>0.413540</td>\n",
       "      <td>-0.042174</td>\n",
       "      <td>0.218424</td>\n",
       "      <td>0.138357</td>\n",
       "    </tr>\n",
       "    <tr>\n",
       "      <th>75%</th>\n",
       "      <td>0.526829</td>\n",
       "      <td>0.438187</td>\n",
       "      <td>0.507652</td>\n",
       "      <td>0.626400</td>\n",
       "    </tr>\n",
       "    <tr>\n",
       "      <th>max</th>\n",
       "      <td>0.649886</td>\n",
       "      <td>1.479433</td>\n",
       "      <td>1.172447</td>\n",
       "      <td>0.852351</td>\n",
       "    </tr>\n",
       "  </tbody>\n",
       "</table>\n",
       "</div>"
      ],
      "text/plain": [
       "            No1       No2       No3       No4\n",
       "count  9.000000  9.000000  9.000000  9.000000\n",
       "mean   0.073148 -0.053750  0.265572 -0.169232\n",
       "std    0.699459  1.083542  0.517986  0.930100\n",
       "min   -1.484347 -2.300392 -0.453574 -1.908893\n",
       "25%   -0.224221 -0.448438 -0.031514 -0.587010\n",
       "50%    0.413540 -0.042174  0.218424  0.138357\n",
       "75%    0.526829  0.438187  0.507652  0.626400\n",
       "max    0.649886  1.479433  1.172447  0.852351"
      ]
     },
     "execution_count": 48,
     "metadata": {},
     "output_type": "execute_result"
    }
   ],
   "source": [
    "df.describe()"
   ]
  },
  {
   "cell_type": "markdown",
   "metadata": {},
   "source": [
    "也可以对DataFrame对象应用大部分NumPy通用函数："
   ]
  },
  {
   "cell_type": "code",
   "execution_count": 49,
   "metadata": {},
   "outputs": [
    {
     "name": "stderr",
     "output_type": "stream",
     "text": [
      "C:\\ProgramData\\Anaconda3\\lib\\site-packages\\ipykernel\\__main__.py:1: RuntimeWarning: invalid value encountered in sqrt\n",
      "  if __name__ == '__main__':\n"
     ]
    },
    {
     "data": {
      "text/html": [
       "<div>\n",
       "<style>\n",
       "    .dataframe thead tr:only-child th {\n",
       "        text-align: right;\n",
       "    }\n",
       "\n",
       "    .dataframe thead th {\n",
       "        text-align: left;\n",
       "    }\n",
       "\n",
       "    .dataframe tbody tr th {\n",
       "        vertical-align: top;\n",
       "    }\n",
       "</style>\n",
       "<table border=\"1\" class=\"dataframe\">\n",
       "  <thead>\n",
       "    <tr style=\"text-align: right;\">\n",
       "      <th></th>\n",
       "      <th>No1</th>\n",
       "      <th>No2</th>\n",
       "      <th>No3</th>\n",
       "      <th>No4</th>\n",
       "    </tr>\n",
       "  </thead>\n",
       "  <tbody>\n",
       "    <tr>\n",
       "      <th>2015-01-31</th>\n",
       "      <td>NaN</td>\n",
       "      <td>NaN</td>\n",
       "      <td>0.712497</td>\n",
       "      <td>0.791454</td>\n",
       "    </tr>\n",
       "    <tr>\n",
       "      <th>2015-02-28</th>\n",
       "      <td>0.763440</td>\n",
       "      <td>1.216319</td>\n",
       "      <td>0.925362</td>\n",
       "      <td>0.923228</td>\n",
       "    </tr>\n",
       "    <tr>\n",
       "      <th>2015-03-31</th>\n",
       "      <td>0.725830</td>\n",
       "      <td>0.960340</td>\n",
       "      <td>1.082796</td>\n",
       "      <td>0.529126</td>\n",
       "    </tr>\n",
       "    <tr>\n",
       "      <th>2015-04-30</th>\n",
       "      <td>0.670447</td>\n",
       "      <td>0.661957</td>\n",
       "      <td>NaN</td>\n",
       "      <td>NaN</td>\n",
       "    </tr>\n",
       "    <tr>\n",
       "      <th>2015-05-31</th>\n",
       "      <td>0.643071</td>\n",
       "      <td>NaN</td>\n",
       "      <td>NaN</td>\n",
       "      <td>0.371963</td>\n",
       "    </tr>\n",
       "    <tr>\n",
       "      <th>2015-06-30</th>\n",
       "      <td>NaN</td>\n",
       "      <td>NaN</td>\n",
       "      <td>0.576060</td>\n",
       "      <td>0.802860</td>\n",
       "    </tr>\n",
       "    <tr>\n",
       "      <th>2015-07-31</th>\n",
       "      <td>0.484670</td>\n",
       "      <td>NaN</td>\n",
       "      <td>0.119082</td>\n",
       "      <td>NaN</td>\n",
       "    </tr>\n",
       "    <tr>\n",
       "      <th>2015-08-31</th>\n",
       "      <td>NaN</td>\n",
       "      <td>0.547498</td>\n",
       "      <td>0.467359</td>\n",
       "      <td>NaN</td>\n",
       "    </tr>\n",
       "    <tr>\n",
       "      <th>2015-09-30</th>\n",
       "      <td>0.806155</td>\n",
       "      <td>NaN</td>\n",
       "      <td>NaN</td>\n",
       "      <td>NaN</td>\n",
       "    </tr>\n",
       "  </tbody>\n",
       "</table>\n",
       "</div>"
      ],
      "text/plain": [
       "                 No1       No2       No3       No4\n",
       "2015-01-31       NaN       NaN  0.712497  0.791454\n",
       "2015-02-28  0.763440  1.216319  0.925362  0.923228\n",
       "2015-03-31  0.725830  0.960340  1.082796  0.529126\n",
       "2015-04-30  0.670447  0.661957       NaN       NaN\n",
       "2015-05-31  0.643071       NaN       NaN  0.371963\n",
       "2015-06-30       NaN       NaN  0.576060  0.802860\n",
       "2015-07-31  0.484670       NaN  0.119082       NaN\n",
       "2015-08-31       NaN  0.547498  0.467359       NaN\n",
       "2015-09-30  0.806155       NaN       NaN       NaN"
      ]
     },
     "execution_count": 49,
     "metadata": {},
     "output_type": "execute_result"
    }
   ],
   "source": [
    "np.sqrt(df)"
   ]
  },
  {
   "cell_type": "markdown",
   "metadata": {},
   "source": [
    "一般地，在**NumPy通用函数**适用于ndarray对象的任何情况下，都可将这些函数应用到包含相同数据的**pandas DataFrame**对象。"
   ]
  },
  {
   "cell_type": "markdown",
   "metadata": {},
   "source": [
    "pandas有相当强的容错能力，它可以捕捉错误，在对应数学运算失败时放入NaN值。并且还可以将不完整的数据集当成完整数据集来使用："
   ]
  },
  {
   "cell_type": "code",
   "execution_count": 50,
   "metadata": {},
   "outputs": [
    {
     "name": "stderr",
     "output_type": "stream",
     "text": [
      "C:\\ProgramData\\Anaconda3\\lib\\site-packages\\ipykernel\\__main__.py:1: RuntimeWarning: invalid value encountered in sqrt\n",
      "  if __name__ == '__main__':\n"
     ]
    },
    {
     "data": {
      "text/plain": [
       "No1    4.093614\n",
       "No2    3.386115\n",
       "No3    3.883155\n",
       "No4    3.418632\n",
       "dtype: float64"
      ]
     },
     "execution_count": 50,
     "metadata": {},
     "output_type": "execute_result"
    }
   ],
   "source": [
    "np.sqrt(df).sum()"
   ]
  },
  {
   "cell_type": "markdown",
   "metadata": {},
   "source": [
    "在这些情况下，pandas将不考虑NaN值，只使用其他可用值。   \n",
    "一般情况下，绘制数据图表也只需一行代码："
   ]
  },
  {
   "cell_type": "code",
   "execution_count": 51,
   "metadata": {},
   "outputs": [
    {
     "data": {
      "text/plain": [
       "<matplotlib.axes._subplots.AxesSubplot at 0x1e6f8958e10>"
      ]
     },
     "execution_count": 51,
     "metadata": {},
     "output_type": "execute_result"
    },
    {
     "data": {
      "image/png": "[encoded data removed]",
      "text/plain": [
       "<matplotlib.figure.Figure at 0x1e6f89c39e8>"
      ]
     },
     "metadata": {},
     "output_type": "display_data"
    }
   ],
   "source": [
    "%matplotlib inline\n",
    "df.cumsum().plot(lw=2.0, grid=True)\n",
    "# tag: dataframe_plot\n",
    "# title: Line plot of a DataFrame object"
   ]
  },
  {
   "cell_type": "markdown",
   "metadata": {},
   "source": [
    "本质上，pandas提供matplotlib的一个封装器，专门为DataFrame对象所设计。下面是plot方法的参数："
   ]
  },
  {
   "cell_type": "markdown",
   "metadata": {},
   "source": [
    "```python\n",
    "df.plot(x=None, y=None, kind='line', ax=None, subplots=False, sharex=None, sharey=False, layout=None, figsize=None, use_index=True, title=None, grid=None, legend=True, style=None, logx=False, logy=False, loglog=False, xticks=None, yticks=None, xlim=None, ylim=None, rot=None, fontsize=None, colormap=None, table=False, yerr=None, xerr=None, secondary_y=False, sort_columns=False, **kwds)\n",
    "Type:           FramePlotMethods\n",
    "Docstring:     \n",
    "DataFrame plotting accessor and method\n",
    "\n",
    "Examples\n",
    "--------\n",
    ">>> df.plot.line()\n",
    ">>> df.plot.scatter('x', 'y')\n",
    ">>> df.plot.hexbin()\n",
    "\n",
    "These plotting methods can also be accessed by calling the accessor as a\n",
    "method with the ``kind`` argument:\n",
    "``df.plot(kind='line')`` is equivalent to ``df.plot.line()``\n",
    "Call docstring:\n",
    "Make plots of DataFrame using matplotlib / pylab.\n",
    "\n",
    "*New in version 0.17.0:* Each plot kind has a corresponding method on the\n",
    "``DataFrame.plot`` accessor:\n",
    "``df.plot(kind='line')`` is equivalent to\n",
    "``df.plot.line()``.\n",
    "\n",
    "Parameters\n",
    "----------\n",
    "data : DataFrame\n",
    "x : label or position, default None (只在列值为x刻度时使用)\n",
    "y : label or position, default None (只在列值为x刻度时使用)\n",
    "    Allows plotting of one column versus another\n",
    "kind : str   (图表类型)\n",
    "    - 'line' : line plot (default)\n",
    "    - 'bar' : vertical bar plot\n",
    "    - 'barh' : horizontal bar plot\n",
    "    - 'hist' : histogram\n",
    "    - 'box' : boxplot\n",
    "    - 'kde' : Kernel Density Estimation plot\n",
    "    - 'density' : same as 'kde'\n",
    "    - 'area' : area plot\n",
    "    - 'pie' : pie plot\n",
    "    - 'scatter' : scatter plot\n",
    "    - 'hexbin' : hexbin plot\n",
    "ax : matplotlib axes object, default None (绘图使用的matplotlib轴对象)\n",
    "subplots : boolean, default False\n",
    "    Make separate subplots for each column(子图中的绘图列)\n",
    "sharex : boolean, default True if ax is None else False (共用x轴)\n",
    "    In case subplots=True, share x axis and set some x axis labels to\n",
    "    invisible; defaults to True if ax is None otherwise False if an ax\n",
    "    is passed in; Be aware, that passing in both an ax and sharex=True\n",
    "    will alter all x axis labels for all axis in a figure!\n",
    "sharey : boolean, default False  (共用y轴)\n",
    "    In case subplots=True, share y axis and set some y axis labels to\n",
    "    invisible\n",
    "layout : tuple (optional)\n",
    "    (rows, columns) for the layout of subplots\n",
    "figsize : a tuple (width, height) in inches\n",
    "use_index : boolean, default True\n",
    "    Use index as ticks for x axis (使用DataFrame.index作为x轴刻度)\n",
    "title : string or list\n",
    "    Title to use for the plot(图表标题). If a string is passed, print the string at\n",
    "    the top of the figure. If a list is passed and `subplots` is True,\n",
    "    print each item in the list above the corresponding subplot.\n",
    "grid : boolean, default None (matlab style default)\n",
    "    Axis grid lines (水平和垂直网格线)\n",
    "legend : False/True/'reverse'\n",
    "    Place legend on axis subplots  (标签图例)\n",
    "style : list or dict\n",
    "    matplotlib line style per column (绘图线形，每列)\n",
    "logx : boolean, default False\n",
    "    Use log scaling on x axis (x轴的对数刻度)\n",
    "logy : boolean, default False  (y轴的对数刻度)\n",
    "    Use log scaling on y axis\n",
    "loglog : boolean, default False\n",
    "    Use log scaling on both x and y axes\n",
    "xticks : sequence (默认Index)\n",
    "    Values to use for the xticks (x轴的刻度)\n",
    "yticks : sequence (默认Values)\n",
    "    Values to use for the yticks(y轴刻度)\n",
    "xlim : 2-tuple/list  (x轴的界限)\n",
    "ylim : 2-tuple/list  (y轴的界限)\n",
    "rot : int, default None\n",
    "    Rotation for ticks (xticks for vertical, yticks for horizontal plots)  (旋转x轴刻度)\n",
    "fontsize : int, default None\n",
    "    Font size for xticks and yticks\n",
    "colormap : str or matplotlib colormap object, default None\n",
    "    Colormap to select colors from. If string, load colormap with that name\n",
    "    from matplotlib.   (用于绘图的颜色映射)\n",
    "colorbar : boolean, optional\n",
    "    If True, plot colorbar (only relevant for 'scatter' and 'hexbin' plots)\n",
    "position : float\n",
    "    Specify relative alignments for bar plot layout.\n",
    "    From 0 (left/bottom-end) to 1 (right/top-end). Default is 0.5 (center)\n",
    "layout : tuple (optional)\n",
    "    (rows, columns) for the layout of the plot\n",
    "table : boolean, Series or DataFrame, default False\n",
    "    If True, draw a table using the data in the DataFrame and the data will\n",
    "    be transposed to meet matplotlib's default layout.\n",
    "    If a Series or DataFrame is passed, use passed data to draw a table.\n",
    "yerr : DataFrame, Series, array-like, dict and str\n",
    "    See :ref:`Plotting with Error Bars <visualization.errorbars>` for\n",
    "    detail.\n",
    "xerr : same types as yerr.\n",
    "stacked : boolean, default False in line and\n",
    "    bar plots, and True in area plot. If True, create stacked plot.(堆叠，只用于柱状图)\n",
    "sort_columns : boolean, default False\n",
    "    Sort column names to determine plot ordering (在绘图之前，将列按字母顺序排列)\n",
    "secondary_y : boolean or sequence, default False\n",
    "    Whether to plot on the secondary y-axis  (第二个y轴)\n",
    "    If a list/tuple, which columns to plot on secondary y-axis\n",
    "mark_right : boolean, default True   (第二个y轴，自动设置标签)\n",
    "    When using a secondary_y axis, automatically mark the column\n",
    "    labels with \"(right)\" in the legend\n",
    "kwds : keywords\n",
    "    Options to pass to matplotlib plotting method (传递给matplotlib选项)\n",
    "\n",
    "Returns\n",
    "-------\n",
    "axes : matplotlib.AxesSubplot or np.array of them\n",
    "\n",
    "Notes\n",
    "-----\n",
    "\n",
    "- See matplotlib documentation online for more on this subject\n",
    "- If `kind` = 'bar' or 'barh', you can specify relative alignments\n",
    "  for bar plot layout by `position` keyword.\n",
    "  From 0 (left/bottom-end) to 1 (right/top-end). Default is 0.5 (center)\n",
    "- If `kind` = 'scatter' and the argument `c` is the name of a dataframe\n",
    "  column, the values of that column are used to color each point.\n",
    "- If `kind` = 'hexbin', you can control the size of the bins with the\n",
    "  `gridsize` argument. By default, a histogram of the counts around each\n",
    "  `(x, y)` point is computed. You can specify alternative aggregations\n",
    "  by passing values to the `C` and `reduce_C_function` arguments.\n",
    "  `C` specifies the value at each `(x, y)` point and `reduce_C_function`\n",
    "  is a function of one argument that reduces all the values in a bin to\n",
    "  a single number (e.g. `mean`, `max`, `sum`, `std`).\n",
    "```"
   ]
  },
  {
   "cell_type": "markdown",
   "metadata": {},
   "source": [
    "# Series 类"
   ]
  },
  {
   "cell_type": "code",
   "execution_count": 56,
   "metadata": {},
   "outputs": [
    {
     "data": {
      "text/plain": [
       "pandas.core.frame.DataFrame"
      ]
     },
     "execution_count": 56,
     "metadata": {},
     "output_type": "execute_result"
    }
   ],
   "source": [
    "type(df)"
   ]
  },
  {
   "cell_type": "code",
   "execution_count": 57,
   "metadata": {},
   "outputs": [
    {
     "data": {
      "text/plain": [
       "2015-01-31   -0.490602\n",
       "2015-02-28    0.582841\n",
       "2015-03-31    0.526829\n",
       "2015-04-30    0.449499\n",
       "2015-05-31    0.413540\n",
       "2015-06-30   -0.224221\n",
       "2015-07-31    0.234905\n",
       "2015-08-31   -1.484347\n",
       "2015-09-30    0.649886\n",
       "Freq: M, Name: No1, dtype: float64"
      ]
     },
     "execution_count": 57,
     "metadata": {},
     "output_type": "execute_result"
    }
   ],
   "source": [
    "df['No1']"
   ]
  },
  {
   "cell_type": "code",
   "execution_count": 58,
   "metadata": {},
   "outputs": [
    {
     "data": {
      "text/plain": [
       "pandas.core.series.Series"
      ]
     },
     "execution_count": 58,
     "metadata": {},
     "output_type": "execute_result"
    }
   ],
   "source": [
    "type(df['No1'])"
   ]
  },
  {
   "cell_type": "markdown",
   "metadata": {},
   "source": [
    "DataFrame的主要方法也可用于Series对象："
   ]
  },
  {
   "cell_type": "code",
   "execution_count": 60,
   "metadata": {},
   "outputs": [
    {
     "data": {
      "text/plain": [
       "<matplotlib.text.Text at 0x1e6f8ca1fd0>"
      ]
     },
     "execution_count": 60,
     "metadata": {},
     "output_type": "execute_result"
    },
    {
     "data": {
      "image/png": "[encoded data removed]",
      "text/plain": [
       "<matplotlib.figure.Figure at 0x1e6f89c3358>"
      ]
     },
     "metadata": {},
     "output_type": "display_data"
    }
   ],
   "source": [
    "import matplotlib.pyplot as plt\n",
    "df['No1'].cumsum().plot(style='r', lw=2., grid=True)\n",
    "plt.xlabel('date')\n",
    "plt.ylabel('value')\n",
    "# tag: time_series\n",
    "# title: Line plot of a Series object"
   ]
  },
  {
   "cell_type": "markdown",
   "metadata": {},
   "source": [
    "# GroupBy Operations"
   ]
  },
  {
   "cell_type": "markdown",
   "metadata": {},
   "source": [
    "pandas具备强大而灵活的分组功能，工作方式类似于SQL中的分组和Microsoft Excel中的透视表。为了进行分组，我们添加一列，表示对应索引数据所属的季度："
   ]
  },
  {
   "cell_type": "code",
   "execution_count": 61,
   "metadata": {},
   "outputs": [
    {
     "data": {
      "text/html": [
       "<div>\n",
       "<style>\n",
       "    .dataframe thead tr:only-child th {\n",
       "        text-align: right;\n",
       "    }\n",
       "\n",
       "    .dataframe thead th {\n",
       "        text-align: left;\n",
       "    }\n",
       "\n",
       "    .dataframe tbody tr th {\n",
       "        vertical-align: top;\n",
       "    }\n",
       "</style>\n",
       "<table border=\"1\" class=\"dataframe\">\n",
       "  <thead>\n",
       "    <tr style=\"text-align: right;\">\n",
       "      <th></th>\n",
       "      <th>No1</th>\n",
       "      <th>No2</th>\n",
       "      <th>No3</th>\n",
       "      <th>No4</th>\n",
       "      <th>Quarter</th>\n",
       "    </tr>\n",
       "  </thead>\n",
       "  <tbody>\n",
       "    <tr>\n",
       "      <th>2015-01-31</th>\n",
       "      <td>-0.490602</td>\n",
       "      <td>-0.448438</td>\n",
       "      <td>0.507652</td>\n",
       "      <td>0.626400</td>\n",
       "      <td>Q1</td>\n",
       "    </tr>\n",
       "    <tr>\n",
       "      <th>2015-02-28</th>\n",
       "      <td>0.582841</td>\n",
       "      <td>1.479433</td>\n",
       "      <td>0.856295</td>\n",
       "      <td>0.852351</td>\n",
       "      <td>Q1</td>\n",
       "    </tr>\n",
       "    <tr>\n",
       "      <th>2015-03-31</th>\n",
       "      <td>0.526829</td>\n",
       "      <td>0.922253</td>\n",
       "      <td>1.172447</td>\n",
       "      <td>0.279974</td>\n",
       "      <td>Q1</td>\n",
       "    </tr>\n",
       "    <tr>\n",
       "      <th>2015-04-30</th>\n",
       "      <td>0.449499</td>\n",
       "      <td>0.438187</td>\n",
       "      <td>-0.225605</td>\n",
       "      <td>-0.379799</td>\n",
       "      <td>Q2</td>\n",
       "    </tr>\n",
       "    <tr>\n",
       "      <th>2015-05-31</th>\n",
       "      <td>0.413540</td>\n",
       "      <td>-0.774152</td>\n",
       "      <td>-0.031514</td>\n",
       "      <td>0.138357</td>\n",
       "      <td>Q2</td>\n",
       "    </tr>\n",
       "    <tr>\n",
       "      <th>2015-06-30</th>\n",
       "      <td>-0.224221</td>\n",
       "      <td>-2.300392</td>\n",
       "      <td>0.331845</td>\n",
       "      <td>0.644584</td>\n",
       "      <td>Q2</td>\n",
       "    </tr>\n",
       "    <tr>\n",
       "      <th>2015-07-31</th>\n",
       "      <td>0.234905</td>\n",
       "      <td>-0.042174</td>\n",
       "      <td>0.014180</td>\n",
       "      <td>-0.587010</td>\n",
       "      <td>Q3</td>\n",
       "    </tr>\n",
       "    <tr>\n",
       "      <th>2015-08-31</th>\n",
       "      <td>-1.484347</td>\n",
       "      <td>0.299754</td>\n",
       "      <td>0.218424</td>\n",
       "      <td>-1.908893</td>\n",
       "      <td>Q3</td>\n",
       "    </tr>\n",
       "    <tr>\n",
       "      <th>2015-09-30</th>\n",
       "      <td>0.649886</td>\n",
       "      <td>-0.058220</td>\n",
       "      <td>-0.453574</td>\n",
       "      <td>-1.189051</td>\n",
       "      <td>Q3</td>\n",
       "    </tr>\n",
       "  </tbody>\n",
       "</table>\n",
       "</div>"
      ],
      "text/plain": [
       "                 No1       No2       No3       No4 Quarter\n",
       "2015-01-31 -0.490602 -0.448438  0.507652  0.626400      Q1\n",
       "2015-02-28  0.582841  1.479433  0.856295  0.852351      Q1\n",
       "2015-03-31  0.526829  0.922253  1.172447  0.279974      Q1\n",
       "2015-04-30  0.449499  0.438187 -0.225605 -0.379799      Q2\n",
       "2015-05-31  0.413540 -0.774152 -0.031514  0.138357      Q2\n",
       "2015-06-30 -0.224221 -2.300392  0.331845  0.644584      Q2\n",
       "2015-07-31  0.234905 -0.042174  0.014180 -0.587010      Q3\n",
       "2015-08-31 -1.484347  0.299754  0.218424 -1.908893      Q3\n",
       "2015-09-30  0.649886 -0.058220 -0.453574 -1.189051      Q3"
      ]
     },
     "execution_count": 61,
     "metadata": {},
     "output_type": "execute_result"
    }
   ],
   "source": [
    "df['Quarter'] = ['Q1', 'Q1', 'Q1', 'Q2', 'Q2', 'Q2', 'Q3', 'Q3', 'Q3']\n",
    "df"
   ]
  },
  {
   "cell_type": "markdown",
   "metadata": {},
   "source": [
    "现在，我们可以根据“Quarter”列分组，输出单独组的统计数字："
   ]
  },
  {
   "cell_type": "code",
   "execution_count": 62,
   "metadata": {
    "collapsed": true
   },
   "outputs": [],
   "source": [
    "groups = df.groupby('Quarter')"
   ]
  },
  {
   "cell_type": "code",
   "execution_count": 63,
   "metadata": {
    "scrolled": true
   },
   "outputs": [
    {
     "data": {
      "text/html": [
       "<div>\n",
       "<style>\n",
       "    .dataframe thead tr:only-child th {\n",
       "        text-align: right;\n",
       "    }\n",
       "\n",
       "    .dataframe thead th {\n",
       "        text-align: left;\n",
       "    }\n",
       "\n",
       "    .dataframe tbody tr th {\n",
       "        vertical-align: top;\n",
       "    }\n",
       "</style>\n",
       "<table border=\"1\" class=\"dataframe\">\n",
       "  <thead>\n",
       "    <tr style=\"text-align: right;\">\n",
       "      <th></th>\n",
       "      <th>No1</th>\n",
       "      <th>No2</th>\n",
       "      <th>No3</th>\n",
       "      <th>No4</th>\n",
       "    </tr>\n",
       "    <tr>\n",
       "      <th>Quarter</th>\n",
       "      <th></th>\n",
       "      <th></th>\n",
       "      <th></th>\n",
       "      <th></th>\n",
       "    </tr>\n",
       "  </thead>\n",
       "  <tbody>\n",
       "    <tr>\n",
       "      <th>Q1</th>\n",
       "      <td>0.206356</td>\n",
       "      <td>0.651083</td>\n",
       "      <td>0.845464</td>\n",
       "      <td>0.586242</td>\n",
       "    </tr>\n",
       "    <tr>\n",
       "      <th>Q2</th>\n",
       "      <td>0.212939</td>\n",
       "      <td>-0.878786</td>\n",
       "      <td>0.024909</td>\n",
       "      <td>0.134381</td>\n",
       "    </tr>\n",
       "    <tr>\n",
       "      <th>Q3</th>\n",
       "      <td>-0.199852</td>\n",
       "      <td>0.066453</td>\n",
       "      <td>-0.073657</td>\n",
       "      <td>-1.228318</td>\n",
       "    </tr>\n",
       "  </tbody>\n",
       "</table>\n",
       "</div>"
      ],
      "text/plain": [
       "              No1       No2       No3       No4\n",
       "Quarter                                        \n",
       "Q1       0.206356  0.651083  0.845464  0.586242\n",
       "Q2       0.212939 -0.878786  0.024909  0.134381\n",
       "Q3      -0.199852  0.066453 -0.073657 -1.228318"
      ]
     },
     "execution_count": 63,
     "metadata": {},
     "output_type": "execute_result"
    }
   ],
   "source": [
    "groups.mean()  # 每组的平均值"
   ]
  },
  {
   "cell_type": "code",
   "execution_count": 64,
   "metadata": {},
   "outputs": [
    {
     "data": {
      "text/html": [
       "<div>\n",
       "<style>\n",
       "    .dataframe thead tr:only-child th {\n",
       "        text-align: right;\n",
       "    }\n",
       "\n",
       "    .dataframe thead th {\n",
       "        text-align: left;\n",
       "    }\n",
       "\n",
       "    .dataframe tbody tr th {\n",
       "        vertical-align: top;\n",
       "    }\n",
       "</style>\n",
       "<table border=\"1\" class=\"dataframe\">\n",
       "  <thead>\n",
       "    <tr style=\"text-align: right;\">\n",
       "      <th></th>\n",
       "      <th>No1</th>\n",
       "      <th>No2</th>\n",
       "      <th>No3</th>\n",
       "      <th>No4</th>\n",
       "    </tr>\n",
       "    <tr>\n",
       "      <th>Quarter</th>\n",
       "      <th></th>\n",
       "      <th></th>\n",
       "      <th></th>\n",
       "      <th></th>\n",
       "    </tr>\n",
       "  </thead>\n",
       "  <tbody>\n",
       "    <tr>\n",
       "      <th>Q1</th>\n",
       "      <td>0.582841</td>\n",
       "      <td>1.479433</td>\n",
       "      <td>1.172447</td>\n",
       "      <td>0.852351</td>\n",
       "    </tr>\n",
       "    <tr>\n",
       "      <th>Q2</th>\n",
       "      <td>0.449499</td>\n",
       "      <td>0.438187</td>\n",
       "      <td>0.331845</td>\n",
       "      <td>0.644584</td>\n",
       "    </tr>\n",
       "    <tr>\n",
       "      <th>Q3</th>\n",
       "      <td>0.649886</td>\n",
       "      <td>0.299754</td>\n",
       "      <td>0.218424</td>\n",
       "      <td>-0.587010</td>\n",
       "    </tr>\n",
       "  </tbody>\n",
       "</table>\n",
       "</div>"
      ],
      "text/plain": [
       "              No1       No2       No3       No4\n",
       "Quarter                                        \n",
       "Q1       0.582841  1.479433  1.172447  0.852351\n",
       "Q2       0.449499  0.438187  0.331845  0.644584\n",
       "Q3       0.649886  0.299754  0.218424 -0.587010"
      ]
     },
     "execution_count": 64,
     "metadata": {},
     "output_type": "execute_result"
    }
   ],
   "source": [
    "groups.max()  # 每组的最大值"
   ]
  },
  {
   "cell_type": "code",
   "execution_count": 65,
   "metadata": {},
   "outputs": [
    {
     "data": {
      "text/plain": [
       "Quarter\n",
       "Q1    3\n",
       "Q2    3\n",
       "Q3    3\n",
       "dtype: int64"
      ]
     },
     "execution_count": 65,
     "metadata": {},
     "output_type": "execute_result"
    }
   ],
   "source": [
    "groups.size()  # 组的大小"
   ]
  },
  {
   "cell_type": "markdown",
   "metadata": {},
   "source": [
    "分组可在多列上进行，我们添加一列，表示索引月份是奇数还是偶数："
   ]
  },
  {
   "cell_type": "code",
   "execution_count": 66,
   "metadata": {
    "collapsed": true
   },
   "outputs": [],
   "source": [
    "df['Odd_Even'] = ['Odd', 'Even', 'Odd', 'Even', 'Odd', 'Even',\n",
    "                  'Odd', 'Even', 'Odd']"
   ]
  },
  {
   "cell_type": "code",
   "execution_count": 67,
   "metadata": {
    "collapsed": true
   },
   "outputs": [],
   "source": [
    "groups = df.groupby(['Quarter','Odd_Even'])"
   ]
  },
  {
   "cell_type": "code",
   "execution_count": 68,
   "metadata": {},
   "outputs": [
    {
     "data": {
      "text/plain": [
       "Quarter  Odd_Even\n",
       "Q1       Even        1\n",
       "         Odd         2\n",
       "Q2       Even        2\n",
       "         Odd         1\n",
       "Q3       Even        1\n",
       "         Odd         2\n",
       "dtype: int64"
      ]
     },
     "execution_count": 68,
     "metadata": {},
     "output_type": "execute_result"
    }
   ],
   "source": [
    "groups.size()"
   ]
  },
  {
   "cell_type": "code",
   "execution_count": 69,
   "metadata": {},
   "outputs": [
    {
     "data": {
      "text/html": [
       "<div>\n",
       "<style>\n",
       "    .dataframe thead tr:only-child th {\n",
       "        text-align: right;\n",
       "    }\n",
       "\n",
       "    .dataframe thead th {\n",
       "        text-align: left;\n",
       "    }\n",
       "\n",
       "    .dataframe tbody tr th {\n",
       "        vertical-align: top;\n",
       "    }\n",
       "</style>\n",
       "<table border=\"1\" class=\"dataframe\">\n",
       "  <thead>\n",
       "    <tr style=\"text-align: right;\">\n",
       "      <th></th>\n",
       "      <th></th>\n",
       "      <th>No1</th>\n",
       "      <th>No2</th>\n",
       "      <th>No3</th>\n",
       "      <th>No4</th>\n",
       "    </tr>\n",
       "    <tr>\n",
       "      <th>Quarter</th>\n",
       "      <th>Odd_Even</th>\n",
       "      <th></th>\n",
       "      <th></th>\n",
       "      <th></th>\n",
       "      <th></th>\n",
       "    </tr>\n",
       "  </thead>\n",
       "  <tbody>\n",
       "    <tr>\n",
       "      <th rowspan=\"2\" valign=\"top\">Q1</th>\n",
       "      <th>Even</th>\n",
       "      <td>0.582841</td>\n",
       "      <td>1.479433</td>\n",
       "      <td>0.856295</td>\n",
       "      <td>0.852351</td>\n",
       "    </tr>\n",
       "    <tr>\n",
       "      <th>Odd</th>\n",
       "      <td>0.018114</td>\n",
       "      <td>0.236907</td>\n",
       "      <td>0.840049</td>\n",
       "      <td>0.453187</td>\n",
       "    </tr>\n",
       "    <tr>\n",
       "      <th rowspan=\"2\" valign=\"top\">Q2</th>\n",
       "      <th>Even</th>\n",
       "      <td>0.112639</td>\n",
       "      <td>-0.931103</td>\n",
       "      <td>0.053120</td>\n",
       "      <td>0.132393</td>\n",
       "    </tr>\n",
       "    <tr>\n",
       "      <th>Odd</th>\n",
       "      <td>0.413540</td>\n",
       "      <td>-0.774152</td>\n",
       "      <td>-0.031514</td>\n",
       "      <td>0.138357</td>\n",
       "    </tr>\n",
       "    <tr>\n",
       "      <th rowspan=\"2\" valign=\"top\">Q3</th>\n",
       "      <th>Even</th>\n",
       "      <td>-1.484347</td>\n",
       "      <td>0.299754</td>\n",
       "      <td>0.218424</td>\n",
       "      <td>-1.908893</td>\n",
       "    </tr>\n",
       "    <tr>\n",
       "      <th>Odd</th>\n",
       "      <td>0.442396</td>\n",
       "      <td>-0.050197</td>\n",
       "      <td>-0.219697</td>\n",
       "      <td>-0.888031</td>\n",
       "    </tr>\n",
       "  </tbody>\n",
       "</table>\n",
       "</div>"
      ],
      "text/plain": [
       "                       No1       No2       No3       No4\n",
       "Quarter Odd_Even                                        \n",
       "Q1      Even      0.582841  1.479433  0.856295  0.852351\n",
       "        Odd       0.018114  0.236907  0.840049  0.453187\n",
       "Q2      Even      0.112639 -0.931103  0.053120  0.132393\n",
       "        Odd       0.413540 -0.774152 -0.031514  0.138357\n",
       "Q3      Even     -1.484347  0.299754  0.218424 -1.908893\n",
       "        Odd       0.442396 -0.050197 -0.219697 -0.888031"
      ]
     },
     "execution_count": 69,
     "metadata": {},
     "output_type": "execute_result"
    }
   ],
   "source": [
    "groups.mean()"
   ]
  },
  {
   "cell_type": "markdown",
   "metadata": {},
   "source": [
    "## Financial Data"
   ]
  },
  {
   "cell_type": "code",
   "execution_count": 4,
   "metadata": {
    "collapsed": true
   },
   "outputs": [],
   "source": [
    "from pandas_datareader import data as web"
   ]
  },
  {
   "cell_type": "markdown",
   "metadata": {},
   "source": [
    "pandas内建函数`DataReader`从Web读取数据，进行数据分析(DAX)"
   ]
  },
  {
   "cell_type": "code",
   "execution_count": 6,
   "metadata": {},
   "outputs": [
    {
     "name": "stdout",
     "output_type": "stream",
     "text": [
      "<class 'pandas.core.frame.DataFrame'>\n",
      "DatetimeIndex: 4000 entries, 2001-10-15 to 2017-09-08\n",
      "Data columns (total 5 columns):\n",
      "Open      3980 non-null float64\n",
      "High      3980 non-null float64\n",
      "Low       3980 non-null float64\n",
      "Close     4000 non-null float64\n",
      "Volume    4000 non-null int64\n",
      "dtypes: float64(4), int64(1)\n",
      "memory usage: 187.5 KB\n"
     ]
    }
   ],
   "source": [
    "DAX = web.DataReader(name='SPY', data_source='google',\n",
    "                     start='2000-1-1')   \n",
    "DAX.info()"
   ]
  },
  {
   "cell_type": "markdown",
   "metadata": {},
   "source": [
    "```json\n",
    "Signature: web.DataReader(name, data_source=None, start=None, end=None, retry_count=3, pause=0.001, session=None, access_key=None)\n",
    "Docstring:\n",
    "Imports data from a number of online sources.\n",
    "\n",
    "Currently supports Yahoo! Finance, Google Finance, St. Louis FED (FRED),\n",
    "Kenneth French's data library, and the SEC's EDGAR Index.\n",
    "\n",
    "Parameters\n",
    "----------\n",
    "name : str or list of strs\n",
    "    the name of the dataset. Some data sources (yahoo, google, fred) will\n",
    "    accept a list of names.\n",
    "data_source: {str, None}\n",
    "    the data source (\"yahoo\", \"yahoo-actions\", \"yahoo-dividends\",\n",
    "    \"google\", \"fred\", \"ff\", or \"edgar-index\")\n",
    "start : {datetime, None}\n",
    "    left boundary for range (defaults to 1/1/2010)\n",
    "end : {datetime, None}\n",
    "    right boundary for range (defaults to today)\n",
    "retry_count : {int, 3}\n",
    "    Number of times to retry query request.\n",
    "pause : {numeric, 0.001}\n",
    "    Time, in seconds, to pause between consecutive queries of chunks. If\n",
    "    single value given for symbol, represents the pause between retries.\n",
    "session : Session, default None\n",
    "        requests.sessions.Session instance to be used\n",
    "\n",
    "Examples\n",
    "----------\n",
    "\n",
    "# Data from Yahoo! Finance\n",
    "gs = DataReader(\"GS\", \"yahoo\")\n",
    "\n",
    "# Corporate Actions (Dividend and Split Data)\n",
    "# with ex-dates from Yahoo! Finance\n",
    "gs = DataReader(\"GS\", \"yahoo-actions\")\n",
    "\n",
    "# Data from Google Finance\n",
    "aapl = DataReader(\"AAPL\", \"google\")\n",
    "\n",
    "# Data from FRED\n",
    "vix = DataReader(\"VIXCLS\", \"fred\")\n",
    "\n",
    "# Data from Fama/French\n",
    "ff = DataReader(\"F-F_Research_Data_Factors\", \"famafrench\")\n",
    "ff = DataReader(\"F-F_Research_Data_Factors_weekly\", \"famafrench\")\n",
    "ff = DataReader(\"6_Portfolios_2x3\", \"famafrench\")\n",
    "ff = DataReader(\"F-F_ST_Reversal_Factor\", \"famafrench\")\n",
    "\n",
    "# Data from EDGAR index\n",
    "ed = DataReader(\"full\", \"edgar-index\")\n",
    "ed2 = DataReader(\"daily\", \"edgar-index\")\n",
    "Type:      function\n",
    "```"
   ]
  },
  {
   "cell_type": "code",
   "execution_count": 72,
   "metadata": {},
   "outputs": [
    {
     "data": {
      "text/html": [
       "<div>\n",
       "<style>\n",
       "    .dataframe thead tr:only-child th {\n",
       "        text-align: right;\n",
       "    }\n",
       "\n",
       "    .dataframe thead th {\n",
       "        text-align: left;\n",
       "    }\n",
       "\n",
       "    .dataframe tbody tr th {\n",
       "        vertical-align: top;\n",
       "    }\n",
       "</style>\n",
       "<table border=\"1\" class=\"dataframe\">\n",
       "  <thead>\n",
       "    <tr style=\"text-align: right;\">\n",
       "      <th></th>\n",
       "      <th>Open</th>\n",
       "      <th>High</th>\n",
       "      <th>Low</th>\n",
       "      <th>Close</th>\n",
       "      <th>Volume</th>\n",
       "    </tr>\n",
       "    <tr>\n",
       "      <th>Date</th>\n",
       "      <th></th>\n",
       "      <th></th>\n",
       "      <th></th>\n",
       "      <th></th>\n",
       "      <th></th>\n",
       "    </tr>\n",
       "  </thead>\n",
       "  <tbody>\n",
       "    <tr>\n",
       "      <th>2017-08-30</th>\n",
       "      <td>244.83</td>\n",
       "      <td>246.32</td>\n",
       "      <td>244.62</td>\n",
       "      <td>246.01</td>\n",
       "      <td>62030805</td>\n",
       "    </tr>\n",
       "    <tr>\n",
       "      <th>2017-08-31</th>\n",
       "      <td>246.72</td>\n",
       "      <td>247.77</td>\n",
       "      <td>246.05</td>\n",
       "      <td>247.49</td>\n",
       "      <td>103803880</td>\n",
       "    </tr>\n",
       "    <tr>\n",
       "      <th>2017-09-01</th>\n",
       "      <td>247.92</td>\n",
       "      <td>248.33</td>\n",
       "      <td>247.67</td>\n",
       "      <td>247.84</td>\n",
       "      <td>62006989</td>\n",
       "    </tr>\n",
       "    <tr>\n",
       "      <th>2017-09-05</th>\n",
       "      <td>247.26</td>\n",
       "      <td>247.52</td>\n",
       "      <td>244.95</td>\n",
       "      <td>246.06</td>\n",
       "      <td>91398777</td>\n",
       "    </tr>\n",
       "    <tr>\n",
       "      <th>2017-09-08</th>\n",
       "      <td>246.54</td>\n",
       "      <td>247.11</td>\n",
       "      <td>246.30</td>\n",
       "      <td>246.58</td>\n",
       "      <td>63832825</td>\n",
       "    </tr>\n",
       "  </tbody>\n",
       "</table>\n",
       "</div>"
      ],
      "text/plain": [
       "              Open    High     Low   Close     Volume\n",
       "Date                                                 \n",
       "2017-08-30  244.83  246.32  244.62  246.01   62030805\n",
       "2017-08-31  246.72  247.77  246.05  247.49  103803880\n",
       "2017-09-01  247.92  248.33  247.67  247.84   62006989\n",
       "2017-09-05  247.26  247.52  244.95  246.06   91398777\n",
       "2017-09-08  246.54  247.11  246.30  246.58   63832825"
      ]
     },
     "execution_count": 72,
     "metadata": {},
     "output_type": "execute_result"
    }
   ],
   "source": [
    "DAX.tail()  # tail方法提供数据集的最后5行"
   ]
  },
  {
   "cell_type": "markdown",
   "metadata": {},
   "source": [
    "为了更好的概览指数的历史，可再次使用plot方法生成一个图表："
   ]
  },
  {
   "cell_type": "code",
   "execution_count": 75,
   "metadata": {},
   "outputs": [
    {
     "data": {
      "text/plain": [
       "<matplotlib.axes._subplots.AxesSubplot at 0x1e6f8b31588>"
      ]
     },
     "execution_count": 75,
     "metadata": {},
     "output_type": "execute_result"
    },
    {
     "data": {
      "image/png": "[encoded data removed]",
      "text/plain": [
       "<matplotlib.figure.Figure at 0x1e6f950eb00>"
      ]
     },
     "metadata": {},
     "output_type": "display_data"
    }
   ],
   "source": [
    "DAX['Close'].plot(figsize=(8, 5), grid=True)\n",
    "# tag: dax\n",
    "# title: Historical DAX index levels"
   ]
  },
  {
   "cell_type": "markdown",
   "metadata": {},
   "source": [
    "和NumPy ndarray类似，pandas允许在整个甚至复杂的DataFame对象上进行向量化数学运算："
   ]
  },
  {
   "cell_type": "code",
   "execution_count": null,
   "metadata": {},
   "outputs": [
    {
     "name": "stderr",
     "output_type": "stream",
     "text": [
      "C:\\ProgramData\\Anaconda3\\lib\\site-packages\\ipykernel\\__main__.py:4: SettingWithCopyWarning: \n",
      "A value is trying to be set on a copy of a slice from a DataFrame\n",
      "\n",
      "See the caveats in the documentation: http://pandas.pydata.org/pandas-docs/stable/indexing.html#indexing-view-versus-copy\n"
     ]
    }
   ],
   "source": [
    "%%time\n",
    "DAX['Ret_Loop'] = 0.0\n",
    "for i in range(1, len(DAX)):\n",
    "    DAX['Ret_Loop'][i] = np.log(DAX['Close'][i] /\n",
    "                                DAX['Close'][i - 1])"
   ]
  },
  {
   "cell_type": "code",
   "execution_count": null,
   "metadata": {},
   "outputs": [],
   "source": [
    "DAX[['Close', 'Ret_Loop']].tail()"
   ]
  },
  {
   "cell_type": "markdown",
   "metadata": {},
   "source": [
    "shift 方法实现向量化：   \n",
    "它相对于索引向前或向后移动Series或者整个DataFame对象。"
   ]
  },
  {
   "cell_type": "code",
   "execution_count": 7,
   "metadata": {},
   "outputs": [
    {
     "name": "stdout",
     "output_type": "stream",
     "text": [
      "Wall time: 65.2 ms\n"
     ]
    }
   ],
   "source": [
    "%time DAX['Return'] = np.log(DAX['Close'] / DAX['Close'].shift(1))"
   ]
  },
  {
   "cell_type": "code",
   "execution_count": null,
   "metadata": {},
   "outputs": [],
   "source": [
    "del DAX['Ret_Loop'] "
   ]
  },
  {
   "cell_type": "code",
   "execution_count": 10,
   "metadata": {},
   "outputs": [
    {
     "data": {
      "text/plain": [
       "array([<matplotlib.axes._subplots.AxesSubplot object at 0x000001ADBDF69A58>,\n",
       "       <matplotlib.axes._subplots.AxesSubplot object at 0x000001ADBDFF9CC0>], dtype=object)"
      ]
     },
     "execution_count": 10,
     "metadata": {},
     "output_type": "execute_result"
    }
   ],
   "source": [
    "DAX[['Close', 'Return']].plot(subplots=True, style='b',\n",
    "                              figsize=(8, 5), grid=True)\n",
    "# tag: dax_returns\n",
    "# title: The DAX index and daily log returns"
   ]
  },
  {
   "cell_type": "markdown",
   "metadata": {},
   "source": [
    "移动平均值(即趋势)使用`rolling_mean`函数计算："
   ]
  },
  {
   "cell_type": "code",
   "execution_count": 11,
   "metadata": {
    "collapsed": true
   },
   "outputs": [],
   "source": [
    "DAX['42d'] = DAX['Close'].rolling(window=42).mean()\n",
    "DAX['252d'] = DAX['Close'].rolling(window=252).mean()"
   ]
  },
  {
   "cell_type": "code",
   "execution_count": 12,
   "metadata": {},
   "outputs": [
    {
     "data": {
      "text/html": [
       "<div>\n",
       "<style>\n",
       "    .dataframe thead tr:only-child th {\n",
       "        text-align: right;\n",
       "    }\n",
       "\n",
       "    .dataframe thead th {\n",
       "        text-align: left;\n",
       "    }\n",
       "\n",
       "    .dataframe tbody tr th {\n",
       "        vertical-align: top;\n",
       "    }\n",
       "</style>\n",
       "<table border=\"1\" class=\"dataframe\">\n",
       "  <thead>\n",
       "    <tr style=\"text-align: right;\">\n",
       "      <th></th>\n",
       "      <th>Close</th>\n",
       "      <th>42d</th>\n",
       "      <th>252d</th>\n",
       "    </tr>\n",
       "    <tr>\n",
       "      <th>Date</th>\n",
       "      <th></th>\n",
       "      <th></th>\n",
       "      <th></th>\n",
       "    </tr>\n",
       "  </thead>\n",
       "  <tbody>\n",
       "    <tr>\n",
       "      <th>2017-08-30</th>\n",
       "      <td>246.01</td>\n",
       "      <td>245.308571</td>\n",
       "      <td>231.418810</td>\n",
       "    </tr>\n",
       "    <tr>\n",
       "      <th>2017-08-31</th>\n",
       "      <td>247.49</td>\n",
       "      <td>245.434286</td>\n",
       "      <td>231.538294</td>\n",
       "    </tr>\n",
       "    <tr>\n",
       "      <th>2017-09-01</th>\n",
       "      <td>247.84</td>\n",
       "      <td>245.555000</td>\n",
       "      <td>231.659127</td>\n",
       "    </tr>\n",
       "    <tr>\n",
       "      <th>2017-09-05</th>\n",
       "      <td>246.06</td>\n",
       "      <td>245.686190</td>\n",
       "      <td>231.769008</td>\n",
       "    </tr>\n",
       "    <tr>\n",
       "      <th>2017-09-08</th>\n",
       "      <td>246.58</td>\n",
       "      <td>245.792619</td>\n",
       "      <td>231.878333</td>\n",
       "    </tr>\n",
       "  </tbody>\n",
       "</table>\n",
       "</div>"
      ],
      "text/plain": [
       "             Close         42d        252d\n",
       "Date                                      \n",
       "2017-08-30  246.01  245.308571  231.418810\n",
       "2017-08-31  247.49  245.434286  231.538294\n",
       "2017-09-01  247.84  245.555000  231.659127\n",
       "2017-09-05  246.06  245.686190  231.769008\n",
       "2017-09-08  246.58  245.792619  231.878333"
      ]
     },
     "execution_count": 12,
     "metadata": {},
     "output_type": "execute_result"
    }
   ],
   "source": [
    "DAX[['Close', '42d', '252d']].tail()"
   ]
  },
  {
   "cell_type": "code",
   "execution_count": 13,
   "metadata": {},
   "outputs": [
    {
     "data": {
      "text/plain": [
       "<matplotlib.axes._subplots.AxesSubplot at 0x1adbe139ac8>"
      ]
     },
     "execution_count": 13,
     "metadata": {},
     "output_type": "execute_result"
    }
   ],
   "source": [
    "DAX[['Close', '42d', '252d']].plot(figsize=(8, 5), grid=True)\n",
    "# tag: dax_trends\n",
    "# title: The DAX index and moving averages"
   ]
  },
  {
   "cell_type": "code",
   "execution_count": 14,
   "metadata": {
    "collapsed": true
   },
   "outputs": [],
   "source": [
    "import math\n",
    "DAX['Mov_Vol'] = DAX['Return'].rolling(window=252).std() * math.sqrt(252)\n",
    "  # moving annual volatility"
   ]
  },
  {
   "cell_type": "code",
   "execution_count": 15,
   "metadata": {},
   "outputs": [
    {
     "data": {
      "text/plain": [
       "array([<matplotlib.axes._subplots.AxesSubplot object at 0x000001ADBE1C3A90>,\n",
       "       <matplotlib.axes._subplots.AxesSubplot object at 0x000001ADBE1E02B0>,\n",
       "       <matplotlib.axes._subplots.AxesSubplot object at 0x000001ADBE1049E8>], dtype=object)"
      ]
     },
     "execution_count": 15,
     "metadata": {},
     "output_type": "execute_result"
    }
   ],
   "source": [
    "DAX[['Close', 'Mov_Vol', 'Return']].plot(subplots=True, style='b',\n",
    "                                         figsize=(8, 7), grid=True)\n",
    "# tag: dax_mov_std\n",
    "# title: The DAX index and moving, annualized volatility"
   ]
  },
  {
   "cell_type": "markdown",
   "metadata": {},
   "source": [
    "**波动率聚集**：    \n",
    "    波动率不是长期恒定的；既有高波动率时期(正收益和负收益都很高),也有低波动率时期\n",
    "    \n",
    "**杠杆效应**：   \n",
    "    一般地，波动性和股票市场收益是负相关的；当市场下跌时波动性升高，反之亦然。"
   ]
  },
  {
   "cell_type": "markdown",
   "metadata": {},
   "source": [
    "## Regression Analysis  \n",
    "\n",
    "线性最小二乘回归(OLS)"
   ]
  },
  {
   "cell_type": "code",
   "execution_count": 17,
   "metadata": {
    "collapsed": true
   },
   "outputs": [],
   "source": [
    "import pandas as pd\n",
    "from urllib import request"
   ]
  },
  {
   "cell_type": "code",
   "execution_count": 26,
   "metadata": {},
   "outputs": [
    {
     "ename": "URLError",
     "evalue": "<urlopen error [WinError 10061] 由于目标计算机积极拒绝，无法连接。>",
     "output_type": "error",
     "traceback": [
      "\u001b[1;31m---------------------------------------------------------------------------\u001b[0m",
      "\u001b[1;31mConnectionRefusedError\u001b[0m                    Traceback (most recent call last)",
      "\u001b[1;32mC:\\ProgramData\\Anaconda3\\lib\\urllib\\request.py\u001b[0m in \u001b[0;36mdo_open\u001b[1;34m(self, http_class, req, **http_conn_args)\u001b[0m\n\u001b[0;32m   1317\u001b[0m                 h.request(req.get_method(), req.selector, req.data, headers,\n\u001b[1;32m-> 1318\u001b[1;33m                           encode_chunked=req.has_header('Transfer-encoding'))\n\u001b[0m\u001b[0;32m   1319\u001b[0m             \u001b[1;32mexcept\u001b[0m \u001b[0mOSError\u001b[0m \u001b[1;32mas\u001b[0m \u001b[0merr\u001b[0m\u001b[1;33m:\u001b[0m \u001b[1;31m# timeout error\u001b[0m\u001b[1;33m\u001b[0m\u001b[0m\n",
      "\u001b[1;32mC:\\ProgramData\\Anaconda3\\lib\\http\\client.py\u001b[0m in \u001b[0;36mrequest\u001b[1;34m(self, method, url, body, headers, encode_chunked)\u001b[0m\n\u001b[0;32m   1238\u001b[0m         \u001b[1;34m\"\"\"Send a complete request to the server.\"\"\"\u001b[0m\u001b[1;33m\u001b[0m\u001b[0m\n\u001b[1;32m-> 1239\u001b[1;33m         \u001b[0mself\u001b[0m\u001b[1;33m.\u001b[0m\u001b[0m_send_request\u001b[0m\u001b[1;33m(\u001b[0m\u001b[0mmethod\u001b[0m\u001b[1;33m,\u001b[0m \u001b[0murl\u001b[0m\u001b[1;33m,\u001b[0m \u001b[0mbody\u001b[0m\u001b[1;33m,\u001b[0m \u001b[0mheaders\u001b[0m\u001b[1;33m,\u001b[0m \u001b[0mencode_chunked\u001b[0m\u001b[1;33m)\u001b[0m\u001b[1;33m\u001b[0m\u001b[0m\n\u001b[0m\u001b[0;32m   1240\u001b[0m \u001b[1;33m\u001b[0m\u001b[0m\n",
      "\u001b[1;32mC:\\ProgramData\\Anaconda3\\lib\\http\\client.py\u001b[0m in \u001b[0;36m_send_request\u001b[1;34m(self, method, url, body, headers, encode_chunked)\u001b[0m\n\u001b[0;32m   1284\u001b[0m             \u001b[0mbody\u001b[0m \u001b[1;33m=\u001b[0m \u001b[0m_encode\u001b[0m\u001b[1;33m(\u001b[0m\u001b[0mbody\u001b[0m\u001b[1;33m,\u001b[0m \u001b[1;34m'body'\u001b[0m\u001b[1;33m)\u001b[0m\u001b[1;33m\u001b[0m\u001b[0m\n\u001b[1;32m-> 1285\u001b[1;33m         \u001b[0mself\u001b[0m\u001b[1;33m.\u001b[0m\u001b[0mendheaders\u001b[0m\u001b[1;33m(\u001b[0m\u001b[0mbody\u001b[0m\u001b[1;33m,\u001b[0m \u001b[0mencode_chunked\u001b[0m\u001b[1;33m=\u001b[0m\u001b[0mencode_chunked\u001b[0m\u001b[1;33m)\u001b[0m\u001b[1;33m\u001b[0m\u001b[0m\n\u001b[0m\u001b[0;32m   1286\u001b[0m \u001b[1;33m\u001b[0m\u001b[0m\n",
      "\u001b[1;32mC:\\ProgramData\\Anaconda3\\lib\\http\\client.py\u001b[0m in \u001b[0;36mendheaders\u001b[1;34m(self, message_body, encode_chunked)\u001b[0m\n\u001b[0;32m   1233\u001b[0m             \u001b[1;32mraise\u001b[0m \u001b[0mCannotSendHeader\u001b[0m\u001b[1;33m(\u001b[0m\u001b[1;33m)\u001b[0m\u001b[1;33m\u001b[0m\u001b[0m\n\u001b[1;32m-> 1234\u001b[1;33m         \u001b[0mself\u001b[0m\u001b[1;33m.\u001b[0m\u001b[0m_send_output\u001b[0m\u001b[1;33m(\u001b[0m\u001b[0mmessage_body\u001b[0m\u001b[1;33m,\u001b[0m \u001b[0mencode_chunked\u001b[0m\u001b[1;33m=\u001b[0m\u001b[0mencode_chunked\u001b[0m\u001b[1;33m)\u001b[0m\u001b[1;33m\u001b[0m\u001b[0m\n\u001b[0m\u001b[0;32m   1235\u001b[0m \u001b[1;33m\u001b[0m\u001b[0m\n",
      "\u001b[1;32mC:\\ProgramData\\Anaconda3\\lib\\http\\client.py\u001b[0m in \u001b[0;36m_send_output\u001b[1;34m(self, message_body, encode_chunked)\u001b[0m\n\u001b[0;32m   1025\u001b[0m         \u001b[1;32mdel\u001b[0m \u001b[0mself\u001b[0m\u001b[1;33m.\u001b[0m\u001b[0m_buffer\u001b[0m\u001b[1;33m[\u001b[0m\u001b[1;33m:\u001b[0m\u001b[1;33m]\u001b[0m\u001b[1;33m\u001b[0m\u001b[0m\n\u001b[1;32m-> 1026\u001b[1;33m         \u001b[0mself\u001b[0m\u001b[1;33m.\u001b[0m\u001b[0msend\u001b[0m\u001b[1;33m(\u001b[0m\u001b[0mmsg\u001b[0m\u001b[1;33m)\u001b[0m\u001b[1;33m\u001b[0m\u001b[0m\n\u001b[0m\u001b[0;32m   1027\u001b[0m \u001b[1;33m\u001b[0m\u001b[0m\n",
      "\u001b[1;32mC:\\ProgramData\\Anaconda3\\lib\\http\\client.py\u001b[0m in \u001b[0;36msend\u001b[1;34m(self, data)\u001b[0m\n\u001b[0;32m    963\u001b[0m             \u001b[1;32mif\u001b[0m \u001b[0mself\u001b[0m\u001b[1;33m.\u001b[0m\u001b[0mauto_open\u001b[0m\u001b[1;33m:\u001b[0m\u001b[1;33m\u001b[0m\u001b[0m\n\u001b[1;32m--> 964\u001b[1;33m                 \u001b[0mself\u001b[0m\u001b[1;33m.\u001b[0m\u001b[0mconnect\u001b[0m\u001b[1;33m(\u001b[0m\u001b[1;33m)\u001b[0m\u001b[1;33m\u001b[0m\u001b[0m\n\u001b[0m\u001b[0;32m    965\u001b[0m             \u001b[1;32melse\u001b[0m\u001b[1;33m:\u001b[0m\u001b[1;33m\u001b[0m\u001b[0m\n",
      "\u001b[1;32mC:\\ProgramData\\Anaconda3\\lib\\http\\client.py\u001b[0m in \u001b[0;36mconnect\u001b[1;34m(self)\u001b[0m\n\u001b[0;32m   1391\u001b[0m \u001b[1;33m\u001b[0m\u001b[0m\n\u001b[1;32m-> 1392\u001b[1;33m             \u001b[0msuper\u001b[0m\u001b[1;33m(\u001b[0m\u001b[1;33m)\u001b[0m\u001b[1;33m.\u001b[0m\u001b[0mconnect\u001b[0m\u001b[1;33m(\u001b[0m\u001b[1;33m)\u001b[0m\u001b[1;33m\u001b[0m\u001b[0m\n\u001b[0m\u001b[0;32m   1393\u001b[0m \u001b[1;33m\u001b[0m\u001b[0m\n",
      "\u001b[1;32mC:\\ProgramData\\Anaconda3\\lib\\http\\client.py\u001b[0m in \u001b[0;36mconnect\u001b[1;34m(self)\u001b[0m\n\u001b[0;32m    935\u001b[0m         self.sock = self._create_connection(\n\u001b[1;32m--> 936\u001b[1;33m             (self.host,self.port), self.timeout, self.source_address)\n\u001b[0m\u001b[0;32m    937\u001b[0m         \u001b[0mself\u001b[0m\u001b[1;33m.\u001b[0m\u001b[0msock\u001b[0m\u001b[1;33m.\u001b[0m\u001b[0msetsockopt\u001b[0m\u001b[1;33m(\u001b[0m\u001b[0msocket\u001b[0m\u001b[1;33m.\u001b[0m\u001b[0mIPPROTO_TCP\u001b[0m\u001b[1;33m,\u001b[0m \u001b[0msocket\u001b[0m\u001b[1;33m.\u001b[0m\u001b[0mTCP_NODELAY\u001b[0m\u001b[1;33m,\u001b[0m \u001b[1;36m1\u001b[0m\u001b[1;33m)\u001b[0m\u001b[1;33m\u001b[0m\u001b[0m\n",
      "\u001b[1;32mC:\\ProgramData\\Anaconda3\\lib\\socket.py\u001b[0m in \u001b[0;36mcreate_connection\u001b[1;34m(address, timeout, source_address)\u001b[0m\n\u001b[0;32m    721\u001b[0m     \u001b[1;32mif\u001b[0m \u001b[0merr\u001b[0m \u001b[1;32mis\u001b[0m \u001b[1;32mnot\u001b[0m \u001b[1;32mNone\u001b[0m\u001b[1;33m:\u001b[0m\u001b[1;33m\u001b[0m\u001b[0m\n\u001b[1;32m--> 722\u001b[1;33m         \u001b[1;32mraise\u001b[0m \u001b[0merr\u001b[0m\u001b[1;33m\u001b[0m\u001b[0m\n\u001b[0m\u001b[0;32m    723\u001b[0m     \u001b[1;32melse\u001b[0m\u001b[1;33m:\u001b[0m\u001b[1;33m\u001b[0m\u001b[0m\n",
      "\u001b[1;32mC:\\ProgramData\\Anaconda3\\lib\\socket.py\u001b[0m in \u001b[0;36mcreate_connection\u001b[1;34m(address, timeout, source_address)\u001b[0m\n\u001b[0;32m    712\u001b[0m                 \u001b[0msock\u001b[0m\u001b[1;33m.\u001b[0m\u001b[0mbind\u001b[0m\u001b[1;33m(\u001b[0m\u001b[0msource_address\u001b[0m\u001b[1;33m)\u001b[0m\u001b[1;33m\u001b[0m\u001b[0m\n\u001b[1;32m--> 713\u001b[1;33m             \u001b[0msock\u001b[0m\u001b[1;33m.\u001b[0m\u001b[0mconnect\u001b[0m\u001b[1;33m(\u001b[0m\u001b[0msa\u001b[0m\u001b[1;33m)\u001b[0m\u001b[1;33m\u001b[0m\u001b[0m\n\u001b[0m\u001b[0;32m    714\u001b[0m             \u001b[1;32mreturn\u001b[0m \u001b[0msock\u001b[0m\u001b[1;33m\u001b[0m\u001b[0m\n",
      "\u001b[1;31mConnectionRefusedError\u001b[0m: [WinError 10061] 由于目标计算机积极拒绝，无法连接。",
      "\nDuring handling of the above exception, another exception occurred:\n",
      "\u001b[1;31mURLError\u001b[0m                                  Traceback (most recent call last)",
      "\u001b[1;32m<ipython-input-26-a9efc61cc2c6>\u001b[0m in \u001b[0;36m<module>\u001b[1;34m()\u001b[0m\n\u001b[0;32m      1\u001b[0m \u001b[0mes_url\u001b[0m \u001b[1;33m=\u001b[0m \u001b[1;34m'https://www.stoxx.com/document/Indices/Current/HistoricalData/hbrbcpe.txt'\u001b[0m\u001b[1;33m\u001b[0m\u001b[0m\n\u001b[0;32m      2\u001b[0m \u001b[0mvs_url\u001b[0m \u001b[1;33m=\u001b[0m \u001b[1;34m'https://www.stoxx.com/document/Indices/Current/HistoricalData/h_vstoxx.txt'\u001b[0m\u001b[1;33m\u001b[0m\u001b[0m\n\u001b[1;32m----> 3\u001b[1;33m \u001b[0mrequest\u001b[0m\u001b[1;33m.\u001b[0m\u001b[0murlretrieve\u001b[0m\u001b[1;33m(\u001b[0m\u001b[0mes_url\u001b[0m\u001b[1;33m,\u001b[0m \u001b[1;34m'./data/es.txt'\u001b[0m\u001b[1;33m)\u001b[0m\u001b[1;33m\u001b[0m\u001b[0m\n\u001b[0m\u001b[0;32m      4\u001b[0m \u001b[0mrequest\u001b[0m\u001b[1;33m.\u001b[0m\u001b[0murlretrieve\u001b[0m\u001b[1;33m(\u001b[0m\u001b[0mvs_url\u001b[0m\u001b[1;33m,\u001b[0m \u001b[1;34m'./data/vs.txt'\u001b[0m\u001b[1;33m)\u001b[0m\u001b[1;33m\u001b[0m\u001b[0m\n",
      "\u001b[1;32mC:\\ProgramData\\Anaconda3\\lib\\urllib\\request.py\u001b[0m in \u001b[0;36murlretrieve\u001b[1;34m(url, filename, reporthook, data)\u001b[0m\n\u001b[0;32m    246\u001b[0m     \u001b[0murl_type\u001b[0m\u001b[1;33m,\u001b[0m \u001b[0mpath\u001b[0m \u001b[1;33m=\u001b[0m \u001b[0msplittype\u001b[0m\u001b[1;33m(\u001b[0m\u001b[0murl\u001b[0m\u001b[1;33m)\u001b[0m\u001b[1;33m\u001b[0m\u001b[0m\n\u001b[0;32m    247\u001b[0m \u001b[1;33m\u001b[0m\u001b[0m\n\u001b[1;32m--> 248\u001b[1;33m     \u001b[1;32mwith\u001b[0m \u001b[0mcontextlib\u001b[0m\u001b[1;33m.\u001b[0m\u001b[0mclosing\u001b[0m\u001b[1;33m(\u001b[0m\u001b[0murlopen\u001b[0m\u001b[1;33m(\u001b[0m\u001b[0murl\u001b[0m\u001b[1;33m,\u001b[0m \u001b[0mdata\u001b[0m\u001b[1;33m)\u001b[0m\u001b[1;33m)\u001b[0m \u001b[1;32mas\u001b[0m \u001b[0mfp\u001b[0m\u001b[1;33m:\u001b[0m\u001b[1;33m\u001b[0m\u001b[0m\n\u001b[0m\u001b[0;32m    249\u001b[0m         \u001b[0mheaders\u001b[0m \u001b[1;33m=\u001b[0m \u001b[0mfp\u001b[0m\u001b[1;33m.\u001b[0m\u001b[0minfo\u001b[0m\u001b[1;33m(\u001b[0m\u001b[1;33m)\u001b[0m\u001b[1;33m\u001b[0m\u001b[0m\n\u001b[0;32m    250\u001b[0m \u001b[1;33m\u001b[0m\u001b[0m\n",
      "\u001b[1;32mC:\\ProgramData\\Anaconda3\\lib\\urllib\\request.py\u001b[0m in \u001b[0;36murlopen\u001b[1;34m(url, data, timeout, cafile, capath, cadefault, context)\u001b[0m\n\u001b[0;32m    221\u001b[0m     \u001b[1;32melse\u001b[0m\u001b[1;33m:\u001b[0m\u001b[1;33m\u001b[0m\u001b[0m\n\u001b[0;32m    222\u001b[0m         \u001b[0mopener\u001b[0m \u001b[1;33m=\u001b[0m \u001b[0m_opener\u001b[0m\u001b[1;33m\u001b[0m\u001b[0m\n\u001b[1;32m--> 223\u001b[1;33m     \u001b[1;32mreturn\u001b[0m \u001b[0mopener\u001b[0m\u001b[1;33m.\u001b[0m\u001b[0mopen\u001b[0m\u001b[1;33m(\u001b[0m\u001b[0murl\u001b[0m\u001b[1;33m,\u001b[0m \u001b[0mdata\u001b[0m\u001b[1;33m,\u001b[0m \u001b[0mtimeout\u001b[0m\u001b[1;33m)\u001b[0m\u001b[1;33m\u001b[0m\u001b[0m\n\u001b[0m\u001b[0;32m    224\u001b[0m \u001b[1;33m\u001b[0m\u001b[0m\n\u001b[0;32m    225\u001b[0m \u001b[1;32mdef\u001b[0m \u001b[0minstall_opener\u001b[0m\u001b[1;33m(\u001b[0m\u001b[0mopener\u001b[0m\u001b[1;33m)\u001b[0m\u001b[1;33m:\u001b[0m\u001b[1;33m\u001b[0m\u001b[0m\n",
      "\u001b[1;32mC:\\ProgramData\\Anaconda3\\lib\\urllib\\request.py\u001b[0m in \u001b[0;36mopen\u001b[1;34m(self, fullurl, data, timeout)\u001b[0m\n\u001b[0;32m    524\u001b[0m             \u001b[0mreq\u001b[0m \u001b[1;33m=\u001b[0m \u001b[0mmeth\u001b[0m\u001b[1;33m(\u001b[0m\u001b[0mreq\u001b[0m\u001b[1;33m)\u001b[0m\u001b[1;33m\u001b[0m\u001b[0m\n\u001b[0;32m    525\u001b[0m \u001b[1;33m\u001b[0m\u001b[0m\n\u001b[1;32m--> 526\u001b[1;33m         \u001b[0mresponse\u001b[0m \u001b[1;33m=\u001b[0m \u001b[0mself\u001b[0m\u001b[1;33m.\u001b[0m\u001b[0m_open\u001b[0m\u001b[1;33m(\u001b[0m\u001b[0mreq\u001b[0m\u001b[1;33m,\u001b[0m \u001b[0mdata\u001b[0m\u001b[1;33m)\u001b[0m\u001b[1;33m\u001b[0m\u001b[0m\n\u001b[0m\u001b[0;32m    527\u001b[0m \u001b[1;33m\u001b[0m\u001b[0m\n\u001b[0;32m    528\u001b[0m         \u001b[1;31m# post-process response\u001b[0m\u001b[1;33m\u001b[0m\u001b[1;33m\u001b[0m\u001b[0m\n",
      "\u001b[1;32mC:\\ProgramData\\Anaconda3\\lib\\urllib\\request.py\u001b[0m in \u001b[0;36m_open\u001b[1;34m(self, req, data)\u001b[0m\n\u001b[0;32m    542\u001b[0m         \u001b[0mprotocol\u001b[0m \u001b[1;33m=\u001b[0m \u001b[0mreq\u001b[0m\u001b[1;33m.\u001b[0m\u001b[0mtype\u001b[0m\u001b[1;33m\u001b[0m\u001b[0m\n\u001b[0;32m    543\u001b[0m         result = self._call_chain(self.handle_open, protocol, protocol +\n\u001b[1;32m--> 544\u001b[1;33m                                   '_open', req)\n\u001b[0m\u001b[0;32m    545\u001b[0m         \u001b[1;32mif\u001b[0m \u001b[0mresult\u001b[0m\u001b[1;33m:\u001b[0m\u001b[1;33m\u001b[0m\u001b[0m\n\u001b[0;32m    546\u001b[0m             \u001b[1;32mreturn\u001b[0m \u001b[0mresult\u001b[0m\u001b[1;33m\u001b[0m\u001b[0m\n",
      "\u001b[1;32mC:\\ProgramData\\Anaconda3\\lib\\urllib\\request.py\u001b[0m in \u001b[0;36m_call_chain\u001b[1;34m(self, chain, kind, meth_name, *args)\u001b[0m\n\u001b[0;32m    502\u001b[0m         \u001b[1;32mfor\u001b[0m \u001b[0mhandler\u001b[0m \u001b[1;32min\u001b[0m \u001b[0mhandlers\u001b[0m\u001b[1;33m:\u001b[0m\u001b[1;33m\u001b[0m\u001b[0m\n\u001b[0;32m    503\u001b[0m             \u001b[0mfunc\u001b[0m \u001b[1;33m=\u001b[0m \u001b[0mgetattr\u001b[0m\u001b[1;33m(\u001b[0m\u001b[0mhandler\u001b[0m\u001b[1;33m,\u001b[0m \u001b[0mmeth_name\u001b[0m\u001b[1;33m)\u001b[0m\u001b[1;33m\u001b[0m\u001b[0m\n\u001b[1;32m--> 504\u001b[1;33m             \u001b[0mresult\u001b[0m \u001b[1;33m=\u001b[0m \u001b[0mfunc\u001b[0m\u001b[1;33m(\u001b[0m\u001b[1;33m*\u001b[0m\u001b[0margs\u001b[0m\u001b[1;33m)\u001b[0m\u001b[1;33m\u001b[0m\u001b[0m\n\u001b[0m\u001b[0;32m    505\u001b[0m             \u001b[1;32mif\u001b[0m \u001b[0mresult\u001b[0m \u001b[1;32mis\u001b[0m \u001b[1;32mnot\u001b[0m \u001b[1;32mNone\u001b[0m\u001b[1;33m:\u001b[0m\u001b[1;33m\u001b[0m\u001b[0m\n\u001b[0;32m    506\u001b[0m                 \u001b[1;32mreturn\u001b[0m \u001b[0mresult\u001b[0m\u001b[1;33m\u001b[0m\u001b[0m\n",
      "\u001b[1;32mC:\\ProgramData\\Anaconda3\\lib\\urllib\\request.py\u001b[0m in \u001b[0;36mhttps_open\u001b[1;34m(self, req)\u001b[0m\n\u001b[0;32m   1359\u001b[0m         \u001b[1;32mdef\u001b[0m \u001b[0mhttps_open\u001b[0m\u001b[1;33m(\u001b[0m\u001b[0mself\u001b[0m\u001b[1;33m,\u001b[0m \u001b[0mreq\u001b[0m\u001b[1;33m)\u001b[0m\u001b[1;33m:\u001b[0m\u001b[1;33m\u001b[0m\u001b[0m\n\u001b[0;32m   1360\u001b[0m             return self.do_open(http.client.HTTPSConnection, req,\n\u001b[1;32m-> 1361\u001b[1;33m                 context=self._context, check_hostname=self._check_hostname)\n\u001b[0m\u001b[0;32m   1362\u001b[0m \u001b[1;33m\u001b[0m\u001b[0m\n\u001b[0;32m   1363\u001b[0m         \u001b[0mhttps_request\u001b[0m \u001b[1;33m=\u001b[0m \u001b[0mAbstractHTTPHandler\u001b[0m\u001b[1;33m.\u001b[0m\u001b[0mdo_request_\u001b[0m\u001b[1;33m\u001b[0m\u001b[0m\n",
      "\u001b[1;32mC:\\ProgramData\\Anaconda3\\lib\\urllib\\request.py\u001b[0m in \u001b[0;36mdo_open\u001b[1;34m(self, http_class, req, **http_conn_args)\u001b[0m\n\u001b[0;32m   1318\u001b[0m                           encode_chunked=req.has_header('Transfer-encoding'))\n\u001b[0;32m   1319\u001b[0m             \u001b[1;32mexcept\u001b[0m \u001b[0mOSError\u001b[0m \u001b[1;32mas\u001b[0m \u001b[0merr\u001b[0m\u001b[1;33m:\u001b[0m \u001b[1;31m# timeout error\u001b[0m\u001b[1;33m\u001b[0m\u001b[0m\n\u001b[1;32m-> 1320\u001b[1;33m                 \u001b[1;32mraise\u001b[0m \u001b[0mURLError\u001b[0m\u001b[1;33m(\u001b[0m\u001b[0merr\u001b[0m\u001b[1;33m)\u001b[0m\u001b[1;33m\u001b[0m\u001b[0m\n\u001b[0m\u001b[0;32m   1321\u001b[0m             \u001b[0mr\u001b[0m \u001b[1;33m=\u001b[0m \u001b[0mh\u001b[0m\u001b[1;33m.\u001b[0m\u001b[0mgetresponse\u001b[0m\u001b[1;33m(\u001b[0m\u001b[1;33m)\u001b[0m\u001b[1;33m\u001b[0m\u001b[0m\n\u001b[0;32m   1322\u001b[0m         \u001b[1;32mexcept\u001b[0m\u001b[1;33m:\u001b[0m\u001b[1;33m\u001b[0m\u001b[0m\n",
      "\u001b[1;31mURLError\u001b[0m: <urlopen error [WinError 10061] 由于目标计算机积极拒绝，无法连接。>"
     ]
    }
   ],
   "source": [
    "es_url = 'https://www.stoxx.com/document/Indices/Current/HistoricalData/hbrbcpe.txt'\n",
    "vs_url = 'https://www.stoxx.com/document/Indices/Current/HistoricalData/h_vstoxx.txt'\n",
    "request.urlretrieve(es_url, './data/es.txt')\n",
    "request.urlretrieve(vs_url, './data/vs.txt')"
   ]
  },
  {
   "cell_type": "code",
   "execution_count": null,
   "metadata": {
    "collapsed": true
   },
   "outputs": [],
   "source": []
  }
 ],
 "metadata": {
  "kernelspec": {
   "display_name": "Python [conda root]",
   "language": "python",
   "name": "conda-root-py"
  },
  "language_info": {
   "codemirror_mode": {
    "name": "ipython",
    "version": 3
   },
   "file_extension": ".py",
   "mimetype": "text/x-python",
   "name": "python",
   "nbconvert_exporter": "python",
   "pygments_lexer": "ipython3",
   "version": "3.6.1"
  }
 },
 "nbformat": 4,
 "nbformat_minor": 2
}
