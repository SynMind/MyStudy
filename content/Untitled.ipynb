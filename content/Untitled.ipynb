{
 "cells": [
  {
   "cell_type": "code",
   "execution_count": 35,
   "metadata": {},
   "outputs": [
    {
     "name": "stdout",
     "output_type": "stream",
     "text": [
      "Populating the interactive namespace from numpy and matplotlib\n"
     ]
    },
    {
     "name": "stderr",
     "output_type": "stream",
     "text": [
      "C:\\ProgramData\\Anaconda3\\lib\\site-packages\\IPython\\core\\magics\\pylab.py:160: UserWarning: pylab import has clobbered these variables: ['shape']\n",
      "`%matplotlib` prevents importing * from pylab and numpy\n",
      "  \"\\n`%matplotlib` prevents importing * from pylab and numpy\"\n"
     ]
    },
    {
     "data": {
      "text/plain": [
       "(144, 176, 3534)"
      ]
     },
     "execution_count": 35,
     "metadata": {},
     "output_type": "execute_result"
    }
   ],
   "source": [
    "%pylab inline\n",
    "import pandas as pd\n",
    "import os\n",
    "import scipy.io as sio\n",
    "import numpy as np\n",
    "from pandas import Series,DataFrame\n",
    "from PIL import Image\n",
    "import cv2\n",
    "\n",
    "def load_data(filename):\n",
    "    data = sio.loadmat(filename)\n",
    "    return data,data.keys()\n",
    "\n",
    "filename = r'E:\\建模\\2017研究生建模\\D\\2017年全国研究生数学建模竞赛D题附件\\附件3-检测前景视频\\hall\\hall.mat'\n",
    "data, img_file = load_data(filename)\n",
    "img = data['Ori_H']\n",
    "shape = img.shape\n",
    "df = img.reshape((shape[0], shape[1] * shape[2]))\n",
    "df = pd.DataFrame(df)\n",
    "data = df\n",
    "shape"
   ]
  },
  {
   "cell_type": "code",
   "execution_count": 36,
   "metadata": {},
   "outputs": [
    {
     "data": {
      "text/plain": [
       "(621984, 144)"
      ]
     },
     "execution_count": 36,
     "metadata": {},
     "output_type": "execute_result"
    }
   ],
   "source": [
    "df2 = concatenate(img.T, axis = 0)\n",
    "s = list(arange(176)) * 3534\n",
    "s = np.array(s)\n",
    "df3 = pd.DataFrame(df2, index = s, dtype = np.uint8)\n",
    "df2.shape"
   ]
  },
  {
   "cell_type": "code",
   "execution_count": 50,
   "metadata": {},
   "outputs": [
    {
     "data": {
      "text/plain": [
       "(621984, 144)"
      ]
     },
     "execution_count": 50,
     "metadata": {},
     "output_type": "execute_result"
    }
   ],
   "source": [
    "df3.shape"
   ]
  },
  {
   "cell_type": "code",
   "execution_count": 6,
   "metadata": {},
   "outputs": [
    {
     "data": {
      "text/plain": [
       "array([[   0.        ,   11.08695652,   22.17391304,   33.26086957,\n",
       "          44.34782609,   55.43478261,   66.52173913,   77.60869565,\n",
       "          88.69565217,   99.7826087 ,  110.86956522,  121.95652174,\n",
       "         133.04347826,  144.13043478,  155.2173913 ,  166.30434783,\n",
       "         177.39130435,  188.47826087,  199.56521739,  210.65217391,\n",
       "         221.73913043,  232.82608696,  243.91304348,  255.        ],\n",
       "       [   0.        ,   11.08695652,   22.17391304,   33.26086957,\n",
       "          44.34782609,   55.43478261,   66.52173913,   77.60869565,\n",
       "          88.69565217,   99.7826087 ,  110.86956522,  121.95652174,\n",
       "         133.04347826,  144.13043478,  155.2173913 ,  166.30434783,\n",
       "         177.39130435,  188.47826087,  199.56521739,  210.65217391,\n",
       "         221.73913043,  232.82608696,  243.91304348,  255.        ]])"
      ]
     },
     "execution_count": 6,
     "metadata": {},
     "output_type": "execute_result"
    }
   ],
   "source": [
    "strike[:2]"
   ]
  },
  {
   "cell_type": "code",
   "execution_count": 7,
   "metadata": {},
   "outputs": [
    {
     "name": "stderr",
     "output_type": "stream",
     "text": [
      "C:\\ProgramData\\Anaconda3\\lib\\site-packages\\ipykernel\\__main__.py:1: RuntimeWarning: divide by zero encountered in true_divide\n",
      "  if __name__ == '__main__':\n"
     ]
    }
   ],
   "source": [
    "iv = (strike - 100) ** 2 / (100 * strike) / ttm\n",
    "  # generate fake implied volatilities"
   ]
  },
  {
   "cell_type": "code",
   "execution_count": 8,
   "metadata": {},
   "outputs": [
    {
     "data": {
      "text/plain": [
       "<matplotlib.colorbar.Colorbar at 0x130ad021080>"
      ]
     },
     "execution_count": 8,
     "metadata": {},
     "output_type": "execute_result"
    },
    {
     "name": "stderr",
     "output_type": "stream",
     "text": [
      "C:\\ProgramData\\Anaconda3\\lib\\site-packages\\mpl_toolkits\\mplot3d\\proj3d.py:160: RuntimeWarning: invalid value encountered in true_divide\n",
      "  txs, tys, tzs = vecw[0]/w, vecw[1]/w, vecw[2]/w\n"
     ]
    }
   ],
   "source": [
    "from mpl_toolkits.mplot3d import Axes3D\n",
    "\n",
    "fig = plt.figure(figsize=(9, 6))\n",
    "ax = fig.gca(projection='3d')\n",
    "\n",
    "surf = ax.plot_surface(strike, ttm, iv, rstride=2, cstride=2,\n",
    "                       cmap=plt.cm.coolwarm, linewidth=0.5,\n",
    "                       antialiased=True)\n",
    "\n",
    "ax.set_xlabel('strike')\n",
    "ax.set_ylabel('time-to-maturity')\n",
    "ax.set_zlabel('implied volatility')\n",
    "\n",
    "fig.colorbar(surf, shrink=0.5, aspect=5)\n",
    "# tag: matplotlib_17\n",
    "# title: 3d surface plot for (fake) implied volatilities\n",
    "# size: 70"
   ]
  },
  {
   "cell_type": "code",
   "execution_count": null,
   "metadata": {
    "collapsed": true
   },
   "outputs": [],
   "source": []
  }
 ],
 "metadata": {
  "kernelspec": {
   "display_name": "Python [conda root]",
   "language": "python",
   "name": "conda-root-py"
  },
  "language_info": {
   "codemirror_mode": {
    "name": "ipython",
    "version": 3
   },
   "file_extension": ".py",
   "mimetype": "text/x-python",
   "name": "python",
   "nbconvert_exporter": "python",
   "pygments_lexer": "ipython3",
   "version": "3.6.1"
  }
 },
 "nbformat": 4,
 "nbformat_minor": 2
}
