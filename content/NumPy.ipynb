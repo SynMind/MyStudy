{
 "cells": [
  {
   "cell_type": "markdown",
   "metadata": {},
   "source": [
    "# `NumPy`\n",
    "\n",
    "Type:        module       \n",
    "\n",
    "----\n",
    "\n",
    "Provides\n",
    "  1. An array object of arbitrary homogeneous items\n",
    "  2. Fast mathematical operations over arrays\n",
    "  3. Linear Algebra, Fourier Transforms, Random Number Generation\n",
    "\n",
    "How to use the documentation\n",
    "\n",
    "----------------------------\n",
    "Documentation is available in two forms: docstrings provided\n",
    "with the code, and a loose standing reference guide, available from\n",
    "`the NumPy homepage` <http://www.scipy.org>_.\n",
    "\n",
    "We recommend exploring the docstrings using\n",
    "`IPython` <http://ipython.scipy.org>_, an advanced Python shell with\n",
    "TAB-completion and introspection capabilities.  \n",
    "\n",
    "For some objects, ``np.info(obj)`` may provide additional help(用来获取函数，类，模块的一些相关信息).  This is\n",
    "particularly true if you see the line \"Help on ufunc object:\" at the top\n",
    "of the help() page.  Ufuncs are implemented in C, not Python, for speed.\n",
    "The native Python help() does not know how to view their help, but our\n",
    "np.info() function does.\n",
    "\n",
    "To search for documents containing a keyword, do::     \n",
    "```python\n",
    "import numpy as np\n",
    "np.lookfor('keyword')\n",
    "```\n",
    "\n",
    "General-purpose documents like a glossary and help on the basic concepts\n",
    "of numpy are available under the ``doc`` sub-module::\n",
    "```python\n",
    "from numpy import doc\n",
    "help(doc)\n",
    "```\n",
    "\n",
    "```json\n",
    "Available subpackages\n",
    "\n",
    "---------------------\n",
    "doc\n",
    "    Topical documentation on broadcasting, indexing, etc.\n",
    "lib\n",
    "    Basic functions used by several sub-packages.\n",
    "random\n",
    "    Core Random Tools\n",
    "linalg\n",
    "    Core Linear Algebra Tools\n",
    "fft\n",
    "    Core FFT routines\n",
    "polynomial\n",
    "    Polynomial tools\n",
    "testing\n",
    "    NumPy testing tools\n",
    "f2py\n",
    "    Fortran to Python Interface Generator.\n",
    "distutils\n",
    "    Enhancements to distutils with support for\n",
    "    Fortran compilers support and more.\n",
    "\n",
    "Utilities\n",
    "\n",
    "---------\n",
    "test\n",
    "    Run numpy unittests\n",
    "show_config\n",
    "    Show numpy build configuration\n",
    "dual\n",
    "    Overwrite certain functions with high-performance Scipy tools\n",
    "matlib\n",
    "    Make everything matrices.\n",
    "__version__\n",
    "    NumPy version string\n",
    "```\n",
    "\n",
    "下面举几个例子：\n",
    "\n",
    "```python\n",
    "import numpy as np\n",
    "help(doc)   \n",
    "\n",
    "help(doc.creation)\n",
    "\n",
    "doc.basics?\n",
    "\n",
    "help(np.lib)\n",
    "```"
   ]
  },
  {
   "cell_type": "markdown",
   "metadata": {},
   "source": [
    "# `ndarray`预览\n",
    "翻译自[Quickstart tutorial¶](https://docs.scipy.org/doc/numpy-dev/user/quickstart.html)\n",
    "NumPy的主要的对象是同类的`多维数组`(homogeneous multidimensional array)。 NumPy的维度(dimensions)被称为`轴(axes)`。 轴的数字代表`rank`。\n",
    "\n",
    "例如，在三维空间中一个坐标(coordinates)为`[1, 2, 1]`的点是一维数组，axis的长度(length)是3。而\n",
    "```\n",
    "[[ 1., 0., 0.],\n",
    " [ 0., 1., 2.]]\n",
    "```\n",
    "的rank是 2 (此数组是2-dimensional)。它的第一个维度（`dimension (axis)` ）的长度是 2, 第二个维度长度是3。\n",
    "\n",
    "NumPy的array类被称为`ndarray`。\n",
    "\n",
    "+ `ndarray.ndim`: 数组的坐标轴（或轴或维度)(axes (dimensions))的个数。\n",
    "+ `ndarray.shape`: 数组的维度（dimensions），是由每个维度的`length`组成的整数元组。 \n",
    "    对于一个n行m列的矩阵（matrix）, shape便是`(n,m)`。\n",
    "+ `ndarray.size`： 数组的元素(elements)的总数，等于`shape`的元素的积。\n",
    "+ `ndarray.dtype`：一个描述数组的元素的类型的对象。\n",
    "+ `ndarray.itemsize`：数组的每个元素的二进制表示的大小。 例如，元素的类型为`float64`的数组有 8 (=64/8)个`itemsize`，类型为` complex32`是 `itemsize 4 (=32/8)`。\n",
    "+ `ndarray.data`：the buffer containing the actual elements of the array. Normally, we won’t need to use this attribute because we will access the elements in an array using indexing facilities.\n",
    "\n",
    "下面有一些示例："
   ]
  },
  {
   "cell_type": "code",
   "execution_count": 284,
   "metadata": {},
   "outputs": [
    {
     "data": {
      "text/plain": [
       "array([[[ 0,  1,  2,  3,  4],\n",
       "        [ 5,  6,  7,  8,  9],\n",
       "        [10, 11, 12, 13, 14]],\n",
       "\n",
       "       [[ 1,  3,  5,  7,  9],\n",
       "        [11, 13, 15, 17, 19],\n",
       "        [21, 23, 25, 27, 29]]])"
      ]
     },
     "execution_count": 284,
     "metadata": {},
     "output_type": "execute_result"
    }
   ],
   "source": [
    "z = np.array([[ 0,  1,  2,  3,  4],\n",
    "              [ 5,  6,  7,  8,  9],\n",
    "              [10, 11, 12, 13, 14]])\n",
    "t = np.array([z, 2 * z + 1])\n",
    "t"
   ]
  },
  {
   "cell_type": "code",
   "execution_count": 285,
   "metadata": {},
   "outputs": [
    {
     "name": "stdout",
     "output_type": "stream",
     "text": [
      "z.ndim =  2\n",
      "t.ndim =  3\n"
     ]
    }
   ],
   "source": [
    "print('z.ndim = ', z.ndim)\n",
    "print('t.ndim = ', t.ndim)"
   ]
  },
  {
   "cell_type": "code",
   "execution_count": 286,
   "metadata": {},
   "outputs": [
    {
     "name": "stdout",
     "output_type": "stream",
     "text": [
      "z.shape =  (3, 5)\n",
      "t.shape =  (2, 3, 5)\n"
     ]
    }
   ],
   "source": [
    "print('z.shape = ',z.shape)\n",
    "print('t.shape = ',t.shape)"
   ]
  },
  {
   "cell_type": "code",
   "execution_count": 287,
   "metadata": {},
   "outputs": [
    {
     "name": "stdout",
     "output_type": "stream",
     "text": [
      "z.size =  15\n",
      "t.size =  30\n"
     ]
    }
   ],
   "source": [
    "print('z.size = ',z.size)\n",
    "print('t.size = ',t.size)"
   ]
  },
  {
   "cell_type": "code",
   "execution_count": 288,
   "metadata": {},
   "outputs": [
    {
     "data": {
      "text/plain": [
       "'int32'"
      ]
     },
     "execution_count": 288,
     "metadata": {},
     "output_type": "execute_result"
    }
   ],
   "source": [
    "t.dtype.name"
   ]
  },
  {
   "cell_type": "code",
   "execution_count": 289,
   "metadata": {},
   "outputs": [
    {
     "data": {
      "text/plain": [
       "4"
      ]
     },
     "execution_count": 289,
     "metadata": {},
     "output_type": "execute_result"
    }
   ],
   "source": [
    "t.itemsize"
   ]
  },
  {
   "cell_type": "code",
   "execution_count": 290,
   "metadata": {},
   "outputs": [
    {
     "data": {
      "text/plain": [
       "numpy.ndarray"
      ]
     },
     "execution_count": 290,
     "metadata": {},
     "output_type": "execute_result"
    }
   ],
   "source": [
    "type(t)"
   ]
  },
  {
   "cell_type": "markdown",
   "metadata": {},
   "source": [
    "## `ndarray`索引"
   ]
  },
  {
   "cell_type": "code",
   "execution_count": 291,
   "metadata": {
    "scrolled": true
   },
   "outputs": [
    {
     "data": {
      "text/plain": [
       "array([[ 0,  1,  2,  3,  4],\n",
       "       [ 5,  6,  7,  8,  9],\n",
       "       [10, 11, 12, 13, 14]])"
      ]
     },
     "execution_count": 291,
     "metadata": {},
     "output_type": "execute_result"
    }
   ],
   "source": [
    "z"
   ]
  },
  {
   "cell_type": "code",
   "execution_count": 292,
   "metadata": {},
   "outputs": [
    {
     "data": {
      "text/plain": [
       "array([0, 1, 2, 3, 4])"
      ]
     },
     "execution_count": 292,
     "metadata": {},
     "output_type": "execute_result"
    }
   ],
   "source": [
    "z[0]  # 第一行元素"
   ]
  },
  {
   "cell_type": "code",
   "execution_count": 293,
   "metadata": {},
   "outputs": [
    {
     "data": {
      "text/plain": [
       "2"
      ]
     },
     "execution_count": 293,
     "metadata": {},
     "output_type": "execute_result"
    }
   ],
   "source": [
    "z[0, 2] # 第一行的第三个元素"
   ]
  },
  {
   "cell_type": "code",
   "execution_count": 294,
   "metadata": {},
   "outputs": [
    {
     "data": {
      "text/plain": [
       "array([[ 0,  1,  2,  3,  4],\n",
       "       [ 5,  6,  7,  8,  9],\n",
       "       [10, 11, 12, 13, 14]])"
      ]
     },
     "execution_count": 294,
     "metadata": {},
     "output_type": "execute_result"
    }
   ],
   "source": [
    "t[0]"
   ]
  },
  {
   "cell_type": "code",
   "execution_count": 295,
   "metadata": {},
   "outputs": [
    {
     "data": {
      "text/plain": [
       "array([10, 11, 12, 13, 14])"
      ]
     },
     "execution_count": 295,
     "metadata": {},
     "output_type": "execute_result"
    }
   ],
   "source": [
    "t[0][2]"
   ]
  },
  {
   "cell_type": "code",
   "execution_count": 296,
   "metadata": {},
   "outputs": [
    {
     "data": {
      "text/plain": [
       "array([10, 11, 12, 13, 14])"
      ]
     },
     "execution_count": 296,
     "metadata": {},
     "output_type": "execute_result"
    }
   ],
   "source": [
    "t[0, 2]"
   ]
  },
  {
   "cell_type": "code",
   "execution_count": 297,
   "metadata": {},
   "outputs": [
    {
     "data": {
      "text/plain": [
       "13"
      ]
     },
     "execution_count": 297,
     "metadata": {},
     "output_type": "execute_result"
    }
   ],
   "source": [
    "t[0, 2, 3]"
   ]
  },
  {
   "cell_type": "code",
   "execution_count": 298,
   "metadata": {},
   "outputs": [
    {
     "data": {
      "text/plain": [
       "array([[2, 3],\n",
       "       [7, 8]])"
      ]
     },
     "execution_count": 298,
     "metadata": {},
     "output_type": "execute_result"
    }
   ],
   "source": [
    "t[0, :2, 2:4]"
   ]
  },
  {
   "cell_type": "markdown",
   "metadata": {},
   "source": [
    "### 对于列表"
   ]
  },
  {
   "cell_type": "code",
   "execution_count": 299,
   "metadata": {},
   "outputs": [
    {
     "data": {
      "text/plain": [
       "1"
      ]
     },
     "execution_count": 299,
     "metadata": {},
     "output_type": "execute_result"
    }
   ],
   "source": [
    "e = [1, 2, 3, 4]\n",
    "p = [e, e]\n",
    "p[0][0]"
   ]
  },
  {
   "cell_type": "code",
   "execution_count": 300,
   "metadata": {},
   "outputs": [
    {
     "ename": "TypeError",
     "evalue": "list indices must be integers or slices, not tuple",
     "output_type": "error",
     "traceback": [
      "\u001b[1;31m---------------------------------------------------------------------------\u001b[0m",
      "\u001b[1;31mTypeError\u001b[0m                                 Traceback (most recent call last)",
      "\u001b[1;32m<ipython-input-300-d527d1725556>\u001b[0m in \u001b[0;36m<module>\u001b[1;34m()\u001b[0m\n\u001b[1;32m----> 1\u001b[1;33m \u001b[0mp\u001b[0m\u001b[1;33m[\u001b[0m\u001b[1;36m0\u001b[0m\u001b[1;33m,\u001b[0m\u001b[1;36m0\u001b[0m\u001b[1;33m]\u001b[0m  \u001b[1;31m# 这种语法是错误的\u001b[0m\u001b[1;33m\u001b[0m\u001b[0m\n\u001b[0m",
      "\u001b[1;31mTypeError\u001b[0m: list indices must be integers or slices, not tuple"
     ]
    }
   ],
   "source": [
    "p[0,0]  # 这种语法是错误的"
   ]
  },
  {
   "cell_type": "markdown",
   "metadata": {},
   "source": [
    "## `ndarray`支持向量化运算\n",
    "### 作用于每个元素的运算"
   ]
  },
  {
   "cell_type": "code",
   "execution_count": 301,
   "metadata": {},
   "outputs": [
    {
     "data": {
      "text/plain": [
       "array([[ 0,  1,  2,  3,  4],\n",
       "       [ 5,  6,  7,  8,  9],\n",
       "       [10, 11, 12, 13, 14]])"
      ]
     },
     "execution_count": 301,
     "metadata": {},
     "output_type": "execute_result"
    }
   ],
   "source": [
    "z"
   ]
  },
  {
   "cell_type": "code",
   "execution_count": 302,
   "metadata": {},
   "outputs": [
    {
     "data": {
      "text/plain": [
       "105"
      ]
     },
     "execution_count": 302,
     "metadata": {},
     "output_type": "execute_result"
    }
   ],
   "source": [
    "z.sum()  # 所有元素的sum"
   ]
  },
  {
   "cell_type": "code",
   "execution_count": 303,
   "metadata": {},
   "outputs": [
    {
     "data": {
      "text/plain": [
       "array([15, 18, 21, 24, 27])"
      ]
     },
     "execution_count": 303,
     "metadata": {},
     "output_type": "execute_result"
    }
   ],
   "source": [
    "z.sum(axis = 0)    # sum along axis 0, i.e. column-wise sum，相当于矩阵的行向量"
   ]
  },
  {
   "cell_type": "code",
   "execution_count": 304,
   "metadata": {},
   "outputs": [
    {
     "data": {
      "text/plain": [
       "array([10, 35, 60])"
      ]
     },
     "execution_count": 304,
     "metadata": {},
     "output_type": "execute_result"
    }
   ],
   "source": [
    "z.sum(axis = 1)   # 相当于矩阵的列向量"
   ]
  },
  {
   "cell_type": "code",
   "execution_count": 107,
   "metadata": {},
   "outputs": [
    {
     "data": {
      "text/plain": [
       "4.3204937989385739"
      ]
     },
     "execution_count": 107,
     "metadata": {},
     "output_type": "execute_result"
    }
   ],
   "source": [
    "z.std()  # 所有元素标准差"
   ]
  },
  {
   "cell_type": "code",
   "execution_count": 305,
   "metadata": {},
   "outputs": [
    {
     "data": {
      "text/plain": [
       "array([ 4.0824829,  4.0824829,  4.0824829,  4.0824829,  4.0824829])"
      ]
     },
     "execution_count": 305,
     "metadata": {},
     "output_type": "execute_result"
    }
   ],
   "source": [
    "z.std(axis = 0)"
   ]
  },
  {
   "cell_type": "code",
   "execution_count": 108,
   "metadata": {},
   "outputs": [
    {
     "data": {
      "text/plain": [
       "array([  0,   1,   3,   6,  10,  15,  21,  28,  36,  45,  55,  66,  78,\n",
       "        91, 105], dtype=int32)"
      ]
     },
     "execution_count": 108,
     "metadata": {},
     "output_type": "execute_result"
    }
   ],
   "source": [
    "z.cumsum()  # 所有元素的累积和"
   ]
  },
  {
   "cell_type": "code",
   "execution_count": 109,
   "metadata": {},
   "outputs": [
    {
     "data": {
      "text/plain": [
       "array([[ 0,  2,  4,  6,  8],\n",
       "       [10, 12, 14, 16, 18],\n",
       "       [20, 22, 24, 26, 28]])"
      ]
     },
     "execution_count": 109,
     "metadata": {},
     "output_type": "execute_result"
    }
   ],
   "source": [
    "z * 2   # 类似矩阵的数量乘法"
   ]
  },
  {
   "cell_type": "code",
   "execution_count": 110,
   "metadata": {},
   "outputs": [
    {
     "data": {
      "text/plain": [
       "array([[  0,   1,   4,   9,  16],\n",
       "       [ 25,  36,  49,  64,  81],\n",
       "       [100, 121, 144, 169, 196]], dtype=int32)"
      ]
     },
     "execution_count": 110,
     "metadata": {},
     "output_type": "execute_result"
    }
   ],
   "source": [
    "z ** 2  "
   ]
  },
  {
   "cell_type": "code",
   "execution_count": 111,
   "metadata": {},
   "outputs": [
    {
     "data": {
      "text/plain": [
       "array([[ 0.        ,  1.        ,  1.41421356,  1.73205081,  2.        ],\n",
       "       [ 2.23606798,  2.44948974,  2.64575131,  2.82842712,  3.        ],\n",
       "       [ 3.16227766,  3.31662479,  3.46410162,  3.60555128,  3.74165739]])"
      ]
     },
     "execution_count": 111,
     "metadata": {},
     "output_type": "execute_result"
    }
   ],
   "source": [
    "np.sqrt(z)"
   ]
  },
  {
   "cell_type": "code",
   "execution_count": 115,
   "metadata": {},
   "outputs": [
    {
     "data": {
      "text/plain": [
       "array([0, 1, 2, 3, 4, 5, 6, 7, 8, 9])"
      ]
     },
     "execution_count": 115,
     "metadata": {},
     "output_type": "execute_result"
    }
   ],
   "source": [
    "y = np.arange(10)  # 类似 Python 的 range, 但是回传 array\n",
    "y"
   ]
  },
  {
   "cell_type": "code",
   "execution_count": 116,
   "metadata": {},
   "outputs": [
    {
     "data": {
      "text/plain": [
       "array([ 1.        ,  1.33333333,  1.66666667,  4.        ])"
      ]
     },
     "execution_count": 116,
     "metadata": {},
     "output_type": "execute_result"
    }
   ],
   "source": [
    "a = np.array([1, 2, 3, 6])\n",
    "b = np.linspace(0, 2, 4)  # 建立一個array, 在0与2的范围之间4等分\n",
    "c = a - b\n",
    "c"
   ]
  },
  {
   "cell_type": "code",
   "execution_count": 127,
   "metadata": {},
   "outputs": [],
   "source": [
    "# 全域方法\n",
    "a = np.linspace(-np.pi, np.pi, 100) \n",
    "b = np.sin(a)\n",
    "c = np.cos(a)"
   ]
  },
  {
   "cell_type": "code",
   "execution_count": 131,
   "metadata": {},
   "outputs": [
    {
     "name": "stdout",
     "output_type": "stream",
     "text": [
      "a + b =  [ 5  7  9 11]\n",
      "a - b =  [3 3 3 3]\n",
      "a * b =  [ 4 10 18 28]\n",
      "a / b =  [ 4.    2.5   2.    1.75]\n",
      "a // b =  [4 2 2 1]\n",
      "a % b =  [0 1 0 3]\n"
     ]
    }
   ],
   "source": [
    "b = np.array([1,2,3,4])\n",
    "a = np.array([4,5,6,7])\n",
    "print('a + b = ', a + b)\n",
    "print('a - b = ', a - b)\n",
    "print('a * b = ', a * b)\n",
    "print('a / b = ', a / b)\n",
    "print('a // b = ', a // b)\n",
    "print('a % b = ', a % b)"
   ]
  },
  {
   "cell_type": "markdown",
   "metadata": {},
   "source": [
    "#### 对于非数值型数组 "
   ]
  },
  {
   "cell_type": "code",
   "execution_count": 149,
   "metadata": {},
   "outputs": [
    {
     "data": {
      "text/plain": [
       "array(['p', 'y', 't', 'h', 'o', 'n'],\n",
       "      dtype='<U1')"
      ]
     },
     "execution_count": 149,
     "metadata": {},
     "output_type": "execute_result"
    }
   ],
   "source": [
    "a = np.array(list('python'))\n",
    "a"
   ]
  },
  {
   "cell_type": "code",
   "execution_count": 152,
   "metadata": {},
   "outputs": [
    {
     "data": {
      "text/plain": [
       "array(['n', 'u', 'm', 'p', 'y'],\n",
       "      dtype='<U1')"
      ]
     },
     "execution_count": 152,
     "metadata": {},
     "output_type": "execute_result"
    }
   ],
   "source": [
    "b = np.array(list('numpy'))\n",
    "b"
   ]
  },
  {
   "cell_type": "code",
   "execution_count": 153,
   "metadata": {},
   "outputs": [
    {
     "ename": "TypeError",
     "evalue": "ufunc 'add' did not contain a loop with signature matching types dtype('<U1') dtype('<U1') dtype('<U1')",
     "output_type": "error",
     "traceback": [
      "\u001b[1;31m---------------------------------------------------------------------------\u001b[0m",
      "\u001b[1;31mTypeError\u001b[0m                                 Traceback (most recent call last)",
      "\u001b[1;32m<ipython-input-153-f96fb8f649b6>\u001b[0m in \u001b[0;36m<module>\u001b[1;34m()\u001b[0m\n\u001b[1;32m----> 1\u001b[1;33m \u001b[0ma\u001b[0m \u001b[1;33m+\u001b[0m \u001b[0mb\u001b[0m\u001b[1;33m\u001b[0m\u001b[0m\n\u001b[0m",
      "\u001b[1;31mTypeError\u001b[0m: ufunc 'add' did not contain a loop with signature matching types dtype('<U1') dtype('<U1') dtype('<U1')"
     ]
    }
   ],
   "source": [
    "a + b"
   ]
  },
  {
   "cell_type": "code",
   "execution_count": 154,
   "metadata": {},
   "outputs": [
    {
     "data": {
      "text/plain": [
       "['p', 'y', 't', 'h', 'o', 'n', 'n', 'u', 'm', 'p', 'y']"
      ]
     },
     "execution_count": 154,
     "metadata": {},
     "output_type": "execute_result"
    }
   ],
   "source": [
    "list(a) + list(b)"
   ]
  },
  {
   "cell_type": "markdown",
   "metadata": {},
   "source": [
    "# 线性代数"
   ]
  },
  {
   "cell_type": "code",
   "execution_count": 118,
   "metadata": {},
   "outputs": [
    {
     "data": {
      "text/plain": [
       "array([[ 1. ,  3. ,  5. ],\n",
       "       [ 2. ,  4. ,  9. ],\n",
       "       [ 3. ,  6.7,  5. ]])"
      ]
     },
     "execution_count": 118,
     "metadata": {},
     "output_type": "execute_result"
    }
   ],
   "source": [
    "from numpy.random import rand\n",
    "from numpy.linalg import solve, inv\n",
    "a = np.array([[1, 2, 3], [3, 4, 6.7], [5, 9.0, 5]])\n",
    "a.transpose()"
   ]
  },
  {
   "cell_type": "code",
   "execution_count": 119,
   "metadata": {},
   "outputs": [
    {
     "data": {
      "text/plain": [
       "array([[-2.27683616,  0.96045198,  0.07909605],\n",
       "       [ 1.04519774, -0.56497175,  0.1299435 ],\n",
       "       [ 0.39548023,  0.05649718, -0.11299435]])"
      ]
     },
     "execution_count": 119,
     "metadata": {},
     "output_type": "execute_result"
    }
   ],
   "source": [
    "inv(a)"
   ]
  },
  {
   "cell_type": "code",
   "execution_count": 120,
   "metadata": {},
   "outputs": [
    {
     "data": {
      "text/plain": [
       "array([-4.83050847,  2.13559322,  1.18644068])"
      ]
     },
     "execution_count": 120,
     "metadata": {},
     "output_type": "execute_result"
    }
   ],
   "source": [
    "b =  np.array([3, 2, 1])\n",
    "solve(a, b)  # 解方程式 ax = b"
   ]
  },
  {
   "cell_type": "code",
   "execution_count": 121,
   "metadata": {},
   "outputs": [
    {
     "data": {
      "text/plain": [
       "array([[ 0.98539238,  0.62602057,  0.63592577],\n",
       "       [ 0.84697864,  0.86223698,  0.20982139],\n",
       "       [ 0.15532627,  0.53992238,  0.65312854]])"
      ]
     },
     "execution_count": 121,
     "metadata": {},
     "output_type": "execute_result"
    }
   ],
   "source": [
    "c = rand(3, 3)  # 建立一個 3x3 随机矩阵\n",
    "c"
   ]
  },
  {
   "cell_type": "code",
   "execution_count": 122,
   "metadata": {},
   "outputs": [
    {
     "data": {
      "text/plain": [
       "array([[  3.14532847,   3.97026167,   3.01495417],\n",
       "       [  7.38477771,   8.94448958,   7.1230241 ],\n",
       "       [ 13.32640097,  13.58984759,   8.33366406]])"
      ]
     },
     "execution_count": 122,
     "metadata": {},
     "output_type": "execute_result"
    }
   ],
   "source": [
    "np.dot(a, c)  # 矩阵相乘"
   ]
  },
  {
   "cell_type": "markdown",
   "metadata": {},
   "source": [
    "# 数组的创建\n",
    "参考 `np.doc.creation?`     \n",
    "There are 5 general mechanisms for creating arrays:\n",
    "\n",
    "1. Conversion from other Python structures (e.g., lists, tuples)\n",
    "2. Intrinsic numpy array array creation objects (e.g., arange, ones, zeros,\n",
    "   etc.)\n",
    "3. Reading arrays from disk, either from standard or custom formats\n",
    "4. Creating arrays from raw bytes through the use of strings or buffers\n",
    "5. Use of special library functions (e.g., random)"
   ]
  },
  {
   "cell_type": "code",
   "execution_count": 280,
   "metadata": {},
   "outputs": [
    {
     "name": "stdout",
     "output_type": "stream",
     "text": [
      "x =  \n",
      "\n",
      "[2 3 1 0]\n",
      "===========================================================================\n",
      "x1 =  \n",
      "\n",
      "[[ 1.+0.j  2.+0.j]\n",
      " [ 0.+0.j  0.+0.j]\n",
      " [ 1.+1.j  3.+0.j]]\n",
      "===========================================================================\n",
      "x2 =  \n",
      "\n",
      "[[ 1.+0.j  2.+0.j]\n",
      " [ 0.+0.j  0.+0.j]\n",
      " [ 1.+1.j  3.+0.j]]\n",
      "===========================================================================\n",
      "y =  \n",
      "\n",
      "[[ 0.  0.  0.]\n",
      " [ 0.  0.  0.]]\n",
      "===========================================================================\n",
      "y1 =  \n",
      "\n",
      "[[ 1.  1.  1.]\n",
      " [ 1.  1.  1.]]\n",
      "===========================================================================\n",
      "y2 =  \n",
      "\n",
      "[0 1 2 3 4 5 6 7 8 9]\n",
      "===========================================================================\n",
      "y3 =  \n",
      "\n",
      "[ 2.  3.  4.  5.  6.  7.  8.  9.]\n",
      "===========================================================================\n",
      "y4 =  \n",
      "\n",
      "[ 2.   2.2  2.4  2.6  2.8  3.   3.2  3.4  3.6  3.8  4.   4.2  4.4  4.6  4.8\n",
      "  5.   5.2  5.4  5.6  5.8  6.   6.2  6.4  6.6  6.8  7.   7.2  7.4  7.6  7.8\n",
      "  8.   8.2  8.4  8.6  8.8  9.   9.2  9.4  9.6  9.8]\n",
      "===========================================================================\n",
      "y5 =  \n",
      "\n",
      "[ 1.   1.6  2.2  2.8  3.4  4. ]\n",
      "===========================================================================\n",
      "z =  \n",
      "\n",
      "[[[0 0 0]\n",
      "  [1 1 1]\n",
      "  [2 2 2]]\n",
      "\n",
      " [[0 1 2]\n",
      "  [0 1 2]\n",
      "  [0 1 2]]]\n",
      "===========================================================================\n"
     ]
    }
   ],
   "source": [
    "import numpy as np\n",
    "x = np.array([2,3,1,0])\n",
    "x1 = np.array([[1,2.0],[0,0],(1+1j,3.)]) # note mix of tuple and lists, and types\n",
    "x2 = np.array([[ 1.+0.j, 2.+0.j], [ 0.+0.j, 0.+0.j], [ 1.+1.j, 3.+0.j]])\n",
    "\n",
    "y = np.zeros((2, 3))\n",
    "y1 = np.ones((2,3))\n",
    "y2 = np.arange(10)\n",
    "y3 = np.arange(2, 10, dtype=np.float)\n",
    "y4 = np.arange(2, 10, 0.2)\n",
    "y5 = np.linspace(1., 4., 6)  # 将1和4之间六等分\n",
    "\n",
    "z = np.indices((3,3))\n",
    "\n",
    "r = [x, x1, x2, y, y1, y2, y3, y4, y5, z]\n",
    "s = 'x, x1, x2, y, y1, y2, y3, y4, y5, z'.split(', ')\n",
    "\n",
    "for i in range(len(r)):\n",
    "    print('%s =  ' % s[i])\n",
    "    print('')\n",
    "    print(r[i])\n",
    "    print(75 * '=')"
   ]
  },
  {
   "cell_type": "markdown",
   "metadata": {},
   "source": [
    "Tips: 关于参数 `order`:\n",
    "\n",
    "`order` 指内存中存储元素的顺序，`C` 指和 `C语言` 相似（即行优先），`F` 指和 `Fortran` 相似（即列优先）"
   ]
  },
  {
   "cell_type": "code",
   "execution_count": 307,
   "metadata": {},
   "outputs": [
    {
     "data": {
      "text/plain": [
       "array([[[1, 1, 1, 1],\n",
       "        [1, 1, 1, 1],\n",
       "        [1, 1, 1, 1]],\n",
       "\n",
       "       [[1, 1, 1, 1],\n",
       "        [1, 1, 1, 1],\n",
       "        [1, 1, 1, 1]]], dtype=int32)"
      ]
     },
     "execution_count": 307,
     "metadata": {},
     "output_type": "execute_result"
    }
   ],
   "source": [
    "g = np.ones((2,3,4), dtype = 'i', order = 'C')  # 还有 `np.zeros()`\n",
    "g"
   ]
  },
  {
   "cell_type": "code",
   "execution_count": 319,
   "metadata": {},
   "outputs": [
    {
     "data": {
      "text/plain": [
       "array([[[ 1.,  1.,  1.,  1.],\n",
       "        [ 1.,  1.,  1.,  1.],\n",
       "        [ 1.,  1.,  1.,  1.]],\n",
       "\n",
       "       [[ 1.,  1.,  1.,  1.],\n",
       "        [ 1.,  1.,  1.,  1.],\n",
       "        [ 1.,  1.,  1.,  1.]]], dtype=float16)"
      ]
     },
     "execution_count": 319,
     "metadata": {},
     "output_type": "execute_result"
    }
   ],
   "source": [
    "# 可将其他数组作为参数传入，返回传入数组的 `shape` 相同的全一矩阵\n",
    "h = np.ones_like(g, dtype = 'float16', order = 'C')  # 还有 `np.zeros_like()`\n",
    "h"
   ]
  },
  {
   "cell_type": "markdown",
   "metadata": {},
   "source": [
    "## 注意事项：\n",
    "1. 数组的组成/长度/大小在任何维度内都是`同质的`。\n",
    "2. 整个数组只允许一种数据类型(numpy.dtype)。"
   ]
  },
  {
   "cell_type": "markdown",
   "metadata": {},
   "source": [
    "### NumPy dtype对象\n",
    "\n",
    "|`dtype`|描述|示例|\n",
    "|:-|:-|:-|\n",
    "|`t`|位域|`t4`(4位)|\n",
    "|`b`|布尔值|`b`(`True`或`False`)|\n",
    "|`I`|整数|`i8`(64位)|\n",
    "|`u`|无符号整数|`u8`(64位)|\n",
    "|`f`|浮点数|`f8`(64位)|\n",
    "|`c`|浮点复数|`c16`(128位)|\n",
    "|`o`|对象|`o`(指向对象的指针)|\n",
    "|`S,a`|字符串|`S24`(24个字符)|\n",
    "|`U`|`Unicode`|`U24`(24个Unicode字符)|\n",
    "|`V`|其他|`V12`(12字节数据块)|"
   ]
  },
  {
   "cell_type": "markdown",
   "metadata": {},
   "source": [
    "## 结构数组\n",
    "允许我们至少在每列上使用不同的NumPy数据类型。"
   ]
  },
  {
   "cell_type": "code",
   "execution_count": 326,
   "metadata": {
    "scrolled": false
   },
   "outputs": [
    {
     "name": "stdout",
     "output_type": "stream",
     "text": [
      " dtype()\n",
      "\n",
      "dtype(obj, align=False, copy=False)\n",
      "\n",
      "Create a data type object.\n",
      "\n",
      "A numpy array is homogeneous, and contains elements described by a\n",
      "dtype object. A dtype object can be constructed from different\n",
      "combinations of fundamental numeric types.\n",
      "\n",
      "Parameters\n",
      "----------\n",
      "obj\n",
      "    Object to be converted to a data type object.\n",
      "align : bool, optional\n",
      "    Add padding to the fields to match what a C compiler would output\n",
      "    for a similar C-struct. Can be ``True`` only if `obj` is a dictionary\n",
      "    or a comma-separated string. If a struct dtype is being created,\n",
      "    this also sets a sticky alignment flag ``isalignedstruct``.\n",
      "copy : bool, optional\n",
      "    Make a new copy of the data-type object. If ``False``, the result\n",
      "    may just be a reference to a built-in data-type object.\n",
      "\n",
      "See also\n",
      "--------\n",
      "result_type\n",
      "\n",
      "Examples\n",
      "--------\n",
      "Using array-scalar type:\n",
      "\n",
      ">>> np.dtype(np.int16)\n",
      "dtype('int16')\n",
      "\n",
      "Structured type, one field name 'f1', containing int16:\n",
      "\n",
      ">>> np.dtype([('f1', np.int16)])\n",
      "dtype([('f1', '<i2')])\n",
      "\n",
      "Structured type, one field named 'f1', in itself containing a structured\n",
      "type with one field:\n",
      "\n",
      ">>> np.dtype([('f1', [('f1', np.int16)])])\n",
      "dtype([('f1', [('f1', '<i2')])])\n",
      "\n",
      "Structured type, two fields: the first field contains an unsigned int, the\n",
      "second an int32:\n",
      "\n",
      ">>> np.dtype([('f1', np.uint), ('f2', np.int32)])\n",
      "dtype([('f1', '<u4'), ('f2', '<i4')])\n",
      "\n",
      "Using array-protocol type strings:\n",
      "\n",
      ">>> np.dtype([('a','f8'),('b','S10')])\n",
      "dtype([('a', '<f8'), ('b', '|S10')])\n",
      "\n",
      "Using comma-separated field formats.  The shape is (2,3):\n",
      "\n",
      ">>> np.dtype(\"i4, (2,3)f8\")\n",
      "dtype([('f0', '<i4'), ('f1', '<f8', (2, 3))])\n",
      "\n",
      "Using tuples.  ``int`` is a fixed type, 3 the field's shape.  ``void``\n",
      "is a flexible type, here of size 10:\n",
      "\n",
      ">>> np.dtype([('hello',(np.int,3)),('world',np.void,10)])\n",
      "dtype([('hello', '<i4', 3), ('world', '|V10')])\n",
      "\n",
      "Subdivide ``int16`` into 2 ``int8``'s, called x and y.  0 and 1 are\n",
      "the offsets in bytes:\n",
      "\n",
      ">>> np.dtype((np.int16, {'x':(np.int8,0), 'y':(np.int8,1)}))\n",
      "dtype(('<i2', [('x', '|i1'), ('y', '|i1')]))\n",
      "\n",
      "Using dictionaries.  Two fields named 'gender' and 'age':\n",
      "\n",
      ">>> np.dtype({'names':['gender','age'], 'formats':['S1',np.uint8]})\n",
      "dtype([('gender', '|S1'), ('age', '|u1')])\n",
      "\n",
      "Offsets in bytes, here 0 and 25:\n",
      "\n",
      ">>> np.dtype({'surname':('S25',0),'age':(np.uint8,25)})\n",
      "dtype([('surname', '|S25'), ('age', '|u1')])\n",
      "\n",
      "\n",
      "Methods:\n",
      "\n",
      "  newbyteorder  --  newbyteorder(new_order='S')\n"
     ]
    }
   ],
   "source": [
    "np.info(np.dtype)"
   ]
  },
  {
   "cell_type": "code",
   "execution_count": 358,
   "metadata": {},
   "outputs": [
    {
     "data": {
      "text/plain": [
       "array([(b'Smith', 45,  1.83000004, [0, 1]),\n",
       "       (b'Jones', 53,  1.72000003, [2, 2])],\n",
       "      dtype=[('Name', 'S10'), ('Age', '<i4'), ('Height', '<f4'), ('Children/Pets', '<i4', (2,))])"
      ]
     },
     "execution_count": 358,
     "metadata": {},
     "output_type": "execute_result"
    }
   ],
   "source": [
    "dt = np.dtype([('Name', 'S10'), ('Age', 'i4'),\n",
    "               ('Height', 'f'), ('Children/Pets', 'i4', 2)])\n",
    "s = np.array([('Smith', 45, 1.83, (0, 1)),\n",
    "              ('Jones', 53, 1.72, (2, 2))], dtype=dt)\n",
    "s"
   ]
  },
  {
   "cell_type": "code",
   "execution_count": 359,
   "metadata": {},
   "outputs": [
    {
     "data": {
      "text/plain": [
       "array([b'Smith', b'Jones'],\n",
       "      dtype='|S10')"
      ]
     },
     "execution_count": 359,
     "metadata": {},
     "output_type": "execute_result"
    }
   ],
   "source": [
    "s['Name']"
   ]
  },
  {
   "cell_type": "code",
   "execution_count": 360,
   "metadata": {},
   "outputs": [
    {
     "data": {
      "text/plain": [
       "array([45, 53])"
      ]
     },
     "execution_count": 360,
     "metadata": {},
     "output_type": "execute_result"
    }
   ],
   "source": [
    "s['Age']"
   ]
  },
  {
   "cell_type": "code",
   "execution_count": 361,
   "metadata": {},
   "outputs": [
    {
     "data": {
      "text/plain": [
       "1.7750001"
      ]
     },
     "execution_count": 361,
     "metadata": {},
     "output_type": "execute_result"
    }
   ],
   "source": [
    "s[\"Height\"].mean()"
   ]
  },
  {
   "cell_type": "code",
   "execution_count": 362,
   "metadata": {},
   "outputs": [
    {
     "data": {
      "text/plain": [
       "(b'Jones', 53,  1.72000003, [2, 2])"
      ]
     },
     "execution_count": 362,
     "metadata": {},
     "output_type": "execute_result"
    }
   ],
   "source": [
    "s[1]"
   ]
  },
  {
   "cell_type": "code",
   "execution_count": 363,
   "metadata": {},
   "outputs": [
    {
     "data": {
      "text/plain": [
       "53"
      ]
     },
     "execution_count": 363,
     "metadata": {},
     "output_type": "execute_result"
    }
   ],
   "source": [
    "s[1]['Age']"
   ]
  },
  {
   "cell_type": "markdown",
   "metadata": {},
   "source": [
    "## 代码向量化"
   ]
  },
  {
   "cell_type": "code",
   "execution_count": 378,
   "metadata": {},
   "outputs": [],
   "source": [
    "r = np.array([[1,2,3],[2,3,4],[3,4,5],[4,5,6]])\n",
    "s = np.array([[2,3,4],[3,4,5],[4,5,6],[6,7,8]])"
   ]
  },
  {
   "cell_type": "markdown",
   "metadata": {},
   "source": [
    "### 简单的数学运算"
   ]
  },
  {
   "cell_type": "code",
   "execution_count": 379,
   "metadata": {},
   "outputs": [
    {
     "data": {
      "text/plain": [
       "array([[ 3,  5,  7],\n",
       "       [ 5,  7,  9],\n",
       "       [ 7,  9, 11],\n",
       "       [10, 12, 14]])"
      ]
     },
     "execution_count": 379,
     "metadata": {},
     "output_type": "execute_result"
    }
   ],
   "source": [
    "r + s    "
   ]
  },
  {
   "cell_type": "code",
   "execution_count": 380,
   "metadata": {},
   "outputs": [
    {
     "data": {
      "text/plain": [
       "array([[ 2,  6, 12],\n",
       "       [ 6, 12, 20],\n",
       "       [12, 20, 30],\n",
       "       [24, 35, 48]])"
      ]
     },
     "execution_count": 380,
     "metadata": {},
     "output_type": "execute_result"
    }
   ],
   "source": [
    "r * s"
   ]
  },
  {
   "cell_type": "code",
   "execution_count": 381,
   "metadata": {},
   "outputs": [
    {
     "data": {
      "text/plain": [
       "array([[1, 2, 3],\n",
       "       [2, 3, 4],\n",
       "       [3, 4, 5],\n",
       "       [4, 5, 6]], dtype=int32)"
      ]
     },
     "execution_count": 381,
     "metadata": {},
     "output_type": "execute_result"
    }
   ],
   "source": [
    "r % s"
   ]
  },
  {
   "cell_type": "code",
   "execution_count": 383,
   "metadata": {},
   "outputs": [
    {
     "data": {
      "text/plain": [
       "array([[2, 1, 1],\n",
       "       [1, 1, 1],\n",
       "       [1, 1, 1],\n",
       "       [1, 1, 1]], dtype=int32)"
      ]
     },
     "execution_count": 383,
     "metadata": {},
     "output_type": "execute_result"
    }
   ],
   "source": [
    "s // r"
   ]
  },
  {
   "cell_type": "markdown",
   "metadata": {},
   "source": [
    "### 支持广播\n",
    "更多内容参考<http://www.cnblogs.com/lyon2014/p/4696989.html>"
   ]
  },
  {
   "cell_type": "code",
   "execution_count": 387,
   "metadata": {},
   "outputs": [
    {
     "data": {
      "text/plain": [
       "array([[1, 2, 3],\n",
       "       [2, 3, 4],\n",
       "       [3, 4, 5],\n",
       "       [4, 5, 6]])"
      ]
     },
     "execution_count": 387,
     "metadata": {},
     "output_type": "execute_result"
    }
   ],
   "source": [
    "r"
   ]
  },
  {
   "cell_type": "code",
   "execution_count": 384,
   "metadata": {},
   "outputs": [
    {
     "data": {
      "text/plain": [
       "array([[ 5,  7,  9],\n",
       "       [ 7,  9, 11],\n",
       "       [ 9, 11, 13],\n",
       "       [11, 13, 15]])"
      ]
     },
     "execution_count": 384,
     "metadata": {},
     "output_type": "execute_result"
    }
   ],
   "source": [
    "2 * r + 3"
   ]
  },
  {
   "cell_type": "code",
   "execution_count": 385,
   "metadata": {},
   "outputs": [
    {
     "data": {
      "text/plain": [
       "array([9, 8, 7])"
      ]
     },
     "execution_count": 385,
     "metadata": {},
     "output_type": "execute_result"
    }
   ],
   "source": [
    "f = np.array([9,8,7])\n",
    "f"
   ]
  },
  {
   "cell_type": "code",
   "execution_count": 386,
   "metadata": {},
   "outputs": [
    {
     "data": {
      "text/plain": [
       "array([[10, 10, 10],\n",
       "       [11, 11, 11],\n",
       "       [12, 12, 12],\n",
       "       [13, 13, 13]])"
      ]
     },
     "execution_count": 386,
     "metadata": {},
     "output_type": "execute_result"
    }
   ],
   "source": [
    "r + f"
   ]
  },
  {
   "cell_type": "code",
   "execution_count": 388,
   "metadata": {},
   "outputs": [
    {
     "data": {
      "text/plain": [
       "(3, 4)"
      ]
     },
     "execution_count": 388,
     "metadata": {},
     "output_type": "execute_result"
    }
   ],
   "source": [
    "# r.transpose() 转置\n",
    "np.shape(r.T)"
   ]
  },
  {
   "cell_type": "code",
   "execution_count": 389,
   "metadata": {
    "collapsed": true
   },
   "outputs": [],
   "source": [
    "def f(x):\n",
    "    return 3 * x + 5"
   ]
  },
  {
   "cell_type": "code",
   "execution_count": 390,
   "metadata": {},
   "outputs": [
    {
     "data": {
      "text/plain": [
       "array([[ 8, 11, 14, 17],\n",
       "       [11, 14, 17, 20],\n",
       "       [14, 17, 20, 23]])"
      ]
     },
     "execution_count": 390,
     "metadata": {},
     "output_type": "execute_result"
    }
   ],
   "source": [
    "f(r.T)"
   ]
  },
  {
   "cell_type": "code",
   "execution_count": 391,
   "metadata": {},
   "outputs": [
    {
     "data": {
      "text/plain": [
       "array([[ 0.84147098,  0.90929743,  0.14112001],\n",
       "       [ 0.90929743,  0.14112001, -0.7568025 ],\n",
       "       [ 0.14112001, -0.7568025 , -0.95892427],\n",
       "       [-0.7568025 , -0.95892427, -0.2794155 ]])"
      ]
     },
     "execution_count": 391,
     "metadata": {},
     "output_type": "execute_result"
    }
   ],
   "source": [
    "np.sin(r)"
   ]
  },
  {
   "cell_type": "code",
   "execution_count": 393,
   "metadata": {},
   "outputs": [
    {
     "data": {
      "text/plain": [
       "1.2246467991473532e-16"
      ]
     },
     "execution_count": 393,
     "metadata": {},
     "output_type": "execute_result"
    }
   ],
   "source": [
    "np.sin(np.pi)"
   ]
  },
  {
   "cell_type": "markdown",
   "metadata": {},
   "source": [
    "#### `ufunc`\n",
    "<http://docs.scipy.org/doc/numpy/reference/ufuncs.html>"
   ]
  },
  {
   "cell_type": "markdown",
   "metadata": {},
   "source": [
    "### Memory Layout(内存布局)"
   ]
  },
  {
   "cell_type": "code",
   "execution_count": 403,
   "metadata": {
    "collapsed": true
   },
   "outputs": [],
   "source": [
    "x = np.random.standard_normal((5, 10000000))\n",
    "y = 2 * x + 3  # linear equation y = a * x + b\n",
    "C = np.array((x, y), order='C')\n",
    "F = np.array((x, y), order='F')\n",
    "x = 0.0; y = 0.0  # memory clean-up"
   ]
  },
  {
   "cell_type": "code",
   "execution_count": 404,
   "metadata": {},
   "outputs": [
    {
     "data": {
      "text/plain": [
       "array([[[ 0.67,  0.29,  1.54, ...,  0.07,  2.64, -0.65],\n",
       "        [ 0.4 , -0.63,  1.43, ...,  1.11,  0.93, -0.52],\n",
       "        [-0.41,  2.23, -1.16, ..., -1.66,  0.07,  0.21],\n",
       "        [ 1.46,  1.22,  0.2 , ..., -0.56,  2.36, -1.65],\n",
       "        [-0.39,  1.73, -0.24, ..., -1.45,  0.43, -0.41]],\n",
       "\n",
       "       [[ 4.34,  3.58,  6.08, ...,  3.15,  8.28,  1.69],\n",
       "        [ 3.79,  1.73,  5.86, ...,  5.22,  4.87,  1.97],\n",
       "        [ 2.17,  7.46,  0.67, ..., -0.32,  3.15,  3.42],\n",
       "        [ 5.93,  5.44,  3.4 , ...,  1.89,  7.72, -0.3 ],\n",
       "        [ 2.22,  6.46,  2.51, ...,  0.1 ,  3.85,  2.18]]])"
      ]
     },
     "execution_count": 404,
     "metadata": {},
     "output_type": "execute_result"
    }
   ],
   "source": [
    "C[:2].round(2)"
   ]
  },
  {
   "cell_type": "code",
   "execution_count": 408,
   "metadata": {},
   "outputs": [
    {
     "name": "stdout",
     "output_type": "stream",
     "text": [
      "135 ms ± 2.29 ms per loop (mean ± std. dev. of 7 runs, 10 loops each)\n"
     ]
    }
   ],
   "source": [
    "%timeit C.sum()"
   ]
  },
  {
   "cell_type": "code",
   "execution_count": 409,
   "metadata": {},
   "outputs": [
    {
     "name": "stdout",
     "output_type": "stream",
     "text": [
      "134 ms ± 499 µs per loop (mean ± std. dev. of 7 runs, 10 loops each)\n"
     ]
    }
   ],
   "source": [
    "%timeit F.sum()"
   ]
  },
  {
   "cell_type": "markdown",
   "metadata": {},
   "source": [
    "加总数组元素时，两种内存布局没有显著差异。但是，考虑以下情况便会有显著的差异。"
   ]
  },
  {
   "cell_type": "code",
   "execution_count": 412,
   "metadata": {},
   "outputs": [
    {
     "name": "stdout",
     "output_type": "stream",
     "text": [
      "128 ms ± 894 µs per loop (mean ± std. dev. of 7 runs, 10 loops each)\n"
     ]
    }
   ],
   "source": [
    "%timeit C[0].sum(axis=0)"
   ]
  },
  {
   "cell_type": "code",
   "execution_count": 413,
   "metadata": {},
   "outputs": [
    {
     "name": "stdout",
     "output_type": "stream",
     "text": [
      "66.5 ms ± 296 µs per loop (mean ± std. dev. of 7 runs, 10 loops each)\n"
     ]
    }
   ],
   "source": [
    "%timeit C[0].sum(axis=1)"
   ]
  },
  {
   "cell_type": "code",
   "execution_count": 414,
   "metadata": {},
   "outputs": [
    {
     "name": "stdout",
     "output_type": "stream",
     "text": [
      "1.06 s ± 48.9 ms per loop (mean ± std. dev. of 7 runs, 1 loop each)\n"
     ]
    }
   ],
   "source": [
    "%timeit F.sum(axis=0)"
   ]
  },
  {
   "cell_type": "code",
   "execution_count": 415,
   "metadata": {},
   "outputs": [
    {
     "name": "stdout",
     "output_type": "stream",
     "text": [
      "2.12 s ± 35.1 ms per loop (mean ± std. dev. of 7 runs, 1 loop each)\n"
     ]
    }
   ],
   "source": [
    "%timeit F.sum(axis=1)"
   ]
  },
  {
   "cell_type": "code",
   "execution_count": 416,
   "metadata": {
    "collapsed": true
   },
   "outputs": [],
   "source": [
    "F = 0.0; C = 0.0  # memory clean-up"
   ]
  },
  {
   "cell_type": "markdown",
   "metadata": {},
   "source": [
    "从上面可以看出:     \n",
    "    在少量大型的向量上的操作比在大量小型向量上性能好。\n",
    "    少量大型向量的元素保存在相邻的内存位置上，这可以解释相对的性能优势。\n",
    "    但是，与类C语言变种相比，整体操作要慢得多。\n",
    " \n",
    "选择合适的内存布局，可将代码执行速度提高2个以上的数量级。"
   ]
  },
  {
   "cell_type": "markdown",
   "metadata": {},
   "source": [
    "# 结语：\n",
    "1. 基本数据类型(整数，浮点数，字符串)提供了原始数据类型。\n",
    "2. 标准数据结构(元组，列表，字典，集合类)提供了对数据集的各种操作。\n",
    "3. 数组(numpy.ndarray类)提供了代码的向量化操作，使得代码变得更加简洁、方便、高性能。\n",
    "\n",
    "值得参考的资料：    \n",
    "+ Python入门必备：<http://www.python.org/doc/>\n",
    "+ NumPy使用帮助文件：<http://docs.scipy.org/doc/>\n",
    "+ SciPy讲义：<http://scipylectures.github.io/>"
   ]
  }
 ],
 "metadata": {
  "kernelspec": {
   "display_name": "Python [conda root]",
   "language": "python",
   "name": "conda-root-py"
  },
  "language_info": {
   "codemirror_mode": {
    "name": "ipython",
    "version": 3
   },
   "file_extension": ".py",
   "mimetype": "text/x-python",
   "name": "python",
   "nbconvert_exporter": "python",
   "pygments_lexer": "ipython3",
   "version": "3.6.1"
  }
 },
 "nbformat": 4,
 "nbformat_minor": 2
}
